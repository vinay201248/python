{
 "cells": [
  {
   "cell_type": "markdown",
   "id": "f54a0994",
   "metadata": {},
   "source": [
    "# adding print conditin and variable "
   ]
  },
  {
   "cell_type": "code",
   "execution_count": 1,
   "id": "0901a67d",
   "metadata": {},
   "outputs": [],
   "source": [
    "# o/p = the course fee for data science is rs 100 "
   ]
  },
  {
   "cell_type": "markdown",
   "id": "1e1a743a",
   "metadata": {},
   "source": [
    "# first technique = ,"
   ]
  },
  {
   "cell_type": "code",
   "execution_count": 4,
   "id": "271dd11b",
   "metadata": {},
   "outputs": [
    {
     "name": "stdout",
     "output_type": "stream",
     "text": [
      "the course fee for daa scince  is rs 100\n"
     ]
    }
   ],
   "source": [
    "fee= 100 \n",
    "print('the course fee for daa scince  is rs',fee)"
   ]
  },
  {
   "cell_type": "code",
   "execution_count": 5,
   "id": "158d1fd6",
   "metadata": {},
   "outputs": [],
   "source": [
    "# o/p = i am learning machine learning and deep learning "
   ]
  },
  {
   "cell_type": "code",
   "execution_count": 7,
   "id": "1ff3beb8",
   "metadata": {},
   "outputs": [
    {
     "name": "stdout",
     "output_type": "stream",
     "text": [
      "i am learning machine learning and  deep learning \n"
     ]
    }
   ],
   "source": [
    "a = 'machine learning'\n",
    "b = \" deep learning \"\n",
    "\n",
    "print('i am learning',a,'and',b)"
   ]
  },
  {
   "cell_type": "code",
   "execution_count": 8,
   "id": "87d314b6",
   "metadata": {},
   "outputs": [
    {
     "name": "stdout",
     "output_type": "stream",
     "text": [
      "python is startig from rs 12 to 50.5\n"
     ]
    }
   ],
   "source": [
    "a = 'python'\n",
    "b = 12\n",
    "c = 50.5\n",
    "\n",
    "print(a,'is startig from rs',b,'to',c)"
   ]
  },
  {
   "cell_type": "markdown",
   "id": "1ec41af5",
   "metadata": {},
   "source": [
    "# second techinque using +"
   ]
  },
  {
   "cell_type": "code",
   "execution_count": 11,
   "id": "aab63ea0",
   "metadata": {},
   "outputs": [],
   "source": [
    "# o/p my name is vinay and my  age is 25\n",
    "\n",
    "# + symbol can only add variables which are in str format only"
   ]
  },
  {
   "cell_type": "code",
   "execution_count": 13,
   "id": "b2d6817e",
   "metadata": {},
   "outputs": [
    {
     "ename": "TypeError",
     "evalue": "can only concatenate str (not \"int\") to str",
     "output_type": "error",
     "traceback": [
      "\u001b[1;31m---------------------------------------------------------------------------\u001b[0m",
      "\u001b[1;31mTypeError\u001b[0m                                 Traceback (most recent call last)",
      "Input \u001b[1;32mIn [13]\u001b[0m, in \u001b[0;36m<cell line: 2>\u001b[1;34m()\u001b[0m\n\u001b[0;32m      1\u001b[0m a \u001b[38;5;241m=\u001b[39m \u001b[38;5;241m25\u001b[39m \n\u001b[1;32m----> 2\u001b[0m \u001b[38;5;28mprint\u001b[39m(\u001b[38;5;124;43m'\u001b[39;49m\u001b[38;5;124;43mmy name is vinay and my age is\u001b[39;49m\u001b[38;5;124;43m'\u001b[39;49m\u001b[38;5;241;43m+\u001b[39;49m\u001b[43ma\u001b[49m)\n",
      "\u001b[1;31mTypeError\u001b[0m: can only concatenate str (not \"int\") to str"
     ]
    }
   ],
   "source": [
    "a = 25 \n",
    "print('my name is vinay and my age is'+a)"
   ]
  },
  {
   "cell_type": "code",
   "execution_count": 16,
   "id": "3c21eaf8",
   "metadata": {},
   "outputs": [
    {
     "ename": "TypeError",
     "evalue": "can only concatenate str (not \"float\") to str",
     "output_type": "error",
     "traceback": [
      "\u001b[1;31m---------------------------------------------------------------------------\u001b[0m",
      "\u001b[1;31mTypeError\u001b[0m                                 Traceback (most recent call last)",
      "Input \u001b[1;32mIn [16]\u001b[0m, in \u001b[0;36m<cell line: 2>\u001b[1;34m()\u001b[0m\n\u001b[0;32m      1\u001b[0m a \u001b[38;5;241m=\u001b[39m \u001b[38;5;241m25.7\u001b[39m \n\u001b[1;32m----> 2\u001b[0m \u001b[38;5;28mprint\u001b[39m(\u001b[38;5;124;43m'\u001b[39;49m\u001b[38;5;124;43mmy name is vinay and my age is\u001b[39;49m\u001b[38;5;124;43m'\u001b[39;49m\u001b[38;5;241;43m+\u001b[39;49m\u001b[43ma\u001b[49m)\n",
      "\u001b[1;31mTypeError\u001b[0m: can only concatenate str (not \"float\") to str"
     ]
    }
   ],
   "source": [
    "a = 25.7 \n",
    "print('my name is vinay and my age is'+a)"
   ]
  },
  {
   "cell_type": "code",
   "execution_count": 21,
   "id": "cb4f98cf",
   "metadata": {},
   "outputs": [
    {
     "name": "stdout",
     "output_type": "stream",
     "text": [
      "my name is vinay and my age is 25\n"
     ]
    }
   ],
   "source": [
    "a = '25'\n",
    "print('my name is vinay and my age is ' +a)"
   ]
  },
  {
   "cell_type": "code",
   "execution_count": 22,
   "id": "9b9c7f04",
   "metadata": {},
   "outputs": [
    {
     "ename": "TypeError",
     "evalue": "can only concatenate str (not \"float\") to str",
     "output_type": "error",
     "traceback": [
      "\u001b[1;31m---------------------------------------------------------------------------\u001b[0m",
      "\u001b[1;31mTypeError\u001b[0m                                 Traceback (most recent call last)",
      "Input \u001b[1;32mIn [22]\u001b[0m, in \u001b[0;36m<cell line: 2>\u001b[1;34m()\u001b[0m\n\u001b[0;32m      1\u001b[0m a \u001b[38;5;241m=\u001b[39m \u001b[38;5;241m24.5\u001b[39m \n\u001b[1;32m----> 2\u001b[0m \u001b[38;5;28mprint\u001b[39m(\u001b[38;5;124;43m'\u001b[39;49m\u001b[38;5;124;43mmy name is vinay and my age is\u001b[39;49m\u001b[38;5;124;43m'\u001b[39;49m\u001b[38;5;241;43m+\u001b[39;49m\u001b[43ma\u001b[49m)\n",
      "\u001b[1;31mTypeError\u001b[0m: can only concatenate str (not \"float\") to str"
     ]
    }
   ],
   "source": [
    "a = 24.5 \n",
    "print('my name is vinay and my age is'+a)"
   ]
  },
  {
   "cell_type": "code",
   "execution_count": 24,
   "id": "9ddd6d28",
   "metadata": {},
   "outputs": [
    {
     "name": "stdout",
     "output_type": "stream",
     "text": [
      "myt name is vinay and my age is 25\n"
     ]
    }
   ],
   "source": [
    "a = '25'\n",
    "print('myt name is vinay and my age is '+a)"
   ]
  },
  {
   "cell_type": "code",
   "execution_count": 26,
   "id": "4d7239d1",
   "metadata": {},
   "outputs": [
    {
     "name": "stdout",
     "output_type": "stream",
     "text": [
      "my name is kamal and my age is 25\n"
     ]
    }
   ],
   "source": [
    "a = 25 \n",
    "print('my name is kamal and my age is '+str(a))"
   ]
  },
  {
   "cell_type": "code",
   "execution_count": 27,
   "id": "719ffa76",
   "metadata": {},
   "outputs": [
    {
     "name": "stdout",
     "output_type": "stream",
     "text": [
      "my name is kamal and my age is 12.3\n"
     ]
    }
   ],
   "source": [
    "a = 12.3 \n",
    "print('my name is kamal and my age is '+str(a))"
   ]
  },
  {
   "cell_type": "code",
   "execution_count": 28,
   "id": "fe5cfef4",
   "metadata": {},
   "outputs": [],
   "source": [
    "# python is starting from rs 12 to 50.5"
   ]
  },
  {
   "cell_type": "code",
   "execution_count": 37,
   "id": "da1dca01",
   "metadata": {},
   "outputs": [
    {
     "name": "stdout",
     "output_type": "stream",
     "text": [
      "python is starting from rs 12 to 50.5\n"
     ]
    }
   ],
   "source": [
    "a = 'python'\n",
    "b = 12\n",
    "c = 50.5\n",
    "\n",
    "print(a+  ' is starting from rs '+str(b)+ ' to '+str(c))"
   ]
  },
  {
   "cell_type": "markdown",
   "id": "35bbc422",
   "metadata": {},
   "source": [
    "# third techinque using  d types "
   ]
  },
  {
   "cell_type": "code",
   "execution_count": 38,
   "id": "02eebfa9",
   "metadata": {},
   "outputs": [],
   "source": [
    "# int= %d\n",
    "# float= %f\n",
    "# string = %s\n"
   ]
  },
  {
   "cell_type": "code",
   "execution_count": 39,
   "id": "c0875636",
   "metadata": {},
   "outputs": [],
   "source": [
    "# my name is vinay and my age is 25"
   ]
  },
  {
   "cell_type": "code",
   "execution_count": 40,
   "id": "6aec02bb",
   "metadata": {},
   "outputs": [
    {
     "name": "stdout",
     "output_type": "stream",
     "text": [
      "my name is vinay and my age is 25\n"
     ]
    }
   ],
   "source": [
    "b = 25\n",
    "\n",
    "print('my name is vinay and my age is %d'%b)"
   ]
  },
  {
   "cell_type": "code",
   "execution_count": 43,
   "id": "b74f4b83",
   "metadata": {},
   "outputs": [
    {
     "name": "stdout",
     "output_type": "stream",
     "text": [
      "my name is vinay and my age is 25\n"
     ]
    }
   ],
   "source": [
    "a = 'vinay'\n",
    "b = 25\n",
    "\n",
    "print('my name is %s and my age is %d'%(a,b))"
   ]
  },
  {
   "cell_type": "code",
   "execution_count": 44,
   "id": "ae9be59c",
   "metadata": {},
   "outputs": [
    {
     "ename": "IndentationError",
     "evalue": "unexpected indent (1270216396.py, line 3)",
     "output_type": "error",
     "traceback": [
      "\u001b[1;36m  Input \u001b[1;32mIn [44]\u001b[1;36m\u001b[0m\n\u001b[1;33m    print('my name is %s and my age is %d '%(b,a))\u001b[0m\n\u001b[1;37m    ^\u001b[0m\n\u001b[1;31mIndentationError\u001b[0m\u001b[1;31m:\u001b[0m unexpected indent\n"
     ]
    }
   ],
   "source": [
    "a = 'vinay'\n",
    "b = 25\n",
    " print('my name is %s and my age is %d '%(b,a))"
   ]
  },
  {
   "cell_type": "markdown",
   "id": "0eb36a62",
   "metadata": {},
   "source": [
    "# differnce between \\n and \\t"
   ]
  },
  {
   "cell_type": "code",
   "execution_count": 45,
   "id": "3778e256",
   "metadata": {},
   "outputs": [],
   "source": [
    "# \\n is for new line \n",
    "# \\t is for tab space"
   ]
  },
  {
   "cell_type": "code",
   "execution_count": 47,
   "id": "9c31f7d0",
   "metadata": {},
   "outputs": [
    {
     "name": "stdout",
     "output_type": "stream",
     "text": [
      "vinay\n",
      "kamal\n"
     ]
    }
   ],
   "source": [
    "print('vinay\\nkamal')"
   ]
  },
  {
   "cell_type": "code",
   "execution_count": 49,
   "id": "e67256b9",
   "metadata": {},
   "outputs": [
    {
     "name": "stdout",
     "output_type": "stream",
     "text": [
      "vinay\tkamal\n"
     ]
    }
   ],
   "source": [
    "print('vinay\\tkamal')"
   ]
  },
  {
   "cell_type": "code",
   "execution_count": 55,
   "id": "2ddf4409",
   "metadata": {},
   "outputs": [
    {
     "name": "stdout",
     "output_type": "stream",
     "text": [
      "vinay\n",
      "siva\n"
     ]
    }
   ],
   "source": [
    "print('vinay\\nsiva')"
   ]
  },
  {
   "cell_type": "code",
   "execution_count": 56,
   "id": "5abcd38c",
   "metadata": {},
   "outputs": [
    {
     "name": "stdout",
     "output_type": "stream",
     "text": [
      "siva\tkamal\n"
     ]
    }
   ],
   "source": [
    "print('siva\\tkamal')"
   ]
  },
  {
   "cell_type": "code",
   "execution_count": null,
   "id": "8406e4bb",
   "metadata": {},
   "outputs": [],
   "source": []
  }
 ],
 "metadata": {
  "kernelspec": {
   "display_name": "Python 3 (ipykernel)",
   "language": "python",
   "name": "python3"
  },
  "language_info": {
   "codemirror_mode": {
    "name": "ipython",
    "version": 3
   },
   "file_extension": ".py",
   "mimetype": "text/x-python",
   "name": "python",
   "nbconvert_exporter": "python",
   "pygments_lexer": "ipython3",
   "version": "3.9.12"
  }
 },
 "nbformat": 4,
 "nbformat_minor": 5
}
