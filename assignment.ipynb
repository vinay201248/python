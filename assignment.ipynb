{
 "cells": [
  {
   "cell_type": "raw",
   "id": "12daa3e3",
   "metadata": {},
   "source": [
    "Take two integer numbers and return their product. If the product is greater than 1000, then return their sum if product is less than 1000 return product value only ."
   ]
  },
  {
   "cell_type": "code",
   "execution_count": 16,
   "id": "dbc8c7f5",
   "metadata": {},
   "outputs": [
    {
     "name": "stdout",
     "output_type": "stream",
     "text": [
      "156 product\n"
     ]
    }
   ],
   "source": [
    "a = 13\n",
    "b = 12\n",
    "c = a*b\n",
    "if c>1000:\n",
    "    print(a+b,'sum')\n",
    "else:\n",
    "    print(c,'product')"
   ]
  },
  {
   "cell_type": "raw",
   "id": "a620e3ff",
   "metadata": {},
   "source": [
    "Given a range of the first 10 numbers, Iterate from the start number to the end number, and In each iteration print the sum of the current number and previous number\n",
    "\n",
    "Expected output:\n",
    "-----------------\n",
    "Printing current and previous number sum in a range(10)\n",
    "Current Number 0 Previous Number  0  Sum:  0\n",
    "Current Number 1 Previous Number  0  Sum:  1\n",
    "Current Number 2 Previous Number  1  Sum:  3\n",
    "Current Number 3 Previous Number  2  Sum:  5\n",
    "Current Number 4 Previous Number  3  Sum:  7\n",
    "Current Number 5 Previous Number  4  Sum:  9\n",
    "Current Number 6 Previous Number  5  Sum:  11\n",
    "Current Number 7 Previous Number  6  Sum:  13\n",
    "Current Number 8 Previous Number  7  Sum:  15\n",
    "Current Number 9 Previous Number  8  Sum:  17"
   ]
  },
  {
   "cell_type": "code",
   "execution_count": null,
   "id": "8ae15490",
   "metadata": {},
   "outputs": [],
   "source": []
  },
  {
   "cell_type": "code",
   "execution_count": 1,
   "id": "b0b6c830",
   "metadata": {},
   "outputs": [
    {
     "name": "stdout",
     "output_type": "stream",
     "text": [
      "current number 0 previous number 0 sum:  0\n",
      "current number 1 previous number 0 sum:  1\n",
      "current number 2 previous number 1 sum:  3\n",
      "current number 3 previous number 2 sum:  5\n",
      "current number 4 previous number 3 sum:  7\n",
      "current number 5 previous number 4 sum:  9\n",
      "current number 6 previous number 5 sum:  11\n",
      "current number 7 previous number 6 sum:  13\n",
      "current number 8 previous number 7 sum:  15\n",
      "current number 9 previous number 8 sum:  17\n"
     ]
    }
   ],
   "source": [
    "a = 0\n",
    "for i in range(0,10):\n",
    "    b = a+i\n",
    "    print('current number',i,'previous number',a,'sum: ',b)\n",
    "    a = i\n",
    "    "
   ]
  },
  {
   "cell_type": "code",
   "execution_count": null,
   "id": "c5675c8f",
   "metadata": {},
   "outputs": [],
   "source": []
  },
  {
   "cell_type": "raw",
   "id": "66aaa7ad",
   "metadata": {},
   "source": [
    "Given a list of numbers, return True if first and last number of a list is same\n",
    "\n",
    "Expected Output:\n",
    "-------------------------------------\n",
    "\n",
    "Given list is \n",
    "a =  [10, 20, 30, 40, 10]\n",
    "b = [10 , 20 , 30 , 40, 10 ]\n",
    "result is True\n",
    "\n",
    "Given list is  \n",
    "a = [10, 20, 30, 40, 50]\n",
    "b = [11 , 21 , 31 , 41 , 51 ] \n",
    "result is False"
   ]
  },
  {
   "cell_type": "code",
   "execution_count": 93,
   "id": "e6fc7f57",
   "metadata": {},
   "outputs": [
    {
     "name": "stdout",
     "output_type": "stream",
     "text": [
      "true\n",
      "true\n"
     ]
    }
   ],
   "source": [
    "a =  [10, 20, 30, 40, 10]\n",
    "b = [10 , 20 , 30 , 40, 10]\n",
    "for i in a ,b :\n",
    "    if a[0]==b[4]:\n",
    "        print('true')\n",
    "        \n",
    "    \n"
   ]
  },
  {
   "cell_type": "code",
   "execution_count": 96,
   "id": "9dfc203a",
   "metadata": {},
   "outputs": [
    {
     "name": "stdout",
     "output_type": "stream",
     "text": [
      "false\n",
      "false\n"
     ]
    }
   ],
   "source": [
    "a = [10, 20, 30, 40, 50]\n",
    "b = [11 , 21 , 31 , 41 , 51 ] \n",
    "for i in a ,b:\n",
    "    if a[0]==b[4]:\n",
    "        print('true')\n",
    "    else:\n",
    "        print('false')"
   ]
  },
  {
   "cell_type": "raw",
   "id": "1cc5bd26",
   "metadata": {},
   "source": [
    "# Given a two Python list. Iterate both lists simultaneously such that list1 should display item in original order and list2 in reverse order\n",
    "\n",
    "list1 = [10, 20, 30, 40]\n",
    "list2 = [100, 200, 300, 400]\n",
    "\n",
    "\n",
    "Expected output:\n",
    "-----------------------------\n",
    "10 400\n",
    "20 300\n",
    "30 200\n",
    "40 100"
   ]
  },
  {
   "cell_type": "code",
   "execution_count": 4,
   "id": "c1f5b25d",
   "metadata": {},
   "outputs": [
    {
     "name": "stdout",
     "output_type": "stream",
     "text": [
      "10\n",
      "20\n",
      "30\n",
      "40\n",
      "400 300 200 100 "
     ]
    }
   ],
   "source": [
    "list1 = [10,20, 30, 40]\n",
    "list2 = [100, 200, 300, 400]\n",
    "for i in list1:\n",
    "    print(i)\n",
    "for j in list2[::-1]:\n",
    "    print(j,end =' ')"
   ]
  },
  {
   "cell_type": "raw",
   "id": "ddb2a07a",
   "metadata": {},
   "source": [
    "Remove empty strings from the list of strings\n",
    "\n",
    "\n",
    "list1 = [\"Mike\", \"\", \"Emma\", \"Kelly\", \"\", \"Brad\"]\n",
    "\n",
    "Expected output:\n",
    "----------------------\n",
    "\n",
    "[\"Mike\", \"Emma\", \"Kelly\", \"Brad\"]\n"
   ]
  },
  {
   "cell_type": "code",
   "execution_count": 1,
   "id": "c8282455",
   "metadata": {},
   "outputs": [
    {
     "name": "stdout",
     "output_type": "stream",
     "text": [
      "['mike', 'emma', 'kelly', 'brad']\n"
     ]
    }
   ],
   "source": []
  },
  {
   "cell_type": "code",
   "execution_count": null,
   "id": "a91f03b7",
   "metadata": {},
   "outputs": [],
   "source": [
    "n = int(input())\n",
    "print(n )"
   ]
  },
  {
   "cell_type": "code",
   "execution_count": null,
   "id": "19f30358",
   "metadata": {},
   "outputs": [],
   "source": [
    "a = 'vinay'\n",
    "print(a)"
   ]
  },
  {
   "cell_type": "code",
   "execution_count": 6,
   "id": "d13b6de3",
   "metadata": {},
   "outputs": [
    {
     "name": "stdout",
     "output_type": "stream",
     "text": [
      "7\n",
      "0\n",
      "1\n",
      "1\n",
      "2\n",
      "3\n",
      "5\n",
      "8\n"
     ]
    }
   ],
   "source": [
    "n =int(input())\n",
    "\n",
    "a = 0\n",
    "b = 1\n",
    "print(a)\n",
    "print(b)\n",
    "for i in range(5):\n",
    "    c = a+b\n",
    "    print(c)\n",
    "    a=b\n",
    "    b=c"
   ]
  },
  {
   "cell_type": "code",
   "execution_count": null,
   "id": "cad31630",
   "metadata": {},
   "outputs": [],
   "source": []
  },
  {
   "cell_type": "code",
   "execution_count": 9,
   "id": "f2e3e473",
   "metadata": {
    "scrolled": true
   },
   "outputs": [],
   "source": [
    "n = 145\n",
    "\n",
    "\n"
   ]
  },
  {
   "cell_type": "code",
   "execution_count": null,
   "id": "1bacc8f3",
   "metadata": {},
   "outputs": [],
   "source": [
    "Given a range of the first 10 numbers, Iterate from the start number to the end number, and In each iteration print the sum of the current number and previous number\n",
    "\n",
    "Expected output:\n",
    "-----------------\n",
    "Printing current and previous number sum in a range(10)\n",
    "Current Number 0 Previous Number  0  Sum:  0\n",
    "Current Number 1 Previous Number  0  Sum:  1\n",
    "Current Number 2 Previous Number  1  Sum:  3\n",
    "Current Number 3 Previous Number  2  Sum:  5\n",
    "Current Number 4 Previous Number  3  Sum:  7\n",
    "Current Number 5 Previous Number  4  Sum:  9\n",
    "Current Number 6 Previous Number  5  Sum:  11\n",
    "Current Number 7 Previous Number  6  Sum:  13\n",
    "Current Number 8 Previous Number  7  Sum:  15\n",
    "Current Number 9 Previous Number  8  Sum:  17"
   ]
  },
  {
   "cell_type": "code",
   "execution_count": 4,
   "id": "26eea097",
   "metadata": {},
   "outputs": [
    {
     "name": "stdout",
     "output_type": "stream",
     "text": [
      "current number 0 previous number 0 sum: 0\n",
      "current number 1 previous number 0 sum: 1\n",
      "current number 2 previous number 1 sum: 3\n",
      "current number 3 previous number 2 sum: 5\n",
      "current number 4 previous number 3 sum: 7\n",
      "current number 5 previous number 4 sum: 9\n",
      "current number 6 previous number 5 sum: 11\n",
      "current number 7 previous number 6 sum: 13\n",
      "current number 8 previous number 7 sum: 15\n",
      "current number 9 previous number 8 sum: 17\n"
     ]
    }
   ],
   "source": [
    "previous_number=0\n",
    "for i in range(0,10):\n",
    "    a = i+previous_number\n",
    "   \n",
    "    print('current number',i,'previous number',previous_number,'sum:',a)\n",
    "    previous_number=i"
   ]
  },
  {
   "cell_type": "code",
   "execution_count": null,
   "id": "a294977d",
   "metadata": {},
   "outputs": [],
   "source": []
  }
 ],
 "metadata": {
  "kernelspec": {
   "display_name": "Python 3 (ipykernel)",
   "language": "python",
   "name": "python3"
  },
  "language_info": {
   "codemirror_mode": {
    "name": "ipython",
    "version": 3
   },
   "file_extension": ".py",
   "mimetype": "text/x-python",
   "name": "python",
   "nbconvert_exporter": "python",
   "pygments_lexer": "ipython3",
   "version": "3.9.12"
  }
 },
 "nbformat": 4,
 "nbformat_minor": 5
}
