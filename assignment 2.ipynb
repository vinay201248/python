{
 "cells": [
  {
   "cell_type": "raw",
   "id": "c87215d5",
   "metadata": {},
   "source": [
    " . Print the input text without vowels \n",
    "\n",
    "input = 'hai'\n",
    "\n",
    "Expected output = h\n"
   ]
  },
  {
   "cell_type": "code",
   "execution_count": 12,
   "id": "b45da5b4",
   "metadata": {},
   "outputs": [
    {
     "name": "stdout",
     "output_type": "stream",
     "text": [
      "vinay\n",
      "vny\n"
     ]
    }
   ],
   "source": [
    "a = input()\n",
    "b = ['a','e','i','o','u']\n",
    "c = ''\n",
    "for i in a:\n",
    "    if i.lower() not in b:\n",
    "        c = c+i\n",
    "print(c)"
   ]
  },
  {
   "cell_type": "raw",
   "id": "9d81d9f1",
   "metadata": {},
   "source": [
    "2 . Print only vowels from the text \n",
    "\n",
    "input = data \n",
    "\n",
    "Expected output = dt \n"
   ]
  },
  {
   "cell_type": "code",
   "execution_count": null,
   "id": "689f5a39",
   "metadata": {},
   "outputs": [],
   "source": [
    "a = input()\n",
    "b = ['a','e','i','o','u']\n",
    "c =''\n",
    "for i in a:\n",
    "    if i.lower() in b:\n",
    "        c = c+i\n",
    "print(c)"
   ]
  },
  {
   "cell_type": "raw",
   "id": "0bf16f64",
   "metadata": {},
   "source": [
    "3 . print each valu from the list with its index \n",
    "\n",
    "\n",
    "input = [10,11,50,34]\n",
    "\n",
    "Expected output = [100 , 111 , 502 , 343]"
   ]
  },
  {
   "cell_type": "raw",
   "id": "7b052c5b",
   "metadata": {},
   "source": [
    "4.This is a Python Program to print all integers that aren’t divisible by either 2 or 3 and lies between 1 and 50."
   ]
  },
  {
   "cell_type": "code",
   "execution_count": 22,
   "id": "b5e3d451",
   "metadata": {},
   "outputs": [
    {
     "name": "stdout",
     "output_type": "stream",
     "text": [
      "1 5 7 11 13 17 19 23 25 29 31 35 37 41 43 47 49 "
     ]
    }
   ],
   "source": [
    "for i in range(1,50):\n",
    "    if i%2!=0 and i%3!=0:\n",
    "        print(i,end=' ')"
   ]
  },
  {
   "cell_type": "raw",
   "id": "5538434c",
   "metadata": {},
   "source": [
    "5.. The program takes in an integer and prints the smallest divisor of the integer."
   ]
  },
  {
   "cell_type": "code",
   "execution_count": null,
   "id": "3984af91",
   "metadata": {},
   "outputs": [],
   "source": [
    "a = int(input())\n"
   ]
  },
  {
   "cell_type": "raw",
   "id": "92cf5ba1",
   "metadata": {},
   "source": [
    "6 . Write a Python program to check if it is a strong number or not ."
   ]
  },
  {
   "cell_type": "raw",
   "id": "41e750a9",
   "metadata": {},
   "source": [
    " 7. write a Python program that takes input from the user and displays that input back in upper and lower cases."
   ]
  },
  {
   "cell_type": "code",
   "execution_count": 39,
   "id": "75f10ea3",
   "metadata": {},
   "outputs": [
    {
     "name": "stdout",
     "output_type": "stream",
     "text": [
      "vinay\n",
      "VINAY\n",
      "\n",
      "vinay\n"
     ]
    }
   ],
   "source": [
    "a = input()\n",
    "print(a.upper())\n",
    "print()\n",
    "print(a.lower())"
   ]
  },
  {
   "cell_type": "raw",
   "id": "74695cf0",
   "metadata": {},
   "source": [
    "8 . Write a Python program to remove spaces from a given string"
   ]
  },
  {
   "cell_type": "code",
   "execution_count": 49,
   "id": "c64dc8cc",
   "metadata": {},
   "outputs": [
    {
     "name": "stdout",
     "output_type": "stream",
     "text": [
      "i am vinay\n"
     ]
    },
    {
     "data": {
      "text/plain": [
       "'iamvinay'"
      ]
     },
     "execution_count": 49,
     "metadata": {},
     "output_type": "execute_result"
    }
   ],
   "source": [
    "a = input()\n",
    "a.replace(' ','')"
   ]
  },
  {
   "cell_type": "raw",
   "id": "484c48fe",
   "metadata": {},
   "source": [
    "9 . Write a Python program to capitalize first and last letters of each word of a given string."
   ]
  },
  {
   "cell_type": "code",
   "execution_count": 52,
   "id": "81a79c36",
   "metadata": {},
   "outputs": [
    {
     "name": "stdout",
     "output_type": "stream",
     "text": [
      "vinay\n"
     ]
    },
    {
     "data": {
      "text/plain": [
       "'Vinay'"
      ]
     },
     "execution_count": 52,
     "metadata": {},
     "output_type": "execute_result"
    }
   ],
   "source": [
    "a = input()\n",
    "a.capitalize()"
   ]
  },
  {
   "cell_type": "raw",
   "id": "00622b14",
   "metadata": {},
   "source": [
    "10 . write a python program to find length of a string but should not use len keyword "
   ]
  },
  {
   "cell_type": "code",
   "execution_count": null,
   "id": "95044498",
   "metadata": {},
   "outputs": [],
   "source": [
    "a = input()\n"
   ]
  },
  {
   "cell_type": "code",
   "execution_count": 11,
   "id": "1428312f",
   "metadata": {},
   "outputs": [
    {
     "name": "stdout",
     "output_type": "stream",
     "text": [
      "75\n",
      "3\n"
     ]
    }
   ],
   "source": [
    "\n",
    "a = int(input())\n",
    "b = []\n",
    "c = []\n",
    "for i in range(2,a):\n",
    "    if a%i==0:\n",
    "        b.append(i)\n",
    "    else:\n",
    "        c.append(i)\n",
    "\n",
    "\n",
    "b.sort()\n",
    "print(b[0])"
   ]
  },
  {
   "cell_type": "code",
   "execution_count": 17,
   "id": "1f120b55",
   "metadata": {},
   "outputs": [
    {
     "name": "stdout",
     "output_type": "stream",
     "text": [
      "1\n",
      "not a prime number\n"
     ]
    }
   ],
   "source": [
    "n = int(input())\n",
    "a = 0\n",
    "for i in range(1,n+1):\n",
    "    if n%i==0:\n",
    "        a = a+1\n",
    "if a == 2:\n",
    "    print('prime number')\n",
    "else:\n",
    "    print('not a prime number')\n",
    "    \n",
    "        \n",
    "        "
   ]
  },
  {
   "cell_type": "code",
   "execution_count": null,
   "id": "a38bf3fe",
   "metadata": {},
   "outputs": [],
   "source": []
  },
  {
   "cell_type": "code",
   "execution_count": null,
   "id": "9ecfd5d6",
   "metadata": {},
   "outputs": [],
   "source": []
  }
 ],
 "metadata": {
  "kernelspec": {
   "display_name": "Python 3 (ipykernel)",
   "language": "python",
   "name": "python3"
  },
  "language_info": {
   "codemirror_mode": {
    "name": "ipython",
    "version": 3
   },
   "file_extension": ".py",
   "mimetype": "text/x-python",
   "name": "python",
   "nbconvert_exporter": "python",
   "pygments_lexer": "ipython3",
   "version": "3.9.12"
  }
 },
 "nbformat": 4,
 "nbformat_minor": 5
}
