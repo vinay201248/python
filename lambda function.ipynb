{
 "cells": [
  {
   "cell_type": "code",
   "execution_count": 1,
   "id": "d0411673",
   "metadata": {},
   "outputs": [],
   "source": [
    "# lmabda function means it is anonymous function\n",
    "# it means executing the logic without function name or calling the  function  without function name"
   ]
  },
  {
   "cell_type": "code",
   "execution_count": 2,
   "id": "c2b9061a",
   "metadata": {},
   "outputs": [],
   "source": [
    "# variable= lambda argument:expressions"
   ]
  },
  {
   "cell_type": "code",
   "execution_count": 7,
   "id": "867bfeea",
   "metadata": {
    "scrolled": true
   },
   "outputs": [
    {
     "ename": "NameError",
     "evalue": "name 'x' is not defined",
     "output_type": "error",
     "traceback": [
      "\u001b[1;31m---------------------------------------------------------------------------\u001b[0m",
      "\u001b[1;31mNameError\u001b[0m                                 Traceback (most recent call last)",
      "Input \u001b[1;32mIn [7]\u001b[0m, in \u001b[0;36m<cell line: 7>\u001b[1;34m()\u001b[0m\n\u001b[0;32m      2\u001b[0m b \u001b[38;5;241m=\u001b[39m \u001b[38;5;241m23\u001b[39m\n\u001b[0;32m      4\u001b[0m sol \u001b[38;5;241m=\u001b[39m \u001b[38;5;28;01mlambda\u001b[39;00m x,y:x \u001b[38;5;241m+\u001b[39m y\n\u001b[1;32m----> 7\u001b[0m \u001b[38;5;28mprint\u001b[39m(sol(\u001b[43mx\u001b[49m,y))\n",
      "\u001b[1;31mNameError\u001b[0m: name 'x' is not defined"
     ]
    }
   ],
   "source": [
    "a = 12\n",
    "b = 23\n",
    "\n",
    "sol = lambda x,y:x + y\n",
    "\n",
    "\n",
    "print(sol(x,y))"
   ]
  },
  {
   "cell_type": "code",
   "execution_count": 10,
   "id": "b428f7be",
   "metadata": {},
   "outputs": [
    {
     "name": "stdout",
     "output_type": "stream",
     "text": [
      "35\n"
     ]
    }
   ],
   "source": [
    "a = 12\n",
    "b = 23\n",
    "\n",
    "sol = lambda x,y : x + y\n",
    "print(sol(a,b))"
   ]
  },
  {
   "cell_type": "code",
   "execution_count": 15,
   "id": "4c13e5f0",
   "metadata": {},
   "outputs": [
    {
     "ename": "NameError",
     "evalue": "name 'x' is not defined",
     "output_type": "error",
     "traceback": [
      "\u001b[1;31m---------------------------------------------------------------------------\u001b[0m",
      "\u001b[1;31mNameError\u001b[0m                                 Traceback (most recent call last)",
      "Input \u001b[1;32mIn [15]\u001b[0m, in \u001b[0;36m<cell line: 6>\u001b[1;34m()\u001b[0m\n\u001b[0;32m      2\u001b[0m b \u001b[38;5;241m=\u001b[39m \u001b[38;5;241m234\u001b[39m\n\u001b[0;32m      4\u001b[0m vinay\u001b[38;5;241m=\u001b[39m \u001b[38;5;28;01mlambda\u001b[39;00m x,y: x\u001b[38;5;241m+\u001b[39my\n\u001b[1;32m----> 6\u001b[0m \u001b[38;5;28mprint\u001b[39m(vinay(\u001b[43mx\u001b[49m,y))\n",
      "\u001b[1;31mNameError\u001b[0m: name 'x' is not defined"
     ]
    }
   ],
   "source": [
    "a = 123\n",
    "b = 234\n",
    "\n",
    "vinay= lambda x,y: x+y\n",
    "\n",
    "print(vinay(x,y))"
   ]
  },
  {
   "cell_type": "code",
   "execution_count": 16,
   "id": "4815df40",
   "metadata": {},
   "outputs": [
    {
     "name": "stdout",
     "output_type": "stream",
     "text": [
      "357\n"
     ]
    }
   ],
   "source": [
    "a = 123\n",
    "b = 234\n",
    "\n",
    "vinay= lambda x,y: x+y\n",
    "\n",
    "print(vinay(a,b))"
   ]
  },
  {
   "cell_type": "code",
   "execution_count": 20,
   "id": "c51a2662",
   "metadata": {},
   "outputs": [
    {
     "name": "stdout",
     "output_type": "stream",
     "text": [
      "enter a number =45\n",
      "45 * 1 = 45\n",
      "45 * 2 = 90\n",
      "45 * 3 = 135\n",
      "45 * 4 = 180\n",
      "45 * 5 = 225\n",
      "45 * 6 = 270\n",
      "45 * 7 = 315\n",
      "45 * 8 = 360\n",
      "45 * 9 = 405\n",
      "45 * 10 = 450\n"
     ]
    }
   ],
   "source": [
    "n = 12\n",
    "n=int(input('enter a number ='))\n",
    "\n",
    "for i in range(1,11):\n",
    "    print(n,'*',i,'=',n*i)\n",
    "    "
   ]
  },
  {
   "cell_type": "code",
   "execution_count": 23,
   "id": "432ffce7",
   "metadata": {},
   "outputs": [],
   "source": [
    "def table(n):\n",
    "    for i in range(1,11):\n",
    "        print(n,'*',i,'=',n*i)"
   ]
  },
  {
   "cell_type": "code",
   "execution_count": 24,
   "id": "66fba9e1",
   "metadata": {},
   "outputs": [
    {
     "name": "stdout",
     "output_type": "stream",
     "text": [
      "2 * 1 = 2\n",
      "2 * 2 = 4\n",
      "2 * 3 = 6\n",
      "2 * 4 = 8\n",
      "2 * 5 = 10\n",
      "2 * 6 = 12\n",
      "2 * 7 = 14\n",
      "2 * 8 = 16\n",
      "2 * 9 = 18\n",
      "2 * 10 = 20\n"
     ]
    }
   ],
   "source": [
    "n= 2\n",
    "table(n)"
   ]
  },
  {
   "cell_type": "code",
   "execution_count": 25,
   "id": "acc0d5f7",
   "metadata": {},
   "outputs": [],
   "source": [
    "def vinay(a):\n",
    "    for i in range(1,11):\n",
    "        print(a,'*',i,'=',a*i)"
   ]
  },
  {
   "cell_type": "code",
   "execution_count": 26,
   "id": "eddaa295",
   "metadata": {},
   "outputs": [
    {
     "name": "stdout",
     "output_type": "stream",
     "text": [
      "99 * 1 = 99\n",
      "99 * 2 = 198\n",
      "99 * 3 = 297\n",
      "99 * 4 = 396\n",
      "99 * 5 = 495\n",
      "99 * 6 = 594\n",
      "99 * 7 = 693\n",
      "99 * 8 = 792\n",
      "99 * 9 = 891\n",
      "99 * 10 = 990\n"
     ]
    }
   ],
   "source": [
    "vinay(99)"
   ]
  },
  {
   "cell_type": "code",
   "execution_count": 27,
   "id": "79e091ec",
   "metadata": {},
   "outputs": [
    {
     "name": "stdout",
     "output_type": "stream",
     "text": [
      "5 * 1 = 5\n",
      "5 * 2 = 10\n",
      "5 * 3 = 15\n",
      "5 * 4 = 20\n",
      "5 * 5 = 25\n",
      "5 * 6 = 30\n",
      "5 * 7 = 35\n",
      "5 * 8 = 40\n",
      "5 * 9 = 45\n",
      "5 * 10 = 50\n"
     ]
    }
   ],
   "source": [
    "n = 5\n",
    "vinay= lambda x,y:x*y\n",
    "\n",
    "\n",
    "for i in range(1,11):\n",
    "    print(n,'*',i,'=',vinay(n,i))\n"
   ]
  },
  {
   "cell_type": "code",
   "execution_count": 1,
   "id": "8b0b6edb",
   "metadata": {},
   "outputs": [],
   "source": [
    " \n",
    "    \n",
    "    \n",
    "# some web sites\n",
    " # 1. stack oerflow\n",
    "# 2. geeksforgeeks\n",
    "# 3. analytic vidhya"
   ]
  },
  {
   "cell_type": "code",
   "execution_count": 7,
   "id": "a686c699",
   "metadata": {},
   "outputs": [
    {
     "name": "stdout",
     "output_type": "stream",
     "text": [
      "4\n"
     ]
    }
   ],
   "source": [
    "a = 1\n",
    "b = 3\n",
    "c = lambda x , y : x+ y\n",
    "print(c(a,b))"
   ]
  },
  {
   "cell_type": "code",
   "execution_count": 2,
   "id": "8e6a7752",
   "metadata": {},
   "outputs": [
    {
     "name": "stdout",
     "output_type": "stream",
     "text": [
      "133\n",
      "133 * 1 = 133\n",
      "133 * 2 = 266\n",
      "133 * 3 = 399\n",
      "133 * 4 = 532\n",
      "133 * 5 = 665\n",
      "133 * 6 = 798\n",
      "133 * 7 = 931\n",
      "133 * 8 = 1064\n",
      "133 * 9 = 1197\n",
      "133 * 10 = 1330\n"
     ]
    }
   ],
   "source": [
    "n = int(input())\n",
    "for i in range(1,11):\n",
    "    print(n , '*',i,'=',n*i)"
   ]
  },
  {
   "cell_type": "code",
   "execution_count": 3,
   "id": "84dce91e",
   "metadata": {},
   "outputs": [
    {
     "name": "stdout",
     "output_type": "stream",
     "text": [
      "9\n",
      "9 * 1 = 9\n",
      "9 * 2 = 18\n",
      "9 * 3 = 27\n",
      "9 * 4 = 36\n",
      "9 * 5 = 45\n",
      "9 * 6 = 54\n",
      "9 * 7 = 63\n",
      "9 * 8 = 72\n",
      "9 * 9 = 81\n",
      "9 * 10 = 90\n"
     ]
    }
   ],
   "source": [
    "n= int(input())\n",
    "c = lambda x, y :x*y\n",
    "for i in range(1,11):\n",
    "    print(n,'*',i,'=',c(n,i))"
   ]
  },
  {
   "cell_type": "code",
   "execution_count": 6,
   "id": "9cf61772",
   "metadata": {},
   "outputs": [
    {
     "name": "stdout",
     "output_type": "stream",
     "text": [
      "72\n"
     ]
    }
   ],
   "source": [
    "a = 8\n",
    "b = 9\n",
    "c= lambda x ,y : x*y\n",
    "print(c(a,b))"
   ]
  },
  {
   "cell_type": "code",
   "execution_count": 12,
   "id": "d95acdef",
   "metadata": {},
   "outputs": [
    {
     "name": "stdout",
     "output_type": "stream",
     "text": [
      "99\n",
      "99 * 1 = 99\n",
      "99 * 2 = 198\n",
      "99 * 3 = 297\n",
      "99 * 4 = 396\n",
      "99 * 5 = 495\n",
      "99 * 6 = 594\n",
      "99 * 7 = 693\n",
      "99 * 8 = 792\n",
      "99 * 9 = 891\n",
      "99 * 10 = 990\n"
     ]
    }
   ],
   "source": [
    "a = int(input())\n",
    "c = lambda x,y : x*y\n",
    "for i in range(1,11):\n",
    "    print(a,'*',i,'=',c(a,i))"
   ]
  },
  {
   "cell_type": "code",
   "execution_count": 13,
   "id": "1eebf4e5",
   "metadata": {},
   "outputs": [
    {
     "name": "stdout",
     "output_type": "stream",
     "text": [
      "782\n"
     ]
    }
   ],
   "source": [
    "a = 23\n",
    "b = 34\n",
    "c = lambda x , y :x*y\n",
    "print(c(a,b))"
   ]
  },
  {
   "cell_type": "code",
   "execution_count": 14,
   "id": "b66b9e92",
   "metadata": {},
   "outputs": [
    {
     "name": "stdout",
     "output_type": "stream",
     "text": [
      "782\n"
     ]
    }
   ],
   "source": [
    "a = 23\n",
    "b = 34\n",
    "print(a*b)"
   ]
  },
  {
   "cell_type": "code",
   "execution_count": null,
   "id": "78fff3e1",
   "metadata": {},
   "outputs": [],
   "source": []
  }
 ],
 "metadata": {
  "kernelspec": {
   "display_name": "Python 3 (ipykernel)",
   "language": "python",
   "name": "python3"
  },
  "language_info": {
   "codemirror_mode": {
    "name": "ipython",
    "version": 3
   },
   "file_extension": ".py",
   "mimetype": "text/x-python",
   "name": "python",
   "nbconvert_exporter": "python",
   "pygments_lexer": "ipython3",
   "version": "3.9.12"
  }
 },
 "nbformat": 4,
 "nbformat_minor": 5
}
