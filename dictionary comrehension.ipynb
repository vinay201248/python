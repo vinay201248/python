{
 "cells": [
  {
   "cell_type": "code",
   "execution_count": 1,
   "id": "31208c0c",
   "metadata": {},
   "outputs": [
    {
     "data": {
      "text/plain": [
       "{'name': 'vinay', 'age': 50}"
      ]
     },
     "execution_count": 1,
     "metadata": {},
     "output_type": "execute_result"
    }
   ],
   "source": [
    "a = {}\n",
    "a [ 'name']= 'vinay'\n",
    "a [ 'age']= 50\n",
    "(a)"
   ]
  },
  {
   "cell_type": "code",
   "execution_count": 2,
   "id": "29d8665b",
   "metadata": {},
   "outputs": [
    {
     "data": {
      "text/plain": [
       "{1: 1, 2: 8, 3: 27, 4: 64}"
      ]
     },
     "execution_count": 2,
     "metadata": {},
     "output_type": "execute_result"
    }
   ],
   "source": [
    "b = {}\n",
    "for i in range(1,5):\n",
    "    b[i]=i **3 \n",
    "b"
   ]
  },
  {
   "cell_type": "code",
   "execution_count": 9,
   "id": "3574a271",
   "metadata": {},
   "outputs": [
    {
     "name": "stdout",
     "output_type": "stream",
     "text": [
      "1 end=  1\n",
      "4 end=  2\n",
      "9 end=  3\n",
      "16 end=  4\n",
      "25 end=  5\n",
      "36 end=  6\n",
      "49 end=  7\n",
      "64 end=  8\n",
      "81 end=  9\n",
      "100 end=  10\n"
     ]
    }
   ],
   "source": [
    "for i in range(1,11):\n",
    "    print(i**2,'end= ',i)"
   ]
  },
  {
   "cell_type": "code",
   "execution_count": 16,
   "id": "d86bb5d8",
   "metadata": {},
   "outputs": [],
   "source": [
    "# dictionary commrehension\n",
    "a = { i:i**2 for i in range(1,5) }"
   ]
  },
  {
   "cell_type": "code",
   "execution_count": 17,
   "id": "9cbe4556",
   "metadata": {},
   "outputs": [
    {
     "data": {
      "text/plain": [
       "{1: 1, 2: 4, 3: 9, 4: 16}"
      ]
     },
     "execution_count": 17,
     "metadata": {},
     "output_type": "execute_result"
    }
   ],
   "source": [
    "a"
   ]
  },
  {
   "cell_type": "code",
   "execution_count": 23,
   "id": "ad18aefa",
   "metadata": {},
   "outputs": [
    {
     "name": "stdout",
     "output_type": "stream",
     "text": [
      "{'a': 'vinay'}\n"
     ]
    }
   ],
   "source": [
    "a = {'a':'vinay'}\n",
    "print(a)"
   ]
  },
  {
   "cell_type": "code",
   "execution_count": 27,
   "id": "a63ad7f6",
   "metadata": {},
   "outputs": [
    {
     "data": {
      "text/plain": [
       "{10, 20, 30}"
      ]
     },
     "execution_count": 27,
     "metadata": {},
     "output_type": "execute_result"
    }
   ],
   "source": [
    "a = {'mango':10,'orange':20,'apple':30}\n",
    "b ={}\n",
    "c = {i for i in a.values()}\n",
    "(c)"
   ]
  },
  {
   "cell_type": "code",
   "execution_count": 34,
   "id": "517c3b32",
   "metadata": {},
   "outputs": [
    {
     "name": "stdout",
     "output_type": "stream",
     "text": [
      "pass vinay 50\n",
      "fail siva 30\n",
      "pass kiran 60\n"
     ]
    }
   ],
   "source": [
    "a = { 'vinay':50,'siva':30,'kiran':60}\n",
    "for i ,j in a.items():\n",
    "    if j>=40:\n",
    "        print('pass',i,j)\n",
    "    else:\n",
    "        print('fail',i,j)"
   ]
  },
  {
   "cell_type": "code",
   "execution_count": 42,
   "id": "1a191581",
   "metadata": {},
   "outputs": [
    {
     "data": {
      "text/plain": [
       "{1: 'odd', 2: 'even', 3: 'odd', 4: 'even'}"
      ]
     },
     "execution_count": 42,
     "metadata": {},
     "output_type": "execute_result"
    }
   ],
   "source": [
    "a = { i :'even' if i%2==0  else 'odd' for i in range(1,5)}\n",
    "(a)"
   ]
  },
  {
   "cell_type": "code",
   "execution_count": 4,
   "id": "9e95da83",
   "metadata": {},
   "outputs": [
    {
     "name": "stdout",
     "output_type": "stream",
     "text": [
      "{'good boy', 'sycho', 'bad boy'}\n"
     ]
    }
   ],
   "source": [
    "a = {'vinay':'good boy','siva':'bad boy','kiran':'sycho'}\n",
    "b = {i for i in a.values()}\n",
    "print(b)"
   ]
  },
  {
   "cell_type": "code",
   "execution_count": 8,
   "id": "77f322ad",
   "metadata": {},
   "outputs": [
    {
     "name": "stdout",
     "output_type": "stream",
     "text": [
      "{'vinay': 'good boy', 'siva': 'bad boy', 'kiran': 'sycho', 0: 'ravi'}\n"
     ]
    }
   ],
   "source": [
    "a = {'vinay':'good boy','siva':'bad boy','kiran':'sycho'}\n",
    "b ={}\n",
    "a[0]= 'ravi'\n",
    "print(a)"
   ]
  },
  {
   "cell_type": "code",
   "execution_count": 16,
   "id": "d847553c",
   "metadata": {},
   "outputs": [
    {
     "data": {
      "text/plain": [
       "{1: 3, 2: 4, 3: 5, 4: 6}"
      ]
     },
     "execution_count": 16,
     "metadata": {},
     "output_type": "execute_result"
    }
   ],
   "source": [
    "a= { i:i+2 for i in range(1,5)}\n",
    "(a)"
   ]
  },
  {
   "cell_type": "code",
   "execution_count": 28,
   "id": "33b22c5e",
   "metadata": {},
   "outputs": [
    {
     "ename": "SyntaxError",
     "evalue": "invalid syntax (611878903.py, line 1)",
     "output_type": "error",
     "traceback": [
      "\u001b[1;36m  Input \u001b[1;32mIn [28]\u001b[1;36m\u001b[0m\n\u001b[1;33m    a =  'even'  if i %2==0 else 'odd' for i in range (1,4) ]\u001b[0m\n\u001b[1;37m                                       ^\u001b[0m\n\u001b[1;31mSyntaxError\u001b[0m\u001b[1;31m:\u001b[0m invalid syntax\n"
     ]
    }
   ],
   "source": [
    "a = [even'  if i %2==0 else 'odd' for i in range (1,4) ]\n",
    "\n",
    "(a)"
   ]
  },
  {
   "cell_type": "code",
   "execution_count": null,
   "id": "8836a810",
   "metadata": {},
   "outputs": [],
   "source": []
  }
 ],
 "metadata": {
  "kernelspec": {
   "display_name": "Python 3 (ipykernel)",
   "language": "python",
   "name": "python3"
  },
  "language_info": {
   "codemirror_mode": {
    "name": "ipython",
    "version": 3
   },
   "file_extension": ".py",
   "mimetype": "text/x-python",
   "name": "python",
   "nbconvert_exporter": "python",
   "pygments_lexer": "ipython3",
   "version": "3.9.12"
  }
 },
 "nbformat": 4,
 "nbformat_minor": 5
}
