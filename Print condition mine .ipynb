{
 "cells": [
  {
   "cell_type": "markdown",
   "id": "3eed3657",
   "metadata": {},
   "source": [
    "# This topic is based on print condition"
   ]
  },
  {
   "cell_type": "code",
   "execution_count": 1,
   "id": "1d3a119d",
   "metadata": {},
   "outputs": [],
   "source": [
    "# this topic is based on print condition"
   ]
  },
  {
   "cell_type": "code",
   "execution_count": 2,
   "id": "d6b986ae",
   "metadata": {},
   "outputs": [],
   "source": [
    "#  []    ->square bracket \n",
    "#  {}    ->flower bracket \n",
    "#  ()    ->paranthesis"
   ]
  },
  {
   "cell_type": "code",
   "execution_count": 2,
   "id": "2e660cc2",
   "metadata": {},
   "outputs": [
    {
     "name": "stdout",
     "output_type": "stream",
     "text": [
      "kamal\n"
     ]
    }
   ],
   "source": [
    "print('kamal')"
   ]
  },
  {
   "cell_type": "code",
   "execution_count": 4,
   "id": "705bb08d",
   "metadata": {},
   "outputs": [
    {
     "name": "stdout",
     "output_type": "stream",
     "text": [
      "vinay\n"
     ]
    }
   ],
   "source": [
    "print('vinay')"
   ]
  },
  {
   "cell_type": "markdown",
   "id": "ee32addb",
   "metadata": {},
   "source": [
    " i am from america and i have to study this in country"
   ]
  },
  {
   "cell_type": "markdown",
   "id": "24f900fd",
   "metadata": {},
   "source": [
    "#### i am from america "
   ]
  },
  {
   "cell_type": "code",
   "execution_count": 3,
   "id": "be35a6bb",
   "metadata": {},
   "outputs": [
    {
     "name": "stdout",
     "output_type": "stream",
     "text": [
      "12\n"
     ]
    }
   ],
   "source": [
    "print(12)"
   ]
  },
  {
   "cell_type": "raw",
   "id": "51b975cf",
   "metadata": {},
   "source": []
  },
  {
   "cell_type": "code",
   "execution_count": 1,
   "id": "2f943f5d",
   "metadata": {},
   "outputs": [
    {
     "name": "stdout",
     "output_type": "stream",
     "text": [
      "siva\n"
     ]
    }
   ],
   "source": [
    "print('siva')"
   ]
  },
  {
   "cell_type": "code",
   "execution_count": 3,
   "id": "a524da69",
   "metadata": {},
   "outputs": [
    {
     "name": "stdout",
     "output_type": "stream",
     "text": [
      "102828\n"
     ]
    }
   ],
   "source": [
    "print(12*8569)"
   ]
  },
  {
   "cell_type": "code",
   "execution_count": 4,
   "id": "7f2f6acf",
   "metadata": {},
   "outputs": [
    {
     "name": "stdout",
     "output_type": "stream",
     "text": [
      "82759402\n"
     ]
    }
   ],
   "source": [
    "print(8569*9658)"
   ]
  },
  {
   "cell_type": "code",
   "execution_count": 6,
   "id": "ed9ae6ad",
   "metadata": {},
   "outputs": [
    {
     "data": {
      "text/plain": [
       "str"
      ]
     },
     "execution_count": 6,
     "metadata": {},
     "output_type": "execute_result"
    }
   ],
   "source": [
    "a='siva'\n",
    "type(a)"
   ]
  },
  {
   "cell_type": "code",
   "execution_count": 7,
   "id": "4c241a7d",
   "metadata": {},
   "outputs": [
    {
     "data": {
      "text/plain": [
       "float"
      ]
     },
     "execution_count": 7,
     "metadata": {},
     "output_type": "execute_result"
    }
   ],
   "source": [
    "a=12.5\n",
    "type(a)"
   ]
  },
  {
   "cell_type": "code",
   "execution_count": null,
   "id": "8449e63a",
   "metadata": {},
   "outputs": [],
   "source": []
  }
 ],
 "metadata": {
  "kernelspec": {
   "display_name": "Python 3 (ipykernel)",
   "language": "python",
   "name": "python3"
  },
  "language_info": {
   "codemirror_mode": {
    "name": "ipython",
    "version": 3
   },
   "file_extension": ".py",
   "mimetype": "text/x-python",
   "name": "python",
   "nbconvert_exporter": "python",
   "pygments_lexer": "ipython3",
   "version": "3.9.12"
  }
 },
 "nbformat": 4,
 "nbformat_minor": 5
}
