{
 "cells": [
  {
   "cell_type": "code",
   "execution_count": 2,
   "id": "11f660f8",
   "metadata": {},
   "outputs": [
    {
     "data": {
      "text/plain": [
       "[3, 4, 5, 6, 7, 8, 9, 10, 11]"
      ]
     },
     "execution_count": 2,
     "metadata": {},
     "output_type": "execute_result"
    }
   ],
   "source": [
    "a = [1,2,3,4,5,6,7,8,9]\n",
    "b = list(map(lambda x:x+2,a))\n",
    "b"
   ]
  },
  {
   "cell_type": "code",
   "execution_count": 7,
   "id": "d0ca353a",
   "metadata": {},
   "outputs": [
    {
     "name": "stdout",
     "output_type": "stream",
     "text": [
      "\\n\n"
     ]
    }
   ],
   "source": [
    "print('\\\\n')"
   ]
  },
  {
   "cell_type": "code",
   "execution_count": 12,
   "id": "fe324ed2",
   "metadata": {},
   "outputs": [
    {
     "data": {
      "text/plain": [
       "[False, True, True, True, True]"
      ]
     },
     "execution_count": 12,
     "metadata": {},
     "output_type": "execute_result"
    }
   ],
   "source": [
    "a= [1,5,7,8,9]\n",
    "list(map(lambda x:x>2,a))"
   ]
  },
  {
   "cell_type": "code",
   "execution_count": 11,
   "id": "5fb1c151",
   "metadata": {},
   "outputs": [
    {
     "data": {
      "text/plain": [
       "[5, 7, 8, 9]"
      ]
     },
     "execution_count": 11,
     "metadata": {},
     "output_type": "execute_result"
    }
   ],
   "source": [
    "a= [1,5,7,8,9]\n",
    "list(filter(lambda x:x>2,a))"
   ]
  },
  {
   "cell_type": "code",
   "execution_count": 13,
   "id": "ec2a8e1b",
   "metadata": {},
   "outputs": [
    {
     "name": "stdout",
     "output_type": "stream",
     "text": [
      "[7, 8]\n"
     ]
    }
   ],
   "source": [
    "a = [1,2,3,4,5]\n",
    "b = map(lambda x:x+3,filter(lambda x:x>3,a))\n",
    "print(list(b))"
   ]
  },
  {
   "cell_type": "code",
   "execution_count": 16,
   "id": "84a5367d",
   "metadata": {},
   "outputs": [
    {
     "name": "stdout",
     "output_type": "stream",
     "text": [
      "[4, 6, 8]\n"
     ]
    }
   ],
   "source": [
    "a  = [1,2,3,4,5]\n",
    "b = filter(lambda x:x%2==0,map(lambda x:x+3,a))\n",
    "print(list(b))"
   ]
  },
  {
   "cell_type": "code",
   "execution_count": 17,
   "id": "c19a6766",
   "metadata": {},
   "outputs": [],
   "source": [
    "import numpy as np"
   ]
  },
  {
   "cell_type": "code",
   "execution_count": 28,
   "id": "5c5d05cc",
   "metadata": {},
   "outputs": [
    {
     "data": {
      "text/plain": [
       "array([[1, 2, 3],\n",
       "       [4, 5, 6],\n",
       "       [7, 8, 9]])"
      ]
     },
     "execution_count": 28,
     "metadata": {},
     "output_type": "execute_result"
    }
   ],
   "source": [
    "a= np.array([[1,2,3],[4,5,6],[7,8,9]])\n",
    "a"
   ]
  },
  {
   "cell_type": "code",
   "execution_count": 29,
   "id": "a0194b0c",
   "metadata": {},
   "outputs": [
    {
     "data": {
      "text/plain": [
       "array([1, 2, 3, 4, 5, 6, 7, 8, 9])"
      ]
     },
     "execution_count": 29,
     "metadata": {},
     "output_type": "execute_result"
    }
   ],
   "source": [
    "a.ravel()"
   ]
  },
  {
   "cell_type": "code",
   "execution_count": 30,
   "id": "e3e8d681",
   "metadata": {},
   "outputs": [
    {
     "data": {
      "text/plain": [
       "array([[1, 4, 7],\n",
       "       [2, 5, 8],\n",
       "       [3, 6, 9]])"
      ]
     },
     "execution_count": 30,
     "metadata": {},
     "output_type": "execute_result"
    }
   ],
   "source": [
    "a.T"
   ]
  },
  {
   "cell_type": "code",
   "execution_count": 31,
   "id": "d4404b48",
   "metadata": {},
   "outputs": [
    {
     "data": {
      "text/plain": [
       "array([[1., 0., 0., 0., 0., 0., 0.],\n",
       "       [0., 1., 0., 0., 0., 0., 0.],\n",
       "       [0., 0., 1., 0., 0., 0., 0.],\n",
       "       [0., 0., 0., 1., 0., 0., 0.],\n",
       "       [0., 0., 0., 0., 1., 0., 0.],\n",
       "       [0., 0., 0., 0., 0., 1., 0.],\n",
       "       [0., 0., 0., 0., 0., 0., 1.]])"
      ]
     },
     "execution_count": 31,
     "metadata": {},
     "output_type": "execute_result"
    }
   ],
   "source": [
    "np.eye(7)"
   ]
  },
  {
   "cell_type": "code",
   "execution_count": 33,
   "id": "85ca7551",
   "metadata": {},
   "outputs": [
    {
     "data": {
      "text/plain": [
       "array([[7, 7, 7, 7],\n",
       "       [7, 7, 7, 7],\n",
       "       [7, 7, 7, 7]])"
      ]
     },
     "execution_count": 33,
     "metadata": {},
     "output_type": "execute_result"
    }
   ],
   "source": [
    "np.full((3,4),7)"
   ]
  },
  {
   "cell_type": "code",
   "execution_count": 42,
   "id": "1186be5c",
   "metadata": {},
   "outputs": [],
   "source": [
    "import pandas as pd"
   ]
  },
  {
   "cell_type": "code",
   "execution_count": 53,
   "id": "e93504c4",
   "metadata": {},
   "outputs": [
    {
     "data": {
      "text/plain": [
       "array([[ 1,  2,  3,  4,  5,  6],\n",
       "       [ 7,  8,  9, 10, 11, 12],\n",
       "       [13, 14, 15, 16, 17, 18],\n",
       "       [19, 20, 21, 22, 23, 24],\n",
       "       [25, 26, 27, 28, 29, 30],\n",
       "       [31, 32, 33, 34, 35, 36],\n",
       "       [37, 38, 39, 40, 41, 42],\n",
       "       [43, 44, 45, 46, 47, 48],\n",
       "       [49, 50, 51, 52, 53, 54],\n",
       "       [55, 56, 57, 58, 59, 60]])"
      ]
     },
     "execution_count": 53,
     "metadata": {},
     "output_type": "execute_result"
    }
   ],
   "source": [
    "a= np.arange(1,61).reshape(10,6)\n",
    "a"
   ]
  },
  {
   "cell_type": "code",
   "execution_count": 54,
   "id": "dd065320",
   "metadata": {},
   "outputs": [
    {
     "data": {
      "text/html": [
       "<div>\n",
       "<style scoped>\n",
       "    .dataframe tbody tr th:only-of-type {\n",
       "        vertical-align: middle;\n",
       "    }\n",
       "\n",
       "    .dataframe tbody tr th {\n",
       "        vertical-align: top;\n",
       "    }\n",
       "\n",
       "    .dataframe thead th {\n",
       "        text-align: right;\n",
       "    }\n",
       "</style>\n",
       "<table border=\"1\" class=\"dataframe\">\n",
       "  <thead>\n",
       "    <tr style=\"text-align: right;\">\n",
       "      <th></th>\n",
       "      <th>0</th>\n",
       "      <th>1</th>\n",
       "      <th>2</th>\n",
       "      <th>3</th>\n",
       "      <th>4</th>\n",
       "      <th>5</th>\n",
       "    </tr>\n",
       "  </thead>\n",
       "  <tbody>\n",
       "    <tr>\n",
       "      <th>0</th>\n",
       "      <td>1</td>\n",
       "      <td>2</td>\n",
       "      <td>3</td>\n",
       "      <td>4</td>\n",
       "      <td>5</td>\n",
       "      <td>6</td>\n",
       "    </tr>\n",
       "    <tr>\n",
       "      <th>1</th>\n",
       "      <td>7</td>\n",
       "      <td>8</td>\n",
       "      <td>9</td>\n",
       "      <td>10</td>\n",
       "      <td>11</td>\n",
       "      <td>12</td>\n",
       "    </tr>\n",
       "    <tr>\n",
       "      <th>2</th>\n",
       "      <td>13</td>\n",
       "      <td>14</td>\n",
       "      <td>15</td>\n",
       "      <td>16</td>\n",
       "      <td>17</td>\n",
       "      <td>18</td>\n",
       "    </tr>\n",
       "    <tr>\n",
       "      <th>3</th>\n",
       "      <td>19</td>\n",
       "      <td>20</td>\n",
       "      <td>21</td>\n",
       "      <td>22</td>\n",
       "      <td>23</td>\n",
       "      <td>24</td>\n",
       "    </tr>\n",
       "    <tr>\n",
       "      <th>4</th>\n",
       "      <td>25</td>\n",
       "      <td>26</td>\n",
       "      <td>27</td>\n",
       "      <td>28</td>\n",
       "      <td>29</td>\n",
       "      <td>30</td>\n",
       "    </tr>\n",
       "    <tr>\n",
       "      <th>5</th>\n",
       "      <td>31</td>\n",
       "      <td>32</td>\n",
       "      <td>33</td>\n",
       "      <td>34</td>\n",
       "      <td>35</td>\n",
       "      <td>36</td>\n",
       "    </tr>\n",
       "    <tr>\n",
       "      <th>6</th>\n",
       "      <td>37</td>\n",
       "      <td>38</td>\n",
       "      <td>39</td>\n",
       "      <td>40</td>\n",
       "      <td>41</td>\n",
       "      <td>42</td>\n",
       "    </tr>\n",
       "    <tr>\n",
       "      <th>7</th>\n",
       "      <td>43</td>\n",
       "      <td>44</td>\n",
       "      <td>45</td>\n",
       "      <td>46</td>\n",
       "      <td>47</td>\n",
       "      <td>48</td>\n",
       "    </tr>\n",
       "    <tr>\n",
       "      <th>8</th>\n",
       "      <td>49</td>\n",
       "      <td>50</td>\n",
       "      <td>51</td>\n",
       "      <td>52</td>\n",
       "      <td>53</td>\n",
       "      <td>54</td>\n",
       "    </tr>\n",
       "    <tr>\n",
       "      <th>9</th>\n",
       "      <td>55</td>\n",
       "      <td>56</td>\n",
       "      <td>57</td>\n",
       "      <td>58</td>\n",
       "      <td>59</td>\n",
       "      <td>60</td>\n",
       "    </tr>\n",
       "  </tbody>\n",
       "</table>\n",
       "</div>"
      ],
      "text/plain": [
       "    0   1   2   3   4   5\n",
       "0   1   2   3   4   5   6\n",
       "1   7   8   9  10  11  12\n",
       "2  13  14  15  16  17  18\n",
       "3  19  20  21  22  23  24\n",
       "4  25  26  27  28  29  30\n",
       "5  31  32  33  34  35  36\n",
       "6  37  38  39  40  41  42\n",
       "7  43  44  45  46  47  48\n",
       "8  49  50  51  52  53  54\n",
       "9  55  56  57  58  59  60"
      ]
     },
     "execution_count": 54,
     "metadata": {},
     "output_type": "execute_result"
    }
   ],
   "source": [
    "b = pd.DataFrame(a)\n",
    "b"
   ]
  },
  {
   "cell_type": "code",
   "execution_count": 48,
   "id": "20bc187c",
   "metadata": {},
   "outputs": [
    {
     "data": {
      "text/plain": [
       "0    1\n",
       "1    5\n",
       "2    6\n",
       "3    7\n",
       "4    8\n",
       "5    9\n",
       "dtype: int64"
      ]
     },
     "execution_count": 48,
     "metadata": {},
     "output_type": "execute_result"
    }
   ],
   "source": [
    "a = pd.Series([1,5,6,7,8,9])\n",
    "a"
   ]
  },
  {
   "cell_type": "code",
   "execution_count": 55,
   "id": "66c9a63d",
   "metadata": {},
   "outputs": [
    {
     "data": {
      "text/html": [
       "<div>\n",
       "<style scoped>\n",
       "    .dataframe tbody tr th:only-of-type {\n",
       "        vertical-align: middle;\n",
       "    }\n",
       "\n",
       "    .dataframe tbody tr th {\n",
       "        vertical-align: top;\n",
       "    }\n",
       "\n",
       "    .dataframe thead th {\n",
       "        text-align: right;\n",
       "    }\n",
       "</style>\n",
       "<table border=\"1\" class=\"dataframe\">\n",
       "  <thead>\n",
       "    <tr style=\"text-align: right;\">\n",
       "      <th></th>\n",
       "      <th>PassengerId</th>\n",
       "      <th>Survived</th>\n",
       "      <th>Pclass</th>\n",
       "      <th>Name</th>\n",
       "      <th>Sex</th>\n",
       "      <th>Age</th>\n",
       "      <th>SibSp</th>\n",
       "      <th>Parch</th>\n",
       "      <th>Ticket</th>\n",
       "      <th>Fare</th>\n",
       "      <th>Cabin</th>\n",
       "      <th>Embarked</th>\n",
       "    </tr>\n",
       "  </thead>\n",
       "  <tbody>\n",
       "    <tr>\n",
       "      <th>0</th>\n",
       "      <td>1</td>\n",
       "      <td>0</td>\n",
       "      <td>3</td>\n",
       "      <td>Braund, Mr. Owen Harris</td>\n",
       "      <td>male</td>\n",
       "      <td>22.0</td>\n",
       "      <td>1</td>\n",
       "      <td>0</td>\n",
       "      <td>A/5 21171</td>\n",
       "      <td>7.2500</td>\n",
       "      <td>NaN</td>\n",
       "      <td>S</td>\n",
       "    </tr>\n",
       "    <tr>\n",
       "      <th>1</th>\n",
       "      <td>2</td>\n",
       "      <td>1</td>\n",
       "      <td>1</td>\n",
       "      <td>Cumings, Mrs. John Bradley (Florence Briggs Th...</td>\n",
       "      <td>female</td>\n",
       "      <td>38.0</td>\n",
       "      <td>1</td>\n",
       "      <td>0</td>\n",
       "      <td>PC 17599</td>\n",
       "      <td>71.2833</td>\n",
       "      <td>C85</td>\n",
       "      <td>C</td>\n",
       "    </tr>\n",
       "    <tr>\n",
       "      <th>2</th>\n",
       "      <td>3</td>\n",
       "      <td>1</td>\n",
       "      <td>3</td>\n",
       "      <td>Heikkinen, Miss. Laina</td>\n",
       "      <td>female</td>\n",
       "      <td>26.0</td>\n",
       "      <td>0</td>\n",
       "      <td>0</td>\n",
       "      <td>STON/O2. 3101282</td>\n",
       "      <td>7.9250</td>\n",
       "      <td>NaN</td>\n",
       "      <td>S</td>\n",
       "    </tr>\n",
       "    <tr>\n",
       "      <th>3</th>\n",
       "      <td>4</td>\n",
       "      <td>1</td>\n",
       "      <td>1</td>\n",
       "      <td>Futrelle, Mrs. Jacques Heath (Lily May Peel)</td>\n",
       "      <td>female</td>\n",
       "      <td>35.0</td>\n",
       "      <td>1</td>\n",
       "      <td>0</td>\n",
       "      <td>113803</td>\n",
       "      <td>53.1000</td>\n",
       "      <td>C123</td>\n",
       "      <td>S</td>\n",
       "    </tr>\n",
       "    <tr>\n",
       "      <th>4</th>\n",
       "      <td>5</td>\n",
       "      <td>0</td>\n",
       "      <td>3</td>\n",
       "      <td>Allen, Mr. William Henry</td>\n",
       "      <td>male</td>\n",
       "      <td>35.0</td>\n",
       "      <td>0</td>\n",
       "      <td>0</td>\n",
       "      <td>373450</td>\n",
       "      <td>8.0500</td>\n",
       "      <td>NaN</td>\n",
       "      <td>S</td>\n",
       "    </tr>\n",
       "    <tr>\n",
       "      <th>...</th>\n",
       "      <td>...</td>\n",
       "      <td>...</td>\n",
       "      <td>...</td>\n",
       "      <td>...</td>\n",
       "      <td>...</td>\n",
       "      <td>...</td>\n",
       "      <td>...</td>\n",
       "      <td>...</td>\n",
       "      <td>...</td>\n",
       "      <td>...</td>\n",
       "      <td>...</td>\n",
       "      <td>...</td>\n",
       "    </tr>\n",
       "    <tr>\n",
       "      <th>886</th>\n",
       "      <td>887</td>\n",
       "      <td>0</td>\n",
       "      <td>2</td>\n",
       "      <td>Montvila, Rev. Juozas</td>\n",
       "      <td>male</td>\n",
       "      <td>27.0</td>\n",
       "      <td>0</td>\n",
       "      <td>0</td>\n",
       "      <td>211536</td>\n",
       "      <td>13.0000</td>\n",
       "      <td>NaN</td>\n",
       "      <td>S</td>\n",
       "    </tr>\n",
       "    <tr>\n",
       "      <th>887</th>\n",
       "      <td>888</td>\n",
       "      <td>1</td>\n",
       "      <td>1</td>\n",
       "      <td>Graham, Miss. Margaret Edith</td>\n",
       "      <td>female</td>\n",
       "      <td>19.0</td>\n",
       "      <td>0</td>\n",
       "      <td>0</td>\n",
       "      <td>112053</td>\n",
       "      <td>30.0000</td>\n",
       "      <td>B42</td>\n",
       "      <td>S</td>\n",
       "    </tr>\n",
       "    <tr>\n",
       "      <th>888</th>\n",
       "      <td>889</td>\n",
       "      <td>0</td>\n",
       "      <td>3</td>\n",
       "      <td>Johnston, Miss. Catherine Helen \"Carrie\"</td>\n",
       "      <td>female</td>\n",
       "      <td>NaN</td>\n",
       "      <td>1</td>\n",
       "      <td>2</td>\n",
       "      <td>W./C. 6607</td>\n",
       "      <td>23.4500</td>\n",
       "      <td>NaN</td>\n",
       "      <td>S</td>\n",
       "    </tr>\n",
       "    <tr>\n",
       "      <th>889</th>\n",
       "      <td>890</td>\n",
       "      <td>1</td>\n",
       "      <td>1</td>\n",
       "      <td>Behr, Mr. Karl Howell</td>\n",
       "      <td>male</td>\n",
       "      <td>26.0</td>\n",
       "      <td>0</td>\n",
       "      <td>0</td>\n",
       "      <td>111369</td>\n",
       "      <td>30.0000</td>\n",
       "      <td>C148</td>\n",
       "      <td>C</td>\n",
       "    </tr>\n",
       "    <tr>\n",
       "      <th>890</th>\n",
       "      <td>891</td>\n",
       "      <td>0</td>\n",
       "      <td>3</td>\n",
       "      <td>Dooley, Mr. Patrick</td>\n",
       "      <td>male</td>\n",
       "      <td>32.0</td>\n",
       "      <td>0</td>\n",
       "      <td>0</td>\n",
       "      <td>370376</td>\n",
       "      <td>7.7500</td>\n",
       "      <td>NaN</td>\n",
       "      <td>Q</td>\n",
       "    </tr>\n",
       "  </tbody>\n",
       "</table>\n",
       "<p>891 rows × 12 columns</p>\n",
       "</div>"
      ],
      "text/plain": [
       "     PassengerId  Survived  Pclass  \\\n",
       "0              1         0       3   \n",
       "1              2         1       1   \n",
       "2              3         1       3   \n",
       "3              4         1       1   \n",
       "4              5         0       3   \n",
       "..           ...       ...     ...   \n",
       "886          887         0       2   \n",
       "887          888         1       1   \n",
       "888          889         0       3   \n",
       "889          890         1       1   \n",
       "890          891         0       3   \n",
       "\n",
       "                                                  Name     Sex   Age  SibSp  \\\n",
       "0                              Braund, Mr. Owen Harris    male  22.0      1   \n",
       "1    Cumings, Mrs. John Bradley (Florence Briggs Th...  female  38.0      1   \n",
       "2                               Heikkinen, Miss. Laina  female  26.0      0   \n",
       "3         Futrelle, Mrs. Jacques Heath (Lily May Peel)  female  35.0      1   \n",
       "4                             Allen, Mr. William Henry    male  35.0      0   \n",
       "..                                                 ...     ...   ...    ...   \n",
       "886                              Montvila, Rev. Juozas    male  27.0      0   \n",
       "887                       Graham, Miss. Margaret Edith  female  19.0      0   \n",
       "888           Johnston, Miss. Catherine Helen \"Carrie\"  female   NaN      1   \n",
       "889                              Behr, Mr. Karl Howell    male  26.0      0   \n",
       "890                                Dooley, Mr. Patrick    male  32.0      0   \n",
       "\n",
       "     Parch            Ticket     Fare Cabin Embarked  \n",
       "0        0         A/5 21171   7.2500   NaN        S  \n",
       "1        0          PC 17599  71.2833   C85        C  \n",
       "2        0  STON/O2. 3101282   7.9250   NaN        S  \n",
       "3        0            113803  53.1000  C123        S  \n",
       "4        0            373450   8.0500   NaN        S  \n",
       "..     ...               ...      ...   ...      ...  \n",
       "886      0            211536  13.0000   NaN        S  \n",
       "887      0            112053  30.0000   B42        S  \n",
       "888      2        W./C. 6607  23.4500   NaN        S  \n",
       "889      0            111369  30.0000  C148        C  \n",
       "890      0            370376   7.7500   NaN        Q  \n",
       "\n",
       "[891 rows x 12 columns]"
      ]
     },
     "execution_count": 55,
     "metadata": {},
     "output_type": "execute_result"
    }
   ],
   "source": [
    "v= pd.read_csv('./titanic_data.csv')\n",
    "v"
   ]
  },
  {
   "cell_type": "code",
   "execution_count": 62,
   "id": "6e9f9fbd",
   "metadata": {},
   "outputs": [
    {
     "data": {
      "text/html": [
       "<div>\n",
       "<style scoped>\n",
       "    .dataframe tbody tr th:only-of-type {\n",
       "        vertical-align: middle;\n",
       "    }\n",
       "\n",
       "    .dataframe tbody tr th {\n",
       "        vertical-align: top;\n",
       "    }\n",
       "\n",
       "    .dataframe thead th {\n",
       "        text-align: right;\n",
       "    }\n",
       "</style>\n",
       "<table border=\"1\" class=\"dataframe\">\n",
       "  <thead>\n",
       "    <tr style=\"text-align: right;\">\n",
       "      <th></th>\n",
       "      <th>PassengerId</th>\n",
       "      <th>Survived</th>\n",
       "      <th>Pclass</th>\n",
       "      <th>Name</th>\n",
       "      <th>Sex</th>\n",
       "      <th>Age</th>\n",
       "      <th>SibSp</th>\n",
       "      <th>Parch</th>\n",
       "      <th>Ticket</th>\n",
       "      <th>Fare</th>\n",
       "      <th>Cabin</th>\n",
       "      <th>Embarked</th>\n",
       "    </tr>\n",
       "  </thead>\n",
       "  <tbody>\n",
       "    <tr>\n",
       "      <th>0</th>\n",
       "      <td>1</td>\n",
       "      <td>0</td>\n",
       "      <td>3</td>\n",
       "      <td>Braund, Mr. Owen Harris</td>\n",
       "      <td>male</td>\n",
       "      <td>22.0</td>\n",
       "      <td>1</td>\n",
       "      <td>0</td>\n",
       "      <td>A/5 21171</td>\n",
       "      <td>7.2500</td>\n",
       "      <td>NaN</td>\n",
       "      <td>S</td>\n",
       "    </tr>\n",
       "    <tr>\n",
       "      <th>1</th>\n",
       "      <td>2</td>\n",
       "      <td>1</td>\n",
       "      <td>1</td>\n",
       "      <td>Cumings, Mrs. John Bradley (Florence Briggs Th...</td>\n",
       "      <td>female</td>\n",
       "      <td>38.0</td>\n",
       "      <td>1</td>\n",
       "      <td>0</td>\n",
       "      <td>PC 17599</td>\n",
       "      <td>71.2833</td>\n",
       "      <td>C85</td>\n",
       "      <td>C</td>\n",
       "    </tr>\n",
       "    <tr>\n",
       "      <th>2</th>\n",
       "      <td>3</td>\n",
       "      <td>1</td>\n",
       "      <td>3</td>\n",
       "      <td>Heikkinen, Miss. Laina</td>\n",
       "      <td>female</td>\n",
       "      <td>26.0</td>\n",
       "      <td>0</td>\n",
       "      <td>0</td>\n",
       "      <td>STON/O2. 3101282</td>\n",
       "      <td>7.9250</td>\n",
       "      <td>NaN</td>\n",
       "      <td>S</td>\n",
       "    </tr>\n",
       "    <tr>\n",
       "      <th>3</th>\n",
       "      <td>4</td>\n",
       "      <td>1</td>\n",
       "      <td>1</td>\n",
       "      <td>Futrelle, Mrs. Jacques Heath (Lily May Peel)</td>\n",
       "      <td>female</td>\n",
       "      <td>35.0</td>\n",
       "      <td>1</td>\n",
       "      <td>0</td>\n",
       "      <td>113803</td>\n",
       "      <td>53.1000</td>\n",
       "      <td>C123</td>\n",
       "      <td>S</td>\n",
       "    </tr>\n",
       "    <tr>\n",
       "      <th>4</th>\n",
       "      <td>5</td>\n",
       "      <td>0</td>\n",
       "      <td>3</td>\n",
       "      <td>Allen, Mr. William Henry</td>\n",
       "      <td>male</td>\n",
       "      <td>35.0</td>\n",
       "      <td>0</td>\n",
       "      <td>0</td>\n",
       "      <td>373450</td>\n",
       "      <td>8.0500</td>\n",
       "      <td>NaN</td>\n",
       "      <td>S</td>\n",
       "    </tr>\n",
       "  </tbody>\n",
       "</table>\n",
       "</div>"
      ],
      "text/plain": [
       "   PassengerId  Survived  Pclass  \\\n",
       "0            1         0       3   \n",
       "1            2         1       1   \n",
       "2            3         1       3   \n",
       "3            4         1       1   \n",
       "4            5         0       3   \n",
       "\n",
       "                                                Name     Sex   Age  SibSp  \\\n",
       "0                            Braund, Mr. Owen Harris    male  22.0      1   \n",
       "1  Cumings, Mrs. John Bradley (Florence Briggs Th...  female  38.0      1   \n",
       "2                             Heikkinen, Miss. Laina  female  26.0      0   \n",
       "3       Futrelle, Mrs. Jacques Heath (Lily May Peel)  female  35.0      1   \n",
       "4                           Allen, Mr. William Henry    male  35.0      0   \n",
       "\n",
       "   Parch            Ticket     Fare Cabin Embarked  \n",
       "0      0         A/5 21171   7.2500   NaN        S  \n",
       "1      0          PC 17599  71.2833   C85        C  \n",
       "2      0  STON/O2. 3101282   7.9250   NaN        S  \n",
       "3      0            113803  53.1000  C123        S  \n",
       "4      0            373450   8.0500   NaN        S  "
      ]
     },
     "execution_count": 62,
     "metadata": {},
     "output_type": "execute_result"
    }
   ],
   "source": [
    "v.head()"
   ]
  },
  {
   "cell_type": "code",
   "execution_count": 64,
   "id": "618c9499",
   "metadata": {},
   "outputs": [
    {
     "data": {
      "text/plain": [
       "10692"
      ]
     },
     "execution_count": 64,
     "metadata": {},
     "output_type": "execute_result"
    }
   ],
   "source": [
    "v.size"
   ]
  },
  {
   "cell_type": "code",
   "execution_count": 65,
   "id": "0e06c8eb",
   "metadata": {},
   "outputs": [
    {
     "data": {
      "text/plain": [
       "(891, 12)"
      ]
     },
     "execution_count": 65,
     "metadata": {},
     "output_type": "execute_result"
    }
   ],
   "source": [
    "v.shape"
   ]
  },
  {
   "cell_type": "code",
   "execution_count": 72,
   "id": "9601a37b",
   "metadata": {},
   "outputs": [
    {
     "data": {
      "text/html": [
       "<div>\n",
       "<style scoped>\n",
       "    .dataframe tbody tr th:only-of-type {\n",
       "        vertical-align: middle;\n",
       "    }\n",
       "\n",
       "    .dataframe tbody tr th {\n",
       "        vertical-align: top;\n",
       "    }\n",
       "\n",
       "    .dataframe thead th {\n",
       "        text-align: right;\n",
       "    }\n",
       "</style>\n",
       "<table border=\"1\" class=\"dataframe\">\n",
       "  <thead>\n",
       "    <tr style=\"text-align: right;\">\n",
       "      <th></th>\n",
       "      <th>0</th>\n",
       "      <th>1</th>\n",
       "      <th>2</th>\n",
       "      <th>3</th>\n",
       "    </tr>\n",
       "  </thead>\n",
       "  <tbody>\n",
       "    <tr>\n",
       "      <th>0</th>\n",
       "      <td>1</td>\n",
       "      <td>2</td>\n",
       "      <td>3</td>\n",
       "      <td>4</td>\n",
       "    </tr>\n",
       "    <tr>\n",
       "      <th>1</th>\n",
       "      <td>5</td>\n",
       "      <td>6</td>\n",
       "      <td>7</td>\n",
       "      <td>8</td>\n",
       "    </tr>\n",
       "    <tr>\n",
       "      <th>2</th>\n",
       "      <td>9</td>\n",
       "      <td>10</td>\n",
       "      <td>11</td>\n",
       "      <td>12</td>\n",
       "    </tr>\n",
       "    <tr>\n",
       "      <th>3</th>\n",
       "      <td>13</td>\n",
       "      <td>14</td>\n",
       "      <td>15</td>\n",
       "      <td>16</td>\n",
       "    </tr>\n",
       "    <tr>\n",
       "      <th>4</th>\n",
       "      <td>17</td>\n",
       "      <td>18</td>\n",
       "      <td>19</td>\n",
       "      <td>20</td>\n",
       "    </tr>\n",
       "  </tbody>\n",
       "</table>\n",
       "</div>"
      ],
      "text/plain": [
       "    0   1   2   3\n",
       "0   1   2   3   4\n",
       "1   5   6   7   8\n",
       "2   9  10  11  12\n",
       "3  13  14  15  16\n",
       "4  17  18  19  20"
      ]
     },
     "execution_count": 72,
     "metadata": {},
     "output_type": "execute_result"
    }
   ],
   "source": [
    "a= np.arange(1,21).reshape(5,4)\n",
    "b = pd.DataFrame(a)\n",
    "b"
   ]
  },
  {
   "cell_type": "code",
   "execution_count": 77,
   "id": "5c17f28a",
   "metadata": {},
   "outputs": [
    {
     "data": {
      "text/html": [
       "<div>\n",
       "<style scoped>\n",
       "    .dataframe tbody tr th:only-of-type {\n",
       "        vertical-align: middle;\n",
       "    }\n",
       "\n",
       "    .dataframe tbody tr th {\n",
       "        vertical-align: top;\n",
       "    }\n",
       "\n",
       "    .dataframe thead th {\n",
       "        text-align: right;\n",
       "    }\n",
       "</style>\n",
       "<table border=\"1\" class=\"dataframe\">\n",
       "  <thead>\n",
       "    <tr style=\"text-align: right;\">\n",
       "      <th></th>\n",
       "      <th>0</th>\n",
       "      <th>1</th>\n",
       "      <th>2</th>\n",
       "      <th>3</th>\n",
       "    </tr>\n",
       "  </thead>\n",
       "  <tbody>\n",
       "  </tbody>\n",
       "</table>\n",
       "</div>"
      ],
      "text/plain": [
       "Empty DataFrame\n",
       "Columns: [0, 1, 2, 3]\n",
       "Index: []"
      ]
     },
     "execution_count": 77,
     "metadata": {},
     "output_type": "execute_result"
    }
   ],
   "source": [
    "b.loc[1:2][2:3]"
   ]
  },
  {
   "cell_type": "code",
   "execution_count": 79,
   "id": "6e51caa7",
   "metadata": {},
   "outputs": [
    {
     "data": {
      "text/html": [
       "<div>\n",
       "<style scoped>\n",
       "    .dataframe tbody tr th:only-of-type {\n",
       "        vertical-align: middle;\n",
       "    }\n",
       "\n",
       "    .dataframe tbody tr th {\n",
       "        vertical-align: top;\n",
       "    }\n",
       "\n",
       "    .dataframe thead th {\n",
       "        text-align: right;\n",
       "    }\n",
       "</style>\n",
       "<table border=\"1\" class=\"dataframe\">\n",
       "  <thead>\n",
       "    <tr style=\"text-align: right;\">\n",
       "      <th></th>\n",
       "      <th>0</th>\n",
       "      <th>1</th>\n",
       "      <th>2</th>\n",
       "      <th>3</th>\n",
       "    </tr>\n",
       "  </thead>\n",
       "  <tbody>\n",
       "    <tr>\n",
       "      <th>0</th>\n",
       "      <td>1</td>\n",
       "      <td>2</td>\n",
       "      <td>3</td>\n",
       "      <td>4</td>\n",
       "    </tr>\n",
       "    <tr>\n",
       "      <th>1</th>\n",
       "      <td>5</td>\n",
       "      <td>6</td>\n",
       "      <td>7</td>\n",
       "      <td>8</td>\n",
       "    </tr>\n",
       "    <tr>\n",
       "      <th>2</th>\n",
       "      <td>9</td>\n",
       "      <td>10</td>\n",
       "      <td>11</td>\n",
       "      <td>12</td>\n",
       "    </tr>\n",
       "    <tr>\n",
       "      <th>3</th>\n",
       "      <td>13</td>\n",
       "      <td>14</td>\n",
       "      <td>15</td>\n",
       "      <td>16</td>\n",
       "    </tr>\n",
       "    <tr>\n",
       "      <th>4</th>\n",
       "      <td>17</td>\n",
       "      <td>18</td>\n",
       "      <td>19</td>\n",
       "      <td>20</td>\n",
       "    </tr>\n",
       "  </tbody>\n",
       "</table>\n",
       "</div>"
      ],
      "text/plain": [
       "    0   1   2   3\n",
       "0   1   2   3   4\n",
       "1   5   6   7   8\n",
       "2   9  10  11  12\n",
       "3  13  14  15  16\n",
       "4  17  18  19  20"
      ]
     },
     "execution_count": 79,
     "metadata": {},
     "output_type": "execute_result"
    }
   ],
   "source": [
    "a = np.arange(1,21).reshape(5,4)\n",
    "b = pd.DataFrame(a)\n",
    "b"
   ]
  },
  {
   "cell_type": "code",
   "execution_count": 82,
   "id": "61955af8",
   "metadata": {},
   "outputs": [
    {
     "data": {
      "text/plain": [
       "0     2\n",
       "1     6\n",
       "2    10\n",
       "3    14\n",
       "Name: 1, dtype: int32"
      ]
     },
     "execution_count": 82,
     "metadata": {},
     "output_type": "execute_result"
    }
   ],
   "source": [
    "b.loc[0:3][1]"
   ]
  },
  {
   "cell_type": "code",
   "execution_count": 84,
   "id": "c636c6a6",
   "metadata": {},
   "outputs": [
    {
     "data": {
      "text/plain": [
       "0    1\n",
       "1    5\n",
       "2    9\n",
       "Name: 0, dtype: int32"
      ]
     },
     "execution_count": 84,
     "metadata": {},
     "output_type": "execute_result"
    }
   ],
   "source": [
    "b.iloc[0:3][0]"
   ]
  },
  {
   "cell_type": "code",
   "execution_count": null,
   "id": "c46f3f82",
   "metadata": {},
   "outputs": [],
   "source": []
  },
  {
   "cell_type": "code",
   "execution_count": 3,
   "id": "27eeb457",
   "metadata": {},
   "outputs": [
    {
     "data": {
      "text/plain": [
       "[False, False, False, False, True, True, True, True, True]"
      ]
     },
     "execution_count": 3,
     "metadata": {},
     "output_type": "execute_result"
    }
   ],
   "source": [
    "a = [1,2,3,4,5,6,7,8,9]\n",
    "b = list(map(lambda x:x>4,a))\n",
    "b"
   ]
  },
  {
   "cell_type": "code",
   "execution_count": 4,
   "id": "fa663366",
   "metadata": {},
   "outputs": [
    {
     "data": {
      "text/plain": [
       "[5, 6, 7, 8, 9]"
      ]
     },
     "execution_count": 4,
     "metadata": {},
     "output_type": "execute_result"
    }
   ],
   "source": [
    "a = [1,2,3,4,5,6,7,8,9]\n",
    "b = list(filter(lambda x:x>4,a))\n",
    "b"
   ]
  },
  {
   "cell_type": "code",
   "execution_count": 11,
   "id": "e3c19964",
   "metadata": {},
   "outputs": [],
   "source": [
    "from functools import reduce"
   ]
  },
  {
   "cell_type": "code",
   "execution_count": 13,
   "id": "cd2dc8be",
   "metadata": {},
   "outputs": [
    {
     "data": {
      "text/plain": [
       "10"
      ]
     },
     "execution_count": 13,
     "metadata": {},
     "output_type": "execute_result"
    }
   ],
   "source": [
    "\n",
    "b = reduce(lambda x,y :x+y,[1,2,3,4])\n",
    "b"
   ]
  },
  {
   "cell_type": "markdown",
   "id": "9eb0c508",
   "metadata": {},
   "source": [
    "# list comprehension"
   ]
  },
  {
   "cell_type": "code",
   "execution_count": 15,
   "id": "5383275a",
   "metadata": {},
   "outputs": [
    {
     "data": {
      "text/plain": [
       "[2, 4, 6, 8]"
      ]
     },
     "execution_count": 15,
     "metadata": {},
     "output_type": "execute_result"
    }
   ],
   "source": [
    "\n",
    "a = [i for i in range(1,10) if i%2==0]\n",
    "a"
   ]
  },
  {
   "cell_type": "code",
   "execution_count": 17,
   "id": "455d5949",
   "metadata": {},
   "outputs": [
    {
     "data": {
      "text/plain": [
       "['odd', 'even', 'odd']"
      ]
     },
     "execution_count": 17,
     "metadata": {},
     "output_type": "execute_result"
    }
   ],
   "source": [
    "a= [ 'even' if i%2==0 else 'odd' for i in range(1,4)]\n",
    "a"
   ]
  },
  {
   "cell_type": "markdown",
   "id": "67c4a1c8",
   "metadata": {},
   "source": [
    "# dictiojary comprehewnsion"
   ]
  },
  {
   "cell_type": "code",
   "execution_count": 20,
   "id": "d4636b16",
   "metadata": {},
   "outputs": [
    {
     "data": {
      "text/plain": [
       "{1: 1, 2: 4, 3: 9, 4: 16}"
      ]
     },
     "execution_count": 20,
     "metadata": {},
     "output_type": "execute_result"
    }
   ],
   "source": [
    "a = {i:i**2 for i in range (1,5)}\n",
    "a"
   ]
  },
  {
   "cell_type": "markdown",
   "id": "ae7cf353",
   "metadata": {},
   "source": [
    "# file handling"
   ]
  },
  {
   "cell_type": "raw",
   "id": "862319a8",
   "metadata": {},
   "source": [
    "w - write the data\n",
    "r - read the data\n",
    "a - changing the data"
   ]
  },
  {
   "cell_type": "code",
   "execution_count": 21,
   "id": "3e2852c8",
   "metadata": {},
   "outputs": [],
   "source": [
    "import numpy as np"
   ]
  },
  {
   "cell_type": "code",
   "execution_count": 24,
   "id": "ea4a828a",
   "metadata": {},
   "outputs": [
    {
     "name": "stdout",
     "output_type": "stream",
     "text": [
      "[[1 2 4]]\n"
     ]
    },
    {
     "data": {
      "text/plain": [
       "2"
      ]
     },
     "execution_count": 24,
     "metadata": {},
     "output_type": "execute_result"
    }
   ],
   "source": [
    "a = np.array([[1,2,4]])\n",
    "print(a)\n",
    "a.ndim"
   ]
  },
  {
   "cell_type": "code",
   "execution_count": 26,
   "id": "42f06ac2",
   "metadata": {},
   "outputs": [
    {
     "data": {
      "text/plain": [
       "array([[1, 2, 3],\n",
       "       [4, 6, 7]])"
      ]
     },
     "execution_count": 26,
     "metadata": {},
     "output_type": "execute_result"
    }
   ],
   "source": [
    "a= np.array([[1,2,3],[4,6,7]])\n",
    "a"
   ]
  },
  {
   "cell_type": "code",
   "execution_count": 27,
   "id": "d8e4a232",
   "metadata": {},
   "outputs": [
    {
     "data": {
      "text/plain": [
       "array([ 1,  2,  3,  4,  5,  6,  7,  8,  9, 10])"
      ]
     },
     "execution_count": 27,
     "metadata": {},
     "output_type": "execute_result"
    }
   ],
   "source": [
    "a= np.arange(1,11)\n",
    "a"
   ]
  },
  {
   "cell_type": "code",
   "execution_count": 32,
   "id": "6e5c6bd4",
   "metadata": {},
   "outputs": [
    {
     "data": {
      "text/plain": [
       "array([10, 11, 12, 13, 14, 15, 16, 17, 18, 20])"
      ]
     },
     "execution_count": 32,
     "metadata": {},
     "output_type": "execute_result"
    }
   ],
   "source": [
    "a = np.linspace(10,20,10,dtype=int)\n",
    "a"
   ]
  },
  {
   "cell_type": "code",
   "execution_count": 35,
   "id": "707ab5c5",
   "metadata": {},
   "outputs": [
    {
     "data": {
      "text/plain": [
       "array([[0, 0, 0],\n",
       "       [0, 0, 0],\n",
       "       [0, 0, 0]])"
      ]
     },
     "execution_count": 35,
     "metadata": {},
     "output_type": "execute_result"
    }
   ],
   "source": [
    "a= np.zeros((3,3),dtype=int)\n",
    "a"
   ]
  },
  {
   "cell_type": "code",
   "execution_count": 42,
   "id": "f988f1e9",
   "metadata": {},
   "outputs": [
    {
     "data": {
      "text/plain": [
       "array([[ 1,  2,  3,  4,  5,  6],\n",
       "       [ 7,  8,  9, 10, 11, 12],\n",
       "       [13, 14, 15, 16, 17, 18],\n",
       "       [19, 20, 21, 22, 23, 24],\n",
       "       [25, 26, 27, 28, 29, 30],\n",
       "       [31, 32, 33, 34, 35, 36],\n",
       "       [37, 38, 39, 40, 41, 42],\n",
       "       [43, 44, 45, 46, 47, 48],\n",
       "       [49, 50, 51, 52, 53, 54],\n",
       "       [55, 56, 57, 58, 59, 60]])"
      ]
     },
     "execution_count": 42,
     "metadata": {},
     "output_type": "execute_result"
    }
   ],
   "source": [
    "a = np.arange(1,61).reshape(10,6)\n",
    "a"
   ]
  },
  {
   "cell_type": "code",
   "execution_count": 39,
   "id": "b0d8721e",
   "metadata": {},
   "outputs": [
    {
     "data": {
      "text/plain": [
       "20"
      ]
     },
     "execution_count": 39,
     "metadata": {},
     "output_type": "execute_result"
    }
   ],
   "source": [
    "a[1][1][1]"
   ]
  },
  {
   "cell_type": "code",
   "execution_count": 43,
   "id": "e65b621f",
   "metadata": {},
   "outputs": [
    {
     "data": {
      "text/plain": [
       "array([ 21,  57,  93, 129, 165, 201, 237, 273, 309, 345])"
      ]
     },
     "execution_count": 43,
     "metadata": {},
     "output_type": "execute_result"
    }
   ],
   "source": [
    "\n",
    "c = np.sum(a,axis=1)\n",
    "c"
   ]
  },
  {
   "cell_type": "code",
   "execution_count": 48,
   "id": "a270c3a8",
   "metadata": {},
   "outputs": [
    {
     "data": {
      "text/plain": [
       "array([[ 1,  2,  3,  4,  5,  6],\n",
       "       [ 7,  8,  9, 10, 11, 12],\n",
       "       [13, 14, 15, 16, 17, 18],\n",
       "       [19, 20, 21, 22, 23, 24],\n",
       "       [25, 26, 27, 28, 29, 30],\n",
       "       [31, 32, 33, 34, 35, 36],\n",
       "       [37, 38, 39, 40, 41, 42],\n",
       "       [43, 44, 45, 46, 47, 48],\n",
       "       [49, 50, 51, 52, 53, 54],\n",
       "       [55, 56, 57, 58, 59, 60]])"
      ]
     },
     "execution_count": 48,
     "metadata": {},
     "output_type": "execute_result"
    }
   ],
   "source": [
    "a = np.arange(1,61).reshape(10,6)\n",
    "a"
   ]
  },
  {
   "cell_type": "code",
   "execution_count": 49,
   "id": "5cfa3c52",
   "metadata": {},
   "outputs": [
    {
     "data": {
      "text/plain": [
       "array([[101, 102, 103, 104, 105, 106],\n",
       "       [107, 108, 109, 110, 111, 112],\n",
       "       [113, 114, 115, 116, 117, 118],\n",
       "       [119, 120, 121, 122, 123, 124],\n",
       "       [125, 126, 127, 128, 129, 130],\n",
       "       [131, 132, 133, 134, 135, 136],\n",
       "       [137, 138, 139, 140, 141, 142],\n",
       "       [143, 144, 145, 146, 147, 148],\n",
       "       [149, 150, 151, 152, 153, 154],\n",
       "       [155, 156, 157, 158, 159, 160]])"
      ]
     },
     "execution_count": 49,
     "metadata": {},
     "output_type": "execute_result"
    }
   ],
   "source": [
    "b = np.arange(101,161).reshape(10,6)\n",
    "b"
   ]
  },
  {
   "cell_type": "code",
   "execution_count": 51,
   "id": "3de5995a",
   "metadata": {},
   "outputs": [
    {
     "data": {
      "text/plain": [
       "array([[  1,   2,   3,   4,   5,   6, 101, 102, 103, 104, 105, 106],\n",
       "       [  7,   8,   9,  10,  11,  12, 107, 108, 109, 110, 111, 112],\n",
       "       [ 13,  14,  15,  16,  17,  18, 113, 114, 115, 116, 117, 118],\n",
       "       [ 19,  20,  21,  22,  23,  24, 119, 120, 121, 122, 123, 124],\n",
       "       [ 25,  26,  27,  28,  29,  30, 125, 126, 127, 128, 129, 130],\n",
       "       [ 31,  32,  33,  34,  35,  36, 131, 132, 133, 134, 135, 136],\n",
       "       [ 37,  38,  39,  40,  41,  42, 137, 138, 139, 140, 141, 142],\n",
       "       [ 43,  44,  45,  46,  47,  48, 143, 144, 145, 146, 147, 148],\n",
       "       [ 49,  50,  51,  52,  53,  54, 149, 150, 151, 152, 153, 154],\n",
       "       [ 55,  56,  57,  58,  59,  60, 155, 156, 157, 158, 159, 160]])"
      ]
     },
     "execution_count": 51,
     "metadata": {},
     "output_type": "execute_result"
    }
   ],
   "source": [
    "c = np.hstack((a,b))\n",
    "c"
   ]
  },
  {
   "cell_type": "code",
   "execution_count": 52,
   "id": "94312ab3",
   "metadata": {},
   "outputs": [
    {
     "data": {
      "text/plain": [
       "array([[ 1,  0,  0,  0],\n",
       "       [ 0,  2,  0,  0],\n",
       "       [ 0,  0,  3,  0],\n",
       "       [ 0,  0,  0, 40]])"
      ]
     },
     "execution_count": 52,
     "metadata": {},
     "output_type": "execute_result"
    }
   ],
   "source": [
    "# diagonal\n",
    "a = np.diag([1,2,3,40])\n",
    "a"
   ]
  },
  {
   "cell_type": "code",
   "execution_count": 53,
   "id": "73a85fb4",
   "metadata": {},
   "outputs": [
    {
     "data": {
      "text/plain": [
       "array([[ 1, 20],\n",
       "       [ 2, 30],\n",
       "       [ 3, 40],\n",
       "       [ 4, 50]])"
      ]
     },
     "execution_count": 53,
     "metadata": {},
     "output_type": "execute_result"
    }
   ],
   "source": [
    "a = np.array([[1,2,3,4],[20,30,40,50]])\n",
    "a.T"
   ]
  },
  {
   "cell_type": "code",
   "execution_count": 54,
   "id": "d5f674d0",
   "metadata": {},
   "outputs": [],
   "source": [
    "# concatenate"
   ]
  },
  {
   "cell_type": "code",
   "execution_count": null,
   "id": "907272f0",
   "metadata": {},
   "outputs": [],
   "source": []
  },
  {
   "cell_type": "code",
   "execution_count": null,
   "id": "2bfb77a5",
   "metadata": {},
   "outputs": [],
   "source": []
  },
  {
   "cell_type": "code",
   "execution_count": 2,
   "id": "01023ec7",
   "metadata": {},
   "outputs": [
    {
     "data": {
      "text/plain": [
       "['v', 'i', 'n', 'a', 'y']"
      ]
     },
     "execution_count": 2,
     "metadata": {},
     "output_type": "execute_result"
    }
   ],
   "source": [
    "a= 'vinay'\n",
    "b = list(a)\n",
    "b"
   ]
  },
  {
   "cell_type": "code",
   "execution_count": 3,
   "id": "304c5566",
   "metadata": {},
   "outputs": [
    {
     "data": {
      "text/plain": [
       "['have', 'a', 'good', 'day']"
      ]
     },
     "execution_count": 3,
     "metadata": {},
     "output_type": "execute_result"
    }
   ],
   "source": [
    "a = ' have a good day'\n",
    "a.split()"
   ]
  },
  {
   "cell_type": "code",
   "execution_count": 6,
   "id": "e89031b9",
   "metadata": {},
   "outputs": [
    {
     "data": {
      "text/plain": [
       "' have a good day'"
      ]
     },
     "execution_count": 6,
     "metadata": {},
     "output_type": "execute_result"
    }
   ],
   "source": [
    "''.join(a)"
   ]
  },
  {
   "cell_type": "code",
   "execution_count": 8,
   "id": "91d526b8",
   "metadata": {},
   "outputs": [
    {
     "data": {
      "text/plain": [
       "2"
      ]
     },
     "execution_count": 8,
     "metadata": {},
     "output_type": "execute_result"
    }
   ],
   "source": [
    "a = 'data science'\n",
    "a.count('a')"
   ]
  },
  {
   "cell_type": "code",
   "execution_count": 12,
   "id": "4a3e9d88",
   "metadata": {},
   "outputs": [
    {
     "data": {
      "text/plain": [
       "['data ', 'science', ' is', ' a ', 'very', ' good .job']"
      ]
     },
     "execution_count": 12,
     "metadata": {},
     "output_type": "execute_result"
    }
   ],
   "source": [
    "a = 'data .science. is. a .very. good .job'\n",
    "b = a.split('.')\n",
    "c = a.split('.',5)\n",
    "c\n"
   ]
  },
  {
   "cell_type": "code",
   "execution_count": 15,
   "id": "2e72f184",
   "metadata": {},
   "outputs": [
    {
     "data": {
      "text/plain": [
       "' my name is vinay'"
      ]
     },
     "execution_count": 15,
     "metadata": {},
     "output_type": "execute_result"
    }
   ],
   "source": [
    "a = ' my name is {}'.format('vinay')\n",
    "a"
   ]
  },
  {
   "cell_type": "code",
   "execution_count": 19,
   "id": "72b6b59f",
   "metadata": {},
   "outputs": [
    {
     "data": {
      "text/plain": [
       "['vinay']"
      ]
     },
     "execution_count": 19,
     "metadata": {},
     "output_type": "execute_result"
    }
   ],
   "source": [
    "a = ['vinay']\n",
    "b = a.copy()\n",
    "b"
   ]
  },
  {
   "cell_type": "code",
   "execution_count": 21,
   "id": "dc2273fb",
   "metadata": {},
   "outputs": [
    {
     "data": {
      "text/plain": [
       "[1, 23, 100, 56, 78]"
      ]
     },
     "execution_count": 21,
     "metadata": {},
     "output_type": "execute_result"
    }
   ],
   "source": [
    "a = [1,23,56,78]\n",
    "a.insert(2,100)\n",
    "a"
   ]
  },
  {
   "cell_type": "code",
   "execution_count": 25,
   "id": "1230a81f",
   "metadata": {},
   "outputs": [
    {
     "name": "stdout",
     "output_type": "stream",
     "text": [
      "[1, 100]\n"
     ]
    }
   ],
   "source": [
    "a.pop()\n",
    "print(a)"
   ]
  },
  {
   "cell_type": "code",
   "execution_count": 32,
   "id": "4e27008e",
   "metadata": {},
   "outputs": [
    {
     "name": "stdout",
     "output_type": "stream",
     "text": [
      "[1, 3, 4, 5]\n"
     ]
    }
   ],
   "source": [
    "a = [1,2,3,4,5]\n",
    "a.pop(1)\n",
    "print(a)"
   ]
  },
  {
   "cell_type": "code",
   "execution_count": 30,
   "id": "58380962",
   "metadata": {},
   "outputs": [
    {
     "data": {
      "text/plain": [
       "5"
      ]
     },
     "execution_count": 30,
     "metadata": {},
     "output_type": "execute_result"
    }
   ],
   "source": [
    "a.pop()"
   ]
  },
  {
   "cell_type": "code",
   "execution_count": 42,
   "id": "49daa355",
   "metadata": {},
   "outputs": [],
   "source": [
    "a = [1,2,3,4,4,8]"
   ]
  },
  {
   "cell_type": "code",
   "execution_count": 43,
   "id": "847635e1",
   "metadata": {},
   "outputs": [
    {
     "data": {
      "text/plain": [
       "2"
      ]
     },
     "execution_count": 43,
     "metadata": {},
     "output_type": "execute_result"
    }
   ],
   "source": [
    "a.count(4)\n"
   ]
  },
  {
   "cell_type": "code",
   "execution_count": 45,
   "id": "4c82a0dd",
   "metadata": {},
   "outputs": [
    {
     "data": {
      "text/plain": [
       "[1, 2, 3, 4, 4, 8]"
      ]
     },
     "execution_count": 45,
     "metadata": {},
     "output_type": "execute_result"
    }
   ],
   "source": [
    "a.sort()\n",
    "a"
   ]
  },
  {
   "cell_type": "code",
   "execution_count": 48,
   "id": "692eea7f",
   "metadata": {},
   "outputs": [
    {
     "data": {
      "text/plain": [
       "[8, 4, 4, 3, 2, 1]"
      ]
     },
     "execution_count": 48,
     "metadata": {},
     "output_type": "execute_result"
    }
   ],
   "source": [
    "a.sort(reverse=True)\n",
    "a"
   ]
  },
  {
   "cell_type": "code",
   "execution_count": 49,
   "id": "b6728777",
   "metadata": {},
   "outputs": [
    {
     "data": {
      "text/plain": [
       "[1, 2, 3, 4, 4, 8, 4, 7, 8, 9, 0]"
      ]
     },
     "execution_count": 49,
     "metadata": {},
     "output_type": "execute_result"
    }
   ],
   "source": [
    "a = [1,2,3,4,4,8]\n",
    "b = [ 4,7,8,9,0]\n",
    "c = a+b\n",
    "c"
   ]
  },
  {
   "cell_type": "code",
   "execution_count": 52,
   "id": "a00688ae",
   "metadata": {},
   "outputs": [
    {
     "name": "stdout",
     "output_type": "stream",
     "text": [
      "vinay\n"
     ]
    }
   ],
   "source": [
    "a = ('vinay','ravi','kiran')\n",
    "(name,friend,close)=a\n",
    "print(name)"
   ]
  },
  {
   "cell_type": "code",
   "execution_count": 55,
   "id": "cf19c61e",
   "metadata": {},
   "outputs": [
    {
     "data": {
      "text/plain": [
       "set"
      ]
     },
     "execution_count": 55,
     "metadata": {},
     "output_type": "execute_result"
    }
   ],
   "source": [
    "a =set()\n",
    "type(a)"
   ]
  },
  {
   "cell_type": "code",
   "execution_count": 58,
   "id": "68eab88a",
   "metadata": {},
   "outputs": [
    {
     "data": {
      "text/plain": [
       "{9}"
      ]
     },
     "execution_count": 58,
     "metadata": {},
     "output_type": "execute_result"
    }
   ],
   "source": [
    "a.add(9)\n",
    "a"
   ]
  },
  {
   "cell_type": "code",
   "execution_count": 60,
   "id": "05fb467b",
   "metadata": {},
   "outputs": [
    {
     "data": {
      "text/plain": [
       "{9, 12}"
      ]
     },
     "execution_count": 60,
     "metadata": {},
     "output_type": "execute_result"
    }
   ],
   "source": [
    "a.update([9,12])\n",
    "a"
   ]
  },
  {
   "cell_type": "code",
   "execution_count": 65,
   "id": "a59651f2",
   "metadata": {},
   "outputs": [
    {
     "data": {
      "text/plain": [
       "{0, 4, 7, 8, 9, 90}"
      ]
     },
     "execution_count": 65,
     "metadata": {},
     "output_type": "execute_result"
    }
   ],
   "source": [
    "a = {0,9,8,7,7,7,4}\n",
    "a.update([90])\n",
    "a"
   ]
  },
  {
   "cell_type": "code",
   "execution_count": 71,
   "id": "9c92b8f3",
   "metadata": {},
   "outputs": [
    {
     "data": {
      "text/plain": [
       "{0, 4, 7, 8, 9}"
      ]
     },
     "execution_count": 71,
     "metadata": {},
     "output_type": "execute_result"
    }
   ],
   "source": [
    "a.discard(767)\n",
    "a"
   ]
  },
  {
   "cell_type": "code",
   "execution_count": 73,
   "id": "d13d1c63",
   "metadata": {},
   "outputs": [
    {
     "ename": "KeyError",
     "evalue": "77",
     "output_type": "error",
     "traceback": [
      "\u001b[1;31m---------------------------------------------------------------------------\u001b[0m",
      "\u001b[1;31mKeyError\u001b[0m                                  Traceback (most recent call last)",
      "Input \u001b[1;32mIn [73]\u001b[0m, in \u001b[0;36m<cell line: 1>\u001b[1;34m()\u001b[0m\n\u001b[1;32m----> 1\u001b[0m \u001b[43ma\u001b[49m\u001b[38;5;241;43m.\u001b[39;49m\u001b[43mremove\u001b[49m\u001b[43m(\u001b[49m\u001b[38;5;241;43m77\u001b[39;49m\u001b[43m)\u001b[49m\n\u001b[0;32m      2\u001b[0m a\n",
      "\u001b[1;31mKeyError\u001b[0m: 77"
     ]
    }
   ],
   "source": [
    "a.remove(77)\n",
    "a"
   ]
  },
  {
   "cell_type": "markdown",
   "id": "68df2857",
   "metadata": {},
   "source": [
    "# functiones"
   ]
  },
  {
   "cell_type": "code",
   "execution_count": 91,
   "id": "ca738689",
   "metadata": {},
   "outputs": [],
   "source": [
    "def kumar(a):\n",
    "    if a%2==0:\n",
    "        print('even')\n",
    "    else:\n",
    "        print('odd')"
   ]
  },
  {
   "cell_type": "code",
   "execution_count": 92,
   "id": "f1457c06",
   "metadata": {},
   "outputs": [
    {
     "name": "stdout",
     "output_type": "stream",
     "text": [
      "even\n"
     ]
    }
   ],
   "source": [
    "kumar(90)"
   ]
  },
  {
   "cell_type": "code",
   "execution_count": 97,
   "id": "48ba245a",
   "metadata": {},
   "outputs": [
    {
     "name": "stdout",
     "output_type": "stream",
     "text": [
      "55\n",
      "566\n",
      "77\n",
      "88\n",
      "77\n",
      "77\n",
      "55\n",
      "44\n",
      "44\n",
      "4\n",
      "[55, 566, 77, 88, 77, 77, 55, 44, 44, 4]\n"
     ]
    }
   ],
   "source": [
    "c = []\n",
    "for i in range(10):\n",
    "    a = int(input())\n",
    "    c.append(a)\n",
    "print(c)"
   ]
  },
  {
   "cell_type": "code",
   "execution_count": 111,
   "id": "55b09b9a",
   "metadata": {},
   "outputs": [],
   "source": [
    "def vinay(a,b):\n",
    "    print(a+b)\n",
    "    "
   ]
  },
  {
   "cell_type": "code",
   "execution_count": 112,
   "id": "b92ddedf",
   "metadata": {},
   "outputs": [
    {
     "name": "stdout",
     "output_type": "stream",
     "text": [
      "57\n"
     ]
    }
   ],
   "source": [
    "vinay(12,45)"
   ]
  },
  {
   "cell_type": "code",
   "execution_count": null,
   "id": "16dad5ee",
   "metadata": {},
   "outputs": [],
   "source": []
  },
  {
   "cell_type": "code",
   "execution_count": 85,
   "id": "d804c70e",
   "metadata": {},
   "outputs": [],
   "source": []
  },
  {
   "cell_type": "code",
   "execution_count": 110,
   "id": "0cef1f6b",
   "metadata": {},
   "outputs": [
    {
     "ename": "TypeError",
     "evalue": "kamal() takes 0 positional arguments but 2 were given",
     "output_type": "error",
     "traceback": [
      "\u001b[1;31m---------------------------------------------------------------------------\u001b[0m",
      "\u001b[1;31mTypeError\u001b[0m                                 Traceback (most recent call last)",
      "Input \u001b[1;32mIn [110]\u001b[0m, in \u001b[0;36m<cell line: 1>\u001b[1;34m()\u001b[0m\n\u001b[1;32m----> 1\u001b[0m \u001b[43mkamal\u001b[49m\u001b[43m(\u001b[49m\u001b[43ma\u001b[49m\u001b[43m,\u001b[49m\u001b[43mb\u001b[49m\u001b[43m)\u001b[49m\n",
      "\u001b[1;31mTypeError\u001b[0m: kamal() takes 0 positional arguments but 2 were given"
     ]
    }
   ],
   "source": []
  },
  {
   "cell_type": "code",
   "execution_count": null,
   "id": "0bb3b1a8",
   "metadata": {},
   "outputs": [],
   "source": []
  },
  {
   "cell_type": "code",
   "execution_count": null,
   "id": "9d57a055",
   "metadata": {},
   "outputs": [],
   "source": []
  },
  {
   "cell_type": "code",
   "execution_count": null,
   "id": "c1432b86",
   "metadata": {},
   "outputs": [],
   "source": []
  },
  {
   "cell_type": "code",
   "execution_count": null,
   "id": "43a48431",
   "metadata": {},
   "outputs": [],
   "source": []
  },
  {
   "cell_type": "code",
   "execution_count": null,
   "id": "c044056b",
   "metadata": {},
   "outputs": [],
   "source": []
  },
  {
   "cell_type": "code",
   "execution_count": 1,
   "id": "31ca8efa",
   "metadata": {},
   "outputs": [
    {
     "name": "stdout",
     "output_type": "stream",
     "text": [
      "vk\n"
     ]
    }
   ],
   "source": [
    "print('vk')"
   ]
  },
  {
   "cell_type": "code",
   "execution_count": 4,
   "id": "a041561c",
   "metadata": {},
   "outputs": [
    {
     "name": "stdout",
     "output_type": "stream",
     "text": [
      "20.0\n"
     ]
    }
   ],
   "source": [
    "a = 100\n",
    "b = 5\n",
    "print(a/b)"
   ]
  },
  {
   "cell_type": "code",
   "execution_count": 1,
   "id": "7ed14159",
   "metadata": {},
   "outputs": [
    {
     "data": {
      "text/plain": [
       "4"
      ]
     },
     "execution_count": 1,
     "metadata": {},
     "output_type": "execute_result"
    }
   ],
   "source": [
    "a = int('4')\n",
    "(a)\n",
    "            "
   ]
  },
  {
   "cell_type": "code",
   "execution_count": 23,
   "id": "7af6ee4b",
   "metadata": {},
   "outputs": [
    {
     "name": "stdout",
     "output_type": "stream",
     "text": [
      "30\n",
      "fizz buzz\n"
     ]
    }
   ],
   "source": [
    "a = int(input())\n",
    "if a%3==0 and a%5==0:\n",
    "    print('fizz','buzz')\n",
    "elif  a%5==0:\n",
    "    print('buzz')\n",
    "    \n",
    "elif a%3==0:\n",
    "     print('fizz')\n",
    "\n",
    "\n"
   ]
  },
  {
   "cell_type": "code",
   "execution_count": 5,
   "id": "f2936413",
   "metadata": {},
   "outputs": [
    {
     "ename": "KeyboardInterrupt",
     "evalue": "Interrupted by user",
     "output_type": "error",
     "traceback": [
      "\u001b[1;31m---------------------------------------------------------------------------\u001b[0m",
      "\u001b[1;31mKeyboardInterrupt\u001b[0m                         Traceback (most recent call last)",
      "Input \u001b[1;32mIn [5]\u001b[0m, in \u001b[0;36m<cell line: 3>\u001b[1;34m()\u001b[0m\n\u001b[0;32m      1\u001b[0m \u001b[38;5;66;03m# prime number\u001b[39;00m\n\u001b[1;32m----> 3\u001b[0m a \u001b[38;5;241m=\u001b[39m \u001b[38;5;28mint\u001b[39m(\u001b[38;5;28;43minput\u001b[39;49m\u001b[43m(\u001b[49m\u001b[43m)\u001b[49m)\n\u001b[0;32m      4\u001b[0m count\u001b[38;5;241m=\u001b[39m \u001b[38;5;241m0\u001b[39m\n\u001b[0;32m      5\u001b[0m \u001b[38;5;28;01mfor\u001b[39;00m i \u001b[38;5;129;01min\u001b[39;00m \u001b[38;5;28mrange\u001b[39m(\u001b[38;5;241m1\u001b[39m,a\u001b[38;5;241m+\u001b[39m\u001b[38;5;241m1\u001b[39m):\n",
      "File \u001b[1;32m~\\anaconda3\\lib\\site-packages\\ipykernel\\kernelbase.py:1075\u001b[0m, in \u001b[0;36mKernel.raw_input\u001b[1;34m(self, prompt)\u001b[0m\n\u001b[0;32m   1071\u001b[0m \u001b[38;5;28;01mif\u001b[39;00m \u001b[38;5;129;01mnot\u001b[39;00m \u001b[38;5;28mself\u001b[39m\u001b[38;5;241m.\u001b[39m_allow_stdin:\n\u001b[0;32m   1072\u001b[0m     \u001b[38;5;28;01mraise\u001b[39;00m StdinNotImplementedError(\n\u001b[0;32m   1073\u001b[0m         \u001b[38;5;124m\"\u001b[39m\u001b[38;5;124mraw_input was called, but this frontend does not support input requests.\u001b[39m\u001b[38;5;124m\"\u001b[39m\n\u001b[0;32m   1074\u001b[0m     )\n\u001b[1;32m-> 1075\u001b[0m \u001b[38;5;28;01mreturn\u001b[39;00m \u001b[38;5;28;43mself\u001b[39;49m\u001b[38;5;241;43m.\u001b[39;49m\u001b[43m_input_request\u001b[49m\u001b[43m(\u001b[49m\n\u001b[0;32m   1076\u001b[0m \u001b[43m    \u001b[49m\u001b[38;5;28;43mstr\u001b[39;49m\u001b[43m(\u001b[49m\u001b[43mprompt\u001b[49m\u001b[43m)\u001b[49m\u001b[43m,\u001b[49m\n\u001b[0;32m   1077\u001b[0m \u001b[43m    \u001b[49m\u001b[38;5;28;43mself\u001b[39;49m\u001b[38;5;241;43m.\u001b[39;49m\u001b[43m_parent_ident\u001b[49m\u001b[43m[\u001b[49m\u001b[38;5;124;43m\"\u001b[39;49m\u001b[38;5;124;43mshell\u001b[39;49m\u001b[38;5;124;43m\"\u001b[39;49m\u001b[43m]\u001b[49m\u001b[43m,\u001b[49m\n\u001b[0;32m   1078\u001b[0m \u001b[43m    \u001b[49m\u001b[38;5;28;43mself\u001b[39;49m\u001b[38;5;241;43m.\u001b[39;49m\u001b[43mget_parent\u001b[49m\u001b[43m(\u001b[49m\u001b[38;5;124;43m\"\u001b[39;49m\u001b[38;5;124;43mshell\u001b[39;49m\u001b[38;5;124;43m\"\u001b[39;49m\u001b[43m)\u001b[49m\u001b[43m,\u001b[49m\n\u001b[0;32m   1079\u001b[0m \u001b[43m    \u001b[49m\u001b[43mpassword\u001b[49m\u001b[38;5;241;43m=\u001b[39;49m\u001b[38;5;28;43;01mFalse\u001b[39;49;00m\u001b[43m,\u001b[49m\n\u001b[0;32m   1080\u001b[0m \u001b[43m\u001b[49m\u001b[43m)\u001b[49m\n",
      "File \u001b[1;32m~\\anaconda3\\lib\\site-packages\\ipykernel\\kernelbase.py:1120\u001b[0m, in \u001b[0;36mKernel._input_request\u001b[1;34m(self, prompt, ident, parent, password)\u001b[0m\n\u001b[0;32m   1117\u001b[0m             \u001b[38;5;28;01mbreak\u001b[39;00m\n\u001b[0;32m   1118\u001b[0m \u001b[38;5;28;01mexcept\u001b[39;00m \u001b[38;5;167;01mKeyboardInterrupt\u001b[39;00m:\n\u001b[0;32m   1119\u001b[0m     \u001b[38;5;66;03m# re-raise KeyboardInterrupt, to truncate traceback\u001b[39;00m\n\u001b[1;32m-> 1120\u001b[0m     \u001b[38;5;28;01mraise\u001b[39;00m \u001b[38;5;167;01mKeyboardInterrupt\u001b[39;00m(\u001b[38;5;124m\"\u001b[39m\u001b[38;5;124mInterrupted by user\u001b[39m\u001b[38;5;124m\"\u001b[39m) \u001b[38;5;28;01mfrom\u001b[39;00m \u001b[38;5;28mNone\u001b[39m\n\u001b[0;32m   1121\u001b[0m \u001b[38;5;28;01mexcept\u001b[39;00m \u001b[38;5;167;01mException\u001b[39;00m:\n\u001b[0;32m   1122\u001b[0m     \u001b[38;5;28mself\u001b[39m\u001b[38;5;241m.\u001b[39mlog\u001b[38;5;241m.\u001b[39mwarning(\u001b[38;5;124m\"\u001b[39m\u001b[38;5;124mInvalid Message:\u001b[39m\u001b[38;5;124m\"\u001b[39m, exc_info\u001b[38;5;241m=\u001b[39m\u001b[38;5;28;01mTrue\u001b[39;00m)\n",
      "\u001b[1;31mKeyboardInterrupt\u001b[0m: Interrupted by user"
     ]
    }
   ],
   "source": [
    "# prime number\n",
    "\n",
    "a = int(input())\n",
    "count= 0\n",
    "for i in range(1,a+1):\n",
    "    if a%i==0:\n",
    "        count= count+1\n",
    "if count==2:\n",
    "    print(i,'prime number')\n",
    "else:\n",
    "    print(i,'not a prime number')\n"
   ]
  },
  {
   "cell_type": "code",
   "execution_count": 7,
   "id": "2be6eb09",
   "metadata": {},
   "outputs": [
    {
     "data": {
      "text/plain": [
       "3"
      ]
     },
     "execution_count": 7,
     "metadata": {},
     "output_type": "execute_result"
    }
   ],
   "source": [
    "153%10\n"
   ]
  },
  {
   "cell_type": "code",
   "execution_count": 8,
   "id": "554ece94",
   "metadata": {},
   "outputs": [
    {
     "data": {
      "text/plain": [
       "15"
      ]
     },
     "execution_count": 8,
     "metadata": {},
     "output_type": "execute_result"
    }
   ],
   "source": [
    "153//10"
   ]
  },
  {
   "cell_type": "code",
   "execution_count": null,
   "id": "9c17aee3",
   "metadata": {},
   "outputs": [],
   "source": [
    "# factorial\n",
    "a = int(input())\n",
    "sum=0\n",
    "while a>0:\n",
    "    sum= a%10"
   ]
  },
  {
   "cell_type": "code",
   "execution_count": 18,
   "id": "5274ff64",
   "metadata": {},
   "outputs": [
    {
     "name": "stdout",
     "output_type": "stream",
     "text": [
      "12\n"
     ]
    }
   ],
   "source": [
    "a=12\n",
    "print(a)"
   ]
  },
  {
   "cell_type": "code",
   "execution_count": 19,
   "id": "bd1e7796",
   "metadata": {},
   "outputs": [
    {
     "data": {
      "text/plain": [
       "int"
      ]
     },
     "execution_count": 19,
     "metadata": {},
     "output_type": "execute_result"
    }
   ],
   "source": [
    "c=54\n",
    "type(c)"
   ]
  },
  {
   "cell_type": "code",
   "execution_count": 20,
   "id": "eb915da6",
   "metadata": {},
   "outputs": [],
   "source": [
    "# i am a data scientist"
   ]
  },
  {
   "cell_type": "raw",
   "id": "9f49177c",
   "metadata": {},
   "source": [
    "i am good boy"
   ]
  },
  {
   "cell_type": "code",
   "execution_count": 25,
   "id": "f4e869ab",
   "metadata": {},
   "outputs": [],
   "source": [
    "import numpy\n"
   ]
  },
  {
   "cell_type": "code",
   "execution_count": 24,
   "id": "888528d7",
   "metadata": {},
   "outputs": [
    {
     "data": {
      "text/plain": [
       "5"
      ]
     },
     "execution_count": 24,
     "metadata": {},
     "output_type": "execute_result"
    }
   ],
   "source": [
    "145%10"
   ]
  },
  {
   "cell_type": "code",
   "execution_count": 23,
   "id": "35e4050a",
   "metadata": {},
   "outputs": [
    {
     "data": {
      "text/plain": [
       "14"
      ]
     },
     "execution_count": 23,
     "metadata": {},
     "output_type": "execute_result"
    }
   ],
   "source": [
    "145//10"
   ]
  },
  {
   "cell_type": "code",
   "execution_count": 35,
   "id": "0c3ccd3a",
   "metadata": {},
   "outputs": [
    {
     "name": "stdout",
     "output_type": "stream",
     "text": [
      "vnay\n",
      "not a palindrome\n"
     ]
    }
   ],
   "source": [
    "a= input()\n",
    "if a == a[::-1]:\n",
    "    print('its a palindrome')\n",
    "else:\n",
    "    print('not a palindrome')\n",
    "\n",
    "        \n",
    "        \n",
    "    "
   ]
  },
  {
   "cell_type": "code",
   "execution_count": 17,
   "id": "33d2f0ba",
   "metadata": {},
   "outputs": [
    {
     "name": "stdout",
     "output_type": "stream",
     "text": [
      "2 3 5 7 11 13 17 19 23 29 31 37 41 43 47 53 59 61 67 71 73 79 83 89 97 "
     ]
    }
   ],
   "source": [
    "for i in range(1,101):\n",
    "    count=0\n",
    "    for j in range(1,1+i):\n",
    "        if i%j==0:\n",
    "            count= count+1\n",
    "    if count==2:\n",
    "        print(i,end=' ')"
   ]
  },
  {
   "cell_type": "code",
   "execution_count": null,
   "id": "19683df8",
   "metadata": {},
   "outputs": [],
   "source": []
  },
  {
   "cell_type": "code",
   "execution_count": null,
   "id": "b5b028fb",
   "metadata": {},
   "outputs": [],
   "source": []
  },
  {
   "cell_type": "code",
   "execution_count": 16,
   "id": "390610e8",
   "metadata": {},
   "outputs": [
    {
     "name": "stdout",
     "output_type": "stream",
     "text": [
      "9\n",
      "9 not a prime\n"
     ]
    }
   ],
   "source": [
    "n = int(input())\n",
    "count=0\n",
    "for i in range(1,n+1):\n",
    "    if n%i==0:\n",
    "        count= count+1\n",
    "if count==2:\n",
    "    print(n,'prime')\n",
    "else:\n",
    "    print(n,'not a prime')"
   ]
  },
  {
   "cell_type": "markdown",
   "id": "59891ba1",
   "metadata": {},
   "source": [
    "# i am vinay "
   ]
  },
  {
   "cell_type": "code",
   "execution_count": 21,
   "id": "382d82a6",
   "metadata": {},
   "outputs": [],
   "source": [
    "# 12 integer [int]\n",
    "# 12.5 float[float]\n",
    "# vinay strings[str]"
   ]
  },
  {
   "cell_type": "code",
   "execution_count": 31,
   "id": "08d9e147",
   "metadata": {},
   "outputs": [
    {
     "name": "stdout",
     "output_type": "stream",
     "text": [
      "kamal\n"
     ]
    }
   ],
   "source": [
    "a='kamal'\n",
    "print(a)"
   ]
  },
  {
   "cell_type": "code",
   "execution_count": 23,
   "id": "aaacb99d",
   "metadata": {},
   "outputs": [],
   "source": [
    "# first of all i am going to learn about syntax \n",
    "#  print condition \n",
    "#  [] square bracket \n",
    "#  {} flower bracket \n",
    "#  () paranthesis \n"
   ]
  },
  {
   "cell_type": "code",
   "execution_count": 24,
   "id": "70590330",
   "metadata": {},
   "outputs": [
    {
     "name": "stdout",
     "output_type": "stream",
     "text": [
      "kiran\n"
     ]
    }
   ],
   "source": [
    "# print condition \n",
    "print ('kiran')"
   ]
  },
  {
   "cell_type": "markdown",
   "id": "6be5bdbc",
   "metadata": {},
   "source": [
    "# data types and vareiables "
   ]
  },
  {
   "cell_type": "code",
   "execution_count": 4,
   "id": "ebad73a5",
   "metadata": {},
   "outputs": [
    {
     "name": "stdout",
     "output_type": "stream",
     "text": [
      "7\n",
      "7 prime\n"
     ]
    }
   ],
   "source": [
    "a = int(input())\n",
    "count=0\n",
    "for i in range(1,a+1):\n",
    "    if a%i==0:\n",
    "        count=count+1\n",
    "if count==2:\n",
    "    print(i,'prime')\n",
    "else:\n",
    "    print(i,'not a prime')"
   ]
  },
  {
   "cell_type": "code",
   "execution_count": 12,
   "id": "818621d8",
   "metadata": {},
   "outputs": [
    {
     "name": "stdout",
     "output_type": "stream",
     "text": [
      "vinaykumar\n",
      "{'v': 1, 'i': 1, 'n': 1, 'a': 2, 'y': 1, 'k': 1, 'u': 1, 'm': 1, 'r': 1}\n"
     ]
    }
   ],
   "source": [
    "a = input() #vinay\n",
    "f = {}\n",
    "b = 0\n",
    "for i in a:\n",
    "    count=0\n",
    "    for j in a:\n",
    "        if i==j:\n",
    "            count=count+1\n",
    "    f[i]=count\n",
    "print(f)\n",
    "\n",
    "    \n",
    "    \n"
   ]
  },
  {
   "cell_type": "code",
   "execution_count": null,
   "id": "df188cfd",
   "metadata": {},
   "outputs": [],
   "source": []
  },
  {
   "cell_type": "code",
   "execution_count": 33,
   "id": "6a267a6e",
   "metadata": {
    "collapsed": true
   },
   "outputs": [
    {
     "name": "stdout",
     "output_type": "stream",
     "text": [
      "1\n",
      "2\n",
      "3\n",
      "4\n",
      "5\n",
      "[1, 2, 3, 4, 5]\n",
      "15\n",
      "3.0\n"
     ]
    }
   ],
   "source": [
    "a = []\n",
    "\n",
    "for i in range(5):\n",
    "    a.append(int(input()))\n",
    "print(a)\n",
    "k = 0\n",
    "for j in a:\n",
    "    k = k+j\n",
    "print(k)\n",
    "c = k / len(a)\n",
    "print(c)\n"
   ]
  },
  {
   "cell_type": "code",
   "execution_count": 56,
   "id": "e233cfb8",
   "metadata": {},
   "outputs": [
    {
     "name": "stdout",
     "output_type": "stream",
     "text": [
      "noon\n",
      "ok\n"
     ]
    }
   ],
   "source": [
    "a = input()  \n",
    "b = a[::-1]\n",
    "if a ==b:\n",
    "    print('ok')\n",
    "else:\n",
    "    print('not ok')\n",
    "\n",
    "    \n"
   ]
  },
  {
   "cell_type": "code",
   "execution_count": 43,
   "id": "f20ef3e0",
   "metadata": {},
   "outputs": [
    {
     "name": "stdout",
     "output_type": "stream",
     "text": [
      "123\n",
      "6\n"
     ]
    }
   ],
   "source": [
    "a = int(input())\n",
    "k = 0\n",
    "while a>0:\n",
    "    l = a%10\n",
    "    k =  k+l\n",
    "    a = a//10\n",
    "print(k)\n",
    "    \n",
    "    "
   ]
  },
  {
   "cell_type": "code",
   "execution_count": 36,
   "id": "ffeb6b02",
   "metadata": {},
   "outputs": [
    {
     "name": "stdout",
     "output_type": "stream",
     "text": [
      "1234\n",
      "4321\n"
     ]
    }
   ],
   "source": [
    "# given integer in reverse manner\n",
    "a = int(input())\n",
    "b = str(a)\n",
    "print(int(b[::-1]))"
   ]
  },
  {
   "cell_type": "markdown",
   "id": "d9db640e",
   "metadata": {},
   "source": [
    "## b = int(input())\n",
    "h = int(input())\n",
    "c = 1/2*(b*h)\n",
    "print(c)"
   ]
  },
  {
   "cell_type": "code",
   "execution_count": 8,
   "id": "2bc1f0ae",
   "metadata": {},
   "outputs": [
    {
     "name": "stdout",
     "output_type": "stream",
     "text": [
      "19\n",
      "odd\n"
     ]
    }
   ],
   "source": [
    "a = int(input())\n",
    "if a%2==0:\n",
    "    print('even')\n",
    "else:\n",
    "    print('odd')"
   ]
  },
  {
   "cell_type": "code",
   "execution_count": 7,
   "id": "e726f1d3",
   "metadata": {
    "scrolled": true
   },
   "outputs": [
    {
     "name": "stdout",
     "output_type": "stream",
     "text": [
      "8\n",
      "\n",
      "<class 'int'>\n"
     ]
    }
   ],
   "source": [
    "a  = 3\n",
    "b  = 5\n",
    "c  = a+b\n",
    "print(c)\n",
    "print()\n",
    "print(type(c))"
   ]
  },
  {
   "cell_type": "code",
   "execution_count": 5,
   "id": "997d9c54",
   "metadata": {},
   "outputs": [
    {
     "name": "stdout",
     "output_type": "stream",
     "text": [
      "5\n",
      "120\n"
     ]
    }
   ],
   "source": [
    "a = int(input())\n",
    "b = 1\n",
    "for i in range(1,a+1):\n",
    "    b=b*i\n",
    "print(b)\n",
    "    "
   ]
  },
  {
   "cell_type": "code",
   "execution_count": 25,
   "id": "fd8e97cf",
   "metadata": {},
   "outputs": [],
   "source": [
    "# 12=integer (int)\n",
    "# 15.5=float (float)\n",
    "# vinay=strings (str)"
   ]
  },
  {
   "cell_type": "code",
   "execution_count": 26,
   "id": "5c5ce987",
   "metadata": {},
   "outputs": [],
   "source": [
    "# a=12\n",
    "# here a is variable and 12 is variable value \n",
    "#"
   ]
  },
  {
   "cell_type": "code",
   "execution_count": 27,
   "id": "462419c1",
   "metadata": {
    "scrolled": true
   },
   "outputs": [
    {
     "data": {
      "text/plain": [
       "str"
      ]
     },
     "execution_count": 27,
     "metadata": {},
     "output_type": "execute_result"
    }
   ],
   "source": [
    "c='siva'\n",
    "type(c)"
   ]
  },
  {
   "cell_type": "code",
   "execution_count": 28,
   "id": "be9fbf44",
   "metadata": {},
   "outputs": [
    {
     "name": "stdout",
     "output_type": "stream",
     "text": [
      "12\n"
     ]
    }
   ],
   "source": [
    "a=12\n",
    "print(a)"
   ]
  },
  {
   "cell_type": "code",
   "execution_count": 29,
   "id": "797bb227",
   "metadata": {},
   "outputs": [
    {
     "name": "stdout",
     "output_type": "stream",
     "text": [
      "vinay\n"
     ]
    }
   ],
   "source": [
    "c='vinay'\n",
    "print(c)"
   ]
  },
  {
   "cell_type": "markdown",
   "id": "40594505",
   "metadata": {},
   "source": [
    "# i am a learner "
   ]
  },
  {
   "cell_type": "raw",
   "id": "a35dc584",
   "metadata": {},
   "source": [
    "now i am learning "
   ]
  },
  {
   "cell_type": "code",
   "execution_count": 1,
   "id": "a9721b20",
   "metadata": {},
   "outputs": [],
   "source": [
    "# markdown is for headings \n",
    "# raw NBconvert is for normal line "
   ]
  },
  {
   "cell_type": "code",
   "execution_count": 1,
   "id": "40a8ccb5",
   "metadata": {},
   "outputs": [
    {
     "data": {
      "text/plain": [
       "()"
      ]
     },
     "execution_count": 1,
     "metadata": {},
     "output_type": "execute_result"
    }
   ],
   "source": [
    "# syntax \n",
    "[]\n",
    "{}\n",
    "()\n"
   ]
  },
  {
   "cell_type": "code",
   "execution_count": 2,
   "id": "2aa14b8f",
   "metadata": {},
   "outputs": [
    {
     "name": "stdout",
     "output_type": "stream",
     "text": [
      "12\n",
      "\n"
     ]
    },
    {
     "data": {
      "text/plain": [
       "int"
      ]
     },
     "execution_count": 2,
     "metadata": {},
     "output_type": "execute_result"
    }
   ],
   "source": [
    "a = 12\n",
    "print(a)\n",
    "print()\n",
    "type(a)"
   ]
  },
  {
   "cell_type": "code",
   "execution_count": 3,
   "id": "d82c498b",
   "metadata": {},
   "outputs": [],
   "source": [
    "# variable values\n",
    "# variable cannot start with a number \n",
    "# no white space in varaible names \n",
    "# use _instead \n",
    "# variable names are case sensotive \n",
    "# cabt use below symbols \n"
   ]
  },
  {
   "cell_type": "code",
   "execution_count": 4,
   "id": "c9f6689f",
   "metadata": {},
   "outputs": [],
   "source": [
    "# integer and float converts into strings but a string cannot convert into integer or float  "
   ]
  },
  {
   "cell_type": "code",
   "execution_count": 5,
   "id": "e3e21e9b",
   "metadata": {},
   "outputs": [],
   "source": [
    "# if it is text it wont convert if it is name it will conevrt "
   ]
  },
  {
   "cell_type": "markdown",
   "id": "f238affc",
   "metadata": {},
   "source": [
    "# complete print condition "
   ]
  },
  {
   "cell_type": "code",
   "execution_count": 6,
   "id": "93cac5f9",
   "metadata": {},
   "outputs": [],
   "source": [
    "#  first technique = ,"
   ]
  },
  {
   "cell_type": "code",
   "execution_count": 7,
   "id": "11d325f2",
   "metadata": {},
   "outputs": [],
   "source": [
    "# second techique=  +  (it can only convert  strings)\n"
   ]
  },
  {
   "cell_type": "code",
   "execution_count": 8,
   "id": "57de5560",
   "metadata": {},
   "outputs": [],
   "source": [
    "# third technique = using d types "
   ]
  },
  {
   "cell_type": "code",
   "execution_count": 1,
   "id": "be08e2d3",
   "metadata": {},
   "outputs": [],
   "source": [
    "# ing"
   ]
  },
  {
   "cell_type": "code",
   "execution_count": 2,
   "id": "b5439cce",
   "metadata": {},
   "outputs": [
    {
     "name": "stdout",
     "output_type": "stream",
     "text": [
      "12\n"
     ]
    }
   ],
   "source": [
    "sai_kamal=12\n",
    "print(sai_kamal)"
   ]
  },
  {
   "cell_type": "code",
   "execution_count": 4,
   "id": "040b55fe",
   "metadata": {},
   "outputs": [
    {
     "name": "stdout",
     "output_type": "stream",
     "text": [
      "12\n",
      "\n",
      "<class 'int'>\n"
     ]
    }
   ],
   "source": [
    "a = 12\n",
    "print(a)\n",
    "print()\n",
    "print(type(a))"
   ]
  },
  {
   "cell_type": "code",
   "execution_count": 5,
   "id": "516d0d29",
   "metadata": {},
   "outputs": [
    {
     "name": "stdout",
     "output_type": "stream",
     "text": [
      "12.0\n"
     ]
    }
   ],
   "source": [
    "a = 12\n",
    "b = float(a)\n",
    "print(b)"
   ]
  },
  {
   "cell_type": "code",
   "execution_count": 6,
   "id": "7cb3ddf7",
   "metadata": {},
   "outputs": [
    {
     "name": "stdout",
     "output_type": "stream",
     "text": [
      "12.5\n",
      "\n",
      "12\n"
     ]
    }
   ],
   "source": [
    "a = 12.5\n",
    "b = int(a)\n",
    "print(a)\n",
    "print()\n",
    "print(b)"
   ]
  },
  {
   "cell_type": "code",
   "execution_count": 8,
   "id": "c201f2f9",
   "metadata": {},
   "outputs": [
    {
     "name": "stdout",
     "output_type": "stream",
     "text": [
      "24\n",
      "\n"
     ]
    },
    {
     "data": {
      "text/plain": [
       "'24'"
      ]
     },
     "execution_count": 8,
     "metadata": {},
     "output_type": "execute_result"
    }
   ],
   "source": [
    "a =24 \n",
    "b = str(a)\n",
    "print(a)\n",
    "print()\n",
    "b"
   ]
  },
  {
   "cell_type": "code",
   "execution_count": 9,
   "id": "da686f46",
   "metadata": {},
   "outputs": [],
   "source": [
    "# complete print condition"
   ]
  },
  {
   "cell_type": "code",
   "execution_count": 11,
   "id": "adbda4e4",
   "metadata": {},
   "outputs": [
    {
     "name": "stdout",
     "output_type": "stream",
     "text": [
      "i am  vinay my age is 25\n"
     ]
    }
   ],
   "source": [
    "# first techinque using ,\n",
    "\n",
    "# i am viany my age is 25\n",
    "a = 'vinay'\n",
    "b = 25\n",
    "print('i am ',a,'my age is',b)"
   ]
  },
  {
   "cell_type": "code",
   "execution_count": 14,
   "id": "a7e63b55",
   "metadata": {},
   "outputs": [
    {
     "name": "stdout",
     "output_type": "stream",
     "text": [
      "my name is vinay and my age is 25\n"
     ]
    }
   ],
   "source": [
    "# second technique using +\n",
    "# my name is vinay and my age is 25\n",
    "a = '25'\n",
    "print('my name is vinay and my age is '+a)\n",
    "\n"
   ]
  },
  {
   "cell_type": "code",
   "execution_count": 22,
   "id": "0faa911c",
   "metadata": {},
   "outputs": [
    {
     "name": "stdout",
     "output_type": "stream",
     "text": [
      "my name is vinay and my age is 25\n"
     ]
    }
   ],
   "source": [
    "a = 'vinay'\n",
    "b = '25'\n",
    "print('my name is ' +a+  ' and my age is ' +b)"
   ]
  },
  {
   "cell_type": "code",
   "execution_count": 23,
   "id": "96f85094",
   "metadata": {},
   "outputs": [],
   "source": [
    "# third techinques using d types"
   ]
  },
  {
   "cell_type": "code",
   "execution_count": 24,
   "id": "ee1e02a8",
   "metadata": {},
   "outputs": [],
   "source": [
    "# int= %d\n",
    "# float=%f\n",
    "# string=%s"
   ]
  },
  {
   "cell_type": "code",
   "execution_count": 25,
   "id": "9acdb811",
   "metadata": {},
   "outputs": [
    {
     "name": "stdout",
     "output_type": "stream",
     "text": [
      "my name is siva i am 25\n"
     ]
    }
   ],
   "source": [
    "# my name is siva i am 25\n",
    "a = 'siva'\n",
    "b = 25\n",
    "print('my name is %s i am %d'%(a,b))\n"
   ]
  },
  {
   "cell_type": "code",
   "execution_count": 28,
   "id": "99d4f702",
   "metadata": {},
   "outputs": [
    {
     "name": "stdout",
     "output_type": "stream",
     "text": [
      "siva\n",
      "kamal\n"
     ]
    }
   ],
   "source": [
    "print('siva\\nkamal')"
   ]
  },
  {
   "cell_type": "code",
   "execution_count": 29,
   "id": "3cdde106",
   "metadata": {},
   "outputs": [
    {
     "name": "stdout",
     "output_type": "stream",
     "text": [
      "siva\tkamal\n"
     ]
    }
   ],
   "source": [
    "print('siva\\tkamal')"
   ]
  },
  {
   "cell_type": "code",
   "execution_count": 30,
   "id": "45ab4980",
   "metadata": {},
   "outputs": [
    {
     "name": "stdout",
     "output_type": "stream",
     "text": [
      "n\n"
     ]
    }
   ],
   "source": [
    "# strings \n",
    "a = 'vinay'\n",
    "print(a[2])"
   ]
  },
  {
   "cell_type": "code",
   "execution_count": 33,
   "id": "bf90d1ff",
   "metadata": {},
   "outputs": [
    {
     "name": "stdout",
     "output_type": "stream",
     "text": [
      " dhfldskfjhkf\n",
      "fvdsfhdsjkfsd\n",
      "jhgfjdsfhsdjfcn\n",
      "jfbdsjfhdasjf'\n",
      " \n"
     ]
    }
   ],
   "source": [
    "print(\"\"\" dhfldskfjhkf\n",
    "fvdsfhdsjkfsd\n",
    "jhgfjdsfhsdjfcn\n",
    "jfbdsjfhdasjf'\n",
    " \"\"\")"
   ]
  },
  {
   "cell_type": "code",
   "execution_count": 35,
   "id": "440095fd",
   "metadata": {},
   "outputs": [
    {
     "name": "stdout",
     "output_type": "stream",
     "text": [
      "vinay\n"
     ]
    }
   ],
   "source": [
    "a = 'vinaykumar'      # n-1\n",
    "print(a[0:5]) "
   ]
  },
  {
   "cell_type": "code",
   "execution_count": 36,
   "id": "64101ad8",
   "metadata": {},
   "outputs": [
    {
     "name": "stdout",
     "output_type": "stream",
     "text": [
      "va\n"
     ]
    }
   ],
   "source": [
    "print(a[0:5:3])"
   ]
  },
  {
   "cell_type": "code",
   "execution_count": 38,
   "id": "190a46f6",
   "metadata": {
    "collapsed": true
   },
   "outputs": [
    {
     "name": "stdout",
     "output_type": "stream",
     "text": [
      "vinaykumar\n"
     ]
    }
   ],
   "source": [
    " print(a[:])"
   ]
  },
  {
   "cell_type": "code",
   "execution_count": 41,
   "id": "230c57d6",
   "metadata": {},
   "outputs": [
    {
     "data": {
      "text/plain": [
       "102"
      ]
     },
     "execution_count": 41,
     "metadata": {},
     "output_type": "execute_result"
    }
   ],
   "source": [
    "ord('f')"
   ]
  },
  {
   "cell_type": "code",
   "execution_count": 42,
   "id": "2a86fa3a",
   "metadata": {},
   "outputs": [
    {
     "data": {
      "text/plain": [
       "'g'"
      ]
     },
     "execution_count": 42,
     "metadata": {},
     "output_type": "execute_result"
    }
   ],
   "source": [
    "chr(103)"
   ]
  },
  {
   "cell_type": "code",
   "execution_count": 1,
   "id": "7e7bbd22",
   "metadata": {},
   "outputs": [],
   "source": [
    "#  online class string"
   ]
  },
  {
   "cell_type": "markdown",
   "id": "7dcaf20c",
   "metadata": {},
   "source": [
    "# predefined functions or in built functions "
   ]
  },
  {
   "cell_type": "code",
   "execution_count": 117,
   "id": "38ed34c2",
   "metadata": {},
   "outputs": [
    {
     "name": "stdout",
     "output_type": "stream",
     "text": [
      "1\n",
      "2\n",
      "3\n",
      "4\n",
      "5\n",
      "6\n",
      "7\n",
      "8\n",
      "9\n",
      "10\n"
     ]
    }
   ],
   "source": [
    "# while loop\n",
    "x = 1\n",
    "while x<=10:\n",
    "    print(x)\n",
    "    x= x+1"
   ]
  },
  {
   "cell_type": "code",
   "execution_count": 118,
   "id": "a8670ead",
   "metadata": {},
   "outputs": [
    {
     "name": "stdout",
     "output_type": "stream",
     "text": [
      "1\n",
      "2\n",
      "3\n",
      "4\n",
      "5\n",
      "6\n"
     ]
    }
   ],
   "source": [
    "# break\n",
    "for i in range(1,11):\n",
    "    print(i)\n",
    "    if i==6:\n",
    "        break"
   ]
  },
  {
   "cell_type": "code",
   "execution_count": 122,
   "id": "5ba390d3",
   "metadata": {},
   "outputs": [
    {
     "name": "stdout",
     "output_type": "stream",
     "text": [
      "1* 2* 3* 5* 6* 7* 8* 9* 10* "
     ]
    }
   ],
   "source": [
    "for i in range(1,11):\n",
    "    if i==4:\n",
    "        continue\n",
    "    print(i,end ='* ')"
   ]
  },
  {
   "cell_type": "code",
   "execution_count": 124,
   "id": "d1bc2672",
   "metadata": {},
   "outputs": [
    {
     "name": "stdout",
     "output_type": "stream",
     "text": [
      "value of a is 10and value 20\n"
     ]
    }
   ],
   "source": [
    "a = 10\n",
    "b = 20\n",
    "print(f'value of a is {a}and value {b}')"
   ]
  },
  {
   "cell_type": "code",
   "execution_count": null,
   "id": "41a37b4f",
   "metadata": {},
   "outputs": [],
   "source": []
  },
  {
   "cell_type": "code",
   "execution_count": null,
   "id": "f0b02138",
   "metadata": {},
   "outputs": [],
   "source": []
  },
  {
   "cell_type": "code",
   "execution_count": null,
   "id": "22d366db",
   "metadata": {},
   "outputs": [],
   "source": []
  },
  {
   "cell_type": "code",
   "execution_count": null,
   "id": "53f77960",
   "metadata": {},
   "outputs": [],
   "source": []
  },
  {
   "cell_type": "code",
   "execution_count": null,
   "id": "b5723326",
   "metadata": {},
   "outputs": [],
   "source": []
  },
  {
   "cell_type": "code",
   "execution_count": null,
   "id": "746a90fc",
   "metadata": {},
   "outputs": [],
   "source": []
  },
  {
   "cell_type": "code",
   "execution_count": null,
   "id": "1c06e32d",
   "metadata": {},
   "outputs": [],
   "source": []
  },
  {
   "cell_type": "code",
   "execution_count": null,
   "id": "9b75ff46",
   "metadata": {},
   "outputs": [],
   "source": []
  },
  {
   "cell_type": "code",
   "execution_count": null,
   "id": "a09ec097",
   "metadata": {},
   "outputs": [],
   "source": []
  },
  {
   "cell_type": "code",
   "execution_count": null,
   "id": "33186440",
   "metadata": {},
   "outputs": [],
   "source": []
  },
  {
   "cell_type": "code",
   "execution_count": null,
   "id": "cf53a592",
   "metadata": {},
   "outputs": [],
   "source": []
  },
  {
   "cell_type": "code",
   "execution_count": null,
   "id": "53089d97",
   "metadata": {},
   "outputs": [],
   "source": []
  },
  {
   "cell_type": "code",
   "execution_count": 114,
   "id": "38d6e11d",
   "metadata": {},
   "outputs": [
    {
     "name": "stdout",
     "output_type": "stream",
     "text": [
      "[('vinay', 'venu'), ('siva', 'ink'), ('murali', 'link')]\n"
     ]
    }
   ],
   "source": [
    "x = ['vinay','siva','murali']\n",
    "y = ['venu','ink','link']\n",
    "c = zip(x,y)\n",
    "print(list(c))"
   ]
  },
  {
   "cell_type": "code",
   "execution_count": 115,
   "id": "54577635",
   "metadata": {},
   "outputs": [
    {
     "name": "stdout",
     "output_type": "stream",
     "text": [
      "0 100\n",
      "1 200\n",
      "2 300\n",
      "3 400\n"
     ]
    }
   ],
   "source": [
    "a = [100,200,300,400]\n",
    "for i,j in enumerate(a):\n",
    "    print(i,j)"
   ]
  },
  {
   "cell_type": "code",
   "execution_count": 116,
   "id": "efa1d6a6",
   "metadata": {},
   "outputs": [
    {
     "data": {
      "text/plain": [
       "<enumerate at 0x20b7b50b2c0>"
      ]
     },
     "execution_count": 116,
     "metadata": {},
     "output_type": "execute_result"
    }
   ],
   "source": []
  },
  {
   "cell_type": "code",
   "execution_count": null,
   "id": "e6d5141f",
   "metadata": {},
   "outputs": [],
   "source": []
  },
  {
   "cell_type": "code",
   "execution_count": null,
   "id": "f965553e",
   "metadata": {},
   "outputs": [],
   "source": []
  },
  {
   "cell_type": "code",
   "execution_count": null,
   "id": "0f0742b8",
   "metadata": {},
   "outputs": [],
   "source": []
  },
  {
   "cell_type": "code",
   "execution_count": null,
   "id": "52adfe63",
   "metadata": {},
   "outputs": [],
   "source": []
  },
  {
   "cell_type": "code",
   "execution_count": null,
   "id": "39fb122c",
   "metadata": {},
   "outputs": [],
   "source": []
  },
  {
   "cell_type": "code",
   "execution_count": null,
   "id": "eede4d64",
   "metadata": {},
   "outputs": [],
   "source": []
  },
  {
   "cell_type": "code",
   "execution_count": null,
   "id": "a008b562",
   "metadata": {},
   "outputs": [],
   "source": []
  },
  {
   "cell_type": "code",
   "execution_count": null,
   "id": "23504293",
   "metadata": {},
   "outputs": [],
   "source": []
  },
  {
   "cell_type": "code",
   "execution_count": null,
   "id": "4e0547a4",
   "metadata": {},
   "outputs": [],
   "source": []
  },
  {
   "cell_type": "code",
   "execution_count": null,
   "id": "7a41a22e",
   "metadata": {},
   "outputs": [],
   "source": []
  },
  {
   "cell_type": "code",
   "execution_count": null,
   "id": "6144d982",
   "metadata": {},
   "outputs": [],
   "source": []
  },
  {
   "cell_type": "code",
   "execution_count": 2,
   "id": "62b04008",
   "metadata": {},
   "outputs": [
    {
     "data": {
      "text/plain": [
       "'Data science'"
      ]
     },
     "execution_count": 2,
     "metadata": {},
     "output_type": "execute_result"
    }
   ],
   "source": [
    "# \n",
    "a = 'data science'\n",
    "a.capitalize()"
   ]
  },
  {
   "cell_type": "code",
   "execution_count": 3,
   "id": "102e8de1",
   "metadata": {},
   "outputs": [
    {
     "ename": "TypeError",
     "evalue": "count() takes at least 1 argument (0 given)",
     "output_type": "error",
     "traceback": [
      "\u001b[1;31m---------------------------------------------------------------------------\u001b[0m",
      "\u001b[1;31mTypeError\u001b[0m                                 Traceback (most recent call last)",
      "Input \u001b[1;32mIn [3]\u001b[0m, in \u001b[0;36m<cell line: 1>\u001b[1;34m()\u001b[0m\n\u001b[1;32m----> 1\u001b[0m \u001b[43ma\u001b[49m\u001b[38;5;241;43m.\u001b[39;49m\u001b[43mcount\u001b[49m\u001b[43m(\u001b[49m\u001b[43m)\u001b[49m\n",
      "\u001b[1;31mTypeError\u001b[0m: count() takes at least 1 argument (0 given)"
     ]
    }
   ],
   "source": [
    " "
   ]
  },
  {
   "cell_type": "markdown",
   "id": "4aae1e5a",
   "metadata": {},
   "source": [
    " # pre defined function"
   ]
  },
  {
   "cell_type": "code",
   "execution_count": 1,
   "id": "1b2efa87",
   "metadata": {},
   "outputs": [],
   "source": [
    "# capitalize \n",
    "# count \n",
    "# endswith\n",
    "# isalnum\n",
    "# isalpha\n",
    "# isdecimal\n",
    "# isdigit\n",
    "# islower\n",
    "# isupper\n",
    "# upper \n",
    "# title\n",
    "# replace\n",
    "# startswith\n",
    "# swapcase"
   ]
  },
  {
   "cell_type": "code",
   "execution_count": 2,
   "id": "8b0f2386",
   "metadata": {},
   "outputs": [
    {
     "data": {
      "text/plain": [
       "'Swetha'"
      ]
     },
     "execution_count": 2,
     "metadata": {},
     "output_type": "execute_result"
    }
   ],
   "source": [
    "# \n",
    "a = 'swetha'\n",
    "a.capitalize()"
   ]
  },
  {
   "cell_type": "code",
   "execution_count": 6,
   "id": "80442485",
   "metadata": {},
   "outputs": [
    {
     "data": {
      "text/plain": [
       "1"
      ]
     },
     "execution_count": 6,
     "metadata": {},
     "output_type": "execute_result"
    }
   ],
   "source": [
    "\n",
    "a = 'vinay'\n",
    "a.count('i')"
   ]
  },
  {
   "cell_type": "code",
   "execution_count": 7,
   "id": "caba6f5c",
   "metadata": {},
   "outputs": [
    {
     "data": {
      "text/plain": [
       "True"
      ]
     },
     "execution_count": 7,
     "metadata": {},
     "output_type": "execute_result"
    }
   ],
   "source": [
    "\n",
    "a = 'siva'\n",
    "a.startswith('s')"
   ]
  },
  {
   "cell_type": "code",
   "execution_count": 9,
   "id": "a7297ce0",
   "metadata": {},
   "outputs": [
    {
     "data": {
      "text/plain": [
       "True"
      ]
     },
     "execution_count": 9,
     "metadata": {},
     "output_type": "execute_result"
    }
   ],
   "source": [
    "a = 'vinay'\n",
    "a. endswith('y')"
   ]
  },
  {
   "cell_type": "code",
   "execution_count": 11,
   "id": "123fa337",
   "metadata": {},
   "outputs": [
    {
     "data": {
      "text/plain": [
       "3"
      ]
     },
     "execution_count": 11,
     "metadata": {},
     "output_type": "execute_result"
    }
   ],
   "source": [
    "a = '324322'\n",
    "a.count('2')"
   ]
  },
  {
   "cell_type": "code",
   "execution_count": 12,
   "id": "484f08be",
   "metadata": {},
   "outputs": [
    {
     "data": {
      "text/plain": [
       "True"
      ]
     },
     "execution_count": 12,
     "metadata": {},
     "output_type": "execute_result"
    }
   ],
   "source": [
    "a = 'raja'\n",
    "a.isalpha()"
   ]
  },
  {
   "cell_type": "code",
   "execution_count": 13,
   "id": "b31fcfd9",
   "metadata": {},
   "outputs": [
    {
     "data": {
      "text/plain": [
       "False"
      ]
     },
     "execution_count": 13,
     "metadata": {},
     "output_type": "execute_result"
    }
   ],
   "source": [
    "a = \"vinay123\"\n",
    "a.isalpha()"
   ]
  },
  {
   "cell_type": "code",
   "execution_count": 15,
   "id": "2fdd868e",
   "metadata": {},
   "outputs": [
    {
     "data": {
      "text/plain": [
       "True"
      ]
     },
     "execution_count": 15,
     "metadata": {},
     "output_type": "execute_result"
    }
   ],
   "source": [
    "a = '576756'\n",
    "a.isdigit()"
   ]
  },
  {
   "cell_type": "code",
   "execution_count": 16,
   "id": "df4b373f",
   "metadata": {},
   "outputs": [],
   "source": [
    "# no space should taken in middle"
   ]
  },
  {
   "cell_type": "code",
   "execution_count": 18,
   "id": "cbfd1712",
   "metadata": {},
   "outputs": [
    {
     "data": {
      "text/plain": [
       "True"
      ]
     },
     "execution_count": 18,
     "metadata": {},
     "output_type": "execute_result"
    }
   ],
   "source": [
    "a = 'ramesh'\n",
    "a.isalnum()"
   ]
  },
  {
   "cell_type": "code",
   "execution_count": 19,
   "id": "2b60993d",
   "metadata": {},
   "outputs": [
    {
     "data": {
      "text/plain": [
       "True"
      ]
     },
     "execution_count": 19,
     "metadata": {},
     "output_type": "execute_result"
    }
   ],
   "source": [
    "a = 'siva'\n",
    "a.isalnum()"
   ]
  },
  {
   "cell_type": "code",
   "execution_count": 20,
   "id": "73fc6666",
   "metadata": {},
   "outputs": [
    {
     "data": {
      "text/plain": [
       "'ramesh'"
      ]
     },
     "execution_count": 20,
     "metadata": {},
     "output_type": "execute_result"
    }
   ],
   "source": [
    "a = 'raMESH'\n",
    "a.lower()"
   ]
  },
  {
   "cell_type": "code",
   "execution_count": 22,
   "id": "29ea6288",
   "metadata": {},
   "outputs": [
    {
     "data": {
      "text/plain": [
       "'RAKHI'"
      ]
     },
     "execution_count": 22,
     "metadata": {},
     "output_type": "execute_result"
    }
   ],
   "source": [
    "a = 'rakHi'\n",
    "a.upper()"
   ]
  },
  {
   "cell_type": "code",
   "execution_count": 23,
   "id": "3a8a8c34",
   "metadata": {},
   "outputs": [
    {
     "data": {
      "text/plain": [
       "False"
      ]
     },
     "execution_count": 23,
     "metadata": {},
     "output_type": "execute_result"
    }
   ],
   "source": [
    "a = 'swapna'\n",
    "a.isupper()"
   ]
  },
  {
   "cell_type": "code",
   "execution_count": 27,
   "id": "c41bec2b",
   "metadata": {},
   "outputs": [
    {
     "data": {
      "text/plain": [
       "False"
      ]
     },
     "execution_count": 27,
     "metadata": {},
     "output_type": "execute_result"
    }
   ],
   "source": [
    "a = 'raVi'\n",
    "a.isupper()"
   ]
  },
  {
   "cell_type": "code",
   "execution_count": 28,
   "id": "a66d3332",
   "metadata": {},
   "outputs": [
    {
     "data": {
      "text/plain": [
       "'I Am Viany And My Age Is 25'"
      ]
     },
     "execution_count": 28,
     "metadata": {},
     "output_type": "execute_result"
    }
   ],
   "source": [
    "a = 'i am viany and my age is 25'\n",
    "a.title()"
   ]
  },
  {
   "cell_type": "code",
   "execution_count": 31,
   "id": "cd85dc63",
   "metadata": {},
   "outputs": [
    {
     "data": {
      "text/plain": [
       "'i am learning machine learning viany data learning'"
      ]
     },
     "execution_count": 31,
     "metadata": {},
     "output_type": "execute_result"
    }
   ],
   "source": [
    "# replace\n",
    "d = 'i am learning machine learning and data learning'\n",
    "d.replace('and','viany')"
   ]
  },
  {
   "cell_type": "code",
   "execution_count": 32,
   "id": "d0f0768c",
   "metadata": {},
   "outputs": [],
   "source": [
    "# formating technique\n"
   ]
  },
  {
   "cell_type": "code",
   "execution_count": 39,
   "id": "8fc4b981",
   "metadata": {},
   "outputs": [
    {
     "name": "stdout",
     "output_type": "stream",
     "text": [
      "this is viany\n"
     ]
    }
   ],
   "source": [
    "d = 'this is viany'\n",
    "print('this is {}'.format('viany'))"
   ]
  },
  {
   "cell_type": "code",
   "execution_count": 2,
   "id": "0fba9214",
   "metadata": {},
   "outputs": [
    {
     "name": "stdout",
     "output_type": "stream",
     "text": [
      "i am learning {a} and {b}\n"
     ]
    },
    {
     "ename": "AttributeError",
     "evalue": "'NoneType' object has no attribute 'format'",
     "output_type": "error",
     "traceback": [
      "\u001b[1;31m---------------------------------------------------------------------------\u001b[0m",
      "\u001b[1;31mAttributeError\u001b[0m                            Traceback (most recent call last)",
      "Input \u001b[1;32mIn [2]\u001b[0m, in \u001b[0;36m<cell line: 1>\u001b[1;34m()\u001b[0m\n\u001b[1;32m----> 1\u001b[0m \u001b[38;5;28;43mprint\u001b[39;49m\u001b[43m(\u001b[49m\u001b[38;5;124;43m'\u001b[39;49m\u001b[38;5;124;43mi am learning \u001b[39;49m\u001b[38;5;132;43;01m{a}\u001b[39;49;00m\u001b[38;5;124;43m'\u001b[39;49m\u001b[43m,\u001b[49m\u001b[38;5;124;43m'\u001b[39;49m\u001b[38;5;124;43mand \u001b[39;49m\u001b[38;5;132;43;01m{b}\u001b[39;49;00m\u001b[38;5;124;43m'\u001b[39;49m\u001b[43m)\u001b[49m\u001b[43m \u001b[49m\u001b[38;5;241;43m.\u001b[39;49m\u001b[43mformat\u001b[49m(a\u001b[38;5;241m=\u001b[39m \u001b[38;5;124m'\u001b[39m\u001b[38;5;124mvinay\u001b[39m\u001b[38;5;124m'\u001b[39m,b\u001b[38;5;241m=\u001b[39m \u001b[38;5;124m'\u001b[39m\u001b[38;5;124msiva\u001b[39m\u001b[38;5;124m'\u001b[39m)\n",
      "\u001b[1;31mAttributeError\u001b[0m: 'NoneType' object has no attribute 'format'"
     ]
    }
   ],
   "source": [
    "print('i am learning {a}','and {b}') .format(a= 'vinay',b= 'siva')"
   ]
  },
  {
   "cell_type": "code",
   "execution_count": 3,
   "id": "6b8f34ca",
   "metadata": {},
   "outputs": [
    {
     "ename": "NameError",
     "evalue": "name 's' is not defined",
     "output_type": "error",
     "traceback": [
      "\u001b[1;31m---------------------------------------------------------------------------\u001b[0m",
      "\u001b[1;31mNameError\u001b[0m                                 Traceback (most recent call last)",
      "Input \u001b[1;32mIn [3]\u001b[0m, in \u001b[0;36m<cell line: 1>\u001b[1;34m()\u001b[0m\n\u001b[1;32m----> 1\u001b[0m \u001b[38;5;28mprint\u001b[39m(\u001b[38;5;124m'\u001b[39m\u001b[38;5;124mi am learning \u001b[39m\u001b[38;5;132;01m{s}\u001b[39;00m\u001b[38;5;124m'\u001b[39m\u001b[38;5;241m.\u001b[39mformat(\u001b[43ms\u001b[49m,\u001b[38;5;124m'\u001b[39m\u001b[38;5;124msiva\u001b[39m\u001b[38;5;124m'\u001b[39m))\n",
      "\u001b[1;31mNameError\u001b[0m: name 's' is not defined"
     ]
    }
   ],
   "source": [
    "print('i am learning {s}'.format(s,'siva'))"
   ]
  },
  {
   "cell_type": "code",
   "execution_count": 12,
   "id": "937a275b",
   "metadata": {},
   "outputs": [
    {
     "name": "stdout",
     "output_type": "stream",
     "text": [
      "siva and viany are bestfriends\n"
     ]
    }
   ],
   "source": [
    "print('siva and viany are {}'.format('bestfriends'))"
   ]
  },
  {
   "cell_type": "code",
   "execution_count": 15,
   "id": "c86ddb94",
   "metadata": {},
   "outputs": [
    {
     "name": "stdout",
     "output_type": "stream",
     "text": [
      "vinay siva kiran are friends\n"
     ]
    }
   ],
   "source": [
    "# using ,\n",
    "a= 'vinay'\n",
    "b ='siva'\n",
    "c = 'kiran'\n",
    "print(a,b,c,'are friends')"
   ]
  },
  {
   "cell_type": "markdown",
   "id": "4f7994b7",
   "metadata": {},
   "source": [
    "# list"
   ]
  },
  {
   "cell_type": "code",
   "execution_count": 17,
   "id": "b563d7e9",
   "metadata": {},
   "outputs": [],
   "source": [
    "# list is mutable data strctures\n",
    "# it is denoted with -[]\n",
    "# it will accept any data type \n",
    "# if a string is in the () we cant change but if a string is in the [] we can change"
   ]
  },
  {
   "cell_type": "code",
   "execution_count": 18,
   "id": "22499954",
   "metadata": {},
   "outputs": [
    {
     "name": "stdout",
     "output_type": "stream",
     "text": [
      "[12, 13.4, 'datascience']\n"
     ]
    }
   ],
   "source": [
    "a =[12,13.4,'datascience']\n",
    "print(a)"
   ]
  },
  {
   "cell_type": "code",
   "execution_count": 19,
   "id": "153edbf5",
   "metadata": {},
   "outputs": [
    {
     "data": {
      "text/plain": [
       "list"
      ]
     },
     "execution_count": 19,
     "metadata": {},
     "output_type": "execute_result"
    }
   ],
   "source": [
    "type(a)"
   ]
  },
  {
   "cell_type": "code",
   "execution_count": 27,
   "id": "ba206378",
   "metadata": {},
   "outputs": [
    {
     "name": "stdout",
     "output_type": "stream",
     "text": [
      "12\n",
      "<class 'int'>\n",
      "13.4\n",
      "<class 'float'>\n",
      "datascience\n",
      "<class 'str'>\n"
     ]
    }
   ],
   "source": [
    "for i in a:\n",
    "    print(i)\n",
    "    print(type(i))\n",
    "  "
   ]
  },
  {
   "cell_type": "code",
   "execution_count": 30,
   "id": "3bdca4b8",
   "metadata": {},
   "outputs": [
    {
     "data": {
      "text/plain": [
       "'rwvo'"
      ]
     },
     "execution_count": 30,
     "metadata": {},
     "output_type": "execute_result"
    }
   ],
   "source": [
    "a = 'rwvo'\n",
    "(a)"
   ]
  },
  {
   "cell_type": "code",
   "execution_count": 32,
   "id": "b1464559",
   "metadata": {},
   "outputs": [
    {
     "data": {
      "text/plain": [
       "'rabo'"
      ]
     },
     "execution_count": 32,
     "metadata": {},
     "output_type": "execute_result"
    }
   ],
   "source": [
    "## index and slicing \n",
    "b = [12,232,'siva','rabo','kamal']\n",
    "(b[3])"
   ]
  },
  {
   "cell_type": "code",
   "execution_count": 49,
   "id": "b61cd785",
   "metadata": {},
   "outputs": [
    {
     "data": {
      "text/plain": [
       "['vinay', 12, 12.5, 5]"
      ]
     },
     "execution_count": 49,
     "metadata": {},
     "output_type": "execute_result"
    }
   ],
   "source": [
    "a = ['vinay',12,12.5]\n",
    "a.append(5)\n",
    "(a)"
   ]
  },
  {
   "cell_type": "code",
   "execution_count": 51,
   "id": "ad8e2b57",
   "metadata": {},
   "outputs": [
    {
     "data": {
      "text/plain": [
       "[]"
      ]
     },
     "execution_count": 51,
     "metadata": {},
     "output_type": "execute_result"
    }
   ],
   "source": [
    "a = ['siva',12232,34.5,'4356']\n",
    "a.clear()\n",
    "(a)"
   ]
  },
  {
   "cell_type": "code",
   "execution_count": 54,
   "id": "f4a964e7",
   "metadata": {},
   "outputs": [
    {
     "data": {
      "text/plain": [
       "[841, 3.71, 'sivasankar']"
      ]
     },
     "execution_count": 54,
     "metadata": {},
     "output_type": "execute_result"
    }
   ],
   "source": [
    "a = [841,3.71,'sivasankar']\n",
    "b=a.copy()\n",
    "(a)"
   ]
  },
  {
   "cell_type": "code",
   "execution_count": 27,
   "id": "3745974f",
   "metadata": {},
   "outputs": [
    {
     "data": {
      "text/plain": [
       "3"
      ]
     },
     "execution_count": 27,
     "metadata": {},
     "output_type": "execute_result"
    }
   ],
   "source": [
    "a =[1,13,34,'datascience',1,1]\n",
    "a.count(1)\n"
   ]
  },
  {
   "cell_type": "code",
   "execution_count": 56,
   "id": "6db1a36a",
   "metadata": {},
   "outputs": [
    {
     "data": {
      "text/plain": [
       "['dbsadb', 12, 12.5, 'vinay', 11, 'dfaef', 23.4]"
      ]
     },
     "execution_count": 56,
     "metadata": {},
     "output_type": "execute_result"
    }
   ],
   "source": [
    "a = ['dbsadb',12,12.5,'vinay']\n",
    "b = [11,'dfaef',23.4]\n",
    "a.extend(b)\n",
    "(a)"
   ]
  },
  {
   "cell_type": "code",
   "execution_count": 58,
   "id": "77550a76",
   "metadata": {},
   "outputs": [
    {
     "data": {
      "text/plain": [
       "1"
      ]
     },
     "execution_count": 58,
     "metadata": {},
     "output_type": "execute_result"
    }
   ],
   "source": [
    "a = ['gdfhfhg',12,12.5,\"dgffsrf\"]\n",
    "a.index(12)\n",
    "\n"
   ]
  },
  {
   "cell_type": "code",
   "execution_count": 60,
   "id": "64722375",
   "metadata": {},
   "outputs": [
    {
     "data": {
      "text/plain": [
       "['dfwf', 55, 12, 34.5]"
      ]
     },
     "execution_count": 60,
     "metadata": {},
     "output_type": "execute_result"
    }
   ],
   "source": [
    "a = ['dfwf',12,34.5]\n",
    "a.insert(1,55)\n",
    "(a)"
   ]
  },
  {
   "cell_type": "code",
   "execution_count": 39,
   "id": "b8263b4c",
   "metadata": {},
   "outputs": [
    {
     "data": {
      "text/plain": [
       "['dfds', 33]"
      ]
     },
     "execution_count": 39,
     "metadata": {},
     "output_type": "execute_result"
    }
   ],
   "source": [
    "a = ['dfds',33,33.5,]\n",
    "a.pop()\n",
    "(a)"
   ]
  },
  {
   "cell_type": "code",
   "execution_count": 63,
   "id": "f317670e",
   "metadata": {},
   "outputs": [
    {
     "data": {
      "text/plain": [
       "'rajitha'"
      ]
     },
     "execution_count": 63,
     "metadata": {},
     "output_type": "execute_result"
    }
   ],
   "source": [
    "a = ['siva','rajitha',78,78.8]\n",
    "a.pop(1)"
   ]
  },
  {
   "cell_type": "code",
   "execution_count": 72,
   "id": "6e22a74c",
   "metadata": {},
   "outputs": [
    {
     "data": {
      "text/plain": [
       "['begum', 'divya']"
      ]
     },
     "execution_count": 72,
     "metadata": {},
     "output_type": "execute_result"
    }
   ],
   "source": [
    "a = ['begum','divya',33,]\n",
    "a.remove(33)\n",
    "(a)"
   ]
  },
  {
   "cell_type": "code",
   "execution_count": 74,
   "id": "8d605c69",
   "metadata": {},
   "outputs": [
    {
     "data": {
      "text/plain": [
       "[89.0, 33, 'divya']"
      ]
     },
     "execution_count": 74,
     "metadata": {},
     "output_type": "execute_result"
    }
   ],
   "source": [
    "a = ['divya',33,89.0]\n",
    "a.reverse()\n",
    "(a)"
   ]
  },
  {
   "cell_type": "code",
   "execution_count": 77,
   "id": "ecd7b6bf",
   "metadata": {},
   "outputs": [
    {
     "data": {
      "text/plain": [
       "[12, 33.5, 44]"
      ]
     },
     "execution_count": 77,
     "metadata": {},
     "output_type": "execute_result"
    }
   ],
   "source": [
    "a = [44,12,33.5]\n",
    "a.sort()\n",
    "(a)"
   ]
  },
  {
   "cell_type": "code",
   "execution_count": 80,
   "id": "5af46168",
   "metadata": {},
   "outputs": [
    {
     "ename": "SyntaxError",
     "evalue": "expression cannot contain assignment, perhaps you meant \"==\"? (3995207800.py, line 1)",
     "output_type": "error",
     "traceback": [
      "\u001b[1;36m  Input \u001b[1;32mIn [80]\u001b[1;36m\u001b[0m\n\u001b[1;33m    a.sort('reverse' = true)\u001b[0m\n\u001b[1;37m           ^\u001b[0m\n\u001b[1;31mSyntaxError\u001b[0m\u001b[1;31m:\u001b[0m expression cannot contain assignment, perhaps you meant \"==\"?\n"
     ]
    }
   ],
   "source": []
  },
  {
   "cell_type": "code",
   "execution_count": 83,
   "id": "1fd78024",
   "metadata": {},
   "outputs": [
    {
     "data": {
      "text/plain": [
       "1"
      ]
     },
     "execution_count": 83,
     "metadata": {},
     "output_type": "execute_result"
    }
   ],
   "source": [
    "a = ['siva',23,44.5]\n",
    "a.index(23)\n"
   ]
  },
  {
   "cell_type": "code",
   "execution_count": 87,
   "id": "7a9adbde",
   "metadata": {},
   "outputs": [
    {
     "data": {
      "text/plain": [
       "66.7"
      ]
     },
     "execution_count": 87,
     "metadata": {},
     "output_type": "execute_result"
    }
   ],
   "source": [
    "a = ['dbfj',44,66.7]\n",
    "a.pop()"
   ]
  },
  {
   "cell_type": "code",
   "execution_count": 88,
   "id": "711e91b5",
   "metadata": {},
   "outputs": [
    {
     "data": {
      "text/plain": [
       "44"
      ]
     },
     "execution_count": 88,
     "metadata": {},
     "output_type": "execute_result"
    }
   ],
   "source": [
    "a.pop()"
   ]
  },
  {
   "cell_type": "code",
   "execution_count": 1,
   "id": "52d4a887",
   "metadata": {},
   "outputs": [
    {
     "data": {
      "text/plain": [
       "'rtewrew'"
      ]
     },
     "execution_count": 1,
     "metadata": {},
     "output_type": "execute_result"
    }
   ],
   "source": [
    "a = ['rgterfe','rtewrew','hgfhfh',]\n",
    "\n",
    "a.pop(1)"
   ]
  },
  {
   "cell_type": "markdown",
   "id": "58917b14",
   "metadata": {},
   "source": [
    "# tuple"
   ]
  },
  {
   "cell_type": "code",
   "execution_count": 2,
   "id": "b0c447bb",
   "metadata": {},
   "outputs": [
    {
     "data": {
      "text/plain": [
       "int"
      ]
     },
     "execution_count": 2,
     "metadata": {},
     "output_type": "execute_result"
    }
   ],
   "source": [
    "# tuple\n",
    "a = (10)\n",
    "(type(a))"
   ]
  },
  {
   "cell_type": "code",
   "execution_count": 3,
   "id": "1179e74b",
   "metadata": {},
   "outputs": [
    {
     "data": {
      "text/plain": [
       "tuple"
      ]
     },
     "execution_count": 3,
     "metadata": {},
     "output_type": "execute_result"
    }
   ],
   "source": [
    "a = (10,)\n",
    "(type(a))"
   ]
  },
  {
   "cell_type": "code",
   "execution_count": 5,
   "id": "aa0a5ec4",
   "metadata": {},
   "outputs": [
    {
     "data": {
      "text/plain": [
       "10"
      ]
     },
     "execution_count": 5,
     "metadata": {},
     "output_type": "execute_result"
    }
   ],
   "source": [
    "a = (4,10,13,'siva','ravi',12.4)\n",
    "(a[1])"
   ]
  },
  {
   "cell_type": "code",
   "execution_count": 10,
   "id": "9af82896",
   "metadata": {},
   "outputs": [
    {
     "data": {
      "text/plain": [
       "32"
      ]
     },
     "execution_count": 10,
     "metadata": {},
     "output_type": "execute_result"
    }
   ],
   "source": [
    "a = (12,[12,32],'vinay','siva')\n",
    "(a[1][1])"
   ]
  },
  {
   "cell_type": "code",
   "execution_count": 11,
   "id": "fd3e3cb0",
   "metadata": {},
   "outputs": [],
   "source": [
    "# tuple is mutable"
   ]
  },
  {
   "cell_type": "code",
   "execution_count": 12,
   "id": "2a17cfdc",
   "metadata": {},
   "outputs": [
    {
     "ename": "TypeError",
     "evalue": "'tuple' object does not support item assignment",
     "output_type": "error",
     "traceback": [
      "\u001b[1;31m---------------------------------------------------------------------------\u001b[0m",
      "\u001b[1;31mTypeError\u001b[0m                                 Traceback (most recent call last)",
      "Input \u001b[1;32mIn [12]\u001b[0m, in \u001b[0;36m<cell line: 2>\u001b[1;34m()\u001b[0m\n\u001b[0;32m      1\u001b[0m a \u001b[38;5;241m=\u001b[39m (\u001b[38;5;124m'\u001b[39m\u001b[38;5;124mvinay\u001b[39m\u001b[38;5;124m'\u001b[39m,\u001b[38;5;124m'\u001b[39m\u001b[38;5;124msiva\u001b[39m\u001b[38;5;124m'\u001b[39m,\u001b[38;5;241m23\u001b[39m,\u001b[38;5;241m45.5\u001b[39m)\n\u001b[1;32m----> 2\u001b[0m a[\u001b[38;5;241m1\u001b[39m]\u001b[38;5;241m=\u001b[39m\u001b[38;5;124m'\u001b[39m\u001b[38;5;124mrama\u001b[39m\u001b[38;5;124m'\u001b[39m\n",
      "\u001b[1;31mTypeError\u001b[0m: 'tuple' object does not support item assignment"
     ]
    }
   ],
   "source": [
    "a = ('vinay','siva',23,45.5)\n",
    "a[1]='rama'"
   ]
  },
  {
   "cell_type": "code",
   "execution_count": 13,
   "id": "63112c85",
   "metadata": {},
   "outputs": [],
   "source": [
    "# packing and packing content"
   ]
  },
  {
   "cell_type": "code",
   "execution_count": 16,
   "id": "b8a73ac4",
   "metadata": {},
   "outputs": [
    {
     "data": {
      "text/plain": [
       "'vinay'"
      ]
     },
     "execution_count": 16,
     "metadata": {},
     "output_type": "execute_result"
    }
   ],
   "source": [
    "a = ('vinay','degreee',2022)\n",
    "(name,study,lunch)  = a\n",
    "(name)"
   ]
  },
  {
   "cell_type": "code",
   "execution_count": 17,
   "id": "ea5e5ac4",
   "metadata": {},
   "outputs": [
    {
     "data": {
      "text/plain": [
       "2022"
      ]
     },
     "execution_count": 17,
     "metadata": {},
     "output_type": "execute_result"
    }
   ],
   "source": [
    "(lunch)"
   ]
  },
  {
   "cell_type": "code",
   "execution_count": 24,
   "id": "8078b598",
   "metadata": {},
   "outputs": [
    {
     "data": {
      "text/plain": [
       "'vinay'"
      ]
     },
     "execution_count": 24,
     "metadata": {},
     "output_type": "execute_result"
    }
   ],
   "source": [
    "a= (23,'vinay','dogs')\n",
    "(age,siva,divya) = a\n",
    "(siva)"
   ]
  },
  {
   "cell_type": "code",
   "execution_count": 28,
   "id": "d2bf4107",
   "metadata": {},
   "outputs": [
    {
     "data": {
      "text/plain": [
       "(2, 3, 4, 12.5, 34)"
      ]
     },
     "execution_count": 28,
     "metadata": {},
     "output_type": "execute_result"
    }
   ],
   "source": [
    "# operators\n",
    "a =( 2,3,4)\n",
    "b = (12.5,34)\n",
    "(a+b)"
   ]
  },
  {
   "cell_type": "code",
   "execution_count": 32,
   "id": "25f0d5a6",
   "metadata": {},
   "outputs": [
    {
     "data": {
      "text/plain": [
       "(45, 5, 45, 5, 45, 5, 45, 5, 45, 5, 45, 5)"
      ]
     },
     "execution_count": 32,
     "metadata": {},
     "output_type": "execute_result"
    }
   ],
   "source": [
    "a = (45,5)\n",
    "b = a*6\n",
    "(b)\n"
   ]
  },
  {
   "cell_type": "code",
   "execution_count": 34,
   "id": "d7fdd7a4",
   "metadata": {},
   "outputs": [
    {
     "data": {
      "text/plain": [
       "False"
      ]
     },
     "execution_count": 34,
     "metadata": {},
     "output_type": "execute_result"
    }
   ],
   "source": [
    "# member ship function\n",
    "a = (1,44,'python')\n",
    "(13 in a)"
   ]
  },
  {
   "cell_type": "code",
   "execution_count": 35,
   "id": "e760b033",
   "metadata": {},
   "outputs": [
    {
     "data": {
      "text/plain": [
       "True"
      ]
     },
     "execution_count": 35,
     "metadata": {},
     "output_type": "execute_result"
    }
   ],
   "source": [
    "(1 in a)"
   ]
  },
  {
   "cell_type": "code",
   "execution_count": 47,
   "id": "f3513002",
   "metadata": {},
   "outputs": [
    {
     "name": "stdout",
     "output_type": "stream",
     "text": [
      "1\n",
      "23\n",
      "43\n",
      "54\n",
      "65\n"
     ]
    }
   ],
   "source": [
    "a = (1,23,43,54,65)\n",
    "for i in a:\n",
    "    print(i)\n",
    "    (i)\n",
    "    "
   ]
  },
  {
   "cell_type": "code",
   "execution_count": 48,
   "id": "55debe90",
   "metadata": {},
   "outputs": [
    {
     "data": {
      "text/plain": [
       "0"
      ]
     },
     "execution_count": 48,
     "metadata": {},
     "output_type": "execute_result"
    }
   ],
   "source": [
    "# built in functions\n",
    "\n",
    "a = (23,'siva')\n",
    "a.index(23)"
   ]
  },
  {
   "cell_type": "code",
   "execution_count": 49,
   "id": "9f06bcda",
   "metadata": {},
   "outputs": [
    {
     "data": {
      "text/plain": [
       "1"
      ]
     },
     "execution_count": 49,
     "metadata": {},
     "output_type": "execute_result"
    }
   ],
   "source": [
    "a.count('siva')"
   ]
  },
  {
   "cell_type": "code",
   "execution_count": 50,
   "id": "db8bc5a7",
   "metadata": {},
   "outputs": [
    {
     "data": {
      "text/plain": [
       "2"
      ]
     },
     "execution_count": 50,
     "metadata": {},
     "output_type": "execute_result"
    }
   ],
   "source": [
    "len(a)"
   ]
  },
  {
   "cell_type": "code",
   "execution_count": 52,
   "id": "c195851a",
   "metadata": {},
   "outputs": [
    {
     "data": {
      "text/plain": [
       "67666"
      ]
     },
     "execution_count": 52,
     "metadata": {},
     "output_type": "execute_result"
    }
   ],
   "source": [
    "a = (12,44,544,67,67666,66)\n",
    "max(a)"
   ]
  },
  {
   "cell_type": "code",
   "execution_count": 53,
   "id": "f77cf993",
   "metadata": {},
   "outputs": [
    {
     "data": {
      "text/plain": [
       "12"
      ]
     },
     "execution_count": 53,
     "metadata": {},
     "output_type": "execute_result"
    }
   ],
   "source": [
    "min(a)"
   ]
  },
  {
   "cell_type": "code",
   "execution_count": 54,
   "id": "1a8ac953",
   "metadata": {},
   "outputs": [
    {
     "data": {
      "text/plain": [
       "6"
      ]
     },
     "execution_count": 54,
     "metadata": {},
     "output_type": "execute_result"
    }
   ],
   "source": [
    "len(a)"
   ]
  },
  {
   "cell_type": "code",
   "execution_count": 55,
   "id": "89f4632b",
   "metadata": {},
   "outputs": [
    {
     "data": {
      "text/plain": [
       "76"
      ]
     },
     "execution_count": 55,
     "metadata": {},
     "output_type": "execute_result"
    }
   ],
   "source": [
    "a = 23,45,76b \n",
    "max(a)"
   ]
  },
  {
   "cell_type": "code",
   "execution_count": 56,
   "id": "38866a7a",
   "metadata": {},
   "outputs": [
    {
     "data": {
      "text/plain": [
       "3"
      ]
     },
     "execution_count": 56,
     "metadata": {},
     "output_type": "execute_result"
    }
   ],
   "source": [
    "len(a)"
   ]
  },
  {
   "cell_type": "code",
   "execution_count": 58,
   "id": "a2a23314",
   "metadata": {},
   "outputs": [
    {
     "data": {
      "text/plain": [
       "[12, 23, 34, 45, 65]"
      ]
     },
     "execution_count": 58,
     "metadata": {},
     "output_type": "execute_result"
    }
   ],
   "source": [
    "#sort\n",
    "a =(34,23,45,65,12)\n",
    "sorted(a)"
   ]
  },
  {
   "cell_type": "code",
   "execution_count": 59,
   "id": "d5f2289f",
   "metadata": {},
   "outputs": [
    {
     "data": {
      "text/plain": [
       "['vinay', 'is', 'studying', 'inabroad']"
      ]
     },
     "execution_count": 59,
     "metadata": {},
     "output_type": "execute_result"
    }
   ],
   "source": [
    "## string concept split\n",
    "a = 'vinay is studying inabroad'\n",
    "a.split()"
   ]
  },
  {
   "cell_type": "markdown",
   "id": "00cae208",
   "metadata": {},
   "source": [
    "# join"
   ]
  },
  {
   "cell_type": "code",
   "execution_count": 63,
   "id": "dc04c31f",
   "metadata": {},
   "outputs": [
    {
     "data": {
      "text/plain": [
       "['dogs', 'eat', 'cat']"
      ]
     },
     "execution_count": 63,
     "metadata": {},
     "output_type": "execute_result"
    }
   ],
   "source": [
    "a = 'dogs eat cat'\n",
    "b = a.split()\n",
    "(b)\n"
   ]
  },
  {
   "cell_type": "code",
   "execution_count": 65,
   "id": "bba59195",
   "metadata": {},
   "outputs": [],
   "source": [
    "d = ' '.join(b)"
   ]
  },
  {
   "cell_type": "code",
   "execution_count": 70,
   "id": "d143d992",
   "metadata": {},
   "outputs": [
    {
     "data": {
      "text/plain": [
       "'i am happy'"
      ]
     },
     "execution_count": 70,
     "metadata": {},
     "output_type": "execute_result"
    }
   ],
   "source": [
    "a = 'i am happy'\n",
    "b =a.split()\n",
    "d = ' '.join(b)\n",
    "(d)\n"
   ]
  },
  {
   "cell_type": "code",
   "execution_count": 1,
   "id": "8861566f",
   "metadata": {},
   "outputs": [
    {
     "data": {
      "text/plain": [
       "'1,2,3,4,5'"
      ]
     },
     "execution_count": 1,
     "metadata": {},
     "output_type": "execute_result"
    }
   ],
   "source": [
    "# stirngs\n",
    "a = '1,2,3,4,5'\n",
    "(a)"
   ]
  },
  {
   "cell_type": "code",
   "execution_count": 2,
   "id": "ea3654e4",
   "metadata": {},
   "outputs": [
    {
     "data": {
      "text/plain": [
       "str"
      ]
     },
     "execution_count": 2,
     "metadata": {},
     "output_type": "execute_result"
    }
   ],
   "source": [
    "(type(a))"
   ]
  },
  {
   "cell_type": "code",
   "execution_count": 3,
   "id": "fa5a2611",
   "metadata": {},
   "outputs": [
    {
     "data": {
      "text/plain": [
       "'1,'"
      ]
     },
     "execution_count": 3,
     "metadata": {},
     "output_type": "execute_result"
    }
   ],
   "source": [
    "(a[0:2])"
   ]
  },
  {
   "cell_type": "code",
   "execution_count": 1,
   "id": "520cf652",
   "metadata": {},
   "outputs": [
    {
     "data": {
      "text/plain": [
       "[34, 2, 34, 5, 6, 6]"
      ]
     },
     "execution_count": 1,
     "metadata": {},
     "output_type": "execute_result"
    }
   ],
   "source": [
    "# rough list \n",
    "a = [1,2,34,5,6,6]\n",
    "a[0]=34\n",
    "(a)\n"
   ]
  },
  {
   "cell_type": "code",
   "execution_count": 3,
   "id": "9bf9f9a7",
   "metadata": {},
   "outputs": [
    {
     "data": {
      "text/plain": [
       "[19, 45, 78, 98, 1]"
      ]
     },
     "execution_count": 3,
     "metadata": {},
     "output_type": "execute_result"
    }
   ],
   "source": [
    "a = [('siva'),45,78,98,1]\n",
    "a[0]=19\n",
    "(a)\n",
    "      "
   ]
  },
  {
   "cell_type": "code",
   "execution_count": 4,
   "id": "d6acc477",
   "metadata": {},
   "outputs": [
    {
     "data": {
      "text/plain": [
       "19"
      ]
     },
     "execution_count": 4,
     "metadata": {},
     "output_type": "execute_result"
    }
   ],
   "source": [
    "(a[0])"
   ]
  },
  {
   "cell_type": "code",
   "execution_count": 5,
   "id": "decbdf80",
   "metadata": {},
   "outputs": [
    {
     "data": {
      "text/plain": [
       "98"
      ]
     },
     "execution_count": 5,
     "metadata": {},
     "output_type": "execute_result"
    }
   ],
   "source": [
    "max(a)"
   ]
  },
  {
   "cell_type": "code",
   "execution_count": 7,
   "id": "8854845d",
   "metadata": {},
   "outputs": [
    {
     "data": {
      "text/plain": [
       "5"
      ]
     },
     "execution_count": 7,
     "metadata": {},
     "output_type": "execute_result"
    }
   ],
   "source": [
    "len(a)"
   ]
  },
  {
   "cell_type": "code",
   "execution_count": 8,
   "id": "63d6a7f6",
   "metadata": {},
   "outputs": [
    {
     "data": {
      "text/plain": [
       "241"
      ]
     },
     "execution_count": 8,
     "metadata": {},
     "output_type": "execute_result"
    }
   ],
   "source": [
    "sum(a)"
   ]
  },
  {
   "cell_type": "code",
   "execution_count": 17,
   "id": "e1e4381e",
   "metadata": {},
   "outputs": [
    {
     "data": {
      "text/plain": [
       "[1, 2, 4, 2, 88]"
      ]
     },
     "execution_count": 17,
     "metadata": {},
     "output_type": "execute_result"
    }
   ],
   "source": [
    "a =[1,2,4,2]\n",
    "a.append(88)\n",
    "(a)"
   ]
  },
  {
   "cell_type": "code",
   "execution_count": 20,
   "id": "5c6e8345",
   "metadata": {},
   "outputs": [
    {
     "data": {
      "text/plain": [
       "[1, 2, 3, 3, 4, 5, 6]"
      ]
     },
     "execution_count": 20,
     "metadata": {},
     "output_type": "execute_result"
    }
   ],
   "source": [
    "a =[1,2,3,4,5,6]\n",
    "a.insert(2,3)\n",
    "(a)"
   ]
  },
  {
   "cell_type": "code",
   "execution_count": 22,
   "id": "ee7337f7",
   "metadata": {},
   "outputs": [
    {
     "data": {
      "text/plain": [
       "[1, 2, 3, 3, 4, 5, 6, 12, 100, 12, 100]"
      ]
     },
     "execution_count": 22,
     "metadata": {},
     "output_type": "execute_result"
    }
   ],
   "source": [
    "a.extend([12,100])\n",
    "(a)"
   ]
  },
  {
   "cell_type": "code",
   "execution_count": 23,
   "id": "4be34fbb",
   "metadata": {},
   "outputs": [
    {
     "data": {
      "text/plain": [
       "[12, 34, 56, 788, 10, 100]"
      ]
     },
     "execution_count": 23,
     "metadata": {},
     "output_type": "execute_result"
    }
   ],
   "source": [
    "a = [12,34,56,788]\n",
    "a.extend([10,100])\n",
    "(a)"
   ]
  },
  {
   "cell_type": "code",
   "execution_count": 26,
   "id": "e1aac1e3",
   "metadata": {},
   "outputs": [
    {
     "data": {
      "text/plain": [
       "'pinky'"
      ]
     },
     "execution_count": 26,
     "metadata": {},
     "output_type": "execute_result"
    }
   ],
   "source": [
    "a= 'pinky'\n",
    "(a)"
   ]
  },
  {
   "cell_type": "code",
   "execution_count": 28,
   "id": "e2719910",
   "metadata": {},
   "outputs": [
    {
     "data": {
      "text/plain": [
       "[1, 2, 3, 4, 5, 0, 9, 8, 7, 6]"
      ]
     },
     "execution_count": 28,
     "metadata": {},
     "output_type": "execute_result"
    }
   ],
   "source": [
    "a = [1,2,3,4,5]\n",
    "b = [0,9,8,7,6]\n",
    "c = a+b\n",
    "(c)"
   ]
  },
  {
   "cell_type": "code",
   "execution_count": 31,
   "id": "112b43b4",
   "metadata": {},
   "outputs": [
    {
     "data": {
      "text/plain": [
       "[1, 'pinky']"
      ]
     },
     "execution_count": 31,
     "metadata": {},
     "output_type": "execute_result"
    }
   ],
   "source": [
    "a = [1,'siva','pinky']\n",
    "del a[1]\n",
    "(a)"
   ]
  },
  {
   "cell_type": "code",
   "execution_count": 35,
   "id": "36671f5f",
   "metadata": {},
   "outputs": [
    {
     "data": {
      "text/plain": [
       "['siva', 'pinky']"
      ]
     },
     "execution_count": 35,
     "metadata": {},
     "output_type": "execute_result"
    }
   ],
   "source": [
    "a = [1,'siva','pinky']\n",
    "a.remove(1)\n",
    "(a)"
   ]
  },
  {
   "cell_type": "code",
   "execution_count": 38,
   "id": "8e60f6ed",
   "metadata": {},
   "outputs": [
    {
     "data": {
      "text/plain": [
       "'pinky'"
      ]
     },
     "execution_count": 38,
     "metadata": {},
     "output_type": "execute_result"
    }
   ],
   "source": [
    "a = [1,'siva','pinky']\n",
    "a.pop()"
   ]
  },
  {
   "cell_type": "code",
   "execution_count": 37,
   "id": "78689375",
   "metadata": {},
   "outputs": [
    {
     "data": {
      "text/plain": [
       "'siva'"
      ]
     },
     "execution_count": 37,
     "metadata": {},
     "output_type": "execute_result"
    }
   ],
   "source": [
    "a = [1,'siva','pinky']\n",
    "a.pop(1)"
   ]
  },
  {
   "cell_type": "code",
   "execution_count": 40,
   "id": "6281ab46",
   "metadata": {},
   "outputs": [
    {
     "data": {
      "text/plain": [
       "[]"
      ]
     },
     "execution_count": 40,
     "metadata": {},
     "output_type": "execute_result"
    }
   ],
   "source": [
    "a = [1,'siva','pinky']\n",
    "a.clear()\n",
    "(a)"
   ]
  },
  {
   "cell_type": "code",
   "execution_count": 43,
   "id": "d3946e00",
   "metadata": {},
   "outputs": [
    {
     "data": {
      "text/plain": [
       "['siva', 89]"
      ]
     },
     "execution_count": 43,
     "metadata": {},
     "output_type": "execute_result"
    }
   ],
   "source": [
    "a = 'siva',89\n",
    "b=list(a)\n",
    "(b)"
   ]
  },
  {
   "cell_type": "code",
   "execution_count": 51,
   "id": "443ec16b",
   "metadata": {},
   "outputs": [
    {
     "data": {
      "text/plain": [
       "[1, 3, 4, 5, 6, 54, 88]"
      ]
     },
     "execution_count": 51,
     "metadata": {},
     "output_type": "execute_result"
    }
   ],
   "source": [
    "a = [1,4,5,6,3,54,88]\n",
    "(sorted(a))"
   ]
  },
  {
   "cell_type": "code",
   "execution_count": 60,
   "id": "217ec66b",
   "metadata": {},
   "outputs": [
    {
     "name": "stdout",
     "output_type": "stream",
     "text": [
      "[88, 54, 6, 5, 4, 3, 1]\n"
     ]
    }
   ],
   "source": [
    "a = [1,4,5,6,3,54,88]\n",
    "a.sort(reverse=True)\n",
    "print(a)"
   ]
  },
  {
   "cell_type": "code",
   "execution_count": 61,
   "id": "c194d108",
   "metadata": {},
   "outputs": [
    {
     "data": {
      "text/plain": [
       "[88, 54, 3, 6, 5, 4, 1]"
      ]
     },
     "execution_count": 61,
     "metadata": {},
     "output_type": "execute_result"
    }
   ],
   "source": [
    "# index and count and remove we use what is there in the index\n",
    "a = [1,4,5,6,3,54,88]\n",
    "a.reverse()\n",
    "(a)"
   ]
  },
  {
   "cell_type": "code",
   "execution_count": 2,
   "id": "0227aa05",
   "metadata": {},
   "outputs": [
    {
     "data": {
      "text/plain": [
       "tuple"
      ]
     },
     "execution_count": 2,
     "metadata": {},
     "output_type": "execute_result"
    }
   ],
   "source": [
    " # tuple\n",
    "a = 1,2,3,4\n",
    "(type(a))"
   ]
  },
  {
   "cell_type": "code",
   "execution_count": 3,
   "id": "96c6e501",
   "metadata": {},
   "outputs": [
    {
     "data": {
      "text/plain": [
       "tuple"
      ]
     },
     "execution_count": 3,
     "metadata": {},
     "output_type": "execute_result"
    }
   ],
   "source": [
    "a = 1,2,3,(12,34),[12,34]\n",
    "(type(a))"
   ]
  },
  {
   "cell_type": "code",
   "execution_count": 4,
   "id": "afe6a470",
   "metadata": {},
   "outputs": [
    {
     "data": {
      "text/plain": [
       "1"
      ]
     },
     "execution_count": 4,
     "metadata": {},
     "output_type": "execute_result"
    }
   ],
   "source": [
    "a = (1,2,3,(12,34),[34,65],'stirng')\n",
    "(a[0])"
   ]
  },
  {
   "cell_type": "code",
   "execution_count": 9,
   "id": "6fa7c827",
   "metadata": {},
   "outputs": [
    {
     "data": {
      "text/plain": [
       "(12, 34)"
      ]
     },
     "execution_count": 9,
     "metadata": {},
     "output_type": "execute_result"
    }
   ],
   "source": [
    "(a[3])"
   ]
  },
  {
   "cell_type": "code",
   "execution_count": 13,
   "id": "5a8eee6c",
   "metadata": {},
   "outputs": [
    {
     "data": {
      "text/plain": [
       "1"
      ]
     },
     "execution_count": 13,
     "metadata": {},
     "output_type": "execute_result"
    }
   ],
   "source": [
    "\n",
    "(a[0])"
   ]
  },
  {
   "cell_type": "code",
   "execution_count": 15,
   "id": "59cb22b6",
   "metadata": {},
   "outputs": [
    {
     "data": {
      "text/plain": [
       "'i'"
      ]
     },
     "execution_count": 15,
     "metadata": {},
     "output_type": "execute_result"
    }
   ],
   "source": [
    "a = 'viany'\n",
    "(a[1])"
   ]
  },
  {
   "cell_type": "code",
   "execution_count": 16,
   "id": "0d6e717f",
   "metadata": {},
   "outputs": [
    {
     "data": {
      "text/plain": [
       "1"
      ]
     },
     "execution_count": 16,
     "metadata": {},
     "output_type": "execute_result"
    }
   ],
   "source": [
    "a = 12,34,453,32,2,3,2,34,2,3\n",
    "a.index(34)"
   ]
  },
  {
   "cell_type": "code",
   "execution_count": 10,
   "id": "29b62233",
   "metadata": {},
   "outputs": [
    {
     "name": "stdout",
     "output_type": "stream",
     "text": [
      "['i', 'am', 'a', 'goood', 'boy']\n"
     ]
    }
   ],
   "source": [
    "#  split\n",
    "a = 'i am a goood boy'\n",
    "print(a.split())"
   ]
  },
  {
   "cell_type": "code",
   "execution_count": 11,
   "id": "819781b1",
   "metadata": {},
   "outputs": [
    {
     "data": {
      "text/plain": [
       "['kgf', 'is', 'rocky', 'bhai', 'world']"
      ]
     },
     "execution_count": 11,
     "metadata": {},
     "output_type": "execute_result"
    }
   ],
   "source": [
    "b = 'kgf is rocky bhai world'\n",
    "b.split()"
   ]
  },
  {
   "cell_type": "code",
   "execution_count": 13,
   "id": "e5aff4d7",
   "metadata": {},
   "outputs": [
    {
     "data": {
      "text/plain": [
       "['kgf is rocky bhai world']"
      ]
     },
     "execution_count": 13,
     "metadata": {},
     "output_type": "execute_result"
    }
   ],
   "source": [
    "[''.join(b)]"
   ]
  },
  {
   "cell_type": "code",
   "execution_count": 14,
   "id": "be217a92",
   "metadata": {},
   "outputs": [
    {
     "data": {
      "text/plain": [
       "['my', 'name', 'is', 'vinay']"
      ]
     },
     "execution_count": 14,
     "metadata": {},
     "output_type": "execute_result"
    }
   ],
   "source": [
    "a = 'my name is vinay'\n",
    "a.split()"
   ]
  },
  {
   "cell_type": "code",
   "execution_count": 19,
   "id": "17487dad",
   "metadata": {},
   "outputs": [
    {
     "data": {
      "text/plain": [
       "['my name is vinay']"
      ]
     },
     "execution_count": 19,
     "metadata": {},
     "output_type": "execute_result"
    }
   ],
   "source": [
    "[''.join(a)]"
   ]
  },
  {
   "cell_type": "code",
   "execution_count": 20,
   "id": "859a72bf",
   "metadata": {},
   "outputs": [
    {
     "data": {
      "text/plain": [
       "['i', 'am', 'a', 'good', 'boy', 'in', 'the', 'class']"
      ]
     },
     "execution_count": 20,
     "metadata": {},
     "output_type": "execute_result"
    }
   ],
   "source": [
    "a = 'i am a good boy in the class '\n",
    "a.split()"
   ]
  },
  {
   "cell_type": "code",
   "execution_count": 21,
   "id": "604e7fab",
   "metadata": {},
   "outputs": [
    {
     "data": {
      "text/plain": [
       "['i am a good boy in the class ']"
      ]
     },
     "execution_count": 21,
     "metadata": {},
     "output_type": "execute_result"
    }
   ],
   "source": [
    "[''.join(a)]"
   ]
  },
  {
   "cell_type": "code",
   "execution_count": 22,
   "id": "3538ed5d",
   "metadata": {},
   "outputs": [
    {
     "data": {
      "text/plain": [
       "'Vinay'"
      ]
     },
     "execution_count": 22,
     "metadata": {},
     "output_type": "execute_result"
    }
   ],
   "source": [
    "a = 'vinay'\n",
    "a.capitalize()"
   ]
  },
  {
   "cell_type": "code",
   "execution_count": 23,
   "id": "c44be405",
   "metadata": {},
   "outputs": [
    {
     "data": {
      "text/plain": [
       "'vinay'"
      ]
     },
     "execution_count": 23,
     "metadata": {},
     "output_type": "execute_result"
    }
   ],
   "source": [
    "a.casefold()"
   ]
  },
  {
   "cell_type": "code",
   "execution_count": 30,
   "id": "44164881",
   "metadata": {},
   "outputs": [
    {
     "data": {
      "text/plain": [
       "2"
      ]
     },
     "execution_count": 30,
     "metadata": {},
     "output_type": "execute_result"
    }
   ],
   "source": [
    "a.count('i')"
   ]
  },
  {
   "cell_type": "code",
   "execution_count": 31,
   "id": "7be8632e",
   "metadata": {},
   "outputs": [
    {
     "data": {
      "text/plain": [
       "'I Am Big Fan Of Rocky'"
      ]
     },
     "execution_count": 31,
     "metadata": {},
     "output_type": "execute_result"
    }
   ],
   "source": [
    "a = 'i am big fan of rocky'\n",
    "a.title()"
   ]
  },
  {
   "cell_type": "code",
   "execution_count": 32,
   "id": "7d24b3c6",
   "metadata": {},
   "outputs": [
    {
     "data": {
      "text/plain": [
       "'i we big fan of rocky'"
      ]
     },
     "execution_count": 32,
     "metadata": {},
     "output_type": "execute_result"
    }
   ],
   "source": [
    "a.replace('am','we')"
   ]
  },
  {
   "cell_type": "code",
   "execution_count": 46,
   "id": "dae75a22",
   "metadata": {},
   "outputs": [
    {
     "name": "stdout",
     "output_type": "stream",
     "text": [
      "1\n",
      "2\n",
      "3\n",
      "4\n",
      "5\n",
      "6\n",
      "7\n",
      "8\n",
      "9\n",
      "10\n",
      "11\n",
      "12\n",
      "13\n",
      "14\n",
      "15\n",
      "16\n",
      "17\n",
      "18\n",
      "19\n",
      "20\n",
      "21\n",
      "22\n"
     ]
    }
   ],
   "source": [
    "for i in range(1,23):\n",
    "    print(i)"
   ]
  },
  {
   "cell_type": "code",
   "execution_count": 47,
   "id": "c89b450f",
   "metadata": {},
   "outputs": [
    {
     "name": "stdout",
     "output_type": "stream",
     "text": [
      "d\n",
      "a\n",
      "t\n",
      "a\n",
      "s\n",
      "c\n",
      "i\n",
      "e\n",
      "n\n",
      "c\n",
      "e\n"
     ]
    }
   ],
   "source": [
    "a = 'datascience'\n",
    "for i in a:\n",
    "    print(i)"
   ]
  },
  {
   "cell_type": "code",
   "execution_count": 48,
   "id": "fa9126f2",
   "metadata": {},
   "outputs": [
    {
     "ename": "SyntaxError",
     "evalue": "invalid syntax (1766652940.py, line 1)",
     "output_type": "error",
     "traceback": [
      "\u001b[1;36m  Input \u001b[1;32mIn [48]\u001b[1;36m\u001b[0m\n\u001b[1;33m    Jupyter Notebook\u001b[0m\n\u001b[1;37m            ^\u001b[0m\n\u001b[1;31mSyntaxError\u001b[0m\u001b[1;31m:\u001b[0m invalid syntax\n"
     ]
    }
   ],
   "source": [
    "Jupyter Notebook\n",
    "rough\n",
    "Last Checkpoint: 08/11/2022\n",
    "(unsaved changes)\n",
    "Current Kernel Logo\n",
    "Python 3 (ipykernel) \n",
    "File\n",
    "Edit\n",
    "View\n",
    "Insert\n",
    "Cell\n",
    "Kernel\n",
    "Widgets\n",
    "Help\n",
    "\n",
    "Code\n",
    "print('vk')\n",
    "vk\n",
    "a=12\n",
    "print(a)\n",
    "12\n",
    "c=54\n",
    "type(c)\n",
    "int\n",
    "# i am a data scientist\n",
    "i am good boy\n",
    "i am vinay\n",
    "# 12 integer [int]\n",
    "# 12.5 float[float]\n",
    "# vinay strings[str]\n",
    "a='kamal'\n",
    "print(a)\n",
    "kamal\n",
    "# first of all i am going to learn about syntax \n",
    "#  print condition \n",
    "#  [] square bracket \n",
    "#  {} flower bracket \n",
    "#  () paranthesis \n",
    "​\n",
    "# print condition \n",
    "print ('kiran')\n",
    "kiran\n",
    "data types and vareiables\n",
    "# 12=integer (int)\n",
    "# 15.5=float (float)\n",
    "# vinay=strings (str)\n",
    "# a=12\n",
    "# here a is variable and 12 is variable value \n",
    "#\n",
    "c='siva'\n",
    "type(c)\n",
    "str\n",
    "a=12\n",
    "print(a)\n",
    "12\n",
    "c='vinay'\n",
    "print(c)\n",
    "vinay\n",
    "i am a learner\n",
    "now i am learning \n",
    "# markdown is for headings \n",
    "# raw NBconvert is for normal line \n",
    "# syntax \n",
    "[]\n",
    "{}\n",
    "()\n",
    "​\n",
    "()\n",
    "a = 12\n",
    "print(a)\n",
    "print()\n",
    "type(a)\n",
    "12\n",
    "\n",
    "int\n",
    "# variable values\n",
    "# variable cannot start with a number \n",
    "# no white space in varaible names \n",
    "# use _instead \n",
    "# variable names are case sensotive \n",
    "# cabt use below symbols \n",
    "​\n",
    "# integer and float converts into strings but a string cannot convert into integer or float  \n",
    "# if it is text it wont convert if it is name it will conevrt \n",
    "complete print condition\n",
    "#  first technique = ,\n",
    "# second techique=  +  (it can only convert  strings)\n",
    "​\n",
    "# third technique = using d types \n",
    "# ing\n",
    "sai_kamal=12\n",
    "print(sai_kamal)\n",
    "12\n",
    "a = 12\n",
    "print(a)\n",
    "print()\n",
    "print(type(a))\n",
    "12\n",
    "\n",
    "<class 'int'>\n",
    "a = 12\n",
    "b = float(a)\n",
    "print(b)\n",
    "12.0\n",
    "a = 12.5\n",
    "b = int(a)\n",
    "print(a)\n",
    "print()\n",
    "print(b)\n",
    "12.5\n",
    "\n",
    "12\n",
    "a =24 \n",
    "b = str(a)\n",
    "print(a)\n",
    "print()\n",
    "b\n",
    "24\n",
    "\n",
    "'24'\n",
    "# complete print condition\n",
    "# first techinque using ,\n",
    "​\n",
    "# i am viany my age is 25\n",
    "a = 'vinay'\n",
    "b = 25\n",
    "print('i am ',a,'my age is',b)\n",
    "i am  vinay my age is 25\n",
    "# second technique using +\n",
    "# my name is vinay and my age is 25\n",
    "a = '25'\n",
    "print('my name is vinay and my age is '+a)\n",
    "​\n",
    "​\n",
    "my name is vinay and my age is 25\n",
    "a = 'vinay'\n",
    "b = '25'\n",
    "print('my name is ' +a+  ' and my age is ' +b)\n",
    "my name is vinay and my age is 25\n",
    "# third techinques using d types\n",
    "# int= %d\n",
    "# float=%f\n",
    "# string=%s\n",
    "# my name is siva i am 25\n",
    "a = 'siva'\n",
    "b = 25\n",
    "print('my name is %s i am %d'%(a,b))\n",
    "​\n",
    "my name is siva i am 25\n",
    "print('siva\\nkamal')\n",
    "siva\n",
    "kamal\n",
    "print('siva\\tkamal')\n",
    "siva\tkamal\n",
    "# strings \n",
    "a = 'vinay'\n",
    "print(a[2])\n",
    "n\n",
    "print(\"\"\" dhfldskfjhkf\n",
    "fvdsfhdsjkfsd\n",
    "jhgfjdsfhsdjfcn\n",
    "jfbdsjfhdasjf'\n",
    " \"\"\")\n",
    " dhfldskfjhkf\n",
    "fvdsfhdsjkfsd\n",
    "jhgfjdsfhsdjfcn\n",
    "jfbdsjfhdasjf'\n",
    " \n",
    "a = 'vinaykumar'      # n-1\n",
    "print(a[0:5]) \n",
    "vinay\n",
    "print(a[0:5:3])\n",
    "va\n",
    " print(a[:])\n",
    "vinaykumar\n",
    "print(a[4:7])\n",
    "yku\n",
    "ord('f')\n",
    "102\n",
    "chr(103)\n",
    "'g'\n",
    "#  online class string\n",
    "predefined functions or in built functions\n",
    "​\n",
    "# \n",
    "a = 'data science'\n",
    "a.capitalize()\n",
    "'Data science'\n",
    " \n",
    "---------------------------------------------------------------------------\n",
    "TypeError                                 Traceback (most recent call last)\n",
    "Input In [3], in <cell line: 1>()\n",
    "----> 1 a.count()\n",
    "\n",
    "TypeError: count() takes at least 1 argument (0 given)\n",
    "\n",
    "pre defined function\n",
    "# capitalize \n",
    "# count \n",
    "# endswith\n",
    "# isalnum\n",
    "# isalpha\n",
    "# isdecimal\n",
    "# isdigit\n",
    "# islower\n",
    "# isupper\n",
    "# upper \n",
    "# title\n",
    "# replace\n",
    "# startswith\n",
    "# swapcase\n",
    "# \n",
    "a = 'swetha'\n",
    "a.capitalize()\n",
    "'Swetha'\n",
    "​\n",
    "a = 'vinay'\n",
    "a.count('i')\n",
    "1\n",
    "​\n",
    "a = 'siva'\n",
    "a.startswith('s')\n",
    "True\n",
    "a = 'vinay'\n",
    "a. endswith('y')\n",
    "True\n",
    "a = '324322'\n",
    "a.count('2')\n",
    "3\n",
    "a = 'raja'\n",
    "a.isalpha()\n",
    "True\n",
    "a = \"vinay123\"\n",
    "a.isalpha()\n",
    "False\n",
    "a = '576756'\n",
    "a.isdigit()\n",
    "True\n",
    "# no space should taken in middle\n",
    "a = 'ramesh'\n",
    "a.isalnum()\n",
    "True\n",
    "a = 'siva'\n",
    "a.isalnum()\n",
    "True\n",
    "a = 'raMESH'\n",
    "a.lower()\n",
    "'ramesh'\n",
    "a = 'rakHi'\n",
    "a.upper()\n",
    "'RAKHI'\n",
    "a = 'swapna'\n",
    "a.isupper()\n",
    "False\n",
    "a = 'raVi'\n",
    "a.isupper()\n",
    "False\n",
    "a = 'i am viany and my age is 25'\n",
    "a.title()\n",
    "'I Am Viany And My Age Is 25'\n",
    "# replace\n",
    "d = 'i am learning machine learning and data learning'\n",
    "d.replace('and','viany')\n",
    "'i am learning machine learning viany data learning'\n",
    "# formating technique\n",
    "​\n",
    "d = 'this is viany'\n",
    "print('this is {}'.format('viany'))\n",
    "this is viany\n",
    "print('i am learning {a}','and {b}') .format(a= 'vinay',b= 'siva')\n",
    "i am learning {a} and {b}\n",
    "---------------------------------------------------------------------------\n",
    "AttributeError                            Traceback (most recent call last)\n",
    "Input In [2], in <cell line: 1>()\n",
    "----> 1 print('i am learning {a}','and {b}') .format(a= 'vinay',b= 'siva')\n",
    "\n",
    "AttributeError: 'NoneType' object has no attribute 'format'\n",
    "\n",
    "print('i am learning {s}'.format(s,'siva'))\n",
    "---------------------------------------------------------------------------\n",
    "NameError                                 Traceback (most recent call last)\n",
    "Input In [3], in <cell line: 1>()\n",
    "----> 1 print('i am learning {s}'.format(s,'siva'))\n",
    "\n",
    "NameError: name 's' is not defined\n",
    "\n",
    "print('siva and viany are {}'.format('bestfriends'))\n",
    "siva and viany are bestfriends\n",
    "# using ,\n",
    "a= 'vinay'\n",
    "b ='siva'\n",
    "c = 'kiran'\n",
    "print(a,b,c,'are friends')\n",
    "vinay siva kiran are friends\n",
    "list\n",
    "# list is mutable data strctures\n",
    "# it is denoted with -[]\n",
    "# it will accept any data type \n",
    "# if a string is in the () we cant change but if a string is in the [] we can change\n",
    "a =[12,13.4,'datascience']\n",
    "print(a)\n",
    "[12, 13.4, 'datascience']\n",
    "type(a)\n",
    "list\n",
    "for i in a:\n",
    "    print(i)\n",
    "    print(type(i))\n",
    "  \n",
    "12\n",
    "<class 'int'>\n",
    "13.4\n",
    "<class 'float'>\n",
    "datascience\n",
    "<class 'str'>\n",
    "a = 'rwvo'\n",
    "(a)\n",
    "'rwvo'\n",
    "## index and slicing \n",
    "b = [12,232,'siva','rabo','kamal']\n",
    "(b[3])\n",
    "'rabo'\n",
    "a = ['vinay',12,12.5]\n",
    "a.append(5)\n",
    "(a)\n",
    "['vinay', 12, 12.5, 5]\n",
    "a = ['siva',12232,34.5,'4356']\n",
    "a.clear()\n",
    "(a)\n",
    "[]\n",
    "a = [841,3.71,'sivasankar']\n",
    "b=a.copy()\n",
    "(a)\n",
    "[841, 3.71, 'sivasankar']\n",
    "a =[1,13,34,'datascience',1,1]\n",
    "a.count(1)\n",
    "​\n",
    "3\n",
    "a = ['dbsadb',12,12.5,'vinay']\n",
    "b = [11,'dfaef',23.4]\n",
    "a.extend(b)\n",
    "(a)\n",
    "['dbsadb', 12, 12.5, 'vinay', 11, 'dfaef', 23.4]\n",
    "a = ['gdfhfhg',12,12.5,\"dgffsrf\"]\n",
    "a.index(12)\n",
    "​\n",
    "​\n",
    "1\n",
    "a = ['dfwf',12,34.5]\n",
    "a.insert(1,55)\n",
    "(a)\n",
    "['dfwf', 55, 12, 34.5]\n",
    "a = ['dfds',33,33.5,]\n",
    "a.pop()\n",
    "(a)\n",
    "['dfds', 33]\n",
    "a = ['siva','rajitha',78,78.8]\n",
    "a.pop(1)\n",
    "'rajitha'\n",
    "a = ['begum','divya',33,]\n",
    "a.remove(33)\n",
    "(a)\n",
    "['begum', 'divya']\n",
    "a = ['divya',33,89.0]\n",
    "a.reverse()\n",
    "(a)\n",
    "[89.0, 33, 'divya']\n",
    "a = [44,12,33.5]\n",
    "a.sort()\n",
    "(a)\n",
    "[12, 33.5, 44]\n",
    "​\n",
    "  Input In [80]\n",
    "    a.sort('reverse' = true)\n",
    "           ^\n",
    "SyntaxError: expression cannot contain assignment, perhaps you meant \"==\"?\n",
    "\n",
    "\n",
    "a = ['siva',23,44.5]\n",
    "a.index(23)\n",
    "​\n",
    "1\n",
    "a = ['dbfj',44,66.7]\n",
    "a.pop()\n",
    "66.7\n",
    "a.pop()\n",
    "44\n",
    "a = ['rgterfe','rtewrew','hgfhfh',]\n",
    "​\n",
    "a.pop(1)\n",
    "'rtewrew'\n",
    "tuple\n",
    "# tuple\n",
    "a = (10)\n",
    "(type(a))\n",
    "int\n",
    "a = (10,)\n",
    "(type(a))\n",
    "tuple\n",
    "a = (4,10,13,'siva','ravi',12.4)\n",
    "(a[1])\n",
    "10\n",
    "a = (12,[12,32],'vinay','siva')\n",
    "(a[1][1])\n",
    "32\n",
    "# tuple is mutable\n",
    "a = ('vinay','siva',23,45.5)\n",
    "a[1]='rama'\n",
    "---------------------------------------------------------------------------\n",
    "TypeError                                 Traceback (most recent call last)\n",
    "Input In [12], in <cell line: 2>()\n",
    "      1 a = ('vinay','siva',23,45.5)\n",
    "----> 2 a[1]='rama'\n",
    "\n",
    "TypeError: 'tuple' object does not support item assignment\n",
    "\n",
    "# packing and packing content\n",
    "a = ('vinay','degreee',2022)\n",
    "(name,study,lunch)  = a\n",
    "(name)\n",
    "'vinay'\n",
    "(lunch)\n",
    "2022\n",
    "a= (23,'vinay','dogs')\n",
    "(age,siva,divya) = a\n",
    "(siva)\n",
    "'vinay'\n",
    "# operators\n",
    "a =( 2,3,4)\n",
    "b = (12.5,34)\n",
    "(a+b)\n",
    "(2, 3, 4, 12.5, 34)\n",
    "a = (45,5)\n",
    "b = a*6\n",
    "(b)\n",
    "​\n",
    "(45, 5, 45, 5, 45, 5, 45, 5, 45, 5, 45, 5)\n",
    "# member ship function\n",
    "a = (1,44,'python')\n",
    "(13 in a)\n",
    "False\n",
    "(1 in a)\n",
    "True\n",
    "a = (1,23,43,54,65)\n",
    "for i in a:\n",
    "    print(i)\n",
    "    (i)\n",
    "    \n",
    "1\n",
    "23\n",
    "43\n",
    "54\n",
    "65\n",
    "# built in functions\n",
    "​\n",
    "a = (23,'siva')\n",
    "a.index(23)\n",
    "0\n",
    "a.count('siva')\n",
    "1\n",
    "len(a)\n",
    "2\n",
    "a = (12,44,544,67,67666,66)\n",
    "max(a)\n",
    "67666\n",
    "min(a)\n",
    "12\n",
    "len(a)\n",
    "6\n",
    "a = 23,45,76b \n",
    "max(a)\n",
    "76\n",
    "len(a)\n",
    "3\n",
    "#sort\n",
    "a =(34,23,45,65,12)\n",
    "sorted(a)\n",
    "[12, 23, 34, 45, 65]\n",
    "## string concept split\n",
    "a = 'vinay is studying inabroad'\n",
    "a.split()\n",
    "['vinay', 'is', 'studying', 'inabroad']\n",
    "join\n",
    "a = 'dogs eat cat'\n",
    "b = a.split()\n",
    "(b)\n",
    "​\n",
    "['dogs', 'eat', 'cat']\n",
    "d = ' '.join(b)\n",
    "a = 'i am happy'\n",
    "b =a.split()\n",
    "d = ' '.join(b)\n",
    "(d)\n",
    "​\n",
    "'i am happy'\n",
    "# stirngs\n",
    "a = '1,2,3,4,5'\n",
    "(a)\n",
    "'1,2,3,4,5'\n",
    "(type(a))\n",
    "str\n",
    "(a[0:2])\n",
    "'1,'\n",
    "# rough list \n",
    "a = [1,2,34,5,6,6]\n",
    "a[0]=34\n",
    "(a)\n",
    "​\n",
    "[34, 2, 34, 5, 6, 6]\n",
    "a = [('siva'),45,78,98,1]\n",
    "a[0]=19\n",
    "(a)\n",
    "      \n",
    "[19, 45, 78, 98, 1]\n",
    "(a[0])\n",
    "19\n",
    "max(a)\n",
    "98\n",
    "len(a)\n",
    "5\n",
    "sum(a)\n",
    "241\n",
    "a =[1,2,4,2]\n",
    "a.append(88)\n",
    "(a)\n",
    "[1, 2, 4, 2, 88]\n",
    "a =[1,2,3,4,5,6]\n",
    "a.insert(2,3)\n",
    "(a)\n",
    "[1, 2, 3, 3, 4, 5, 6]\n",
    "a.extend([12,100])\n",
    "(a)\n",
    "[1, 2, 3, 3, 4, 5, 6, 12, 100, 12, 100]\n",
    "a = [12,34,56,788]\n",
    "a.extend([10,100])\n",
    "(a)\n",
    "[12, 34, 56, 788, 10, 100]\n",
    "a= 'pinky'\n",
    "(a)\n",
    "'pinky'\n",
    "a = [1,2,3,4,5]\n",
    "b = [0,9,8,7,6]\n",
    "c = a+b\n",
    "(c)\n",
    "[1, 2, 3, 4, 5, 0, 9, 8, 7, 6]\n",
    "a = [1,'siva','pinky']\n",
    "del a[1]\n",
    "(a)\n",
    "[1, 'pinky']\n",
    "a = [1,'siva','pinky']\n",
    "a.remove(1)\n",
    "(a)\n",
    "['siva', 'pinky']\n",
    "a = [1,'siva','pinky']\n",
    "a.pop()\n",
    "'pinky'\n",
    "a = [1,'siva','pinky']\n",
    "a.pop(1)\n",
    "'siva'\n",
    "a = [1,'siva','pinky']\n",
    "a.clear()\n",
    "(a)\n",
    "[]\n",
    "a = 'siva',89\n",
    "b=list(a)\n",
    "(b)\n",
    "['siva', 89]\n",
    "a = [1,4,5,6,3,54,88]\n",
    "(sorted(a))\n",
    "[1, 3, 4, 5, 6, 54, 88]\n",
    "a = [1,4,5,6,3,54,88]\n",
    "a.sort(reverse=True)\n",
    "print(a)\n",
    "[88, 54, 6, 5, 4, 3, 1]\n",
    "# index and count and remove we use what is there in the index\n",
    "a = [1,4,5,6,3,54,88]\n",
    "a.reverse()\n",
    "(a)\n",
    "[88, 54, 3, 6, 5, 4, 1]\n",
    " # tuple\n",
    "a = 1,2,3,4\n",
    "(type(a))\n",
    "tuple\n",
    "a = 1,2,3,(12,34),[12,34]\n",
    "(type(a))\n",
    "tuple\n",
    "a = (1,2,3,(12,34),[34,65],'stirng')\n",
    "(a[0])\n",
    "1\n",
    "(a[3])\n",
    "(12, 34)\n",
    "​\n",
    "(a[0])\n",
    "1\n",
    "a = 'viany'\n",
    "(a[1])\n",
    "'i'\n",
    "a = 12,34,453,32,2,3,2,34,2,3\n",
    "a.index(34)\n",
    "1\n",
    ")\n",
    "#  split\n",
    "a = 'i am a goood boy'\n",
    "print(a.split())\n",
    "['i', 'am', 'a', 'goood', 'boy']\n",
    "b = 'kgf is rocky bhai world'\n",
    "b.split()\n",
    "['kgf', 'is', 'rocky', 'bhai', 'world']\n",
    "b\n",
    "[''.join(b)]\n",
    "['kgf is rocky bhai world']\n",
    "a = 'my name is vinay'\n",
    "a.split()\n",
    "['my', 'name', 'is', 'vinay']\n",
    "[''.join(a)]\n",
    "['my name is vinay']\n",
    "a = 'i am a good boy in the class '\n",
    "a.split()\n",
    "['i', 'am', 'a', 'good', 'boy', 'in', 'the', 'class']\n",
    "a\n",
    "[''.join(a)]\n",
    "['i am a good boy in the class ']\n",
    "a = 'vinay'\n",
    "a.capitalize()\n",
    "'Vinay'\n",
    "a.casefold()\n",
    "'vinay'\n",
    "i\n",
    "a.count('i')\n",
    "2\n",
    "a = 'i am big fan of rocky'\n",
    "a.title()\n",
    "'I Am Big Fan Of Rocky'\n",
    "a.replace('am','we')\n",
    "'i we big fan of rocky'\n",
    "for i in range(1,23):\n",
    "    print(i)\n",
    "1\n",
    "2\n",
    "3\n",
    "4\n",
    "5\n",
    "6\n",
    "7\n",
    "8\n",
    "9\n",
    "10\n",
    "11\n",
    "12\n",
    "13\n",
    "14\n",
    "15\n",
    "16\n",
    "17\n",
    "18\n",
    "19\n",
    "20\n",
    "21\n",
    "22\n",
    "a = 'datascience'\n",
    "for i in a:\n",
    "    print(i)\n",
    "d\n",
    "a\n",
    "t\n",
    "a\n",
    "s\n",
    "c\n",
    "i\n",
    "e\n",
    "n\n",
    "c\n",
    "e\n",
    "​"
   ]
  },
  {
   "cell_type": "code",
   "execution_count": 50,
   "id": "3c038186",
   "metadata": {},
   "outputs": [
    {
     "name": "stdout",
     "output_type": "stream",
     "text": [
      "v\n",
      "i\n",
      "n\n",
      "a\n",
      "y\n"
     ]
    }
   ],
   "source": [
    "a = 'vinay'\n",
    "for i in a:\n",
    "    print(i)"
   ]
  },
  {
   "cell_type": "code",
   "execution_count": 51,
   "id": "ee1f1ef3",
   "metadata": {},
   "outputs": [
    {
     "data": {
      "text/plain": [
       "'VINAY'"
      ]
     },
     "execution_count": 51,
     "metadata": {},
     "output_type": "execute_result"
    }
   ],
   "source": [
    "a = 'vinay'\n",
    "a.swapcase()"
   ]
  },
  {
   "cell_type": "code",
   "execution_count": 52,
   "id": "7e6af68e",
   "metadata": {},
   "outputs": [
    {
     "data": {
      "text/plain": [
       "'VINAY'"
      ]
     },
     "execution_count": 52,
     "metadata": {},
     "output_type": "execute_result"
    }
   ],
   "source": [
    "a = 'vinay'\n",
    "a.upper()"
   ]
  },
  {
   "cell_type": "raw",
   "id": "34c3faeb",
   "metadata": {},
   "source": [
    "formating techinique"
   ]
  },
  {
   "cell_type": "code",
   "execution_count": 60,
   "id": "e6647c9c",
   "metadata": {},
   "outputs": [
    {
     "data": {
      "text/plain": [
       "' i am a good boy'"
      ]
     },
     "execution_count": 60,
     "metadata": {},
     "output_type": "execute_result"
    }
   ],
   "source": [
    "a = ( ' i am a good {}'.format('boy'))\n",
    "(a)"
   ]
  },
  {
   "cell_type": "code",
   "execution_count": 62,
   "id": "8c5a294d",
   "metadata": {},
   "outputs": [
    {
     "data": {
      "text/plain": [
       "['ravi', 'vinay', 'siva', 'kumar']"
      ]
     },
     "execution_count": 62,
     "metadata": {},
     "output_type": "execute_result"
    }
   ],
   "source": [
    "a = 'ravi.vinay.siva.kumar'\n",
    "a.split('.')"
   ]
  },
  {
   "cell_type": "code",
   "execution_count": 63,
   "id": "1927df29",
   "metadata": {},
   "outputs": [
    {
     "data": {
      "text/plain": [
       "['ravi', 'vinay', 'siva.kumar']"
      ]
     },
     "execution_count": 63,
     "metadata": {},
     "output_type": "execute_result"
    }
   ],
   "source": [
    "a.split('.',2)"
   ]
  },
  {
   "cell_type": "code",
   "execution_count": 66,
   "id": "c9c1c50d",
   "metadata": {},
   "outputs": [
    {
     "data": {
      "text/plain": [
       "'vinaysiva'"
      ]
     },
     "execution_count": 66,
     "metadata": {},
     "output_type": "execute_result"
    }
   ],
   "source": [
    "a = 'vinay'\n",
    "b  = 'siva'\n",
    "c = a + b\n",
    "(c)"
   ]
  },
  {
   "cell_type": "code",
   "execution_count": 67,
   "id": "02d5519b",
   "metadata": {},
   "outputs": [
    {
     "data": {
      "text/plain": [
       "'ravi'"
      ]
     },
     "execution_count": 67,
     "metadata": {},
     "output_type": "execute_result"
    }
   ],
   "source": [
    "a = ['vinay','siva','ravi']\n",
    "a.pop()"
   ]
  },
  {
   "cell_type": "code",
   "execution_count": 75,
   "id": "ce85cb2b",
   "metadata": {},
   "outputs": [
    {
     "name": "stdout",
     "output_type": "stream",
     "text": [
      "['vinay', 'siva']\n"
     ]
    }
   ],
   "source": [
    "a = ['vinay','ravi','siva']\n",
    "a.pop(1)\n",
    "print(a)"
   ]
  },
  {
   "cell_type": "code",
   "execution_count": 77,
   "id": "2aea01db",
   "metadata": {},
   "outputs": [
    {
     "data": {
      "text/plain": [
       "[1, 1, 3, 3, 6, 45, 77, 264, 342]"
      ]
     },
     "execution_count": 77,
     "metadata": {},
     "output_type": "execute_result"
    }
   ],
   "source": [
    "a = [1,3,6,342,264,1,3,45,77]\n",
    "a.sort()\n",
    "(a)"
   ]
  },
  {
   "cell_type": "code",
   "execution_count": 80,
   "id": "ca75e963",
   "metadata": {},
   "outputs": [
    {
     "data": {
      "text/plain": [
       "[342, 264, 77, 45, 6, 3, 3, 1, 1]"
      ]
     },
     "execution_count": 80,
     "metadata": {},
     "output_type": "execute_result"
    }
   ],
   "source": [
    "a.sort(reverse=True)\n",
    "(a)"
   ]
  },
  {
   "cell_type": "code",
   "execution_count": 83,
   "id": "af9b246d",
   "metadata": {},
   "outputs": [
    {
     "data": {
      "text/plain": [
       "[1, 34, 4]"
      ]
     },
     "execution_count": 83,
     "metadata": {},
     "output_type": "execute_result"
    }
   ],
   "source": [
    "a = [1,2,34,4]\n",
    "del a[1]\n",
    "(a)"
   ]
  },
  {
   "cell_type": "code",
   "execution_count": 84,
   "id": "c930358d",
   "metadata": {},
   "outputs": [
    {
     "data": {
      "text/plain": [
       "[1, 2, 3, 4, 9, 8, 7, 6]"
      ]
     },
     "execution_count": 84,
     "metadata": {},
     "output_type": "execute_result"
    }
   ],
   "source": [
    "a = [1,2,3,4]\n",
    "b = [9,8,7,6]\n",
    "a +b"
   ]
  },
  {
   "cell_type": "code",
   "execution_count": 86,
   "id": "1cc564a5",
   "metadata": {},
   "outputs": [
    {
     "data": {
      "text/plain": [
       "[1, 2, 3, 4, 9, 8, 7, 6, 9, 8, 7, 6]"
      ]
     },
     "execution_count": 86,
     "metadata": {},
     "output_type": "execute_result"
    }
   ],
   "source": [
    "a.extend(b)\n",
    "(a)"
   ]
  },
  {
   "cell_type": "code",
   "execution_count": 87,
   "id": "354d830d",
   "metadata": {},
   "outputs": [
    {
     "data": {
      "text/plain": [
       "tuple"
      ]
     },
     "execution_count": 87,
     "metadata": {},
     "output_type": "execute_result"
    }
   ],
   "source": [
    "a = 4,[12,34],'vinay'\n",
    "(type(a))"
   ]
  },
  {
   "cell_type": "code",
   "execution_count": 89,
   "id": "461cd822",
   "metadata": {},
   "outputs": [
    {
     "name": "stdout",
     "output_type": "stream",
     "text": [
      "vinay\n"
     ]
    }
   ],
   "source": [
    "a = 'vinay',24,'data'\n",
    "name,age,work = a\n",
    "\n",
    "print(name)\n"
   ]
  },
  {
   "cell_type": "code",
   "execution_count": 91,
   "id": "7907fe0e",
   "metadata": {},
   "outputs": [
    {
     "data": {
      "text/plain": [
       "[1, 11, 12, 23, 45, 64]"
      ]
     },
     "execution_count": 91,
     "metadata": {},
     "output_type": "execute_result"
    }
   ],
   "source": [
    "a = 1,23,45,12,64,11\n",
    "sorted(a)"
   ]
  },
  {
   "cell_type": "code",
   "execution_count": 103,
   "id": "f441d8f3",
   "metadata": {},
   "outputs": [
    {
     "data": {
      "text/plain": [
       "True"
      ]
     },
     "execution_count": 103,
     "metadata": {},
     "output_type": "execute_result"
    }
   ],
   "source": [
    "a = 1,23,45,12,64,11\n",
    "(i in a)\n",
    "(1 in a)"
   ]
  },
  {
   "cell_type": "code",
   "execution_count": 106,
   "id": "cdcb2308",
   "metadata": {},
   "outputs": [
    {
     "name": "stdout",
     "output_type": "stream",
     "text": [
      "<class 'str'>\n",
      "<class 'str'>\n",
      "<class 'int'>\n",
      "<class 'int'>\n",
      "<class 'float'>\n"
     ]
    }
   ],
   "source": [
    "a = 'vinay','siva',23,43,56.6\n",
    "for i in a:\n",
    "    print(type(i))"
   ]
  },
  {
   "cell_type": "code",
   "execution_count": 108,
   "id": "c874aac7",
   "metadata": {},
   "outputs": [
    {
     "data": {
      "text/plain": [
       "{(89, 90), 1, 2, 23}"
      ]
     },
     "execution_count": 108,
     "metadata": {},
     "output_type": "execute_result"
    }
   ],
   "source": [
    "a = {1,23,2,23,(89,90)}\n",
    "(a)"
   ]
  },
  {
   "cell_type": "code",
   "execution_count": 110,
   "id": "21d248ee",
   "metadata": {},
   "outputs": [
    {
     "data": {
      "text/plain": [
       "{1, 2, 3, 4, 56}"
      ]
     },
     "execution_count": 110,
     "metadata": {},
     "output_type": "execute_result"
    }
   ],
   "source": [
    "a = {1,2,3,4}\n",
    "a.add(56)\n",
    "(a)"
   ]
  },
  {
   "cell_type": "code",
   "execution_count": 116,
   "id": "3e7ac3a3",
   "metadata": {},
   "outputs": [
    {
     "data": {
      "text/plain": [
       "{1, 2, 3, 32, 34, 35, 42, 89, 98, 3424}"
      ]
     },
     "execution_count": 116,
     "metadata": {},
     "output_type": "execute_result"
    }
   ],
   "source": [
    "a = {1,2,3,42,32,3424,35,34,}\n",
    "a.update([89,98])\n",
    "(a)"
   ]
  },
  {
   "cell_type": "code",
   "execution_count": 118,
   "id": "469b5520",
   "metadata": {},
   "outputs": [
    {
     "data": {
      "text/plain": [
       "{1, 2, 3, 4, 4.5, 5}"
      ]
     },
     "execution_count": 118,
     "metadata": {},
     "output_type": "execute_result"
    }
   ],
   "source": [
    "a = {1,2,3,4,5,4.5}\n",
    "(a)"
   ]
  },
  {
   "cell_type": "code",
   "execution_count": 120,
   "id": "a0dbb5b5",
   "metadata": {},
   "outputs": [
    {
     "data": {
      "text/plain": [
       "{1, 2, 3, 4, 4.5}"
      ]
     },
     "execution_count": 120,
     "metadata": {},
     "output_type": "execute_result"
    }
   ],
   "source": [
    "a = {1,2,3,4,5,4.5}\n",
    "a.discard(5)\n",
    "(a)"
   ]
  },
  {
   "cell_type": "code",
   "execution_count": 125,
   "id": "a2396b64",
   "metadata": {},
   "outputs": [
    {
     "data": {
      "text/plain": [
       "{2, 3, 4, 4.5, 5}"
      ]
     },
     "execution_count": 125,
     "metadata": {},
     "output_type": "execute_result"
    }
   ],
   "source": [
    "a = {1,2,3,4,5,4.5}\n",
    "a.pop()\n",
    "(a)"
   ]
  },
  {
   "cell_type": "code",
   "execution_count": 128,
   "id": "e9cd4459",
   "metadata": {},
   "outputs": [
    {
     "data": {
      "text/plain": [
       "{0, 1, 2, 3, 4, 4.5, 5, 6, 7, 8, 9}"
      ]
     },
     "execution_count": 128,
     "metadata": {},
     "output_type": "execute_result"
    }
   ],
   "source": [
    "a = {1,2,3,4,5,4.5}\n",
    "b = {7,8,9,0,6,7,7}\n",
    "a.union(b)"
   ]
  },
  {
   "cell_type": "code",
   "execution_count": 129,
   "id": "efd94c4d",
   "metadata": {},
   "outputs": [
    {
     "data": {
      "text/plain": [
       "{0, 1, 2, 3, 4, 4.5, 5, 6, 7, 8, 9}"
      ]
     },
     "execution_count": 129,
     "metadata": {},
     "output_type": "execute_result"
    }
   ],
   "source": [
    "a | b"
   ]
  },
  {
   "cell_type": "code",
   "execution_count": 130,
   "id": "b66f928d",
   "metadata": {},
   "outputs": [
    {
     "data": {
      "text/plain": [
       "set()"
      ]
     },
     "execution_count": 130,
     "metadata": {},
     "output_type": "execute_result"
    }
   ],
   "source": [
    "a&b"
   ]
  },
  {
   "cell_type": "code",
   "execution_count": 131,
   "id": "a9d2ac39",
   "metadata": {},
   "outputs": [
    {
     "data": {
      "text/plain": [
       "dict"
      ]
     },
     "execution_count": 131,
     "metadata": {},
     "output_type": "execute_result"
    }
   ],
   "source": [
    "a = {1:'vinay'}\n",
    "(type(a))"
   ]
  },
  {
   "cell_type": "code",
   "execution_count": 132,
   "id": "6e840ef8",
   "metadata": {},
   "outputs": [
    {
     "data": {
      "text/plain": [
       "{'english': 12, 'social': 34}"
      ]
     },
     "execution_count": 132,
     "metadata": {},
     "output_type": "execute_result"
    }
   ],
   "source": [
    "books ={}\n",
    "books['english']=12\n",
    "books['social']=34\n",
    "(books)"
   ]
  },
  {
   "cell_type": "code",
   "execution_count": 135,
   "id": "23e03d6d",
   "metadata": {},
   "outputs": [
    {
     "data": {
      "text/plain": [
       "{12, 34, 43, 56, 99}"
      ]
     },
     "execution_count": 135,
     "metadata": {},
     "output_type": "execute_result"
    }
   ],
   "source": [
    "a = {12,34,56}\n",
    "a.update([99,43])\n",
    "(a)"
   ]
  },
  {
   "cell_type": "code",
   "execution_count": 141,
   "id": "ed287096",
   "metadata": {},
   "outputs": [
    {
     "data": {
      "text/plain": [
       "'vinay'"
      ]
     },
     "execution_count": 141,
     "metadata": {},
     "output_type": "execute_result"
    }
   ],
   "source": [
    "a = {1:'vinay',2:'ravi',3:'siva'}\n",
    "a[1]"
   ]
  },
  {
   "cell_type": "code",
   "execution_count": 142,
   "id": "a5b5477b",
   "metadata": {},
   "outputs": [
    {
     "data": {
      "text/plain": [
       "'vinay'"
      ]
     },
     "execution_count": 142,
     "metadata": {},
     "output_type": "execute_result"
    }
   ],
   "source": [
    "a.get(1)"
   ]
  },
  {
   "cell_type": "code",
   "execution_count": 143,
   "id": "3c37e7a1",
   "metadata": {},
   "outputs": [
    {
     "data": {
      "text/plain": [
       "'ravi'"
      ]
     },
     "execution_count": 143,
     "metadata": {},
     "output_type": "execute_result"
    }
   ],
   "source": [
    "a.get(2)"
   ]
  },
  {
   "cell_type": "code",
   "execution_count": 144,
   "id": "1c51cdbc",
   "metadata": {},
   "outputs": [
    {
     "name": "stdout",
     "output_type": "stream",
     "text": [
      "key = 1\n",
      "key = 2\n",
      "key = 3\n"
     ]
    }
   ],
   "source": [
    "a = {1:'vinay',2:'siva',3:'ravi'}\n",
    "for i in a:\n",
    "    print(\"key =\",i)"
   ]
  },
  {
   "cell_type": "code",
   "execution_count": 146,
   "id": "b9d1eac2",
   "metadata": {},
   "outputs": [
    {
     "name": "stdout",
     "output_type": "stream",
     "text": [
      "values = 1\n",
      "vinay\n",
      "values = 2\n",
      "siva\n",
      "values = 3\n",
      "ravi\n"
     ]
    }
   ],
   "source": [
    "for i in a:\n",
    "    print('values =',i)\n",
    "    print(a[i])"
   ]
  },
  {
   "cell_type": "code",
   "execution_count": 149,
   "id": "058b5715",
   "metadata": {},
   "outputs": [
    {
     "name": "stdout",
     "output_type": "stream",
     "text": [
      "key = 1\n",
      "key = 2\n",
      "key = 3\n"
     ]
    }
   ],
   "source": [
    "a = {1:'vinay',2:'siva',3:'ravi'}\n",
    "for i in a:\n",
    "    print('key =',i)"
   ]
  },
  {
   "cell_type": "code",
   "execution_count": 152,
   "id": "a7d1ea76",
   "metadata": {},
   "outputs": [
    {
     "name": "stdout",
     "output_type": "stream",
     "text": [
      "vinay\n",
      "siva\n",
      "ravi\n"
     ]
    }
   ],
   "source": [
    "a = {1:'vinay',2:'siva',3:'ravi'}\n",
    "for i in a:\n",
    "    print(a[i])"
   ]
  },
  {
   "cell_type": "code",
   "execution_count": 156,
   "id": "338da084",
   "metadata": {},
   "outputs": [
    {
     "name": "stdout",
     "output_type": "stream",
     "text": [
      "1\n",
      "2\n",
      "3\n"
     ]
    }
   ],
   "source": [
    "a = {1:'vinay',2:'siva',3:'ravi'}\n",
    "for i in a:\n",
    "    print(i)"
   ]
  },
  {
   "cell_type": "code",
   "execution_count": 157,
   "id": "f13f3c98",
   "metadata": {},
   "outputs": [
    {
     "name": "stdout",
     "output_type": "stream",
     "text": [
      "1\n",
      "2\n",
      "3\n"
     ]
    }
   ],
   "source": [
    "a = {1:'vinay',2:'siva',3:'ravi'}\n",
    "for i in a.keys():\n",
    "    print(i)"
   ]
  },
  {
   "cell_type": "code",
   "execution_count": 158,
   "id": "9af4b6d8",
   "metadata": {},
   "outputs": [
    {
     "name": "stdout",
     "output_type": "stream",
     "text": [
      "vinay\n",
      "siva\n",
      "ravi\n"
     ]
    }
   ],
   "source": [
    "for i in a.values():\n",
    "    print(i)"
   ]
  },
  {
   "cell_type": "code",
   "execution_count": 160,
   "id": "3c278c8c",
   "metadata": {},
   "outputs": [
    {
     "name": "stdout",
     "output_type": "stream",
     "text": [
      "(1, 'vinay')\n",
      "(2, 'siva')\n",
      "(3, 'ravi')\n"
     ]
    }
   ],
   "source": [
    "a = {1:'vinay',2:'siva',3:'ravi'}\n",
    "for i in a.items():\n",
    "    print(i)"
   ]
  },
  {
   "cell_type": "code",
   "execution_count": 12,
   "id": "cff930c8",
   "metadata": {},
   "outputs": [
    {
     "data": {
      "text/plain": [
       "23"
      ]
     },
     "execution_count": 12,
     "metadata": {},
     "output_type": "execute_result"
    }
   ],
   "source": [
    "list1 = [6,23,3,2,0,9,8,75]\n",
    "(list1[:][1])"
   ]
  },
  {
   "cell_type": "code",
   "execution_count": 25,
   "id": "c765011c",
   "metadata": {},
   "outputs": [
    {
     "name": "stdout",
     "output_type": "stream",
     "text": [
      "[23, 2, 9, 75]\n"
     ]
    }
   ],
   "source": [
    "a = [6,23,3,2,0,9,8,75]\n",
    "print(a[1:8:2])"
   ]
  },
  {
   "cell_type": "code",
   "execution_count": 5,
   "id": "b9ddb2d7",
   "metadata": {},
   "outputs": [],
   "source": [
    "def vinay(a):\n",
    "    if a%2==0:\n",
    "        print(\"EVEN\")\n",
    "    else:\n",
    "            print(\"ODD\")\n",
    "            "
   ]
  },
  {
   "cell_type": "code",
   "execution_count": 6,
   "id": "a42700fd",
   "metadata": {},
   "outputs": [
    {
     "name": "stdout",
     "output_type": "stream",
     "text": [
      "EVEN\n"
     ]
    }
   ],
   "source": [
    "vinay(66)"
   ]
  },
  {
   "cell_type": "code",
   "execution_count": null,
   "id": "6b6f1b6f",
   "metadata": {},
   "outputs": [],
   "source": [
    "# return concept in functiolns\n",
    "a = int(input('enter a value'))\n"
   ]
  },
  {
   "cell_type": "code",
   "execution_count": null,
   "id": "c95c75dc",
   "metadata": {},
   "outputs": [],
   "source": [
    "c= []\n",
    "for i in  range(10):\n",
    "    a= int(input())\n",
    "    c.append(a)\n",
    "   "
   ]
  },
  {
   "cell_type": "code",
   "execution_count": 17,
   "id": "dc5100a2",
   "metadata": {},
   "outputs": [
    {
     "name": "stdout",
     "output_type": "stream",
     "text": [
      "prime\n"
     ]
    }
   ],
   "source": [
    "a = 11\n",
    "if a%1 == 0:\n",
    "    print('prime')"
   ]
  },
  {
   "cell_type": "code",
   "execution_count": 41,
   "id": "782d3527",
   "metadata": {},
   "outputs": [
    {
     "name": "stdout",
     "output_type": "stream",
     "text": [
      "[1, 2, 5, 10]\n",
      "\n",
      "not a prime number\n"
     ]
    }
   ],
   "source": [
    "a = 10\n",
    "k = []\n",
    "for i in range(1,a+1):\n",
    "    if a%i == 0:\n",
    "        k.append(i)\n",
    "        \n",
    "print(k)\n",
    "print()\n",
    "\n",
    "\n",
    "\n",
    "c = 0\n",
    "\n",
    "for j in k:\n",
    "    c = c+j\n",
    "    \n",
    "    \n",
    "    \n",
    "if c == a:\n",
    "    print('it is a prime number')\n",
    "else:\n",
    "    print('not a prime number')\n",
    "    \n",
    "    \n",
    "        \n",
    "        \n",
    "        "
   ]
  },
  {
   "cell_type": "code",
   "execution_count": 6,
   "id": "a53ed17a",
   "metadata": {},
   "outputs": [
    {
     "name": "stdout",
     "output_type": "stream",
     "text": [
      "1\n",
      "2\n",
      "3\n"
     ]
    }
   ],
   "source": [
    "k = [1,2,3]\n",
    "for i in k:\n",
    "    print(i)"
   ]
  },
  {
   "cell_type": "code",
   "execution_count": 10,
   "id": "a2d81e8c",
   "metadata": {},
   "outputs": [
    {
     "name": "stdout",
     "output_type": "stream",
     "text": [
      "[1, 2, 5, 10]\n"
     ]
    }
   ],
   "source": [
    "a = 10\n",
    "f = []\n",
    "for i in range(1,a+1):\n",
    "    if a %i == 0:\n",
    "        f.append(i)\n",
    "print(f)\n",
    "print()\n",
    "\n"
   ]
  },
  {
   "cell_type": "code",
   "execution_count": 11,
   "id": "fe9367da",
   "metadata": {},
   "outputs": [
    {
     "name": "stdout",
     "output_type": "stream",
     "text": [
      "1\n",
      "13\n"
     ]
    }
   ],
   "source": [
    "a = 13\n",
    "for i in range(1,a+1):\n",
    "    if a%i==0:\n",
    "        print(i)"
   ]
  },
  {
   "cell_type": "code",
   "execution_count": 18,
   "id": "c35cd310",
   "metadata": {},
   "outputs": [
    {
     "name": "stdout",
     "output_type": "stream",
     "text": [
      "[1, 2, 7, 14]\n"
     ]
    }
   ],
   "source": [
    "a = 14\n",
    "b = []\n",
    "for i in range(1,a+1):\n",
    "    if a%i==0:\n",
    "        b.append(i)\n",
    "print(b)\n",
    "        "
   ]
  },
  {
   "cell_type": "code",
   "execution_count": 19,
   "id": "aeae2810",
   "metadata": {},
   "outputs": [
    {
     "name": "stdout",
     "output_type": "stream",
     "text": [
      "odd\n"
     ]
    }
   ],
   "source": [
    "a = 13\n",
    "\n",
    "if a%2==0:\n",
    "    print('even')\n",
    "else:\n",
    "    print('odd')"
   ]
  },
  {
   "cell_type": "code",
   "execution_count": 21,
   "id": "95e0e81e",
   "metadata": {},
   "outputs": [
    {
     "name": "stdout",
     "output_type": "stream",
     "text": [
      "1\n",
      "2\n",
      "3\n",
      "4\n",
      "6\n",
      "12\n"
     ]
    }
   ],
   "source": [
    "a = 12\n",
    "for i in range(1,a+1):\n",
    "    if a%i==0:\n",
    "        "
   ]
  },
  {
   "cell_type": "code",
   "execution_count": 22,
   "id": "b668a38e",
   "metadata": {},
   "outputs": [],
   "source": [
    "# lamda function is an anonymous function\n"
   ]
  },
  {
   "cell_type": "code",
   "execution_count": 24,
   "id": "f323ca7a",
   "metadata": {},
   "outputs": [
    {
     "data": {
      "text/plain": [
       "4"
      ]
     },
     "execution_count": 24,
     "metadata": {},
     "output_type": "execute_result"
    }
   ],
   "source": [
    "a= 1\n",
    "b = 3\n",
    "\n",
    "vinay =lambda x,y: x+y\n",
    "(vinay(a,b))"
   ]
  },
  {
   "cell_type": "code",
   "execution_count": 25,
   "id": "9ed082a9",
   "metadata": {},
   "outputs": [
    {
     "data": {
      "text/plain": [
       "408"
      ]
     },
     "execution_count": 25,
     "metadata": {},
     "output_type": "execute_result"
    }
   ],
   "source": [
    "a = 12\n",
    "b = 34\n",
    "\n",
    "c  = lambda x,y:x*y\n",
    "(c(a,b))"
   ]
  },
  {
   "cell_type": "code",
   "execution_count": 29,
   "id": "1d732ad7",
   "metadata": {},
   "outputs": [
    {
     "data": {
      "text/plain": [
       "True"
      ]
     },
     "execution_count": 29,
     "metadata": {},
     "output_type": "execute_result"
    }
   ],
   "source": [
    "a =23\n",
    "\n",
    "k = lambda x:x>4\n",
    "(k(a))"
   ]
  },
  {
   "cell_type": "code",
   "execution_count": null,
   "id": "9738e73d",
   "metadata": {},
   "outputs": [],
   "source": [
    "a =12 \n",
    "\n",
    "c = lambda x:x%2==0\n",
    "\n",
    "(c(a))"
   ]
  },
  {
   "cell_type": "code",
   "execution_count": null,
   "id": "93a2687f",
   "metadata": {},
   "outputs": [],
   "source": [
    "a = int (input('enter a number '))\n",
    "for i  in range(1,11):\n",
    "    print(a,'*',i,'=',a,i)"
   ]
  },
  {
   "cell_type": "code",
   "execution_count": null,
   "id": "840f0281",
   "metadata": {},
   "outputs": [],
   "source": []
  }
 ],
 "metadata": {
  "kernelspec": {
   "display_name": "Python 3 (ipykernel)",
   "language": "python",
   "name": "python3"
  },
  "language_info": {
   "codemirror_mode": {
    "name": "ipython",
    "version": 3
   },
   "file_extension": ".py",
   "mimetype": "text/x-python",
   "name": "python",
   "nbconvert_exporter": "python",
   "pygments_lexer": "ipython3",
   "version": "3.9.12"
  }
 },
 "nbformat": 4,
 "nbformat_minor": 5
}
