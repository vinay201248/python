{
 "cells": [
  {
   "cell_type": "code",
   "execution_count": 1,
   "id": "37c1ac72",
   "metadata": {},
   "outputs": [
    {
     "ename": "AttributeError",
     "evalue": "'int' object has no attribute 'count'",
     "output_type": "error",
     "traceback": [
      "\u001b[1;31m---------------------------------------------------------------------------\u001b[0m",
      "\u001b[1;31mAttributeError\u001b[0m                            Traceback (most recent call last)",
      "Input \u001b[1;32mIn [1]\u001b[0m, in \u001b[0;36m<cell line: 2>\u001b[1;34m()\u001b[0m\n\u001b[0;32m      1\u001b[0m \u001b[38;5;66;03m# 1 . capitalize\u001b[39;00m\n\u001b[1;32m----> 2\u001b[0m \u001b[38;5;241;43m2\u001b[39;49m\u001b[43m \u001b[49m\u001b[38;5;241;43m.\u001b[39;49m\u001b[43m \u001b[49m\u001b[43mcount\u001b[49m\n\u001b[0;32m      3\u001b[0m \u001b[38;5;241m3\u001b[39m \u001b[38;5;241m.\u001b[39m startswith\n\u001b[0;32m      4\u001b[0m \u001b[38;5;241m4\u001b[39m \u001b[38;5;241m.\u001b[39m endswith\n",
      "\u001b[1;31mAttributeError\u001b[0m: 'int' object has no attribute 'count'"
     ]
    }
   ],
   "source": [
    "# 1 . capitalize\n",
    "2 . count\n",
    "3 . startswith\n",
    "4 . endswith\n",
    "5 . isalpha\n",
    "6 . isdigit\n",
    "7 . isdecimal\n",
    "8 . isalnum\n",
    "9 . islower\n",
    "10 . isupper\n",
    "11 . lower\n",
    "12 . upper \n",
    "13 . title\n",
    "14 . replace\n",
    "# 15 . swapcase"
   ]
  },
  {
   "cell_type": "code",
   "execution_count": null,
   "id": "f2d7291f",
   "metadata": {},
   "outputs": [],
   "source": []
  },
  {
   "cell_type": "markdown",
   "id": "1c2eda75",
   "metadata": {},
   "source": [
    "# pre defined functions or inbuilt functions"
   ]
  },
  {
   "cell_type": "code",
   "execution_count": 4,
   "id": "18d98529",
   "metadata": {},
   "outputs": [
    {
     "data": {
      "text/plain": [
       "'Data science'"
      ]
     },
     "execution_count": 4,
     "metadata": {},
     "output_type": "execute_result"
    }
   ],
   "source": [
    "# capitalize \n",
    "# capitalize means only the starting character will be convertd\n",
    "\n",
    "a = 'data science'\n",
    "a.capitalize()"
   ]
  },
  {
   "cell_type": "code",
   "execution_count": 6,
   "id": "1ebd2bd3",
   "metadata": {},
   "outputs": [
    {
     "data": {
      "text/plain": [
       "1"
      ]
     },
     "execution_count": 6,
     "metadata": {},
     "output_type": "execute_result"
    }
   ],
   "source": [
    "# count\n",
    "a = 'vinay kumar'\n",
    "a.count('v')"
   ]
  },
  {
   "cell_type": "code",
   "execution_count": 7,
   "id": "a4c82020",
   "metadata": {},
   "outputs": [
    {
     "data": {
      "text/plain": [
       "True"
      ]
     },
     "execution_count": 7,
     "metadata": {},
     "output_type": "execute_result"
    }
   ],
   "source": [
    "# endswith\n",
    "a = 'my anme is viany'\n",
    "a.endswith('y')"
   ]
  },
  {
   "cell_type": "code",
   "execution_count": 8,
   "id": "5ff19ec6",
   "metadata": {},
   "outputs": [
    {
     "data": {
      "text/plain": [
       "True"
      ]
     },
     "execution_count": 8,
     "metadata": {},
     "output_type": "execute_result"
    }
   ],
   "source": [
    "# starts with\n",
    "a = 'i am a big boy'\n",
    "a.startswith('i')"
   ]
  },
  {
   "cell_type": "code",
   "execution_count": 9,
   "id": "691d75b8",
   "metadata": {},
   "outputs": [
    {
     "data": {
      "text/plain": [
       "True"
      ]
     },
     "execution_count": 9,
     "metadata": {},
     "output_type": "execute_result"
    }
   ],
   "source": [
    "# isalpha\n",
    "a = 'ravikumar'\n",
    "a.isalpha()"
   ]
  },
  {
   "cell_type": "code",
   "execution_count": 10,
   "id": "88a48ff1",
   "metadata": {},
   "outputs": [
    {
     "data": {
      "text/plain": [
       "True"
      ]
     },
     "execution_count": 10,
     "metadata": {},
     "output_type": "execute_result"
    }
   ],
   "source": [
    "# isdigit\n",
    "a = '3243323242332'\n",
    "a.isdigit()"
   ]
  },
  {
   "cell_type": "code",
   "execution_count": 11,
   "id": "93d48e03",
   "metadata": {},
   "outputs": [
    {
     "data": {
      "text/plain": [
       "True"
      ]
     },
     "execution_count": 11,
     "metadata": {},
     "output_type": "execute_result"
    }
   ],
   "source": [
    "# islower\n",
    "a = 'siva is a bad boy'\n",
    "a.islower()"
   ]
  },
  {
   "cell_type": "code",
   "execution_count": 13,
   "id": "51aa9a90",
   "metadata": {},
   "outputs": [
    {
     "data": {
      "text/plain": [
       "True"
      ]
     },
     "execution_count": 13,
     "metadata": {},
     "output_type": "execute_result"
    }
   ],
   "source": [
    "# isupper\n",
    "a = 'RAVI'\n",
    "a.isupper()"
   ]
  },
  {
   "cell_type": "raw",
   "id": "51524677",
   "metadata": {},
   "source": [
    "# lower"
   ]
  },
  {
   "cell_type": "code",
   "execution_count": 16,
   "id": "e063a7cf",
   "metadata": {},
   "outputs": [
    {
     "data": {
      "text/plain": [
       "'ravikumar'"
      ]
     },
     "execution_count": 16,
     "metadata": {},
     "output_type": "execute_result"
    }
   ],
   "source": [
    "a = 'RAVIkumar'\n",
    "a.lower()"
   ]
  },
  {
   "cell_type": "code",
   "execution_count": 18,
   "id": "20f11c6b",
   "metadata": {},
   "outputs": [
    {
     "data": {
      "text/plain": [
       "'DBVDSJJSDVDSDDSJDSFJDS'"
      ]
     },
     "execution_count": 18,
     "metadata": {},
     "output_type": "execute_result"
    }
   ],
   "source": [
    "#upper\n",
    "a ='DBVDSJJSdvdsddsJDSFJDS'\n",
    "a.upper()"
   ]
  },
  {
   "cell_type": "code",
   "execution_count": 20,
   "id": "c375af15",
   "metadata": {},
   "outputs": [
    {
     "data": {
      "text/plain": [
       "' I Am Big Fan Of Vijay'"
      ]
     },
     "execution_count": 20,
     "metadata": {},
     "output_type": "execute_result"
    }
   ],
   "source": [
    "# title\n",
    "a = ' i am big fan of vijay'\n",
    "a.title()"
   ]
  },
  {
   "cell_type": "code",
   "execution_count": 21,
   "id": "83de5da2",
   "metadata": {},
   "outputs": [
    {
     "data": {
      "text/plain": [
       "'rama sankar'"
      ]
     },
     "execution_count": 21,
     "metadata": {},
     "output_type": "execute_result"
    }
   ],
   "source": [
    "# replace\n",
    "a = 'siva sankar'\n",
    "a.replace('siva','rama')"
   ]
  },
  {
   "cell_type": "code",
   "execution_count": 22,
   "id": "fbd59e5c",
   "metadata": {},
   "outputs": [
    {
     "data": {
      "text/plain": [
       "'DEAR BOYS ALL OFF YOU WELCOME'"
      ]
     },
     "execution_count": 22,
     "metadata": {},
     "output_type": "execute_result"
    }
   ],
   "source": [
    "# swapcase\n",
    "a = 'dear boys all off you welcome'\n",
    "a.swapcase()"
   ]
  },
  {
   "cell_type": "code",
   "execution_count": 23,
   "id": "a0648364",
   "metadata": {},
   "outputs": [
    {
     "data": {
      "text/plain": [
       "'WHERE ARE YOU'"
      ]
     },
     "execution_count": 23,
     "metadata": {},
     "output_type": "execute_result"
    }
   ],
   "source": [
    "a = 'where are you'\n",
    "a.upper()"
   ]
  },
  {
   "cell_type": "code",
   "execution_count": 26,
   "id": "cd0019cd",
   "metadata": {},
   "outputs": [
    {
     "name": "stdout",
     "output_type": "stream",
     "text": [
      "rajesh nandha siva\n"
     ]
    }
   ],
   "source": [
    "# formating technique\n",
    "\n",
    "# for formatting we will use flower bracket\n",
    "a = 'rajesh nandha {}'.format('siva')\n",
    "print(a)"
   ]
  },
  {
   "cell_type": "code",
   "execution_count": 27,
   "id": "b63696d3",
   "metadata": {},
   "outputs": [
    {
     "ename": "SyntaxError",
     "evalue": "invalid syntax (1609966327.py, line 1)",
     "output_type": "error",
     "traceback": [
      "\u001b[1;36m  Input \u001b[1;32mIn [27]\u001b[1;36m\u001b[0m\n\u001b[1;33m    a = \" i am learning {'s'}, and {'f'}\".format{'s'},('ml')\u001b[0m\n\u001b[1;37m                                                ^\u001b[0m\n\u001b[1;31mSyntaxError\u001b[0m\u001b[1;31m:\u001b[0m invalid syntax\n"
     ]
    }
   ],
   "source": [
    "a = \" i am learning {'s'}, and {'f'}\".format{'s'},('ml')"
   ]
  },
  {
   "cell_type": "code",
   "execution_count": 29,
   "id": "547323cc",
   "metadata": {},
   "outputs": [
    {
     "ename": "SyntaxError",
     "evalue": "invalid syntax (3660574391.py, line 1)",
     "output_type": "error",
     "traceback": [
      "\u001b[1;36m  Input \u001b[1;32mIn [29]\u001b[1;36m\u001b[0m\n\u001b[1;33m    a = 'i am learning {a}, and {'b}'.format(a='ml'),(b='dl')\u001b[0m\n\u001b[1;37m                                  ^\u001b[0m\n\u001b[1;31mSyntaxError\u001b[0m\u001b[1;31m:\u001b[0m invalid syntax\n"
     ]
    }
   ],
   "source": [
    "a = 'i am learning {a}, and {'b}'.format(a='ml'),(b='dl')"
   ]
  },
  {
   "cell_type": "code",
   "execution_count": 2,
   "id": "62afd79e",
   "metadata": {},
   "outputs": [
    {
     "ename": "SyntaxError",
     "evalue": "unexpected EOF while parsing (1039159630.py, line 1)",
     "output_type": "error",
     "traceback": [
      "\u001b[1;36m  Input \u001b[1;32mIn [2]\u001b[1;36m\u001b[0m\n\u001b[1;33m    print('i am learning {a}').format(a= ' vinaur'\u001b[0m\n\u001b[1;37m                                                  ^\u001b[0m\n\u001b[1;31mSyntaxError\u001b[0m\u001b[1;31m:\u001b[0m unexpected EOF while parsing\n"
     ]
    }
   ],
   "source": [
    "print('i am learning {a}').format(a= ' vinaur'"
   ]
  },
  {
   "cell_type": "code",
   "execution_count": null,
   "id": "d1a6ad40",
   "metadata": {},
   "outputs": [],
   "source": [
    "print('i am learning {a},and {b}'.format(a = 'machine',b =))"
   ]
  }
 ],
 "metadata": {
  "kernelspec": {
   "display_name": "Python 3 (ipykernel)",
   "language": "python",
   "name": "python3"
  },
  "language_info": {
   "codemirror_mode": {
    "name": "ipython",
    "version": 3
   },
   "file_extension": ".py",
   "mimetype": "text/x-python",
   "name": "python",
   "nbconvert_exporter": "python",
   "pygments_lexer": "ipython3",
   "version": "3.9.12"
  }
 },
 "nbformat": 4,
 "nbformat_minor": 5
}
