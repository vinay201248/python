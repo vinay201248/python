{
 "cells": [
  {
   "cell_type": "code",
   "execution_count": 1,
   "id": "8ccc204b",
   "metadata": {},
   "outputs": [
    {
     "data": {
      "text/plain": [
       "list"
      ]
     },
     "execution_count": 1,
     "metadata": {},
     "output_type": "execute_result"
    }
   ],
   "source": [
    "a = [1,2,3,4]\n",
    "(type(a))"
   ]
  },
  {
   "cell_type": "code",
   "execution_count": 4,
   "id": "8db5bc64",
   "metadata": {},
   "outputs": [
    {
     "name": "stdout",
     "output_type": "stream",
     "text": [
      "<class 'int'>\n",
      "<class 'int'>\n",
      "<class 'float'>\n",
      "<class 'str'>\n",
      "<class 'bool'>\n"
     ]
    }
   ],
   "source": [
    "a =[1,23,44.5,'python',True] # boolean= True,False\n",
    "for i in a:\n",
    "    print(type(i))"
   ]
  },
  {
   "cell_type": "code",
   "execution_count": 5,
   "id": "566616c7",
   "metadata": {},
   "outputs": [
    {
     "data": {
      "text/plain": [
       "3"
      ]
     },
     "execution_count": 5,
     "metadata": {},
     "output_type": "execute_result"
    }
   ],
   "source": [
    "# python acceising elements from list\n",
    "a = [3,4,5,6]\n",
    "(a[0])"
   ]
  },
  {
   "cell_type": "code",
   "execution_count": 6,
   "id": "9b60eaae",
   "metadata": {},
   "outputs": [
    {
     "data": {
      "text/plain": [
       "[2, 3, 4]"
      ]
     },
     "execution_count": 6,
     "metadata": {},
     "output_type": "execute_result"
    }
   ],
   "source": [
    "# pyhton slicing\n",
    "a = [1,2,3,4,5]\n",
    "(a[1:4])"
   ]
  },
  {
   "cell_type": "code",
   "execution_count": 7,
   "id": "dd8a0539",
   "metadata": {},
   "outputs": [
    {
     "data": {
      "text/plain": [
       "['sova', 54, 66, 767, 76.7]"
      ]
     },
     "execution_count": 7,
     "metadata": {},
     "output_type": "execute_result"
    }
   ],
   "source": [
    "a = ['sova',54,66,767,76.7]\n",
    "(a[:])"
   ]
  },
  {
   "cell_type": "code",
   "execution_count": 8,
   "id": "4179b1a4",
   "metadata": {},
   "outputs": [
    {
     "data": {
      "text/plain": [
       "['sova', 54, 66, 767]"
      ]
     },
     "execution_count": 8,
     "metadata": {},
     "output_type": "execute_result"
    }
   ],
   "source": [
    "(a[0:4])"
   ]
  },
  {
   "cell_type": "code",
   "execution_count": 9,
   "id": "7a741b41",
   "metadata": {},
   "outputs": [
    {
     "data": {
      "text/plain": [
       "['sova', 66]"
      ]
     },
     "execution_count": 9,
     "metadata": {},
     "output_type": "execute_result"
    }
   ],
   "source": [
    "(a[0:4:2])"
   ]
  },
  {
   "cell_type": "code",
   "execution_count": 10,
   "id": "28b9f625",
   "metadata": {},
   "outputs": [
    {
     "data": {
      "text/plain": [
       "['siva', 23, 56.8, 'ramesh', 'ravi']"
      ]
     },
     "execution_count": 10,
     "metadata": {},
     "output_type": "execute_result"
    }
   ],
   "source": [
    "# we can change the list (replace)\n",
    "a = ['siva',23,56.8,'ramesh',88]\n",
    "a[4]='ravi'\n",
    "(a)"
   ]
  },
  {
   "cell_type": "code",
   "execution_count": 11,
   "id": "450f674e",
   "metadata": {},
   "outputs": [
    {
     "data": {
      "text/plain": [
       "[34, 45, 45, 65, 67, 87, 22]"
      ]
     },
     "execution_count": 11,
     "metadata": {},
     "output_type": "execute_result"
    }
   ],
   "source": [
    "a = [12,34,45,65,67,87,22]\n",
    "a[0:2]=34,45\n",
    "(a)"
   ]
  },
  {
   "cell_type": "code",
   "execution_count": 16,
   "id": "769f92e6",
   "metadata": {},
   "outputs": [
    {
     "data": {
      "text/plain": [
       "[34, 45, 45, 65, 67, 87, 22, 90, 90, 99, 'siva']"
      ]
     },
     "execution_count": 16,
     "metadata": {},
     "output_type": "execute_result"
    }
   ],
   "source": [
    "a.append('siva')\n",
    "(a)"
   ]
  },
  {
   "cell_type": "code",
   "execution_count": 19,
   "id": "f0d4b885",
   "metadata": {},
   "outputs": [
    {
     "data": {
      "text/plain": [
       "[12, 34, 45, 45, 65, 67, 87, 22, 90, 90, 99, 'siva', 12, 12]"
      ]
     },
     "execution_count": 19,
     "metadata": {},
     "output_type": "execute_result"
    }
   ],
   "source": [
    "a.insert(0,12)\n",
    "(a)"
   ]
  },
  {
   "cell_type": "code",
   "execution_count": 24,
   "id": "aa772798",
   "metadata": {},
   "outputs": [
    {
     "data": {
      "text/plain": [
       "1"
      ]
     },
     "execution_count": 24,
     "metadata": {},
     "output_type": "execute_result"
    }
   ],
   "source": [
    "a = [12,34,21,78,77]\n",
    "a.count(34)"
   ]
  },
  {
   "cell_type": "code",
   "execution_count": 25,
   "id": "869b319e",
   "metadata": {},
   "outputs": [
    {
     "data": {
      "text/plain": [
       "3"
      ]
     },
     "execution_count": 25,
     "metadata": {},
     "output_type": "execute_result"
    }
   ],
   "source": [
    "a.index(78)"
   ]
  },
  {
   "cell_type": "code",
   "execution_count": 28,
   "id": "8db9544b",
   "metadata": {},
   "outputs": [
    {
     "data": {
      "text/plain": [
       "[8, 12, 11, 10, 9]"
      ]
     },
     "execution_count": 28,
     "metadata": {},
     "output_type": "execute_result"
    }
   ],
   "source": [
    "a = [12,11,10,9]\n",
    "a.insert(0,8)\n",
    "(a)"
   ]
  },
  {
   "cell_type": "code",
   "execution_count": 32,
   "id": "570b043b",
   "metadata": {},
   "outputs": [
    {
     "data": {
      "text/plain": [
       "[8, 12, 11, 10, 9, 10, 100, 10, 100, 10, 100, 10, 100]"
      ]
     },
     "execution_count": 32,
     "metadata": {},
     "output_type": "execute_result"
    }
   ],
   "source": [
    "a.extend([10,100]) ## DOUBT WHY ADDING TWO TIMES\n",
    "(a)"
   ]
  },
  {
   "cell_type": "code",
   "execution_count": 36,
   "id": "3f6ce414",
   "metadata": {},
   "outputs": [
    {
     "data": {
      "text/plain": [
       "['siva,ravi', 23, 56, 89]"
      ]
     },
     "execution_count": 36,
     "metadata": {},
     "output_type": "execute_result"
    }
   ],
   "source": [
    "a = [23,56,89]\n",
    "b = ['siva,ravi']\n",
    "b.extend(a)\n",
    "(b)"
   ]
  },
  {
   "cell_type": "code",
   "execution_count": 43,
   "id": "d9f849a7",
   "metadata": {},
   "outputs": [
    {
     "data": {
      "text/plain": [
       "[34, 'siva', 67, 'vinay', 'you']"
      ]
     },
     "execution_count": 43,
     "metadata": {},
     "output_type": "execute_result"
    }
   ],
   "source": [
    "a = [34,'siva',67]\n",
    "a.extend(['vinay','you'])\n",
    "(a)"
   ]
  },
  {
   "cell_type": "code",
   "execution_count": 45,
   "id": "d847e036",
   "metadata": {},
   "outputs": [
    {
     "data": {
      "text/plain": [
       "[56, 45, 56, 78, 'ravi']"
      ]
     },
     "execution_count": 45,
     "metadata": {},
     "output_type": "execute_result"
    }
   ],
   "source": [
    "a = [45,56,78,'ravi']\n",
    "a.insert(0,56)\n",
    "(a)"
   ]
  },
  {
   "cell_type": "code",
   "execution_count": 55,
   "id": "408701fc",
   "metadata": {},
   "outputs": [
    {
     "data": {
      "text/plain": [
       "['green', 12, 56]"
      ]
     },
     "execution_count": 55,
     "metadata": {},
     "output_type": "execute_result"
    }
   ],
   "source": [
    "# python deleting elements from list\n",
    "a = ['red','green',12,56]\n",
    "del a[0]\n",
    "(a)"
   ]
  },
  {
   "cell_type": "code",
   "execution_count": 63,
   "id": "fb789ad7",
   "metadata": {},
   "outputs": [
    {
     "data": {
      "text/plain": [
       "['siva', 66]"
      ]
     },
     "execution_count": 63,
     "metadata": {},
     "output_type": "execute_result"
    }
   ],
   "source": [
    "# remove\n",
    "a = [56,'siva',66]\n",
    "a.remove(56)\n",
    "(a)"
   ]
  },
  {
   "cell_type": "code",
   "execution_count": 61,
   "id": "8c9c8416",
   "metadata": {},
   "outputs": [
    {
     "data": {
      "text/plain": [
       "[87]"
      ]
     },
     "execution_count": 61,
     "metadata": {},
     "output_type": "execute_result"
    }
   ],
   "source": [
    "a = [44,56,76,87]\n",
    "del a[0:3]\n",
    "(a)"
   ]
  },
  {
   "cell_type": "code",
   "execution_count": 79,
   "id": "95957c2e",
   "metadata": {},
   "outputs": [
    {
     "data": {
      "text/plain": [
       "['siva', 67, 'fuck', 99]"
      ]
     },
     "execution_count": 79,
     "metadata": {},
     "output_type": "execute_result"
    }
   ],
   "source": [
    "a = ['siva',56,67,'fuck',99]\n",
    "a.pop(1)\n",
    "(a)"
   ]
  },
  {
   "cell_type": "code",
   "execution_count": 77,
   "id": "317c74de",
   "metadata": {},
   "outputs": [
    {
     "data": {
      "text/plain": [
       "['siva', 56, 'fuck', 99]"
      ]
     },
     "execution_count": 77,
     "metadata": {},
     "output_type": "execute_result"
    }
   ],
   "source": [
    "a = ['siva',56,67,'fuck',99]\n",
    "del a[2]\n",
    "(a)"
   ]
  },
  {
   "cell_type": "code",
   "execution_count": 83,
   "id": "5cd493a2",
   "metadata": {},
   "outputs": [
    {
     "data": {
      "text/plain": [
       "[67, 'siba', 34, 56, 67, 87]"
      ]
     },
     "execution_count": 83,
     "metadata": {},
     "output_type": "execute_result"
    }
   ],
   "source": [
    "# list opeations \n",
    "a = [34,56,67,87]\n",
    "b = [67,'siba']\n",
    "c=b+a\n",
    "(c)"
   ]
  },
  {
   "cell_type": "code",
   "execution_count": 84,
   "id": "1ba7f0c4",
   "metadata": {},
   "outputs": [
    {
     "data": {
      "text/plain": [
       "[]"
      ]
     },
     "execution_count": 84,
     "metadata": {},
     "output_type": "execute_result"
    }
   ],
   "source": [
    "# differnce to way to create list\n",
    "a = list()\n",
    "(a)"
   ]
  },
  {
   "cell_type": "code",
   "execution_count": 85,
   "id": "ed6b55a0",
   "metadata": {},
   "outputs": [
    {
     "data": {
      "text/plain": [
       "76"
      ]
     },
     "execution_count": 85,
     "metadata": {},
     "output_type": "execute_result"
    }
   ],
   "source": [
    "a = [23,45,65,76]\n",
    "max(a)"
   ]
  },
  {
   "cell_type": "code",
   "execution_count": 86,
   "id": "736c325e",
   "metadata": {},
   "outputs": [
    {
     "data": {
      "text/plain": [
       "209"
      ]
     },
     "execution_count": 86,
     "metadata": {},
     "output_type": "execute_result"
    }
   ],
   "source": [
    "sum(a)"
   ]
  },
  {
   "cell_type": "code",
   "execution_count": 87,
   "id": "b4c3b4d5",
   "metadata": {},
   "outputs": [
    {
     "data": {
      "text/plain": [
       "23"
      ]
     },
     "execution_count": 87,
     "metadata": {},
     "output_type": "execute_result"
    }
   ],
   "source": [
    "min(a)"
   ]
  },
  {
   "cell_type": "code",
   "execution_count": 89,
   "id": "cf0d3fdc",
   "metadata": {},
   "outputs": [
    {
     "data": {
      "text/plain": [
       "[76, 65, 45, 23]"
      ]
     },
     "execution_count": 89,
     "metadata": {},
     "output_type": "execute_result"
    }
   ],
   "source": [
    "a.sort(reverse = True)\n",
    "(a)"
   ]
  },
  {
   "cell_type": "code",
   "execution_count": 90,
   "id": "bc4275f3",
   "metadata": {},
   "outputs": [
    {
     "data": {
      "text/plain": [
       "[23, 45, 65, 76]"
      ]
     },
     "execution_count": 90,
     "metadata": {},
     "output_type": "execute_result"
    }
   ],
   "source": [
    "a.reverse()\n",
    "(a)"
   ]
  },
  {
   "cell_type": "code",
   "execution_count": 96,
   "id": "bd1c91b5",
   "metadata": {},
   "outputs": [
    {
     "data": {
      "text/plain": [
       "[1, 5, 7765, 6754, 5454]"
      ]
     },
     "execution_count": 96,
     "metadata": {},
     "output_type": "execute_result"
    }
   ],
   "source": [
    "a = [45,5,7765,6754,5454,]\n",
    "a[0]=1\n",
    "(a)"
   ]
  },
  {
   "cell_type": "code",
   "execution_count": 97,
   "id": "c5458519",
   "metadata": {},
   "outputs": [
    {
     "data": {
      "text/plain": [
       "19979"
      ]
     },
     "execution_count": 97,
     "metadata": {},
     "output_type": "execute_result"
    }
   ],
   "source": [
    "sum(a)"
   ]
  },
  {
   "cell_type": "code",
   "execution_count": 114,
   "id": "46a518f2",
   "metadata": {},
   "outputs": [
    {
     "data": {
      "text/plain": [
       "28"
      ]
     },
     "execution_count": 114,
     "metadata": {},
     "output_type": "execute_result"
    }
   ],
   "source": [
    "a = [1,23,4]\n",
    "sum(a)"
   ]
  },
  {
   "cell_type": "code",
   "execution_count": 116,
   "id": "b2e291ec",
   "metadata": {},
   "outputs": [
    {
     "ename": "SyntaxError",
     "evalue": "can't use starred expression here (3504591480.py, line 1)",
     "output_type": "error",
     "traceback": [
      "\u001b[1;36m  Input \u001b[1;32mIn [116]\u001b[1;36m\u001b[0m\n\u001b[1;33m    b = *a\u001b[0m\n\u001b[1;37m        ^\u001b[0m\n\u001b[1;31mSyntaxError\u001b[0m\u001b[1;31m:\u001b[0m can't use starred expression here\n"
     ]
    }
   ],
   "source": [
    "b = \n",
    "(b)"
   ]
  },
  {
   "cell_type": "code",
   "execution_count": 118,
   "id": "270c59f8",
   "metadata": {},
   "outputs": [
    {
     "data": {
      "text/plain": [
       "[1, 32, 3, 3, 43, 43, 3, 3, 4]"
      ]
     },
     "execution_count": 118,
     "metadata": {},
     "output_type": "execute_result"
    }
   ],
   "source": [
    "a = [1,32,3,3,43,43,3,3,4,]\n",
    "(a)"
   ]
  },
  {
   "cell_type": "code",
   "execution_count": 119,
   "id": "ba07155f",
   "metadata": {},
   "outputs": [
    {
     "data": {
      "text/plain": [
       "135"
      ]
     },
     "execution_count": 119,
     "metadata": {},
     "output_type": "execute_result"
    }
   ],
   "source": [
    "sum(a)"
   ]
  },
  {
   "cell_type": "code",
   "execution_count": 121,
   "id": "12b8c0c6",
   "metadata": {},
   "outputs": [
    {
     "data": {
      "text/plain": [
       "{1, 3, 4, 32, 43}"
      ]
     },
     "execution_count": 121,
     "metadata": {},
     "output_type": "execute_result"
    }
   ],
   "source": [
    "set(a)"
   ]
  },
  {
   "cell_type": "code",
   "execution_count": 127,
   "id": "a5192198",
   "metadata": {},
   "outputs": [
    {
     "data": {
      "text/plain": [
       "{34, 55, 66, 'ravi'}"
      ]
     },
     "execution_count": 127,
     "metadata": {},
     "output_type": "execute_result"
    }
   ],
   "source": [
    "a = [34,34,55,55,66,66,'ravi']\n",
    "set(a)"
   ]
  },
  {
   "cell_type": "code",
   "execution_count": 131,
   "id": "c62d5e10",
   "metadata": {},
   "outputs": [
    {
     "data": {
      "text/plain": [
       "[]"
      ]
     },
     "execution_count": 131,
     "metadata": {},
     "output_type": "execute_result"
    }
   ],
   "source": [
    "a = ['ravi']\n",
    "a.pop()\n",
    "(a)"
   ]
  },
  {
   "cell_type": "code",
   "execution_count": 134,
   "id": "e61ae1c6",
   "metadata": {},
   "outputs": [
    {
     "data": {
      "text/plain": [
       "[767, 454, 23]"
      ]
     },
     "execution_count": 134,
     "metadata": {},
     "output_type": "execute_result"
    }
   ],
   "source": [
    "a =[23,454,767]\n",
    "a.reverse()\n",
    "(a)"
   ]
  },
  {
   "cell_type": "code",
   "execution_count": null,
   "id": "a4a17ed1",
   "metadata": {},
   "outputs": [],
   "source": [
    "a = 'vinay is a good boy'\n",
    "a."
   ]
  }
 ],
 "metadata": {
  "kernelspec": {
   "display_name": "Python 3 (ipykernel)",
   "language": "python",
   "name": "python3"
  },
  "language_info": {
   "codemirror_mode": {
    "name": "ipython",
    "version": 3
   },
   "file_extension": ".py",
   "mimetype": "text/x-python",
   "name": "python",
   "nbconvert_exporter": "python",
   "pygments_lexer": "ipython3",
   "version": "3.9.12"
  }
 },
 "nbformat": 4,
 "nbformat_minor": 5
}
