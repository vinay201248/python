{
 "cells": [
  {
   "cell_type": "code",
   "execution_count": 1,
   "id": "d0a0a86f",
   "metadata": {},
   "outputs": [
    {
     "data": {
      "text/plain": [
       "set"
      ]
     },
     "execution_count": 1,
     "metadata": {},
     "output_type": "execute_result"
    }
   ],
   "source": [
    "# set is denoted by {}\n",
    "\n",
    "a = {12,343,'vinay'}\n",
    "(type(a))"
   ]
  },
  {
   "cell_type": "code",
   "execution_count": 4,
   "id": "9f74af6b",
   "metadata": {},
   "outputs": [
    {
     "data": {
      "text/plain": [
       "{12, 43, 56, 76, 87, 89, 98}"
      ]
     },
     "execution_count": 4,
     "metadata": {},
     "output_type": "execute_result"
    }
   ],
   "source": [
    "# set is unorderd pair  :it has no irder or line follows \n",
    "a = {12,43,56,76,87,98,89}\n",
    "(a)\n",
    "    "
   ]
  },
  {
   "cell_type": "code",
   "execution_count": 3,
   "id": "5fa81e5a",
   "metadata": {},
   "outputs": [
    {
     "data": {
      "text/plain": [
       "{76, 86, 98, 'kamal', 'vinay'}"
      ]
     },
     "execution_count": 3,
     "metadata": {},
     "output_type": "execute_result"
    }
   ],
   "source": [
    "a = {'vinay','kamal',98,76,86}\n",
    "(a)"
   ]
  },
  {
   "cell_type": "code",
   "execution_count": 6,
   "id": "7bd2adaf",
   "metadata": {},
   "outputs": [
    {
     "data": {
      "text/plain": [
       "{1, 3, 'vinay'}"
      ]
     },
     "execution_count": 6,
     "metadata": {},
     "output_type": "execute_result"
    }
   ],
   "source": [
    "# each element in a set is unique\n",
    "a = {1,3,3,'vinay'}\n",
    "(a)   # one element comes only one time"
   ]
  },
  {
   "cell_type": "code",
   "execution_count": 8,
   "id": "2d97eb1a",
   "metadata": {},
   "outputs": [
    {
     "data": {
      "text/plain": [
       "{(12, 45), 45, 454, 54, 'siva', 'vinay'}"
      ]
     },
     "execution_count": 8,
     "metadata": {},
     "output_type": "execute_result"
    }
   ],
   "source": [
    "# it can accept tuple but it cant acept list\n",
    "a = {'vinay','siva',45,454,54,54,(12,45)}\n",
    "(a)"
   ]
  },
  {
   "cell_type": "code",
   "execution_count": 9,
   "id": "5424e22a",
   "metadata": {},
   "outputs": [
    {
     "ename": "TypeError",
     "evalue": "unhashable type: 'list'",
     "output_type": "error",
     "traceback": [
      "\u001b[1;31m---------------------------------------------------------------------------\u001b[0m",
      "\u001b[1;31mTypeError\u001b[0m                                 Traceback (most recent call last)",
      "Input \u001b[1;32mIn [9]\u001b[0m, in \u001b[0;36m<cell line: 1>\u001b[1;34m()\u001b[0m\n\u001b[1;32m----> 1\u001b[0m a \u001b[38;5;241m=\u001b[39m {\u001b[38;5;124m'\u001b[39m\u001b[38;5;124msiva\u001b[39m\u001b[38;5;124m'\u001b[39m,\u001b[38;5;241m3.434\u001b[39m,\u001b[38;5;241m44\u001b[39m,\u001b[38;5;241m43\u001b[39m,[\u001b[38;5;241m3\u001b[39m,\u001b[38;5;241m5\u001b[39m]}\n\u001b[0;32m      2\u001b[0m (a)\n",
      "\u001b[1;31mTypeError\u001b[0m: unhashable type: 'list'"
     ]
    }
   ],
   "source": [
    "a = {'siva',3.434,44,43,[3,5]}\n",
    "(a)"
   ]
  },
  {
   "cell_type": "code",
   "execution_count": 10,
   "id": "9e4bc207",
   "metadata": {},
   "outputs": [
    {
     "data": {
      "text/plain": [
       "{45, 54, 55, 'vinay'}"
      ]
     },
     "execution_count": 10,
     "metadata": {},
     "output_type": "execute_result"
    }
   ],
   "source": [
    "## add is used to add only one value\n",
    "##   update is used to add multiple values\n",
    "a = {'vinay',45,55}\n",
    "a.add(54)\n",
    "(a)\n"
   ]
  },
  {
   "cell_type": "code",
   "execution_count": 13,
   "id": "4a783de0",
   "metadata": {},
   "outputs": [
    {
     "data": {
      "text/plain": [
       "{45, 54, 55, 78, 'vinay'}"
      ]
     },
     "execution_count": 13,
     "metadata": {},
     "output_type": "execute_result"
    }
   ],
   "source": [
    "a.update([45,78]) # for adding multiple values use []\n",
    "(a)"
   ]
  },
  {
   "cell_type": "code",
   "execution_count": 14,
   "id": "617980cf",
   "metadata": {},
   "outputs": [
    {
     "data": {
      "text/plain": [
       "{56, 78, 89, 'siva'}"
      ]
     },
     "execution_count": 14,
     "metadata": {},
     "output_type": "execute_result"
    }
   ],
   "source": [
    "# discard\n",
    "a = {'vinay','siva',78,56,89}\n",
    "a.discard('vinay')\n",
    "(a)"
   ]
  },
  {
   "cell_type": "code",
   "execution_count": 15,
   "id": "c48bd3a0",
   "metadata": {},
   "outputs": [
    {
     "data": {
      "text/plain": [
       "{56, 78, 'siva'}"
      ]
     },
     "execution_count": 15,
     "metadata": {},
     "output_type": "execute_result"
    }
   ],
   "source": [
    "a.remove(89)\n",
    "(a)"
   ]
  },
  {
   "cell_type": "code",
   "execution_count": 16,
   "id": "c7e23502",
   "metadata": {},
   "outputs": [
    {
     "ename": "KeyError",
     "evalue": "22",
     "output_type": "error",
     "traceback": [
      "\u001b[1;31m---------------------------------------------------------------------------\u001b[0m",
      "\u001b[1;31mKeyError\u001b[0m                                  Traceback (most recent call last)",
      "Input \u001b[1;32mIn [16]\u001b[0m, in \u001b[0;36m<cell line: 1>\u001b[1;34m()\u001b[0m\n\u001b[1;32m----> 1\u001b[0m \u001b[43ma\u001b[49m\u001b[38;5;241;43m.\u001b[39;49m\u001b[43mremove\u001b[49m\u001b[43m(\u001b[49m\u001b[38;5;241;43m22\u001b[39;49m\u001b[43m)\u001b[49m\n\u001b[0;32m      2\u001b[0m (a)\n",
      "\u001b[1;31mKeyError\u001b[0m: 22"
     ]
    }
   ],
   "source": [
    "a.remove(22)\n",
    "(a)"
   ]
  },
  {
   "cell_type": "code",
   "execution_count": 17,
   "id": "4b054cae",
   "metadata": {},
   "outputs": [],
   "source": [
    "# discard means it remove the value it is there in elements it doesnt show the error\n",
    "# but remove means if the value not there in the list it cant remove"
   ]
  },
  {
   "cell_type": "code",
   "execution_count": 18,
   "id": "3bb6ad82",
   "metadata": {},
   "outputs": [],
   "source": [
    "# pop\n",
    "# we can also use the "
   ]
  },
  {
   "cell_type": "code",
   "execution_count": 21,
   "id": "a801bc77",
   "metadata": {},
   "outputs": [
    {
     "data": {
      "text/plain": [
       "{23, 43, 47, 394}"
      ]
     },
     "execution_count": 21,
     "metadata": {},
     "output_type": "execute_result"
    }
   ],
   "source": [
    "a = {23,47,43,394,34}\n",
    "a.pop()\n",
    "(a)"
   ]
  },
  {
   "cell_type": "code",
   "execution_count": 23,
   "id": "5423a065",
   "metadata": {},
   "outputs": [
    {
     "ename": "TypeError",
     "evalue": "set.pop() takes no arguments (1 given)",
     "output_type": "error",
     "traceback": [
      "\u001b[1;31m---------------------------------------------------------------------------\u001b[0m",
      "\u001b[1;31mTypeError\u001b[0m                                 Traceback (most recent call last)",
      "Input \u001b[1;32mIn [23]\u001b[0m, in \u001b[0;36m<cell line: 1>\u001b[1;34m()\u001b[0m\n\u001b[1;32m----> 1\u001b[0m \u001b[43ma\u001b[49m\u001b[38;5;241;43m.\u001b[39;49m\u001b[43mpop\u001b[49m\u001b[43m(\u001b[49m\u001b[38;5;241;43m0\u001b[39;49m\u001b[43m)\u001b[49m\n\u001b[0;32m      2\u001b[0m (a)\n",
      "\u001b[1;31mTypeError\u001b[0m: set.pop() takes no arguments (1 given)"
     ]
    }
   ],
   "source": [
    "a.pop(0)\n",
    "(a)"
   ]
  },
  {
   "cell_type": "code",
   "execution_count": 37,
   "id": "9211d192",
   "metadata": {},
   "outputs": [
    {
     "data": {
      "text/plain": [
       "{23, 32, 45, 55, 65, 88}"
      ]
     },
     "execution_count": 37,
     "metadata": {},
     "output_type": "execute_result"
    }
   ],
   "source": [
    "# python set operations\n",
    "s1 ={23,45,55,32}\n",
    "s2 ={88,65,88,23}          # union(U) \n",
    "(s1 | s2)"
   ]
  },
  {
   "cell_type": "code",
   "execution_count": 35,
   "id": "486c17b2",
   "metadata": {},
   "outputs": [
    {
     "data": {
      "text/plain": [
       "{23, 32, 45, 55, 65, 88}"
      ]
     },
     "execution_count": 35,
     "metadata": {},
     "output_type": "execute_result"
    }
   ],
   "source": [
    "(s1.union(s2))"
   ]
  },
  {
   "cell_type": "code",
   "execution_count": 30,
   "id": "d6b09136",
   "metadata": {},
   "outputs": [
    {
     "name": "stdout",
     "output_type": "stream",
     "text": [
      "set()\n"
     ]
    }
   ],
   "source": [
    "print(s1 & s2)"
   ]
  },
  {
   "cell_type": "code",
   "execution_count": 38,
   "id": "0aa2720c",
   "metadata": {},
   "outputs": [
    {
     "data": {
      "text/plain": [
       "{23}"
      ]
     },
     "execution_count": 38,
     "metadata": {},
     "output_type": "execute_result"
    }
   ],
   "source": [
    "(s1.intersection(s2))"
   ]
  },
  {
   "cell_type": "code",
   "execution_count": 27,
   "id": "7a5e0cfb",
   "metadata": {},
   "outputs": [],
   "source": [
    "# intrsection &"
   ]
  },
  {
   "cell_type": "code",
   "execution_count": 28,
   "id": "f2c3e1de",
   "metadata": {},
   "outputs": [
    {
     "data": {
      "text/plain": [
       "set()"
      ]
     },
     "execution_count": 28,
     "metadata": {},
     "output_type": "execute_result"
    }
   ],
   "source": [
    "(s1 & s2)"
   ]
  },
  {
   "cell_type": "code",
   "execution_count": 32,
   "id": "4a904516",
   "metadata": {},
   "outputs": [
    {
     "name": "stdout",
     "output_type": "stream",
     "text": [
      "{23}\n"
     ]
    }
   ],
   "source": [
    "a = {23,43,43,43,22}\n",
    "b = {45,76,23,87,78,66}\n",
    "print(a & b)"
   ]
  },
  {
   "cell_type": "code",
   "execution_count": 33,
   "id": "71ba4139",
   "metadata": {},
   "outputs": [
    {
     "data": {
      "text/plain": [
       "{2, 5}"
      ]
     },
     "execution_count": 33,
     "metadata": {},
     "output_type": "execute_result"
    }
   ],
   "source": [
    "# difference \n",
    "# a-b= shows values in a\n",
    "a = {1,2,3,4,5,4}\n",
    "b = { 1,3,4,6,8,9} # difference function we use\n",
    "(a-b)"
   ]
  },
  {
   "cell_type": "code",
   "execution_count": 34,
   "id": "4e565a36",
   "metadata": {},
   "outputs": [
    {
     "data": {
      "text/plain": [
       "{6, 8, 9}"
      ]
     },
     "execution_count": 34,
     "metadata": {},
     "output_type": "execute_result"
    }
   ],
   "source": [
    "(b-a)"
   ]
  },
  {
   "cell_type": "code",
   "execution_count": 39,
   "id": "b67bae0d",
   "metadata": {},
   "outputs": [
    {
     "data": {
      "text/plain": [
       "{2, 5}"
      ]
     },
     "execution_count": 39,
     "metadata": {},
     "output_type": "execute_result"
    }
   ],
   "source": [
    "(a.difference(b))"
   ]
  },
  {
   "cell_type": "code",
   "execution_count": 41,
   "id": "56185ec3",
   "metadata": {},
   "outputs": [
    {
     "data": {
      "text/plain": [
       "{1, 5, 7, 8, 9}"
      ]
     },
     "execution_count": 41,
     "metadata": {},
     "output_type": "execute_result"
    }
   ],
   "source": [
    "# python symmetric  difference\n",
    "a = {2,4,5,6,7,8}\n",
    "b = {2,4,9,6,2,2,1}\n",
    "(a^b)                     # not the common elemnets in both sets"
   ]
  },
  {
   "cell_type": "code",
   "execution_count": 42,
   "id": "2f7affc5",
   "metadata": {},
   "outputs": [
    {
     "data": {
      "text/plain": [
       "True"
      ]
     },
     "execution_count": 42,
     "metadata": {},
     "output_type": "execute_result"
    }
   ],
   "source": [
    "# member ship\n",
    "a = {1,2,3,4,3,'siva'}\n",
    "(1 in a)"
   ]
  },
  {
   "cell_type": "code",
   "execution_count": 43,
   "id": "7a0d55ba",
   "metadata": {},
   "outputs": [
    {
     "data": {
      "text/plain": [
       "True"
      ]
     },
     "execution_count": 43,
     "metadata": {},
     "output_type": "execute_result"
    }
   ],
   "source": [
    "('siva' in a)"
   ]
  },
  {
   "cell_type": "code",
   "execution_count": 52,
   "id": "d4ef0109",
   "metadata": {},
   "outputs": [
    {
     "name": "stdout",
     "output_type": "stream",
     "text": [
      "<class 'int'>\n",
      "<class 'str'>\n",
      "<class 'tuple'>\n",
      "<class 'int'>\n"
     ]
    }
   ],
   "source": [
    "a = {23,43,'siva',(23,43)}\n",
    "for i in a:\n",
    "    print(type(i))"
   ]
  },
  {
   "cell_type": "code",
   "execution_count": 55,
   "id": "05cc8c04",
   "metadata": {},
   "outputs": [
    {
     "data": {
      "text/plain": [
       "{3, 4, 5, 6}"
      ]
     },
     "execution_count": 55,
     "metadata": {},
     "output_type": "execute_result"
    }
   ],
   "source": [
    "a = set([3,4,5,6])\n",
    "\n",
    "(a)"
   ]
  },
  {
   "cell_type": "code",
   "execution_count": 57,
   "id": "5b333426",
   "metadata": {},
   "outputs": [
    {
     "ename": "TypeError",
     "evalue": "set expected at most 1 argument, got 4",
     "output_type": "error",
     "traceback": [
      "\u001b[1;31m---------------------------------------------------------------------------\u001b[0m",
      "\u001b[1;31mTypeError\u001b[0m                                 Traceback (most recent call last)",
      "Input \u001b[1;32mIn [57]\u001b[0m, in \u001b[0;36m<cell line: 1>\u001b[1;34m()\u001b[0m\n\u001b[1;32m----> 1\u001b[0m a \u001b[38;5;241m=\u001b[39m \u001b[38;5;28;43mset\u001b[39;49m\u001b[43m(\u001b[49m\u001b[38;5;241;43m2\u001b[39;49m\u001b[43m,\u001b[49m\u001b[38;5;241;43m3\u001b[39;49m\u001b[43m,\u001b[49m\u001b[38;5;241;43m4\u001b[39;49m\u001b[43m,\u001b[49m\u001b[38;5;241;43m5\u001b[39;49m\u001b[43m)\u001b[49m\n\u001b[0;32m      2\u001b[0m (a)\n",
      "\u001b[1;31mTypeError\u001b[0m: set expected at most 1 argument, got 4"
     ]
    }
   ],
   "source": [
    "a = set(2,3,4,5)\n",
    "(a)"
   ]
  },
  {
   "cell_type": "code",
   "execution_count": 58,
   "id": "b8c95b6c",
   "metadata": {},
   "outputs": [
    {
     "data": {
      "text/plain": [
       "{1, 4, 10, 23}"
      ]
     },
     "execution_count": 58,
     "metadata": {},
     "output_type": "execute_result"
    }
   ],
   "source": [
    "a = {1,23,4,4}\n",
    "b=a\n",
    "b.add(10)\n",
    "(b)"
   ]
  },
  {
   "cell_type": "code",
   "execution_count": 64,
   "id": "83aabe38",
   "metadata": {},
   "outputs": [
    {
     "name": "stdout",
     "output_type": "stream",
     "text": [
      "[1, 2, 4, 7, 33, 45, 97]\n"
     ]
    }
   ],
   "source": [
    "# max,min,len,sum\n",
    "a = {1,2,7,97,45,33,4}\n",
    "print(sorted(a))"
   ]
  },
  {
   "cell_type": "code",
   "execution_count": 65,
   "id": "ee2c694f",
   "metadata": {},
   "outputs": [
    {
     "data": {
      "text/plain": [
       "[1, 2, 4, 7, 33, 45, 97]"
      ]
     },
     "execution_count": 65,
     "metadata": {},
     "output_type": "execute_result"
    }
   ],
   "source": [
    "(sorted(a))"
   ]
  },
  {
   "cell_type": "code",
   "execution_count": 66,
   "id": "9171a6c5",
   "metadata": {},
   "outputs": [
    {
     "data": {
      "text/plain": [
       "[97, 45, 33, 7, 4, 2, 1]"
      ]
     },
     "execution_count": 66,
     "metadata": {},
     "output_type": "execute_result"
    }
   ],
   "source": [
    "(sorted(a,reverse=True))"
   ]
  },
  {
   "cell_type": "code",
   "execution_count": 68,
   "id": "67e56a04",
   "metadata": {},
   "outputs": [
    {
     "data": {
      "text/plain": [
       "[9, 8, 7, 6, 5, 4, 3, 2, 1, 0]"
      ]
     },
     "execution_count": 68,
     "metadata": {},
     "output_type": "execute_result"
    }
   ],
   "source": [
    "a = {1,2,3,4,5,6,7,8,9,0}\n",
    "(sorted(a,reverse=True))"
   ]
  },
  {
   "cell_type": "code",
   "execution_count": null,
   "id": "ff9eb8ea",
   "metadata": {},
   "outputs": [],
   "source": []
  }
 ],
 "metadata": {
  "kernelspec": {
   "display_name": "Python 3 (ipykernel)",
   "language": "python",
   "name": "python3"
  },
  "language_info": {
   "codemirror_mode": {
    "name": "ipython",
    "version": 3
   },
   "file_extension": ".py",
   "mimetype": "text/x-python",
   "name": "python",
   "nbconvert_exporter": "python",
   "pygments_lexer": "ipython3",
   "version": "3.9.12"
  }
 },
 "nbformat": 4,
 "nbformat_minor": 5
}
