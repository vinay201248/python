{
 "cells": [
  {
   "cell_type": "markdown",
   "id": "236ffd21",
   "metadata": {},
   "source": [
    "# index concept"
   ]
  },
  {
   "cell_type": "code",
   "execution_count": 24,
   "id": "093f2501",
   "metadata": {},
   "outputs": [
    {
     "name": "stdout",
     "output_type": "stream",
     "text": [
      "a\n"
     ]
    }
   ],
   "source": [
    "a = 'vinay'\n",
    "print(a[3])"
   ]
  },
  {
   "cell_type": "code",
   "execution_count": 33,
   "id": "2ff0a9de",
   "metadata": {},
   "outputs": [
    {
     "name": "stdout",
     "output_type": "stream",
     "text": [
      "i\n"
     ]
    }
   ],
   "source": [
    "b = 'kranthi'\n",
    "print(b[6])"
   ]
  },
  {
   "cell_type": "code",
   "execution_count": 34,
   "id": "a1f23141",
   "metadata": {},
   "outputs": [
    {
     "name": "stdout",
     "output_type": "stream",
     "text": [
      "k\n"
     ]
    }
   ],
   "source": [
    "v = 'siva sankar'\n",
    "print(v[8])"
   ]
  },
  {
   "cell_type": "markdown",
   "id": "3b753ff5",
   "metadata": {},
   "source": [
    "# slicing concept in forward in direction"
   ]
  },
  {
   "cell_type": "code",
   "execution_count": 29,
   "id": "089aff24",
   "metadata": {},
   "outputs": [
    {
     "name": "stdout",
     "output_type": "stream",
     "text": [
      "vinay \n"
     ]
    }
   ],
   "source": [
    "a = 'vinay kumar'\n",
    "print(a[0:6])"
   ]
  },
  {
   "cell_type": "code",
   "execution_count": 32,
   "id": "b4d1e674",
   "metadata": {},
   "outputs": [
    {
     "name": "stdout",
     "output_type": "stream",
     "text": [
      "va san\n"
     ]
    }
   ],
   "source": [
    "a ='siva sankar'\n",
    "print(a[2:8])"
   ]
  },
  {
   "cell_type": "code",
   "execution_count": 50,
   "id": "efe28bd1",
   "metadata": {},
   "outputs": [
    {
     "name": "stdout",
     "output_type": "stream",
     "text": [
      "siva\n"
     ]
    }
   ],
   "source": [
    "a = 'siva'\n",
    "print(a)"
   ]
  },
  {
   "cell_type": "code",
   "execution_count": 51,
   "id": "fbd3fb84",
   "metadata": {},
   "outputs": [
    {
     "name": "stdout",
     "output_type": "stream",
     "text": [
      "siva\n"
     ]
    }
   ],
   "source": [
    "print(a[:])"
   ]
  },
  {
   "cell_type": "code",
   "execution_count": 52,
   "id": "3054447a",
   "metadata": {},
   "outputs": [
    {
     "name": "stdout",
     "output_type": "stream",
     "text": [
      " hi \n",
      "and sdfkhasfjk\n",
      " sjfgsakjd \n",
      " jfgh(skjdfhsa \n"
     ]
    }
   ],
   "source": [
    "a = \"\"\" hi \n",
    "and sdfkhasfjk\n",
    " sjfgsakjd \n",
    " jfgh(skjdfhsa \"\"\"\n",
    "print(a)"
   ]
  },
  {
   "cell_type": "code",
   "execution_count": 53,
   "id": "71a0b640",
   "metadata": {},
   "outputs": [
    {
     "name": "stdout",
     "output_type": "stream",
     "text": [
      "ka\n"
     ]
    }
   ],
   "source": [
    "a = 'kamal raju'\n",
    "print(a[0:5:3])\n"
   ]
  },
  {
   "cell_type": "code",
   "execution_count": 54,
   "id": "dbae7238",
   "metadata": {},
   "outputs": [
    {
     "name": "stdout",
     "output_type": "stream",
     "text": [
      "ial\n"
     ]
    }
   ],
   "source": [
    "a = 'sai kamal viany'\n",
    "print(a[2:9:3])"
   ]
  },
  {
   "cell_type": "code",
   "execution_count": 55,
   "id": "55ba36d6",
   "metadata": {},
   "outputs": [
    {
     "name": "stdout",
     "output_type": "stream",
     "text": [
      "raj\n"
     ]
    }
   ],
   "source": [
    "a = 'raja'\n",
    "print(a[:3])"
   ]
  },
  {
   "cell_type": "code",
   "execution_count": 56,
   "id": "b0ba7a90",
   "metadata": {},
   "outputs": [
    {
     "name": "stdout",
     "output_type": "stream",
     "text": [
      "va mi\n"
     ]
    }
   ],
   "source": [
    "a = 'vijaya kumari'\n",
    "print(a[::3])"
   ]
  },
  {
   "cell_type": "code",
   "execution_count": 57,
   "id": "78528adc",
   "metadata": {},
   "outputs": [],
   "source": [
    "# string is an imutable which means cannot changable # replacement"
   ]
  },
  {
   "cell_type": "code",
   "execution_count": 58,
   "id": "3f3412ee",
   "metadata": {},
   "outputs": [
    {
     "ename": "TypeError",
     "evalue": "'str' object does not support item assignment",
     "output_type": "error",
     "traceback": [
      "\u001b[1;31m---------------------------------------------------------------------------\u001b[0m",
      "\u001b[1;31mTypeError\u001b[0m                                 Traceback (most recent call last)",
      "Input \u001b[1;32mIn [58]\u001b[0m, in \u001b[0;36m<cell line: 2>\u001b[1;34m()\u001b[0m\n\u001b[0;32m      1\u001b[0m a \u001b[38;5;241m=\u001b[39m \u001b[38;5;124m'\u001b[39m\u001b[38;5;124mvinay kamal \u001b[39m\u001b[38;5;124m'\u001b[39m\n\u001b[1;32m----> 2\u001b[0m a[\u001b[38;5;241m4\u001b[39m]\u001b[38;5;241m=\u001b[39m \u001b[38;5;124m'\u001b[39m\u001b[38;5;124mp\u001b[39m\u001b[38;5;124m'\u001b[39m\n\u001b[0;32m      4\u001b[0m \u001b[38;5;28mprint\u001b[39m(a)\n",
      "\u001b[1;31mTypeError\u001b[0m: 'str' object does not support item assignment"
     ]
    }
   ],
   "source": [
    "a = 'vinay kamal '\n",
    "a[4]= 'p'\n",
    "\n",
    "print(a)"
   ]
  },
  {
   "cell_type": "code",
   "execution_count": 59,
   "id": "63e33ad9",
   "metadata": {},
   "outputs": [],
   "source": [
    "a = 'king'\n",
    "del a"
   ]
  },
  {
   "cell_type": "code",
   "execution_count": 60,
   "id": "d166f7d1",
   "metadata": {},
   "outputs": [
    {
     "name": "stdout",
     "output_type": "stream",
     "text": [
      "kkk\n"
     ]
    }
   ],
   "source": [
    "a = 'k'\n",
    "print(a*3)"
   ]
  },
  {
   "cell_type": "code",
   "execution_count": 61,
   "id": "1c44dbfb",
   "metadata": {},
   "outputs": [
    {
     "ename": "TypeError",
     "evalue": "can only concatenate str (not \"int\") to str",
     "output_type": "error",
     "traceback": [
      "\u001b[1;31m---------------------------------------------------------------------------\u001b[0m",
      "\u001b[1;31mTypeError\u001b[0m                                 Traceback (most recent call last)",
      "Input \u001b[1;32mIn [61]\u001b[0m, in \u001b[0;36m<cell line: 1>\u001b[1;34m()\u001b[0m\n\u001b[1;32m----> 1\u001b[0m \u001b[38;5;124;43m'\u001b[39;49m\u001b[38;5;124;43mp\u001b[39;49m\u001b[38;5;124;43m'\u001b[39;49m\u001b[38;5;241;43m+\u001b[39;49m\u001b[43m \u001b[49m\u001b[38;5;241;43m1\u001b[39;49m\n",
      "\u001b[1;31mTypeError\u001b[0m: can only concatenate str (not \"int\") to str"
     ]
    }
   ],
   "source": [
    "'p'+ 1"
   ]
  },
  {
   "cell_type": "code",
   "execution_count": 62,
   "id": "bddecebc",
   "metadata": {},
   "outputs": [],
   "source": [
    "# member ship function"
   ]
  },
  {
   "cell_type": "code",
   "execution_count": 63,
   "id": "2864042d",
   "metadata": {},
   "outputs": [
    {
     "name": "stdout",
     "output_type": "stream",
     "text": [
      "True\n"
     ]
    }
   ],
   "source": [
    "a = 'kamal vinay ravi siva'\n",
    "print('kamal'in a)"
   ]
  },
  {
   "cell_type": "code",
   "execution_count": 64,
   "id": "9f1d5293",
   "metadata": {},
   "outputs": [
    {
     "name": "stdout",
     "output_type": "stream",
     "text": [
      "True\n"
     ]
    }
   ],
   "source": [
    "print('raju'not in a)"
   ]
  },
  {
   "cell_type": "code",
   "execution_count": 65,
   "id": "39737b42",
   "metadata": {},
   "outputs": [
    {
     "name": "stdout",
     "output_type": "stream",
     "text": [
      "False\n"
     ]
    }
   ],
   "source": [
    "print('raju'in a )"
   ]
  },
  {
   "cell_type": "markdown",
   "id": "6e0273e5",
   "metadata": {},
   "source": [
    "# ascii value "
   ]
  },
  {
   "cell_type": "code",
   "execution_count": 66,
   "id": "1a59656c",
   "metadata": {},
   "outputs": [],
   "source": [
    "# a = 97 , b = 98\n",
    "# A = 65 , B = 66\n"
   ]
  },
  {
   "cell_type": "code",
   "execution_count": 67,
   "id": "566e773f",
   "metadata": {},
   "outputs": [
    {
     "name": "stdout",
     "output_type": "stream",
     "text": [
      "False\n"
     ]
    }
   ],
   "source": [
    "p='ab'\n",
    "c='VV'\n",
    "print(c>p)"
   ]
  },
  {
   "cell_type": "code",
   "execution_count": 69,
   "id": "9879630d",
   "metadata": {},
   "outputs": [
    {
     "data": {
      "text/plain": [
       "107"
      ]
     },
     "execution_count": 69,
     "metadata": {},
     "output_type": "execute_result"
    }
   ],
   "source": [
    "a = 'k'\n",
    "ord('k')"
   ]
  },
  {
   "cell_type": "code",
   "execution_count": 2,
   "id": "fa6ec656",
   "metadata": {},
   "outputs": [
    {
     "data": {
      "text/plain": [
       "'c'"
      ]
     },
     "execution_count": 2,
     "metadata": {},
     "output_type": "execute_result"
    }
   ],
   "source": [
    "chr(99)"
   ]
  },
  {
   "cell_type": "code",
   "execution_count": 3,
   "id": "418992c0",
   "metadata": {},
   "outputs": [
    {
     "ename": "NameError",
     "evalue": "name 's' is not defined",
     "output_type": "error",
     "traceback": [
      "\u001b[1;31m---------------------------------------------------------------------------\u001b[0m",
      "\u001b[1;31mNameError\u001b[0m                                 Traceback (most recent call last)",
      "Input \u001b[1;32mIn [3]\u001b[0m, in \u001b[0;36m<cell line: 1>\u001b[1;34m()\u001b[0m\n\u001b[1;32m----> 1\u001b[0m \u001b[38;5;28mchr\u001b[39m(\u001b[43ms\u001b[49m)\n",
      "\u001b[1;31mNameError\u001b[0m: name 's' is not defined"
     ]
    }
   ],
   "source": [
    "ord"
   ]
  },
  {
   "cell_type": "code",
   "execution_count": null,
   "id": "c2817a0a",
   "metadata": {},
   "outputs": [],
   "source": []
  }
 ],
 "metadata": {
  "kernelspec": {
   "display_name": "Python 3 (ipykernel)",
   "language": "python",
   "name": "python3"
  },
  "language_info": {
   "codemirror_mode": {
    "name": "ipython",
    "version": 3
   },
   "file_extension": ".py",
   "mimetype": "text/x-python",
   "name": "python",
   "nbconvert_exporter": "python",
   "pygments_lexer": "ipython3",
   "version": "3.9.12"
  }
 },
 "nbformat": 4,
 "nbformat_minor": 5
}
