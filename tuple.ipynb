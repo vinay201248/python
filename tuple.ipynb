{
 "cells": [
  {
   "cell_type": "code",
   "execution_count": 1,
   "id": "7aa0af64",
   "metadata": {},
   "outputs": [
    {
     "data": {
      "text/plain": [
       "()"
      ]
     },
     "execution_count": 1,
     "metadata": {},
     "output_type": "execute_result"
    }
   ],
   "source": [
    "# tuple\n",
    "a = ()# paranthesis\n",
    "a"
   ]
  },
  {
   "cell_type": "code",
   "execution_count": 2,
   "id": "b7b9e1a4",
   "metadata": {},
   "outputs": [
    {
     "data": {
      "text/plain": [
       "tuple"
      ]
     },
     "execution_count": 2,
     "metadata": {},
     "output_type": "execute_result"
    }
   ],
   "source": [
    "a = 13,34,33\n",
    "type(a)"
   ]
  },
  {
   "cell_type": "code",
   "execution_count": 9,
   "id": "c3870891",
   "metadata": {},
   "outputs": [
    {
     "name": "stdout",
     "output_type": "stream",
     "text": [
      "<class 'tuple'>\n"
     ]
    }
   ],
   "source": [
    "a = 12,44\n",
    "print(type(a))"
   ]
  },
  {
   "cell_type": "code",
   "execution_count": 11,
   "id": "26e6991e",
   "metadata": {},
   "outputs": [
    {
     "data": {
      "text/plain": [
       "float"
      ]
     },
     "execution_count": 11,
     "metadata": {},
     "output_type": "execute_result"
    }
   ],
   "source": [
    "a = 22.2\n",
    "type(a)\n"
   ]
  },
  {
   "cell_type": "code",
   "execution_count": 12,
   "id": "705b3e27",
   "metadata": {},
   "outputs": [
    {
     "data": {
      "text/plain": [
       "43"
      ]
     },
     "execution_count": 12,
     "metadata": {},
     "output_type": "execute_result"
    }
   ],
   "source": [
    "b = 12,43,43,65,43\n",
    "(b[2])"
   ]
  },
  {
   "cell_type": "code",
   "execution_count": 13,
   "id": "0df23670",
   "metadata": {},
   "outputs": [
    {
     "data": {
      "text/plain": [
       "45"
      ]
     },
     "execution_count": 13,
     "metadata": {},
     "output_type": "execute_result"
    }
   ],
   "source": [
    "s = 4,(23,45),[56]\n",
    "(s[1][1])"
   ]
  },
  {
   "cell_type": "code",
   "execution_count": 14,
   "id": "97fb2861",
   "metadata": {},
   "outputs": [
    {
     "name": "stdout",
     "output_type": "stream",
     "text": [
      "<class 'tuple'>\n"
     ]
    }
   ],
   "source": [
    "print(type(s))"
   ]
  },
  {
   "cell_type": "code",
   "execution_count": 17,
   "id": "e5e4c9e0",
   "metadata": {},
   "outputs": [
    {
     "data": {
      "text/plain": [
       "3"
      ]
     },
     "execution_count": 17,
     "metadata": {},
     "output_type": "execute_result"
    }
   ],
   "source": [
    "a = 1,2,3,4,5,5,'python'\n",
    "(a[2])"
   ]
  },
  {
   "cell_type": "code",
   "execution_count": 18,
   "id": "83239a83",
   "metadata": {},
   "outputs": [
    {
     "data": {
      "text/plain": [
       "(1, 2, 3, 4, 5)"
      ]
     },
     "execution_count": 18,
     "metadata": {},
     "output_type": "execute_result"
    }
   ],
   "source": [
    "(a[0:5])"
   ]
  },
  {
   "cell_type": "code",
   "execution_count": 21,
   "id": "ab289cd4",
   "metadata": {},
   "outputs": [
    {
     "data": {
      "text/plain": [
       "[1, 45, 67.7]"
      ]
     },
     "execution_count": 21,
     "metadata": {},
     "output_type": "execute_result"
    }
   ],
   "source": [
    "a = ['ravi',45,67.7] # list is mutable\n",
    "a[0]=1\n",
    "(a)"
   ]
  },
  {
   "cell_type": "code",
   "execution_count": 22,
   "id": "470b9bc8",
   "metadata": {},
   "outputs": [
    {
     "ename": "SyntaxError",
     "evalue": "EOL while scanning string literal (252062955.py, line 1)",
     "output_type": "error",
     "traceback": [
      "\u001b[1;36m  Input \u001b[1;32mIn [22]\u001b[1;36m\u001b[0m\n\u001b[1;33m    a = 23,5,4'siva\u001b[0m\n\u001b[1;37m                   ^\u001b[0m\n\u001b[1;31mSyntaxError\u001b[0m\u001b[1;31m:\u001b[0m EOL while scanning string literal\n"
     ]
    }
   ],
   "source": [
    "a = 23,5,4'siva' # tuple is immutable\n",
    "a[1]=43\n",
    "(a)"
   ]
  },
  {
   "cell_type": "code",
   "execution_count": null,
   "id": "7745d682",
   "metadata": {},
   "outputs": [],
   "source": [
    "# packing and unpacking"
   ]
  },
  {
   "cell_type": "code",
   "execution_count": 25,
   "id": "7aa61353",
   "metadata": {},
   "outputs": [
    {
     "name": "stdout",
     "output_type": "stream",
     "text": [
      "23\n"
     ]
    }
   ],
   "source": [
    "a = 23,'vinay',56\n",
    "age,name,weight = a\n",
    "print(age)"
   ]
  },
  {
   "cell_type": "code",
   "execution_count": 26,
   "id": "8d296378",
   "metadata": {},
   "outputs": [
    {
     "data": {
      "text/plain": [
       "(12, 45, 67, 'siva', 56, 78, 78)"
      ]
     },
     "execution_count": 26,
     "metadata": {},
     "output_type": "execute_result"
    }
   ],
   "source": [
    "a = 12,45,67,'siva'\n",
    "b = 56,78,78\n",
    "c = a+b\n",
    "(c)"
   ]
  },
  {
   "cell_type": "code",
   "execution_count": 28,
   "id": "ae795d20",
   "metadata": {},
   "outputs": [
    {
     "data": {
      "text/plain": [
       "(56, 78, 78, 12, 45, 67, 'siva')"
      ]
     },
     "execution_count": 28,
     "metadata": {},
     "output_type": "execute_result"
    }
   ],
   "source": [
    "c = b+a\n",
    "(c)"
   ]
  },
  {
   "cell_type": "code",
   "execution_count": 33,
   "id": "c1b0700b",
   "metadata": {},
   "outputs": [
    {
     "data": {
      "text/plain": [
       "tuple"
      ]
     },
     "execution_count": 33,
     "metadata": {},
     "output_type": "execute_result"
    }
   ],
   "source": [
    "a = (\"vinay kumar\",78)\n",
    "type(a)"
   ]
  },
  {
   "cell_type": "code",
   "execution_count": 34,
   "id": "299af9a4",
   "metadata": {},
   "outputs": [
    {
     "data": {
      "text/plain": [
       "('vinay kumar', 78)"
      ]
     },
     "execution_count": 34,
     "metadata": {},
     "output_type": "execute_result"
    }
   ],
   "source": [
    "(a)"
   ]
  },
  {
   "cell_type": "code",
   "execution_count": 35,
   "id": "04c519d4",
   "metadata": {},
   "outputs": [
    {
     "data": {
      "text/plain": [
       "'vinay kumar'"
      ]
     },
     "execution_count": 35,
     "metadata": {},
     "output_type": "execute_result"
    }
   ],
   "source": [
    "(a[0])"
   ]
  },
  {
   "cell_type": "code",
   "execution_count": 36,
   "id": "bc262746",
   "metadata": {},
   "outputs": [
    {
     "data": {
      "text/plain": [
       "('vinay kumar', 78)"
      ]
     },
     "execution_count": 36,
     "metadata": {},
     "output_type": "execute_result"
    }
   ],
   "source": [
    "tuple(a)"
   ]
  },
  {
   "cell_type": "code",
   "execution_count": 37,
   "id": "a5b75d3c",
   "metadata": {},
   "outputs": [
    {
     "data": {
      "text/plain": [
       "('v', 'i', 'n', 'a', 'y')"
      ]
     },
     "execution_count": 37,
     "metadata": {},
     "output_type": "execute_result"
    }
   ],
   "source": [
    "a = tuple('vinay')\n",
    "(a)"
   ]
  },
  {
   "cell_type": "code",
   "execution_count": 39,
   "id": "4474c148",
   "metadata": {},
   "outputs": [
    {
     "data": {
      "text/plain": [
       "'exemhfk'"
      ]
     },
     "execution_count": 39,
     "metadata": {},
     "output_type": "execute_result"
    }
   ],
   "source": [
    "a = 'e','x','e','m','h','f','k'\n",
    "b = \"\".join(a)\n",
    "(b)"
   ]
  },
  {
   "cell_type": "code",
   "execution_count": 40,
   "id": "778af1a8",
   "metadata": {},
   "outputs": [
    {
     "data": {
      "text/plain": [
       "'siva'"
      ]
     },
     "execution_count": 40,
     "metadata": {},
     "output_type": "execute_result"
    }
   ],
   "source": [
    "a = 's','i','v','a'\n",
    "b = \"\".join(a)\n",
    "(b)"
   ]
  },
  {
   "cell_type": "code",
   "execution_count": 43,
   "id": "c3dbd5d2",
   "metadata": {},
   "outputs": [
    {
     "data": {
      "text/plain": [
       "['s', 'i', 'v', 'a']"
      ]
     },
     "execution_count": 43,
     "metadata": {},
     "output_type": "execute_result"
    }
   ],
   "source": [
    "a = ['s','i','v','a']\n",
    "(a)\n"
   ]
  },
  {
   "cell_type": "code",
   "execution_count": 44,
   "id": "0ec8559a",
   "metadata": {},
   "outputs": [
    {
     "data": {
      "text/plain": [
       "'siva'"
      ]
     },
     "execution_count": 44,
     "metadata": {},
     "output_type": "execute_result"
    }
   ],
   "source": [
    "b = \"\".join(a)\n",
    "(b)"
   ]
  },
  {
   "cell_type": "code",
   "execution_count": 47,
   "id": "bd7be5e2",
   "metadata": {},
   "outputs": [
    {
     "data": {
      "text/plain": [
       "'bsibabn'"
      ]
     },
     "execution_count": 47,
     "metadata": {},
     "output_type": "execute_result"
    }
   ],
   "source": [
    "a = ('b','siba''bn')\n",
    "b = \"\".join(a)\n",
    "(b)"
   ]
  },
  {
   "cell_type": "code",
   "execution_count": 49,
   "id": "caa4e83f",
   "metadata": {},
   "outputs": [
    {
     "data": {
      "text/plain": [
       "'sivaravi'"
      ]
     },
     "execution_count": 49,
     "metadata": {},
     "output_type": "execute_result"
    }
   ],
   "source": [
    "a = 'siva','ravi'\n",
    "b = \"\".join(a)\n",
    "(b)"
   ]
  },
  {
   "cell_type": "code",
   "execution_count": 55,
   "id": "f59d4e49",
   "metadata": {},
   "outputs": [
    {
     "data": {
      "text/plain": [
       "'vinay\\nlink'"
      ]
     },
     "execution_count": 55,
     "metadata": {},
     "output_type": "execute_result"
    }
   ],
   "source": [
    "('vinay\\nlink')"
   ]
  },
  {
   "cell_type": "code",
   "execution_count": 56,
   "id": "1a8b59c6",
   "metadata": {},
   "outputs": [
    {
     "data": {
      "text/plain": [
       "'type\\travi'"
      ]
     },
     "execution_count": 56,
     "metadata": {},
     "output_type": "execute_result"
    }
   ],
   "source": [
    "('type\\travi')"
   ]
  },
  {
   "cell_type": "code",
   "execution_count": 57,
   "id": "d143df3b",
   "metadata": {},
   "outputs": [
    {
     "name": "stdout",
     "output_type": "stream",
     "text": [
      "vinay\n",
      "kamal\n"
     ]
    }
   ],
   "source": [
    "print('vinay\\nkamal')"
   ]
  },
  {
   "cell_type": "code",
   "execution_count": 59,
   "id": "d4f87ae5",
   "metadata": {},
   "outputs": [
    {
     "name": "stdout",
     "output_type": "stream",
     "text": [
      "ravi\tsiva\n"
     ]
    }
   ],
   "source": [
    "print('ravi\\tsiva')"
   ]
  },
  {
   "cell_type": "code",
   "execution_count": null,
   "id": "ebca0b13",
   "metadata": {},
   "outputs": [],
   "source": []
  }
 ],
 "metadata": {
  "kernelspec": {
   "display_name": "Python 3 (ipykernel)",
   "language": "python",
   "name": "python3"
  },
  "language_info": {
   "codemirror_mode": {
    "name": "ipython",
    "version": 3
   },
   "file_extension": ".py",
   "mimetype": "text/x-python",
   "name": "python",
   "nbconvert_exporter": "python",
   "pygments_lexer": "ipython3",
   "version": "3.9.12"
  }
 },
 "nbformat": 4,
 "nbformat_minor": 5
}
