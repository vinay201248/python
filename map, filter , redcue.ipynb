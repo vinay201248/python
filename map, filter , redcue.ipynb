{
 "cells": [
  {
   "cell_type": "markdown",
   "id": "79ea6015",
   "metadata": {},
   "source": [
    "# map function"
   ]
  },
  {
   "cell_type": "raw",
   "id": "6fec70f7",
   "metadata": {},
   "source": [
    "# map functionn is an predefined function in python where we will be having function and iterables\n",
    "\n",
    "# what is the use of this function \n",
    "1. no need to travelling from one point to another point\n",
    "2. map function will take care of those things\n",
    "\n",
    "syntax for map finction\n",
    "map(function,iterables)"
   ]
  },
  {
   "cell_type": "code",
   "execution_count": 3,
   "id": "910cb1f1",
   "metadata": {},
   "outputs": [],
   "source": [
    "def kamal(b):\n",
    "    if b%2==0:\n",
    "        print('even------->',b)\n",
    "    else:\n",
    "        print('odd--------->',b)"
   ]
  },
  {
   "cell_type": "code",
   "execution_count": 4,
   "id": "e7d47419",
   "metadata": {},
   "outputs": [
    {
     "name": "stdout",
     "output_type": "stream",
     "text": [
      "odd---------> 1\n",
      "even-------> 2\n",
      "odd---------> 3\n",
      "even-------> 4\n",
      "odd---------> 5\n",
      "even-------> 6\n",
      "odd---------> 7\n",
      "even-------> 8\n",
      "odd---------> 9\n",
      "even-------> 10\n"
     ]
    }
   ],
   "source": [
    "a = [1,2,3,4,5,6,7,8,9,10]\n",
    "b = list(map(kamal,a))"
   ]
  },
  {
   "cell_type": "code",
   "execution_count": 5,
   "id": "cd2024ad",
   "metadata": {},
   "outputs": [],
   "source": [
    "def vinay(a):\n",
    "    for i in a:\n",
    "        print(i*i)"
   ]
  },
  {
   "cell_type": "code",
   "execution_count": 6,
   "id": "64db16c5",
   "metadata": {},
   "outputs": [
    {
     "name": "stdout",
     "output_type": "stream",
     "text": [
      "4\n",
      "16\n",
      "36\n",
      "64\n",
      "100\n"
     ]
    }
   ],
   "source": [
    "a = [2,4,6,8,10]\n",
    "vinay(a)"
   ]
  },
  {
   "cell_type": "code",
   "execution_count": 7,
   "id": "9e9f6da2",
   "metadata": {},
   "outputs": [],
   "source": [
    "def siva(a):\n",
    "    for i in a:\n",
    "        print(i*9)\n",
    "        "
   ]
  },
  {
   "cell_type": "code",
   "execution_count": 8,
   "id": "74f246f3",
   "metadata": {},
   "outputs": [
    {
     "name": "stdout",
     "output_type": "stream",
     "text": [
      "9\n",
      "18\n",
      "27\n",
      "36\n",
      "45\n"
     ]
    }
   ],
   "source": [
    "a = [1,2,3,4,5]\n",
    "siva(a)"
   ]
  },
  {
   "cell_type": "code",
   "execution_count": 13,
   "id": "d10e78ae",
   "metadata": {},
   "outputs": [],
   "source": [
    "def vinay(b):\n",
    "    if b %2 ==0:\n",
    "        print('even',b)\n",
    "    else:\n",
    "        print('odd',b)"
   ]
  },
  {
   "cell_type": "code",
   "execution_count": 17,
   "id": "e6b67cb5",
   "metadata": {},
   "outputs": [
    {
     "name": "stdout",
     "output_type": "stream",
     "text": [
      "odd 1\n",
      "even 2\n",
      "odd 43\n",
      "even 22\n",
      "even 56\n"
     ]
    }
   ],
   "source": [
    "g = [1,2,43,22,56]\n",
    "c= list(map(vinay,g))"
   ]
  },
  {
   "cell_type": "code",
   "execution_count": 18,
   "id": "45250cab",
   "metadata": {},
   "outputs": [
    {
     "name": "stdout",
     "output_type": "stream",
     "text": [
      "[20, 21, 22]\n"
     ]
    }
   ],
   "source": [
    " # map and lambda\n",
    "    \n",
    "a = [10,11,12]\n",
    "c = list(map(lambda x : x+10,a))\n",
    "print(c)"
   ]
  },
  {
   "cell_type": "code",
   "execution_count": 24,
   "id": "310b8175",
   "metadata": {},
   "outputs": [
    {
     "name": "stdout",
     "output_type": "stream",
     "text": [
      "[120, 340, 5560]\n"
     ]
    }
   ],
   "source": [
    "a = [12,34,556]\n",
    "c = list(map(lambda x: x*10,a))\n",
    "print(c)"
   ]
  },
  {
   "cell_type": "code",
   "execution_count": 26,
   "id": "2bef2ba5",
   "metadata": {},
   "outputs": [
    {
     "name": "stdout",
     "output_type": "stream",
     "text": [
      "[276, 1035, 204, 392]\n"
     ]
    }
   ],
   "source": [
    "a = [12,23,34,56]\n",
    "b = [23,45,6,7]\n",
    "c = list(map(lambda x,y : x*y,a,b))\n",
    "print(c)"
   ]
  },
  {
   "cell_type": "code",
   "execution_count": 40,
   "id": "fc77a58d",
   "metadata": {},
   "outputs": [],
   "source": [
    "def kamal(a):\n",
    "    if a >3:\n",
    "        print(a)"
   ]
  },
  {
   "cell_type": "code",
   "execution_count": 41,
   "id": "f813a1a8",
   "metadata": {},
   "outputs": [
    {
     "name": "stdout",
     "output_type": "stream",
     "text": [
      "56\n",
      "78\n",
      "99\n",
      "100\n"
     ]
    }
   ],
   "source": [
    "a = [1,3,56,78,99,100]\n",
    "c = list(map(kamal,a))"
   ]
  },
  {
   "cell_type": "code",
   "execution_count": 32,
   "id": "e3adb90d",
   "metadata": {},
   "outputs": [
    {
     "name": "stdout",
     "output_type": "stream",
     "text": [
      "[3, 6, 9, 12, 15, 18]\n"
     ]
    }
   ],
   "source": [
    "a = [1,2,3,4,5,6]\n",
    "b = list(map(lambda x: x*3,a))\n",
    "print(b)"
   ]
  },
  {
   "cell_type": "code",
   "execution_count": 38,
   "id": "cbd923bb",
   "metadata": {},
   "outputs": [],
   "source": [
    "# filter\n",
    "a = [ 1,3,4,5,66,77,88]\n",
    "def vinay(a):\n",
    "    if a <4:\n",
    "        print(a)\n",
    "        "
   ]
  },
  {
   "cell_type": "code",
   "execution_count": 39,
   "id": "5d2fbcbf",
   "metadata": {},
   "outputs": [
    {
     "name": "stdout",
     "output_type": "stream",
     "text": [
      "1\n",
      "3\n"
     ]
    }
   ],
   "source": [
    "c = list(filter(vinay,a))"
   ]
  },
  {
   "cell_type": "code",
   "execution_count": 43,
   "id": "1644c671",
   "metadata": {},
   "outputs": [
    {
     "name": "stdout",
     "output_type": "stream",
     "text": [
      "[False, False, False, True]\n"
     ]
    }
   ],
   "source": [
    "a = [12,23,34,55]\n",
    "c = list(map(lambda x: x>34,a))\n",
    "print(c)"
   ]
  },
  {
   "cell_type": "code",
   "execution_count": 45,
   "id": "9da81a8b",
   "metadata": {},
   "outputs": [
    {
     "name": "stdout",
     "output_type": "stream",
     "text": [
      "[55, 66]\n"
     ]
    }
   ],
   "source": [
    "a = [12,23,34,55,66]\n",
    "c = filter(lambda x:x>34,a)\n",
    "print(list(c))"
   ]
  },
  {
   "cell_type": "code",
   "execution_count": 51,
   "id": "ae0268e0",
   "metadata": {},
   "outputs": [
    {
     "data": {
      "text/plain": [
       "[0, 1, 0, 1, 0, 1, 0]"
      ]
     },
     "execution_count": 51,
     "metadata": {},
     "output_type": "execute_result"
    }
   ],
   "source": [
    "a =  list(map(lambda x : x%2,[2,3,4,55,66,77,88]))\n",
    "(a)"
   ]
  },
  {
   "cell_type": "code",
   "execution_count": 55,
   "id": "cd5bae41",
   "metadata": {},
   "outputs": [
    {
     "data": {
      "text/plain": [
       "[3, 66]"
      ]
     },
     "execution_count": 55,
     "metadata": {},
     "output_type": "execute_result"
    }
   ],
   "source": [
    "a = list(filter(lambda x :x%3==0,[2,3,4,55,66,77,88]))\n",
    "(a)"
   ]
  },
  {
   "cell_type": "code",
   "execution_count": 59,
   "id": "3f7d1aea",
   "metadata": {},
   "outputs": [
    {
     "data": {
      "text/plain": [
       "10"
      ]
     },
     "execution_count": 59,
     "metadata": {},
     "output_type": "execute_result"
    }
   ],
   "source": [
    "from functools import reduce\n",
    "a = reduce(lambda x , y :x +y,[1,2,3,4])\n",
    "(a)"
   ]
  },
  {
   "cell_type": "code",
   "execution_count": 63,
   "id": "6e760de2",
   "metadata": {},
   "outputs": [],
   "source": [
    "a = reduce(lambda x , y : x*y,[23,43,44,66])"
   ]
  },
  {
   "cell_type": "code",
   "execution_count": 64,
   "id": "62abfc3d",
   "metadata": {},
   "outputs": [
    {
     "name": "stdout",
     "output_type": "stream",
     "text": [
      "2872056\n"
     ]
    }
   ],
   "source": [
    "print(a)"
   ]
  },
  {
   "cell_type": "raw",
   "id": "2e30e100",
   "metadata": {},
   "source": [
    "filter with map"
   ]
  },
  {
   "cell_type": "code",
   "execution_count": 66,
   "id": "3205a1ae",
   "metadata": {},
   "outputs": [],
   "source": [
    "a = list(filter(lambda x : x+3,map(lambda x :x+4,[12,3,45,3,4233,23])))"
   ]
  },
  {
   "cell_type": "code",
   "execution_count": 67,
   "id": "892a896e",
   "metadata": {},
   "outputs": [
    {
     "name": "stdout",
     "output_type": "stream",
     "text": [
      "[16, 7, 49, 7, 4237, 27]\n"
     ]
    }
   ],
   "source": [
    "print(a)"
   ]
  },
  {
   "cell_type": "code",
   "execution_count": null,
   "id": "2a52e928",
   "metadata": {},
   "outputs": [],
   "source": []
  }
 ],
 "metadata": {
  "kernelspec": {
   "display_name": "Python 3 (ipykernel)",
   "language": "python",
   "name": "python3"
  },
  "language_info": {
   "codemirror_mode": {
    "name": "ipython",
    "version": 3
   },
   "file_extension": ".py",
   "mimetype": "text/x-python",
   "name": "python",
   "nbconvert_exporter": "python",
   "pygments_lexer": "ipython3",
   "version": "3.9.12"
  }
 },
 "nbformat": 4,
 "nbformat_minor": 5
}
