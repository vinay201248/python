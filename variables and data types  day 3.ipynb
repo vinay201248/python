{
 "cells": [
  {
   "cell_type": "code",
   "execution_count": 2,
   "id": "c5d714fd",
   "metadata": {},
   "outputs": [
    {
     "name": "stdout",
     "output_type": "stream",
     "text": [
      "12\n"
     ]
    }
   ],
   "source": [
    "a=12\n",
    "print(a)"
   ]
  },
  {
   "cell_type": "code",
   "execution_count": 4,
   "id": "969435c8",
   "metadata": {},
   "outputs": [],
   "source": [
    "## rules to define variables \n",
    "#   1)variable name will not start with a number \n",
    "#   2)no white spaces in variable names ,use \"_\" instead \n",
    "#   3)variable names are case sensitive \n",
    "#   4)cant use below symbpls in variable names "
   ]
  },
  {
   "cell_type": "code",
   "execution_count": 5,
   "id": "90d9fa30",
   "metadata": {},
   "outputs": [
    {
     "name": "stdout",
     "output_type": "stream",
     "text": [
      "12\n"
     ]
    }
   ],
   "source": [
    "# variable name will not start with a number \n",
    "\n",
    "a=12\n",
    "print(a)"
   ]
  },
  {
   "cell_type": "code",
   "execution_count": 7,
   "id": "0ce5e1fe",
   "metadata": {},
   "outputs": [
    {
     "ename": "SyntaxError",
     "evalue": "cannot assign to literal (3640857722.py, line 1)",
     "output_type": "error",
     "traceback": [
      "\u001b[1;36m  Input \u001b[1;32mIn [7]\u001b[1;36m\u001b[0m\n\u001b[1;33m    12=40\u001b[0m\n\u001b[1;37m    ^\u001b[0m\n\u001b[1;31mSyntaxError\u001b[0m\u001b[1;31m:\u001b[0m cannot assign to literal\n"
     ]
    }
   ],
   "source": [
    "12=40\n",
    "print(12)"
   ]
  },
  {
   "cell_type": "code",
   "execution_count": 11,
   "id": "df2715dc",
   "metadata": {},
   "outputs": [
    {
     "name": "stdout",
     "output_type": "stream",
     "text": [
      "45\n"
     ]
    }
   ],
   "source": [
    "vinay123 =  45\n",
    "print(vinay123)"
   ]
  },
  {
   "cell_type": "code",
   "execution_count": 15,
   "id": "ac270db3",
   "metadata": {},
   "outputs": [
    {
     "ename": "SyntaxError",
     "evalue": "invalid syntax (3627892642.py, line 1)",
     "output_type": "error",
     "traceback": [
      "\u001b[1;36m  Input \u001b[1;32mIn [15]\u001b[1;36m\u001b[0m\n\u001b[1;33m    143kumar = 22\u001b[0m\n\u001b[1;37m       ^\u001b[0m\n\u001b[1;31mSyntaxError\u001b[0m\u001b[1;31m:\u001b[0m invalid syntax\n"
     ]
    }
   ],
   "source": [
    "143kumar = 22\n",
    "print(143kumar)"
   ]
  },
  {
   "cell_type": "code",
   "execution_count": 16,
   "id": "0285e3e7",
   "metadata": {},
   "outputs": [],
   "source": [
    "# no white spaces in variable names ,use '_'instead"
   ]
  },
  {
   "cell_type": "code",
   "execution_count": 17,
   "id": "d28301df",
   "metadata": {},
   "outputs": [
    {
     "ename": "SyntaxError",
     "evalue": "invalid syntax (3224864925.py, line 1)",
     "output_type": "error",
     "traceback": [
      "\u001b[1;36m  Input \u001b[1;32mIn [17]\u001b[1;36m\u001b[0m\n\u001b[1;33m    sai kamal = 12\u001b[0m\n\u001b[1;37m        ^\u001b[0m\n\u001b[1;31mSyntaxError\u001b[0m\u001b[1;31m:\u001b[0m invalid syntax\n"
     ]
    }
   ],
   "source": [
    "sai kamal = 12"
   ]
  },
  {
   "cell_type": "code",
   "execution_count": 19,
   "id": "882e75d7",
   "metadata": {},
   "outputs": [
    {
     "name": "stdout",
     "output_type": "stream",
     "text": [
      "123\n"
     ]
    }
   ],
   "source": [
    "sai_kamal = 123\n",
    "print(sai_kamal)"
   ]
  },
  {
   "cell_type": "code",
   "execution_count": 20,
   "id": "d0a9d802",
   "metadata": {},
   "outputs": [
    {
     "name": "stdout",
     "output_type": "stream",
     "text": [
      "12\n"
     ]
    }
   ],
   "source": [
    "# variable names are case sensitive \n",
    "\n",
    "\n",
    "a = 12 \n",
    "print (a)\n"
   ]
  },
  {
   "cell_type": "code",
   "execution_count": 22,
   "id": "92094613",
   "metadata": {},
   "outputs": [
    {
     "ename": "NameError",
     "evalue": "name 'prin' is not defined",
     "output_type": "error",
     "traceback": [
      "\u001b[1;31m---------------------------------------------------------------------------\u001b[0m",
      "\u001b[1;31mNameError\u001b[0m                                 Traceback (most recent call last)",
      "Input \u001b[1;32mIn [22]\u001b[0m, in \u001b[0;36m<cell line: 2>\u001b[1;34m()\u001b[0m\n\u001b[0;32m      1\u001b[0m d \u001b[38;5;241m=\u001b[39m \u001b[38;5;241m20\u001b[39m\n\u001b[1;32m----> 2\u001b[0m \u001b[43mprin\u001b[49m(D)\n",
      "\u001b[1;31mNameError\u001b[0m: name 'prin' is not defined"
     ]
    }
   ],
   "source": [
    "d = 20\n",
    "prin(D)"
   ]
  },
  {
   "cell_type": "markdown",
   "id": "561c194c",
   "metadata": {},
   "source": [
    "# Data type convesrsations "
   ]
  },
  {
   "cell_type": "code",
   "execution_count": 24,
   "id": "db79e775",
   "metadata": {},
   "outputs": [
    {
     "name": "stdout",
     "output_type": "stream",
     "text": [
      "12\n",
      "\n",
      "<class 'int'>\n"
     ]
    }
   ],
   "source": [
    "a = 12 \n",
    "print(a)\n",
    "print()\n",
    "print(type(a))"
   ]
  },
  {
   "cell_type": "code",
   "execution_count": 25,
   "id": "762cffc9",
   "metadata": {},
   "outputs": [
    {
     "name": "stdout",
     "output_type": "stream",
     "text": [
      "23.5\n",
      "\n",
      "<class 'float'>\n"
     ]
    }
   ],
   "source": [
    "a = 23.5\n",
    "print(a)\n",
    "print()\n",
    "print(type(a))"
   ]
  },
  {
   "cell_type": "code",
   "execution_count": 28,
   "id": "641387ab",
   "metadata": {},
   "outputs": [
    {
     "name": "stdout",
     "output_type": "stream",
     "text": [
      "vinay\n",
      "\n",
      "<class 'str'>\n"
     ]
    }
   ],
   "source": [
    "a = 'vinay'\n",
    "print(a)\n",
    "print()\n",
    "print(type(a))"
   ]
  },
  {
   "cell_type": "code",
   "execution_count": 29,
   "id": "08e78621",
   "metadata": {},
   "outputs": [
    {
     "name": "stdout",
     "output_type": "stream",
     "text": [
      "12\n",
      "\n",
      "<class 'int'>\n"
     ]
    }
   ],
   "source": [
    "a = 12\n",
    "print(a)\n",
    "print()\n",
    "c = type(a)\n",
    "print(c)"
   ]
  },
  {
   "cell_type": "markdown",
   "id": "c3ddba59",
   "metadata": {},
   "source": [
    "# converting integer value to float "
   ]
  },
  {
   "cell_type": "code",
   "execution_count": 30,
   "id": "038494da",
   "metadata": {},
   "outputs": [
    {
     "name": "stdout",
     "output_type": "stream",
     "text": [
      "12\n",
      "\n",
      "12.0\n"
     ]
    }
   ],
   "source": [
    "a = 12 \n",
    "b = float(a)\n",
    "print(a)\n",
    "print()\n",
    "print(b)\n"
   ]
  },
  {
   "cell_type": "markdown",
   "id": "06dc3ba0",
   "metadata": {},
   "source": [
    "# converting integer value to string "
   ]
  },
  {
   "cell_type": "code",
   "execution_count": 31,
   "id": "05086966",
   "metadata": {},
   "outputs": [
    {
     "data": {
      "text/plain": [
       "str"
      ]
     },
     "execution_count": 31,
     "metadata": {},
     "output_type": "execute_result"
    }
   ],
   "source": [
    "v = \"data\"\n",
    "type(v)"
   ]
  },
  {
   "cell_type": "code",
   "execution_count": 33,
   "id": "afc59417",
   "metadata": {},
   "outputs": [
    {
     "name": "stdout",
     "output_type": "stream",
     "text": [
      "12\n",
      "\n",
      "12\n"
     ]
    },
    {
     "data": {
      "text/plain": [
       "'12'"
      ]
     },
     "execution_count": 33,
     "metadata": {},
     "output_type": "execute_result"
    }
   ],
   "source": [
    "a = 12 \n",
    "b = str(a)\n",
    "print(a)\n",
    "print()\n",
    "print(b)\n",
    "b"
   ]
  },
  {
   "cell_type": "markdown",
   "id": "c5a9d7d7",
   "metadata": {},
   "source": [
    "# converting float value to string "
   ]
  },
  {
   "cell_type": "code",
   "execution_count": 36,
   "id": "89e221f1",
   "metadata": {},
   "outputs": [
    {
     "name": "stdout",
     "output_type": "stream",
     "text": [
      "12.4\n",
      "\n",
      "12.4\n"
     ]
    },
    {
     "data": {
      "text/plain": [
       "'12.4'"
      ]
     },
     "execution_count": 36,
     "metadata": {},
     "output_type": "execute_result"
    }
   ],
   "source": [
    "a = 12.4 \n",
    "b = str(a)\n",
    "print(a)\n",
    "print()\n",
    "print(b)\n",
    "b\n"
   ]
  },
  {
   "cell_type": "markdown",
   "id": "76f3110b",
   "metadata": {},
   "source": [
    "# converting string into integer "
   ]
  },
  {
   "cell_type": "code",
   "execution_count": 39,
   "id": "79dfb125",
   "metadata": {},
   "outputs": [
    {
     "ename": "ValueError",
     "evalue": "invalid literal for int() with base 10: 'vinay'",
     "output_type": "error",
     "traceback": [
      "\u001b[1;31m---------------------------------------------------------------------------\u001b[0m",
      "\u001b[1;31mValueError\u001b[0m                                Traceback (most recent call last)",
      "Input \u001b[1;32mIn [39]\u001b[0m, in \u001b[0;36m<cell line: 2>\u001b[1;34m()\u001b[0m\n\u001b[0;32m      1\u001b[0m a \u001b[38;5;241m=\u001b[39m \u001b[38;5;124m'\u001b[39m\u001b[38;5;124mvinay\u001b[39m\u001b[38;5;124m'\u001b[39m\n\u001b[1;32m----> 2\u001b[0m b \u001b[38;5;241m=\u001b[39m \u001b[38;5;28;43mint\u001b[39;49m\u001b[43m(\u001b[49m\u001b[43ma\u001b[49m\u001b[43m)\u001b[49m\n\u001b[0;32m      3\u001b[0m \u001b[38;5;28mprint\u001b[39m(a)\n\u001b[0;32m      4\u001b[0m \u001b[38;5;28mprint\u001b[39m()\n",
      "\u001b[1;31mValueError\u001b[0m: invalid literal for int() with base 10: 'vinay'"
     ]
    }
   ],
   "source": [
    "a = 'vinay'\n",
    "b = int(a)\n",
    "print(a)\n",
    "print()\n",
    "print(b)"
   ]
  },
  {
   "cell_type": "code",
   "execution_count": 38,
   "id": "9991b8ff",
   "metadata": {},
   "outputs": [],
   "source": [
    "# a string cannot convert into inmteger or float "
   ]
  },
  {
   "cell_type": "code",
   "execution_count": null,
   "id": "49c840cc",
   "metadata": {},
   "outputs": [],
   "source": [
    "a = \"kamal123\"\n"
   ]
  }
 ],
 "metadata": {
  "kernelspec": {
   "display_name": "Python 3 (ipykernel)",
   "language": "python",
   "name": "python3"
  },
  "language_info": {
   "codemirror_mode": {
    "name": "ipython",
    "version": 3
   },
   "file_extension": ".py",
   "mimetype": "text/x-python",
   "name": "python",
   "nbconvert_exporter": "python",
   "pygments_lexer": "ipython3",
   "version": "3.9.12"
  }
 },
 "nbformat": 4,
 "nbformat_minor": 5
}
