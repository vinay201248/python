{
 "cells": [
  {
   "cell_type": "markdown",
   "id": "290a0700",
   "metadata": {},
   "source": []
  },
  {
   "cell_type": "markdown",
   "id": "fe139420",
   "metadata": {},
   "source": [
    "# oops"
   ]
  },
  {
   "cell_type": "raw",
   "id": "1aa831cc",
   "metadata": {},
   "source": [
    "# 1)class\n",
    "# 2)object\n",
    "# 3)constructor\n",
    "# 4)inheritance\n",
    "# 5)polymorphism\n",
    "# 6)abstraction\n",
    "# 7)abstraction"
   ]
  },
  {
   "cell_type": "code",
   "execution_count": null,
   "id": "0e126a41",
   "metadata": {},
   "outputs": [],
   "source": []
  },
  {
   "cell_type": "markdown",
   "id": "fe880d38",
   "metadata": {},
   "source": [
    "# class"
   ]
  },
  {
   "cell_type": "code",
   "execution_count": 7,
   "id": "54d73a5e",
   "metadata": {},
   "outputs": [
    {
     "name": "stdout",
     "output_type": "stream",
     "text": [
      "5\n",
      "7\n"
     ]
    }
   ],
   "source": [
    "class csc():\n",
    "    a = 5\n",
    "    b = 7\n",
    "print(csc.a)\n",
    "print(csc.b)"
   ]
  },
  {
   "cell_type": "code",
   "execution_count": 8,
   "id": "0aba11ea",
   "metadata": {},
   "outputs": [
    {
     "name": "stdout",
     "output_type": "stream",
     "text": [
      "5\n",
      "7\n"
     ]
    }
   ],
   "source": [
    "class csc():\n",
    "    pass\n",
    "obj = csc()\n",
    "obj.a=5\n",
    "obj.b=7\n",
    "print(obj.a)\n",
    "print(obj.b)"
   ]
  },
  {
   "cell_type": "code",
   "execution_count": 9,
   "id": "4026c390",
   "metadata": {},
   "outputs": [
    {
     "ename": "TypeError",
     "evalue": "fun() takes 0 positional arguments but 1 was given",
     "output_type": "error",
     "traceback": [
      "\u001b[1;31m---------------------------------------------------------------------------\u001b[0m",
      "\u001b[1;31mTypeError\u001b[0m                                 Traceback (most recent call last)",
      "Input \u001b[1;32mIn [9]\u001b[0m, in \u001b[0;36m<cell line: 5>\u001b[1;34m()\u001b[0m\n\u001b[0;32m      3\u001b[0m         \u001b[38;5;28mprint\u001b[39m(\u001b[38;5;124m'\u001b[39m\u001b[38;5;124mvinay\u001b[39m\u001b[38;5;124m'\u001b[39m)\n\u001b[0;32m      4\u001b[0m obj\u001b[38;5;241m=\u001b[39mcsc()\n\u001b[1;32m----> 5\u001b[0m \u001b[43mobj\u001b[49m\u001b[38;5;241;43m.\u001b[39;49m\u001b[43mfun\u001b[49m\u001b[43m(\u001b[49m\u001b[43m)\u001b[49m\n",
      "\u001b[1;31mTypeError\u001b[0m: fun() takes 0 positional arguments but 1 was given"
     ]
    }
   ],
   "source": [
    "class csc():\n",
    "    def fun():\n",
    "        print('vinay')\n",
    "obj=csc()\n",
    "obj.fun()"
   ]
  },
  {
   "cell_type": "code",
   "execution_count": 12,
   "id": "7451d2ee",
   "metadata": {},
   "outputs": [
    {
     "name": "stdout",
     "output_type": "stream",
     "text": [
      "vinay\n"
     ]
    }
   ],
   "source": [
    "class csc():\n",
    "    def fun(a):\n",
    "        print('vinay')\n",
    "obj=csc()\n",
    "obj.fun()"
   ]
  },
  {
   "cell_type": "code",
   "execution_count": 16,
   "id": "a3b13255",
   "metadata": {},
   "outputs": [
    {
     "name": "stdout",
     "output_type": "stream",
     "text": [
      "python\n",
      "java\n"
     ]
    }
   ],
   "source": [
    "class csc():\n",
    "    def fun(a):\n",
    "        print('python')\n",
    "    def lamal(b):\n",
    "        print('java')\n",
    "obj=csc()\n",
    "obj1=csc()\n",
    "obj.fun()\n",
    "obj1.lamal()"
   ]
  },
  {
   "cell_type": "code",
   "execution_count": 17,
   "id": "47760ef4",
   "metadata": {},
   "outputs": [
    {
     "data": {
      "text/plain": [
       "20"
      ]
     },
     "execution_count": 17,
     "metadata": {},
     "output_type": "execute_result"
    }
   ],
   "source": [
    "class csc():\n",
    "    def fun(self,a,b):\n",
    "        return a*b\n",
    "obj=csc()\n",
    "obj.fun(5,4)"
   ]
  },
  {
   "cell_type": "code",
   "execution_count": 18,
   "id": "854bbadf",
   "metadata": {},
   "outputs": [],
   "source": [
    "# important concept"
   ]
  },
  {
   "cell_type": "code",
   "execution_count": 19,
   "id": "84fcb8ad",
   "metadata": {},
   "outputs": [
    {
     "data": {
      "text/plain": [
       "200"
      ]
     },
     "execution_count": 19,
     "metadata": {},
     "output_type": "execute_result"
    }
   ],
   "source": [
    "class csc():\n",
    "    def fun(self):\n",
    "        self.a=10\n",
    "        self.b=20\n",
    "        return self.a*self.b\n",
    "obj=csc()\n",
    "obj.fun()"
   ]
  },
  {
   "cell_type": "markdown",
   "id": "50f9dccc",
   "metadata": {},
   "source": [
    "# constructor\n",
    "        "
   ]
  },
  {
   "cell_type": "code",
   "execution_count": null,
   "id": "7e8eff4f",
   "metadata": {},
   "outputs": [],
   "source": [
    "# default constructor"
   ]
  },
  {
   "cell_type": "code",
   "execution_count": 20,
   "id": "380cf6b5",
   "metadata": {},
   "outputs": [
    {
     "name": "stdout",
     "output_type": "stream",
     "text": [
      "i am okay\n"
     ]
    }
   ],
   "source": [
    "class csc():\n",
    "    def __init__(self):\n",
    "        print('i am okay')\n",
    "obj=csc()"
   ]
  },
  {
   "cell_type": "code",
   "execution_count": 21,
   "id": "7053f8bc",
   "metadata": {},
   "outputs": [],
   "source": [
    "# parametre constructor"
   ]
  },
  {
   "cell_type": "code",
   "execution_count": 30,
   "id": "6aff615a",
   "metadata": {},
   "outputs": [
    {
     "name": "stdout",
     "output_type": "stream",
     "text": [
      "200\n"
     ]
    }
   ],
   "source": [
    "class csc():\n",
    "    def __init__(self,a,b):\n",
    "        self.l=a\n",
    "        self.k=b\n",
    "        print(self.l*self.k)\n",
    "obj=csc(10,20)"
   ]
  },
  {
   "cell_type": "code",
   "execution_count": 34,
   "id": "b8c0dbe2",
   "metadata": {},
   "outputs": [
    {
     "data": {
      "text/plain": [
       "200"
      ]
     },
     "execution_count": 34,
     "metadata": {},
     "output_type": "execute_result"
    }
   ],
   "source": [
    "class csc():\n",
    "    def __init__(self,a,b):\n",
    "        self.l=a\n",
    "        self.k=b\n",
    "    def fun(self):\n",
    "        return self.l*self.k\n",
    "obj=csc(10,20)\n",
    "obj.fun()"
   ]
  },
  {
   "cell_type": "code",
   "execution_count": null,
   "id": "5d69d3a9",
   "metadata": {},
   "outputs": [],
   "source": []
  }
 ],
 "metadata": {
  "kernelspec": {
   "display_name": "Python 3 (ipykernel)",
   "language": "python",
   "name": "python3"
  },
  "language_info": {
   "codemirror_mode": {
    "name": "ipython",
    "version": 3
   },
   "file_extension": ".py",
   "mimetype": "text/x-python",
   "name": "python",
   "nbconvert_exporter": "python",
   "pygments_lexer": "ipython3",
   "version": "3.9.12"
  }
 },
 "nbformat": 4,
 "nbformat_minor": 5
}
