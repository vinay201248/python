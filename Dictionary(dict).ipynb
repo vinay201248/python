{
 "cells": [
  {
   "cell_type": "code",
   "execution_count": 1,
   "id": "8a09d410",
   "metadata": {},
   "outputs": [],
   "source": [
    "# DICTIONARY\n",
    "# it is denoted with {}\n"
   ]
  },
  {
   "cell_type": "code",
   "execution_count": 3,
   "id": "abfdf8b0",
   "metadata": {},
   "outputs": [
    {
     "data": {
      "text/plain": [
       "set"
      ]
     },
     "execution_count": 3,
     "metadata": {},
     "output_type": "execute_result"
    }
   ],
   "source": [
    "a = {1,2,3,4}\n",
    "(type(a))"
   ]
  },
  {
   "cell_type": "code",
   "execution_count": 4,
   "id": "3a4a3c65",
   "metadata": {},
   "outputs": [
    {
     "data": {
      "text/plain": [
       "dict"
      ]
     },
     "execution_count": 4,
     "metadata": {},
     "output_type": "execute_result"
    }
   ],
   "source": [
    "a = {1:12,2:34,3:45}\n",
    "(type(a))"
   ]
  },
  {
   "cell_type": "code",
   "execution_count": 5,
   "id": "7ac79ba6",
   "metadata": {},
   "outputs": [
    {
     "data": {
      "text/plain": [
       "dict"
      ]
     },
     "execution_count": 5,
     "metadata": {},
     "output_type": "execute_result"
    }
   ],
   "source": [
    "# dictionary works with only keya and values \n",
    "a = {'vinay':23,'siva':56}\n",
    "(type(a))"
   ]
  },
  {
   "cell_type": "code",
   "execution_count": 6,
   "id": "70df03d1",
   "metadata": {},
   "outputs": [
    {
     "data": {
      "text/plain": [
       "{1: 'apple', 2: 'banana', 3: 'carrot'}"
      ]
     },
     "execution_count": 6,
     "metadata": {},
     "output_type": "execute_result"
    }
   ],
   "source": [
    "# another way to create dictionary\n",
    "fruit = {}\n",
    "fruit[1]='apple'\n",
    "fruit[2]='banana'\n",
    "fruit[3]='carrot'\n",
    "(fruit)"
   ]
  },
  {
   "cell_type": "code",
   "execution_count": 8,
   "id": "661d9fb9",
   "metadata": {},
   "outputs": [
    {
     "ename": "SyntaxError",
     "evalue": "unexpected EOF while parsing (2053984984.py, line 1)",
     "output_type": "error",
     "traceback": [
      "\u001b[1;36m  Input \u001b[1;32mIn [8]\u001b[1;36m\u001b[0m\n\u001b[1;33m    (fruit(keys())\u001b[0m\n\u001b[1;37m                  ^\u001b[0m\n\u001b[1;31mSyntaxError\u001b[0m\u001b[1;31m:\u001b[0m unexpected EOF while parsing\n"
     ]
    }
   ],
   "source": [
    "(fruit(keys())"
   ]
  },
  {
   "cell_type": "code",
   "execution_count": 12,
   "id": "83bde933",
   "metadata": {},
   "outputs": [
    {
     "data": {
      "text/plain": [
       "dict_keys([1, 2, 3])"
      ]
     },
     "execution_count": 12,
     "metadata": {},
     "output_type": "execute_result"
    }
   ],
   "source": [
    "a ={1: 'apple', 2: 'banana', 3: 'carrot'}\n",
    "(a.keys())"
   ]
  },
  {
   "cell_type": "code",
   "execution_count": 13,
   "id": "b50a4f62",
   "metadata": {},
   "outputs": [
    {
     "data": {
      "text/plain": [
       "dict_values(['apple', 'banana', 'carrot'])"
      ]
     },
     "execution_count": 13,
     "metadata": {},
     "output_type": "execute_result"
    }
   ],
   "source": [
    "(a.values())"
   ]
  },
  {
   "cell_type": "code",
   "execution_count": 17,
   "id": "6894a444",
   "metadata": {},
   "outputs": [
    {
     "ename": "TypeError",
     "evalue": "unhashable type: 'list'",
     "output_type": "error",
     "traceback": [
      "\u001b[1;31m---------------------------------------------------------------------------\u001b[0m",
      "\u001b[1;31mTypeError\u001b[0m                                 Traceback (most recent call last)",
      "Input \u001b[1;32mIn [17]\u001b[0m, in \u001b[0;36m<cell line: 2>\u001b[1;34m()\u001b[0m\n\u001b[0;32m      1\u001b[0m \u001b[38;5;66;03m# keya should be some immutable data types\u001b[39;00m\n\u001b[1;32m----> 2\u001b[0m a \u001b[38;5;241m=\u001b[39m {\u001b[38;5;241m1\u001b[39m:\u001b[38;5;124m'\u001b[39m\u001b[38;5;124msiva\u001b[39m\u001b[38;5;124m'\u001b[39m,\u001b[38;5;241m2\u001b[39m:\u001b[38;5;124m'\u001b[39m\u001b[38;5;124mravi\u001b[39m\u001b[38;5;124m'\u001b[39m,[\u001b[38;5;241m12\u001b[39m,\u001b[38;5;241m12\u001b[39m]:\u001b[38;5;124m'\u001b[39m\u001b[38;5;124mvinay\u001b[39m\u001b[38;5;124m'\u001b[39m}\n\u001b[0;32m      3\u001b[0m (a)\n",
      "\u001b[1;31mTypeError\u001b[0m: unhashable type: 'list'"
     ]
    }
   ],
   "source": [
    "# keya should be some immutable data types\n",
    "a = {1:'siva',2:'ravi',[12,12]:'vinay'}\n",
    "(a)  # [] list is mutable"
   ]
  },
  {
   "cell_type": "code",
   "execution_count": 18,
   "id": "35c9bb35",
   "metadata": {},
   "outputs": [
    {
     "data": {
      "text/plain": [
       "'topper'"
      ]
     },
     "execution_count": 18,
     "metadata": {},
     "output_type": "execute_result"
    }
   ],
   "source": [
    "a = {'siva':'topper','vinay':'looser'}\n",
    "a.get('siva')"
   ]
  },
  {
   "cell_type": "code",
   "execution_count": null,
   "id": "69896791",
   "metadata": {},
   "outputs": [],
   "source": [
    "a = {1:'siva',2:'ravi'}\n",
    "a.get(3,'vinay')"
   ]
  },
  {
   "cell_type": "code",
   "execution_count": 22,
   "id": "d7fae06a",
   "metadata": {},
   "outputs": [
    {
     "data": {
      "text/plain": [
       "{1: 'ravi', 2: 'siva', 4: 'raju'}"
      ]
     },
     "execution_count": 22,
     "metadata": {},
     "output_type": "execute_result"
    }
   ],
   "source": [
    "# chnaging elements of python dictionary\n",
    "a = {1:'ravi',2:'siva',4:'karma'}\n",
    "a[4]='raju'\n",
    "(a)"
   ]
  },
  {
   "cell_type": "code",
   "execution_count": 28,
   "id": "e4134c0e",
   "metadata": {
    "scrolled": true
   },
   "outputs": [
    {
     "ename": "SyntaxError",
     "evalue": "expression cannot contain assignment, perhaps you meant \"==\"? (3648450426.py, line 2)",
     "output_type": "error",
     "traceback": [
      "\u001b[1;36m  Input \u001b[1;32mIn [28]\u001b[1;36m\u001b[0m\n\u001b[1;33m    a.update('2' = 'kiran')\u001b[0m\n\u001b[1;37m             ^\u001b[0m\n\u001b[1;31mSyntaxError\u001b[0m\u001b[1;31m:\u001b[0m expression cannot contain assignment, perhaps you meant \"==\"?\n"
     ]
    }
   ],
   "source": [
    "a = {1: 'apple', 2: 'banana', 3: 'carrot'}\n",
    "a.update('2' = 'kiran')\n",
    "(a)"
   ]
  },
  {
   "cell_type": "code",
   "execution_count": 40,
   "id": "dd0f4228",
   "metadata": {},
   "outputs": [
    {
     "data": {
      "text/plain": [
       "{2: 'ravi'}"
      ]
     },
     "execution_count": 40,
     "metadata": {},
     "output_type": "execute_result"
    }
   ],
   "source": [
    "a = { 'apple':'siva',2:'ravi'}\n",
    "a.pop(\"apple\")\n",
    "(a)"
   ]
  },
  {
   "cell_type": "code",
   "execution_count": 41,
   "id": "780d2ae8",
   "metadata": {},
   "outputs": [
    {
     "data": {
      "text/plain": [
       "(2, 'ravi')"
      ]
     },
     "execution_count": 41,
     "metadata": {},
     "output_type": "execute_result"
    }
   ],
   "source": [
    "(a.popitem())"
   ]
  },
  {
   "cell_type": "code",
   "execution_count": 43,
   "id": "079a04d2",
   "metadata": {},
   "outputs": [
    {
     "data": {
      "text/plain": [
       "{}"
      ]
     },
     "execution_count": 43,
     "metadata": {},
     "output_type": "execute_result"
    }
   ],
   "source": [
    "a.clear()\n",
    "(a)"
   ]
  },
  {
   "cell_type": "code",
   "execution_count": 44,
   "id": "62efb538",
   "metadata": {},
   "outputs": [],
   "source": [
    "# member ship(onlt for keys )\n",
    "\n"
   ]
  },
  {
   "cell_type": "code",
   "execution_count": 45,
   "id": "0a9d308e",
   "metadata": {},
   "outputs": [
    {
     "ename": "IndentationError",
     "evalue": "expected an indented block (468485509.py, line 4)",
     "output_type": "error",
     "traceback": [
      "\u001b[1;36m  Input \u001b[1;32mIn [45]\u001b[1;36m\u001b[0m\n\u001b[1;33m    for i in a:\u001b[0m\n\u001b[1;37m               ^\u001b[0m\n\u001b[1;31mIndentationError\u001b[0m\u001b[1;31m:\u001b[0m expected an indented block\n"
     ]
    }
   ],
   "source": [
    "# looping through keys \n",
    "\n",
    "a = {1:'siva',2:'ravi',3:'vinay',4:'kiran'}\n",
    "for i in a:"
   ]
  },
  {
   "cell_type": "code",
   "execution_count": 53,
   "id": "4cc8b3b7",
   "metadata": {},
   "outputs": [
    {
     "name": "stdout",
     "output_type": "stream",
     "text": [
      "key = 1\n",
      "values = 1\n",
      "key = 2\n",
      "values = 2\n",
      "key = 3\n",
      "values = 3\n",
      "key = 4\n",
      "values = 4\n"
     ]
    }
   ],
   "source": [
    "a = {1:'siva',2:'ravi',3:'vinay',4:'kiran'}\n",
    "for i in a:\n",
    "    print(\"key =\",i)\n",
    "    print(\"values =\",i)"
   ]
  },
  {
   "cell_type": "code",
   "execution_count": 58,
   "id": "8c800393",
   "metadata": {},
   "outputs": [
    {
     "name": "stdout",
     "output_type": "stream",
     "text": [
      "keys = siva\n",
      "keys = ravi\n",
      "keys = vinay\n",
      "keys = kiran\n"
     ]
    }
   ],
   "source": [
    "for k in a.values():\n",
    "    print('keys =',k)"
   ]
  },
  {
   "cell_type": "code",
   "execution_count": 72,
   "id": "5b604bc1",
   "metadata": {},
   "outputs": [
    {
     "data": {
      "text/plain": [
       "dict"
      ]
     },
     "execution_count": 72,
     "metadata": {},
     "output_type": "execute_result"
    }
   ],
   "source": [
    "a = {1:'siva',2:'vinay',4:'rajesh'}\n",
    "(type(a))"
   ]
  },
  {
   "cell_type": "code",
   "execution_count": 74,
   "id": "d9605040",
   "metadata": {},
   "outputs": [
    {
     "name": "stdout",
     "output_type": "stream",
     "text": [
      "{1: 'siva', 2: 'vinay', 4: 'rajesh'}\n",
      "{1: 'siva', 2: 'vinay', 4: 'rajesh'}\n",
      "{1: 'siva', 2: 'vinay', 4: 'rajesh'}\n"
     ]
    }
   ],
   "source": [
    "for l in a:\n",
    "    print(a)"
   ]
  },
  {
   "cell_type": "code",
   "execution_count": 76,
   "id": "22ede1be",
   "metadata": {},
   "outputs": [
    {
     "name": "stdout",
     "output_type": "stream",
     "text": [
      "keys = 1\n",
      "values = 1\n",
      "keys = 2\n",
      "values = 2\n",
      "keys = 4\n",
      "values = 4\n"
     ]
    }
   ],
   "source": [
    "for i in a:\n",
    "    print(\"keys =\",i)\n",
    "    print(\"values =\",i)"
   ]
  },
  {
   "cell_type": "code",
   "execution_count": 78,
   "id": "32dfdb1b",
   "metadata": {},
   "outputs": [
    {
     "name": "stdout",
     "output_type": "stream",
     "text": [
      "(1, 'vinay')\n",
      "(2, 'siva')\n",
      "(3, 'ravi')\n"
     ]
    }
   ],
   "source": [
    "a = {1:'vinay',2:'siva',3:'ravi'}\n",
    "for i in a.items():\n",
    "    print(i)"
   ]
  },
  {
   "cell_type": "code",
   "execution_count": 85,
   "id": "f441a7ac",
   "metadata": {},
   "outputs": [
    {
     "name": "stdout",
     "output_type": "stream",
     "text": [
      "(1, 'vinay')\n",
      "(2, 'siva')\n",
      "(3, 'ravi')\n"
     ]
    }
   ],
   "source": [
    "for k in a.items():\n",
    "    print(k)"
   ]
  },
  {
   "cell_type": "code",
   "execution_count": null,
   "id": "96a95825",
   "metadata": {},
   "outputs": [],
   "source": []
  }
 ],
 "metadata": {
  "kernelspec": {
   "display_name": "Python 3 (ipykernel)",
   "language": "python",
   "name": "python3"
  },
  "language_info": {
   "codemirror_mode": {
    "name": "ipython",
    "version": 3
   },
   "file_extension": ".py",
   "mimetype": "text/x-python",
   "name": "python",
   "nbconvert_exporter": "python",
   "pygments_lexer": "ipython3",
   "version": "3.9.12"
  }
 },
 "nbformat": 4,
 "nbformat_minor": 5
}
