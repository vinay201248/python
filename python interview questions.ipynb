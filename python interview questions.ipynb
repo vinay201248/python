{
 "cells": [
  {
   "cell_type": "raw",
   "id": "a3ba960d",
   "metadata": {},
   "source": [
    "1. what is python\n",
    "ans:  python is an interpreted language, \n",
    "object oriented\n",
    "high level programming language with dynamic semantics\n",
    "its high level built in data structures \n",
    "combined with dynamic typing"
   ]
  },
  {
   "cell_type": "raw",
   "id": "1c913fdd",
   "metadata": {},
   "source": [
    "2. why python\n",
    "ans:\n",
    "the python language is one of the most accesible programming languages available bacause it has simplified syntax and not complicated"
   ]
  },
  {
   "cell_type": "raw",
   "id": "91c22b2f",
   "metadata": {},
   "source": [
    "3. how to swap 2 numbers\n",
    "x = 5\n",
    "y = 4\n",
    "x,y= y,x\n"
   ]
  },
  {
   "cell_type": "code",
   "execution_count": 2,
   "id": "0be52c23",
   "metadata": {},
   "outputs": [
    {
     "name": "stdout",
     "output_type": "stream",
     "text": [
      "4\n"
     ]
    }
   ],
   "source": [
    "x = 5\n",
    "y = 4\n",
    "x,y = y,x\n",
    "print(x)"
   ]
  },
  {
   "cell_type": "raw",
   "id": "c89180ce",
   "metadata": {},
   "source": [
    "4. how to check a number is prime or not"
   ]
  },
  {
   "cell_type": "raw",
   "id": "e0a3f2f8",
   "metadata": {},
   "source": [
    "5.how to find factorial of a number"
   ]
  },
  {
   "cell_type": "raw",
   "id": "dbde269d",
   "metadata": {},
   "source": [
    "6. how to find a length of a list"
   ]
  },
  {
   "cell_type": "raw",
   "id": "f6d6cbb2",
   "metadata": {},
   "source": [
    "7. search an element in a list"
   ]
  },
  {
   "cell_type": "code",
   "execution_count": 5,
   "id": "670820c5",
   "metadata": {},
   "outputs": [
    {
     "name": "stdout",
     "output_type": "stream",
     "text": [
      "exist\n"
     ]
    }
   ],
   "source": [
    "a = ['vinay','siva','kiran']\n",
    "b = 'vinay'\n",
    "if b in a:\n",
    "    print('exist')\n",
    "else:\n",
    "    print('not exist')"
   ]
  },
  {
   "cell_type": "raw",
   "id": "70bbed9d",
   "metadata": {},
   "source": [
    "8.how to check string is palindrome or not"
   ]
  },
  {
   "cell_type": "code",
   "execution_count": 7,
   "id": "aee8a7a0",
   "metadata": {},
   "outputs": [
    {
     "name": "stdout",
     "output_type": "stream",
     "text": [
      "vinay\n",
      "not ok\n"
     ]
    }
   ],
   "source": [
    "a = input()\n",
    "if a==a[::-1]:\n",
    "    print('ok')\n",
    "else:\n",
    "    print('not ok')"
   ]
  },
  {
   "cell_type": "raw",
   "id": "5605b591",
   "metadata": {},
   "source": [
    "9. separate the strings and int in list"
   ]
  },
  {
   "cell_type": "code",
   "execution_count": 6,
   "id": "1a76a4f8",
   "metadata": {},
   "outputs": [
    {
     "name": "stdout",
     "output_type": "stream",
     "text": [
      "[9, 45] ['kiran', 'vinay', 'raju']\n"
     ]
    }
   ],
   "source": [
    "names =[]\n",
    "numbers = []\n",
    "i = ['kiran',9,'vinay',45,'raju']\n",
    "for j in i:\n",
    "    if type(j)==str:\n",
    "        names.append(j)\n",
    "    if type(j)==int:\n",
    "        numbers.append(j)\n",
    "print(numbers,names)"
   ]
  },
  {
   "cell_type": "raw",
   "id": "6f7584de",
   "metadata": {},
   "source": [
    "10.differnce betwwn set and dictionary"
   ]
  },
  {
   "cell_type": "raw",
   "id": "4a7d75d1",
   "metadata": {},
   "source": [
    "11.what are python  modules \n",
    "\n",
    "ans: modules in python are simply python files with a.py extension .\n",
    "the name of the module will be the name of the file \n",
    "a python module cab have a set of functions ,classes or variables defined and implemented"
   ]
  },
  {
   "cell_type": "raw",
   "id": "7c3bea6a",
   "metadata": {},
   "source": [
    "12. what is zip"
   ]
  },
  {
   "cell_type": "code",
   "execution_count": 7,
   "id": "62453bfb",
   "metadata": {},
   "outputs": [
    {
     "name": "stdout",
     "output_type": "stream",
     "text": [
      "<zip object at 0x000002C960396E80>\n"
     ]
    }
   ],
   "source": [
    "a = [1,2,3,4]\n",
    "b = ['a','b','c','d']\n",
    "c = zip(a,b)\n",
    "print(c)"
   ]
  },
  {
   "cell_type": "raw",
   "id": "8e17e4b3",
   "metadata": {},
   "source": [
    "13. what is web scraping ?\n",
    "bringing data from web"
   ]
  },
  {
   "cell_type": "raw",
   "id": "cc1049d9",
   "metadata": {},
   "source": [
    "14. explain how python is interpreted\n",
    "\n",
    "ans:\n",
    "an interpreter is a kind of program that executes other programs .when you write python programs ,it converts source code written by the develper into intermediate language which is again translated into the native language /machine language thta is executed "
   ]
  },
  {
   "cell_type": "raw",
   "id": "0c799c36",
   "metadata": {},
   "source": [
    "15. what is  *args and **kwargs\n",
    "16.what is built in data types "
   ]
  },
  {
   "cell_type": "raw",
   "id": "66a5a635",
   "metadata": {},
   "source": [
    "17. what is differnce betwwn .py and .pyc files\n",
    "\n",
    " .py is python executable file\n",
    " .pyc is created by interpretor contained compiled bytecod "
   ]
  }
 ],
 "metadata": {
  "kernelspec": {
   "display_name": "Python 3 (ipykernel)",
   "language": "python",
   "name": "python3"
  },
  "language_info": {
   "codemirror_mode": {
    "name": "ipython",
    "version": 3
   },
   "file_extension": ".py",
   "mimetype": "text/x-python",
   "name": "python",
   "nbconvert_exporter": "python",
   "pygments_lexer": "ipython3",
   "version": "3.9.12"
  }
 },
 "nbformat": 4,
 "nbformat_minor": 5
}
