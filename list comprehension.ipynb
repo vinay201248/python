{
 "cells": [
  {
   "cell_type": "code",
   "execution_count": 10,
   "id": "b7858643",
   "metadata": {},
   "outputs": [
    {
     "name": "stdout",
     "output_type": "stream",
     "text": [
      "[1, 2, 3, 4, 5, 6, 7, 8, 9]\n"
     ]
    }
   ],
   "source": [
    "a =[]\n",
    "for i in range(1,10):\n",
    "    a.append(i)\n",
    "print(a)"
   ]
  },
  {
   "cell_type": "code",
   "execution_count": 11,
   "id": "f5710591",
   "metadata": {},
   "outputs": [],
   "source": [
    "# same logic but in 1 line and this concept as an list comprehension"
   ]
  },
  {
   "cell_type": "code",
   "execution_count": 13,
   "id": "c0be7db7",
   "metadata": {},
   "outputs": [
    {
     "data": {
      "text/plain": [
       "[1, 2, 3, 4]"
      ]
     },
     "execution_count": 13,
     "metadata": {},
     "output_type": "execute_result"
    }
   ],
   "source": [
    "a = [i for i in range (1,5)]\n",
    "(a)"
   ]
  },
  {
   "cell_type": "code",
   "execution_count": 17,
   "id": "3ec47542",
   "metadata": {},
   "outputs": [
    {
     "name": "stdout",
     "output_type": "stream",
     "text": [
      "[2, 4, 6, 8]\n"
     ]
    }
   ],
   "source": [
    "a = [i for i in  range (1,10) if i%2 ==0]\n",
    "print(a)"
   ]
  },
  {
   "cell_type": "code",
   "execution_count": 24,
   "id": "3d3f4560",
   "metadata": {},
   "outputs": [
    {
     "data": {
      "text/plain": [
       "[' ODD',\n",
       " 'EVEN',\n",
       " ' ODD',\n",
       " 'EVEN',\n",
       " ' ODD',\n",
       " 'EVEN',\n",
       " ' ODD',\n",
       " 'EVEN',\n",
       " ' ODD',\n",
       " 'EVEN']"
      ]
     },
     "execution_count": 24,
     "metadata": {},
     "output_type": "execute_result"
    }
   ],
   "source": [
    "a = ['EVEN' if i%2==0 else  ' ODD' for i in  range(1,11)]\n",
    "a"
   ]
  },
  {
   "cell_type": "code",
   "execution_count": 31,
   "id": "57a1dae9",
   "metadata": {},
   "outputs": [
    {
     "name": "stdout",
     "output_type": "stream",
     "text": [
      "1\n",
      "4\n",
      "27\n",
      "16\n",
      "125\n",
      "36\n",
      "343\n",
      "64\n",
      "729\n",
      "100\n"
     ]
    }
   ],
   "source": [
    "for i  in range(1,11):\n",
    "    if i %2 ==0:\n",
    "        print(i**2)\n",
    "    else:\n",
    "        print(i**3)"
   ]
  },
  {
   "cell_type": "code",
   "execution_count": 35,
   "id": "72a32204",
   "metadata": {},
   "outputs": [
    {
     "data": {
      "text/plain": [
       "[1, 4, 27, 16, 125, 36, 343, 64, 729, 100]"
      ]
     },
     "execution_count": 35,
     "metadata": {},
     "output_type": "execute_result"
    }
   ],
   "source": [
    "a = [i**2  if i %2==0 else i**3  for i in  range(1,11)  ]\n",
    "(a)"
   ]
  },
  {
   "cell_type": "code",
   "execution_count": 38,
   "id": "1b27596d",
   "metadata": {},
   "outputs": [
    {
     "data": {
      "text/plain": [
       "[1, 2, 3, 4]"
      ]
     },
     "execution_count": 38,
     "metadata": {},
     "output_type": "execute_result"
    }
   ],
   "source": [
    "a = [ i for i in range (1,5)]\n",
    "(a)"
   ]
  },
  {
   "cell_type": "code",
   "execution_count": null,
   "id": "c023e576",
   "metadata": {},
   "outputs": [],
   "source": []
  }
 ],
 "metadata": {
  "kernelspec": {
   "display_name": "Python 3 (ipykernel)",
   "language": "python",
   "name": "python3"
  },
  "language_info": {
   "codemirror_mode": {
    "name": "ipython",
    "version": 3
   },
   "file_extension": ".py",
   "mimetype": "text/x-python",
   "name": "python",
   "nbconvert_exporter": "python",
   "pygments_lexer": "ipython3",
   "version": "3.9.12"
  }
 },
 "nbformat": 4,
 "nbformat_minor": 5
}
