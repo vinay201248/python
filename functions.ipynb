{
 "cells": [
  {
   "cell_type": "markdown",
   "id": "ad922c2d",
   "metadata": {},
   "source": [
    "# functions"
   ]
  },
  {
   "cell_type": "code",
   "execution_count": 1,
   "id": "e56b25f5",
   "metadata": {},
   "outputs": [],
   "source": [
    "# FUNCTIONS CAN BE DENOTED WITH - def\n"
   ]
  },
  {
   "cell_type": "code",
   "execution_count": 2,
   "id": "be7ad480",
   "metadata": {},
   "outputs": [
    {
     "name": "stdout",
     "output_type": "stream",
     "text": [
      "vinay\n"
     ]
    }
   ],
   "source": [
    "print('vinay')"
   ]
  },
  {
   "cell_type": "code",
   "execution_count": 5,
   "id": "f1b7234e",
   "metadata": {},
   "outputs": [],
   "source": [
    "# with functions\n",
    "def vinay(a):\n",
    "    if a %2 == 0:\n",
    "        print('even')\n",
    "    else:\n",
    "        print('odd')"
   ]
  },
  {
   "cell_type": "code",
   "execution_count": 6,
   "id": "03e451a6",
   "metadata": {},
   "outputs": [
    {
     "name": "stdout",
     "output_type": "stream",
     "text": [
      "even\n"
     ]
    }
   ],
   "source": [
    "vinay(22)"
   ]
  },
  {
   "cell_type": "code",
   "execution_count": 7,
   "id": "ff510ac7",
   "metadata": {},
   "outputs": [
    {
     "name": "stdout",
     "output_type": "stream",
     "text": [
      "odd\n"
     ]
    }
   ],
   "source": [
    "vinay(33)"
   ]
  },
  {
   "cell_type": "code",
   "execution_count": 8,
   "id": "857293f8",
   "metadata": {},
   "outputs": [
    {
     "name": "stdout",
     "output_type": "stream",
     "text": [
      "odd\n"
     ]
    }
   ],
   "source": [
    "vinay(11.4)"
   ]
  },
  {
   "cell_type": "code",
   "execution_count": 9,
   "id": "e6d69f26",
   "metadata": {},
   "outputs": [],
   "source": [
    "def vinay():\n",
    "    print('hello world')"
   ]
  },
  {
   "cell_type": "code",
   "execution_count": 10,
   "id": "a4b5c9fc",
   "metadata": {},
   "outputs": [
    {
     "name": "stdout",
     "output_type": "stream",
     "text": [
      "hello world\n"
     ]
    }
   ],
   "source": [
    "vinay()"
   ]
  },
  {
   "cell_type": "code",
   "execution_count": 15,
   "id": "e1d9cff4",
   "metadata": {},
   "outputs": [],
   "source": [
    "def kamal(a):\n",
    "    if a % 2 == 0:\n",
    "        print('even')\n",
    "    else:\n",
    "        print('odd')\n",
    "        "
   ]
  },
  {
   "cell_type": "code",
   "execution_count": 16,
   "id": "4d4079ea",
   "metadata": {},
   "outputs": [
    {
     "name": "stdout",
     "output_type": "stream",
     "text": [
      "odd\n"
     ]
    }
   ],
   "source": [
    "kamal(99)"
   ]
  },
  {
   "cell_type": "code",
   "execution_count": 17,
   "id": "4558618b",
   "metadata": {},
   "outputs": [
    {
     "name": "stdout",
     "output_type": "stream",
     "text": [
      "odd\n"
     ]
    }
   ],
   "source": [
    "kamal(101)"
   ]
  },
  {
   "cell_type": "markdown",
   "id": "29fea5e9",
   "metadata": {},
   "source": [
    "# return concept in function"
   ]
  },
  {
   "cell_type": "code",
   "execution_count": 19,
   "id": "8db34109",
   "metadata": {},
   "outputs": [
    {
     "name": "stdout",
     "output_type": "stream",
     "text": [
      "23\n"
     ]
    }
   ],
   "source": [
    "a =  int(input())"
   ]
  },
  {
   "cell_type": "code",
   "execution_count": 21,
   "id": "134a6f20",
   "metadata": {},
   "outputs": [
    {
     "name": "stdout",
     "output_type": "stream",
     "text": [
      "21\n",
      "32\n",
      "212\n",
      "45\n",
      "65\n",
      "445\n",
      "33\n",
      "343\n",
      "23\n",
      "223\n",
      "[21, 32, 212, 45, 65, 445, 33, 343, 23, 223]\n"
     ]
    }
   ],
   "source": [
    "c= []\n",
    "for i in range(10):\n",
    "    a = int(input())\n",
    "    c.append(a)\n",
    "print(c)"
   ]
  },
  {
   "cell_type": "code",
   "execution_count": 22,
   "id": "00ba8d0f",
   "metadata": {},
   "outputs": [
    {
     "name": "stdout",
     "output_type": "stream",
     "text": [
      "odd =  21\n",
      "even = 32\n",
      "even = 212\n",
      "odd =  45\n",
      "odd =  65\n",
      "odd =  445\n",
      "odd =  33\n",
      "odd =  343\n",
      "odd =  23\n",
      "odd =  223\n"
     ]
    }
   ],
   "source": [
    "for i in c:\n",
    "    if i % 2 ==0:\n",
    "        print('even =',i)\n",
    "    else:\n",
    "        print('odd = ',i)"
   ]
  },
  {
   "cell_type": "code",
   "execution_count": 23,
   "id": "b221e9af",
   "metadata": {},
   "outputs": [
    {
     "name": "stdout",
     "output_type": "stream",
     "text": [
      "8\n"
     ]
    }
   ],
   "source": [
    "a = 3\n",
    "b = 5\n",
    "print(a+b)"
   ]
  },
  {
   "cell_type": "code",
   "execution_count": 24,
   "id": "fc33a0f6",
   "metadata": {},
   "outputs": [],
   "source": [
    "def kohli(a,b):\n",
    "    print('sum =',a+b)\n",
    "    print()\n",
    "    print('mul =', a*b)\n",
    "    "
   ]
  },
  {
   "cell_type": "code",
   "execution_count": 25,
   "id": "7389e603",
   "metadata": {},
   "outputs": [
    {
     "name": "stdout",
     "output_type": "stream",
     "text": [
      "sum = 6\n",
      "\n",
      "mul = 8\n"
     ]
    }
   ],
   "source": [
    "kohli(2,4)"
   ]
  },
  {
   "cell_type": "code",
   "execution_count": 26,
   "id": "a7040af0",
   "metadata": {},
   "outputs": [],
   "source": [
    "def kamal(a,b):\n",
    "    vinay = a+b\n",
    "    kunay = a*b\n",
    "    return vinay,kunay"
   ]
  },
  {
   "cell_type": "code",
   "execution_count": 27,
   "id": "df94d665",
   "metadata": {},
   "outputs": [
    {
     "data": {
      "text/plain": [
       "(35, 276)"
      ]
     },
     "execution_count": 27,
     "metadata": {},
     "output_type": "execute_result"
    }
   ],
   "source": [
    "kamal(12,23)"
   ]
  },
  {
   "cell_type": "code",
   "execution_count": 29,
   "id": "747f9c17",
   "metadata": {},
   "outputs": [
    {
     "name": "stdout",
     "output_type": "stream",
     "text": [
      "sum -> 35\n",
      "mul-> 276\n"
     ]
    }
   ],
   "source": [
    "a , b = kamal(12,23)\n",
    "print('sum ->',a)\n",
    "print('mul->',b)"
   ]
  },
  {
   "cell_type": "code",
   "execution_count": 30,
   "id": "f065fee6",
   "metadata": {},
   "outputs": [],
   "source": [
    "def details(name,age,des):\n",
    "    print(name)"
   ]
  },
  {
   "cell_type": "code",
   "execution_count": 34,
   "id": "c1813a15",
   "metadata": {},
   "outputs": [
    {
     "ename": "TypeError",
     "evalue": "details() got an unexpected keyword argument 'name'",
     "output_type": "error",
     "traceback": [
      "\u001b[1;31m---------------------------------------------------------------------------\u001b[0m",
      "\u001b[1;31mTypeError\u001b[0m                                 Traceback (most recent call last)",
      "Input \u001b[1;32mIn [34]\u001b[0m, in \u001b[0;36m<cell line: 1>\u001b[1;34m()\u001b[0m\n\u001b[1;32m----> 1\u001b[0m \u001b[43mdetails\u001b[49m\u001b[43m(\u001b[49m\u001b[43mname\u001b[49m\u001b[43m \u001b[49m\u001b[38;5;241;43m=\u001b[39;49m\u001b[43m \u001b[49m\u001b[38;5;124;43m'\u001b[39;49m\u001b[38;5;124;43mvinay\u001b[39;49m\u001b[38;5;124;43m'\u001b[39;49m\u001b[43m,\u001b[49m\u001b[43mage\u001b[49m\u001b[43m \u001b[49m\u001b[38;5;241;43m=\u001b[39;49m\u001b[43m \u001b[49m\u001b[38;5;241;43m23\u001b[39;49m\u001b[43m,\u001b[49m\u001b[43mdes\u001b[49m\u001b[43m \u001b[49m\u001b[38;5;241;43m=\u001b[39;49m\u001b[38;5;124;43m'\u001b[39;49m\u001b[38;5;124;43mcv\u001b[39;49m\u001b[38;5;124;43m'\u001b[39;49m\u001b[43m)\u001b[49m\n",
      "\u001b[1;31mTypeError\u001b[0m: details() got an unexpected keyword argument 'name'"
     ]
    }
   ],
   "source": [
    "details(name = 'vinay',age = 23,des ='cv')\n"
   ]
  },
  {
   "cell_type": "code",
   "execution_count": 35,
   "id": "906c2df3",
   "metadata": {},
   "outputs": [],
   "source": [
    "def hero(y):\n",
    "    for i in k:\n",
    "        print(i)"
   ]
  },
  {
   "cell_type": "code",
   "execution_count": 37,
   "id": "8aad43c8",
   "metadata": {},
   "outputs": [
    {
     "name": "stdout",
     "output_type": "stream",
     "text": [
      "12\n",
      "23\n",
      "34\n",
      "55\n",
      "66\n"
     ]
    }
   ],
   "source": [
    "k = [12,23,34,55,66]\n",
    "hero(k)"
   ]
  },
  {
   "cell_type": "code",
   "execution_count": 6,
   "id": "997ab61d",
   "metadata": {},
   "outputs": [],
   "source": [
    "def kamal( ):\n",
    "    if a%2 == 0:\n",
    "        print('even')\n",
    "    else:\n",
    "        print('odd')"
   ]
  },
  {
   "cell_type": "code",
   "execution_count": 7,
   "id": "37cb981c",
   "metadata": {},
   "outputs": [
    {
     "name": "stdout",
     "output_type": "stream",
     "text": [
      "odd\n"
     ]
    }
   ],
   "source": [
    "kamal(11)"
   ]
  },
  {
   "cell_type": "code",
   "execution_count": 8,
   "id": "7434201c",
   "metadata": {},
   "outputs": [
    {
     "name": "stdout",
     "output_type": "stream",
     "text": [
      "even\n"
     ]
    }
   ],
   "source": [
    "kamal(22)"
   ]
  },
  {
   "cell_type": "code",
   "execution_count": 9,
   "id": "4ccf55d9",
   "metadata": {},
   "outputs": [
    {
     "name": "stdout",
     "output_type": "stream",
     "text": [
      "odd\n"
     ]
    }
   ],
   "source": [
    "kamal(99)"
   ]
  },
  {
   "cell_type": "code",
   "execution_count": 12,
   "id": "39aa79f2",
   "metadata": {},
   "outputs": [],
   "source": [
    "def vinay(a,b):\n",
    "    print('sum',a+b)\n",
    "    print()\n",
    "    print( 'mul',a*b)"
   ]
  },
  {
   "cell_type": "code",
   "execution_count": 13,
   "id": "4afe241a",
   "metadata": {},
   "outputs": [
    {
     "name": "stdout",
     "output_type": "stream",
     "text": [
      "sum 46\n",
      "\n",
      "mul 408\n"
     ]
    }
   ],
   "source": [
    "vinay(12,34)"
   ]
  },
  {
   "cell_type": "code",
   "execution_count": 14,
   "id": "75f12d6b",
   "metadata": {},
   "outputs": [],
   "source": [
    "def vinay(a,b):\n",
    "    kamal=a+b\n",
    "    vimal=a-b\n",
    "    return kamal,vimal\n",
    "    "
   ]
  },
  {
   "cell_type": "code",
   "execution_count": 15,
   "id": "66fd2439",
   "metadata": {},
   "outputs": [
    {
     "data": {
      "text/plain": [
       "(26, -20)"
      ]
     },
     "execution_count": 15,
     "metadata": {},
     "output_type": "execute_result"
    }
   ],
   "source": [
    "vinay(3,23)"
   ]
  },
  {
   "cell_type": "code",
   "execution_count": 16,
   "id": "c42f783b",
   "metadata": {},
   "outputs": [
    {
     "name": "stdout",
     "output_type": "stream",
     "text": [
      "sum 34\n",
      "mul -10\n"
     ]
    }
   ],
   "source": [
    "a , b = vinay(12,22)\n",
    "print('sum',a)\n",
    "print('mul',b)"
   ]
  },
  {
   "cell_type": "code",
   "execution_count": 17,
   "id": "694279e4",
   "metadata": {},
   "outputs": [],
   "source": [
    "def kamal(a):\n",
    "    for i in a:\n",
    "        print(i)"
   ]
  },
  {
   "cell_type": "code",
   "execution_count": 18,
   "id": "5be79067",
   "metadata": {},
   "outputs": [
    {
     "name": "stdout",
     "output_type": "stream",
     "text": [
      "12\n",
      "23\n",
      "44\n",
      "56\n"
     ]
    }
   ],
   "source": [
    "e = [12,23,44,56]\n",
    "kamal(e)"
   ]
  },
  {
   "cell_type": "code",
   "execution_count": 3,
   "id": "53bd4a10",
   "metadata": {},
   "outputs": [],
   "source": [
    "def vinay(a,b):\n",
    "    g = a+b\n",
    "    h =a*b\n",
    "    \n",
    "    return g,h"
   ]
  },
  {
   "cell_type": "code",
   "execution_count": 4,
   "id": "1163b0f6",
   "metadata": {},
   "outputs": [
    {
     "data": {
      "text/plain": [
       "(26, 168)"
      ]
     },
     "execution_count": 4,
     "metadata": {},
     "output_type": "execute_result"
    }
   ],
   "source": [
    "vinay(12,14)"
   ]
  },
  {
   "cell_type": "code",
   "execution_count": 5,
   "id": "dbfc37dc",
   "metadata": {},
   "outputs": [],
   "source": [
    "def raju(a,b):\n",
    "    print( a+b)\n",
    "    print(a*b)"
   ]
  },
  {
   "cell_type": "code",
   "execution_count": 6,
   "id": "e2c1279b",
   "metadata": {},
   "outputs": [
    {
     "name": "stdout",
     "output_type": "stream",
     "text": [
      "26\n",
      "168\n"
     ]
    }
   ],
   "source": [
    "raju(12,14)"
   ]
  },
  {
   "cell_type": "code",
   "execution_count": 8,
   "id": "30506888",
   "metadata": {},
   "outputs": [
    {
     "name": "stdout",
     "output_type": "stream",
     "text": [
      "26\n",
      "168\n"
     ]
    },
    {
     "ename": "TypeError",
     "evalue": "cannot unpack non-iterable NoneType object",
     "output_type": "error",
     "traceback": [
      "\u001b[1;31m---------------------------------------------------------------------------\u001b[0m",
      "\u001b[1;31mTypeError\u001b[0m                                 Traceback (most recent call last)",
      "Input \u001b[1;32mIn [8]\u001b[0m, in \u001b[0;36m<cell line: 1>\u001b[1;34m()\u001b[0m\n\u001b[1;32m----> 1\u001b[0m g,h \u001b[38;5;241m=\u001b[39m raju(\u001b[38;5;241m12\u001b[39m,\u001b[38;5;241m14\u001b[39m)\n\u001b[0;32m      2\u001b[0m \u001b[38;5;28mprint\u001b[39m(g)\n\u001b[0;32m      3\u001b[0m \u001b[38;5;28mprint\u001b[39m(h)\n",
      "\u001b[1;31mTypeError\u001b[0m: cannot unpack non-iterable NoneType object"
     ]
    }
   ],
   "source": [
    "g,h = raju(12,14)\n",
    "print(g)\n",
    "print(h)"
   ]
  },
  {
   "cell_type": "code",
   "execution_count": 9,
   "id": "6aef05a8",
   "metadata": {},
   "outputs": [
    {
     "name": "stdout",
     "output_type": "stream",
     "text": [
      "134\n",
      "1353\n"
     ]
    }
   ],
   "source": [
    "raju(11,123)"
   ]
  },
  {
   "cell_type": "code",
   "execution_count": 10,
   "id": "7dc05b7f",
   "metadata": {},
   "outputs": [
    {
     "name": "stdout",
     "output_type": "stream",
     "text": [
      "134\n",
      "1353\n"
     ]
    },
    {
     "ename": "TypeError",
     "evalue": "cannot unpack non-iterable NoneType object",
     "output_type": "error",
     "traceback": [
      "\u001b[1;31m---------------------------------------------------------------------------\u001b[0m",
      "\u001b[1;31mTypeError\u001b[0m                                 Traceback (most recent call last)",
      "Input \u001b[1;32mIn [10]\u001b[0m, in \u001b[0;36m<cell line: 1>\u001b[1;34m()\u001b[0m\n\u001b[1;32m----> 1\u001b[0m R ,T \u001b[38;5;241m=\u001b[39m raju(\u001b[38;5;241m11\u001b[39m,\u001b[38;5;241m123\u001b[39m)\n",
      "\u001b[1;31mTypeError\u001b[0m: cannot unpack non-iterable NoneType object"
     ]
    }
   ],
   "source": [
    "R ,T = raju(11,123)"
   ]
  },
  {
   "cell_type": "code",
   "execution_count": 13,
   "id": "8d470966",
   "metadata": {},
   "outputs": [],
   "source": [
    "def vinay(a):\n",
    "    for i in e:\n",
    "        print(i)"
   ]
  },
  {
   "cell_type": "code",
   "execution_count": 14,
   "id": "cb647650",
   "metadata": {},
   "outputs": [
    {
     "name": "stdout",
     "output_type": "stream",
     "text": [
      "1\n",
      "2\n",
      "3\n",
      "4\n",
      "5\n"
     ]
    }
   ],
   "source": [
    "e = [1,2,3,4,5]\n",
    "vinay(e)"
   ]
  },
  {
   "cell_type": "code",
   "execution_count": 18,
   "id": "ee18d59b",
   "metadata": {},
   "outputs": [],
   "source": [
    "def kumar(a):\n",
    "    for i in k:\n",
    "        print(i)"
   ]
  },
  {
   "cell_type": "code",
   "execution_count": 20,
   "id": "8977a2cb",
   "metadata": {},
   "outputs": [
    {
     "name": "stdout",
     "output_type": "stream",
     "text": [
      "1\n",
      "2\n",
      "3\n",
      "4\n",
      "5\n"
     ]
    }
   ],
   "source": [
    "k = [1,2,3,4,5]\n",
    "kumar(a)"
   ]
  },
  {
   "cell_type": "code",
   "execution_count": 1,
   "id": "ce259a97",
   "metadata": {},
   "outputs": [],
   "source": [
    "def vinay(a):\n",
    "    if a % 2 == 0:\n",
    "        print('even')\n",
    "    else:\n",
    "        print('odd')"
   ]
  },
  {
   "cell_type": "code",
   "execution_count": 2,
   "id": "6425d194",
   "metadata": {},
   "outputs": [
    {
     "name": "stdout",
     "output_type": "stream",
     "text": [
      "odd\n"
     ]
    }
   ],
   "source": [
    "vinay(99)"
   ]
  },
  {
   "cell_type": "code",
   "execution_count": 3,
   "id": "523642f3",
   "metadata": {},
   "outputs": [],
   "source": [
    "def vinay(a,b):\n",
    "    print('mul',a*b)\n",
    "    print('sum',a+b)"
   ]
  },
  {
   "cell_type": "code",
   "execution_count": 4,
   "id": "dbe7d85d",
   "metadata": {},
   "outputs": [
    {
     "name": "stdout",
     "output_type": "stream",
     "text": [
      "mul 3\n",
      "sum 4\n"
     ]
    }
   ],
   "source": [
    "vinay(1,3)"
   ]
  },
  {
   "cell_type": "code",
   "execution_count": 5,
   "id": "81a74c1c",
   "metadata": {},
   "outputs": [],
   "source": [
    "def kamal(a,b):\n",
    "    vinay = a+b\n",
    "    siva =a*b\n",
    "    \n",
    "    return vinay,siva"
   ]
  },
  {
   "cell_type": "code",
   "execution_count": 6,
   "id": "9e85d39f",
   "metadata": {},
   "outputs": [
    {
     "data": {
      "text/plain": [
       "(24, 144)"
      ]
     },
     "execution_count": 6,
     "metadata": {},
     "output_type": "execute_result"
    }
   ],
   "source": [
    "kamal(12,12)"
   ]
  },
  {
   "cell_type": "code",
   "execution_count": 9,
   "id": "63e4a2c3",
   "metadata": {},
   "outputs": [
    {
     "name": "stdout",
     "output_type": "stream",
     "text": [
      "mul 27\n",
      "mul 182\n"
     ]
    }
   ],
   "source": [
    "R , T = kamal(13,14)\n",
    "print('mul',R)\n",
    "print('mul',T)\n"
   ]
  },
  {
   "cell_type": "code",
   "execution_count": 10,
   "id": "f04a8abe",
   "metadata": {},
   "outputs": [],
   "source": [
    "def kamal(a,b):\n",
    "    siva= a+b\n",
    "    vinay = a*b\n",
    "    \n",
    "    return siva,vinay"
   ]
  },
  {
   "cell_type": "code",
   "execution_count": 11,
   "id": "36c57fcd",
   "metadata": {},
   "outputs": [
    {
     "data": {
      "text/plain": [
       "(90, 1904)"
      ]
     },
     "execution_count": 11,
     "metadata": {},
     "output_type": "execute_result"
    }
   ],
   "source": [
    "kamal(34,56)"
   ]
  },
  {
   "cell_type": "code",
   "execution_count": 14,
   "id": "409677a0",
   "metadata": {},
   "outputs": [
    {
     "data": {
      "text/plain": [
       "(23, 132)"
      ]
     },
     "execution_count": 14,
     "metadata": {},
     "output_type": "execute_result"
    }
   ],
   "source": [
    "kamal(12,11)\n"
   ]
  },
  {
   "cell_type": "code",
   "execution_count": 16,
   "id": "1e0d3c85",
   "metadata": {},
   "outputs": [
    {
     "name": "stdout",
     "output_type": "stream",
     "text": [
      "3\n",
      "2\n"
     ]
    }
   ],
   "source": [
    "\n",
    "c , d = kamal(1,2)\n",
    "print(c)\n",
    "print(d)"
   ]
  },
  {
   "cell_type": "code",
   "execution_count": 17,
   "id": "7ede9514",
   "metadata": {},
   "outputs": [],
   "source": [
    "def details(name,age,des):\n",
    "    print(name)\n",
    "    print()\n",
    "    print(age)\n",
    "    print()\n",
    "    print(des)"
   ]
  },
  {
   "cell_type": "code",
   "execution_count": 19,
   "id": "a77bedfe",
   "metadata": {},
   "outputs": [
    {
     "name": "stdout",
     "output_type": "stream",
     "text": [
      "vinay\n",
      "\n",
      "25\n",
      "\n",
      "cv scientist\n"
     ]
    }
   ],
   "source": [
    " details(name = 'vinay',age = 25, des= 'cv scientist')"
   ]
  },
  {
   "cell_type": "code",
   "execution_count": 23,
   "id": "3acdfe44",
   "metadata": {},
   "outputs": [],
   "source": [
    "def vegetables(mango,orange,banana):\n",
    "    print(mango)\n",
    "    ()\n",
    "    print(orange)\n",
    "    ()\n",
    "    print(banana)"
   ]
  },
  {
   "cell_type": "code",
   "execution_count": 24,
   "id": "4f244311",
   "metadata": {},
   "outputs": [
    {
     "name": "stdout",
     "output_type": "stream",
     "text": [
      "34\n",
      "35\n",
      "36\n"
     ]
    }
   ],
   "source": [
    "vegetables(mango=34,orange=35,banana= 36)\n"
   ]
  },
  {
   "cell_type": "code",
   "execution_count": 25,
   "id": "f5ab3fe8",
   "metadata": {},
   "outputs": [],
   "source": [
    "def vinay(y):\n",
    "    for i in y:\n",
    "        print(i)"
   ]
  },
  {
   "cell_type": "code",
   "execution_count": 26,
   "id": "c7ea4ef1",
   "metadata": {},
   "outputs": [
    {
     "name": "stdout",
     "output_type": "stream",
     "text": [
      "1\n",
      "2\n",
      "3\n",
      "4\n",
      "5\n"
     ]
    }
   ],
   "source": [
    "f = [1,2,3,4,5]\n",
    "vinay(f)"
   ]
  },
  {
   "cell_type": "code",
   "execution_count": null,
   "id": "8b3d952c",
   "metadata": {},
   "outputs": [],
   "source": []
  }
 ],
 "metadata": {
  "kernelspec": {
   "display_name": "Python 3 (ipykernel)",
   "language": "python",
   "name": "python3"
  },
  "language_info": {
   "codemirror_mode": {
    "name": "ipython",
    "version": 3
   },
   "file_extension": ".py",
   "mimetype": "text/x-python",
   "name": "python",
   "nbconvert_exporter": "python",
   "pygments_lexer": "ipython3",
   "version": "3.9.12"
  }
 },
 "nbformat": 4,
 "nbformat_minor": 5
}
